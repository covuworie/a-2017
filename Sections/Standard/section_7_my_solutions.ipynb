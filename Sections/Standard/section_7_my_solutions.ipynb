{
 "cells": [
  {
   "cell_type": "markdown",
   "metadata": {},
   "source": [
    "# CS 109A/STAT 121A/AC 209A/CSCI E-109A\n",
    "\n",
    "## Standard Section 7: Real World Classification Tradeoffs\n",
    "\n",
    "**Harvard University**<br/>\n",
    "**Fall 2017**<br/>\n",
    "**Section Leaders: Albert Wu, Nathaniel Burbank<br/>**\n",
    "**Instructors: Pavlos Protopapas, Kevin Rader, Rahul Dave, Margo Levine** \n",
    "\n",
    "<center>**Download this notebook from the CS109 repo or here:**</center>\n",
    "<center>**http://bit.ly/109_S7T**</center>\n",
    "\n",
    "In this section we will be covering real-world issues that arise with building classifiers. Specifically we will be discussing how to work with ROC curves, strategies to handle imbalanced datasets, and why the end metric that you’re actually interested in should be considered during model selection (i.e., you should think beyond just accuracy and classification statistics). \n",
    "\n",
    "Specifically, we will: \n",
    "    \n",
    "    1. Apply and interpret an ROC curve on a logistic classifier on the Titanic Dataset \n",
    "    2. Fit a logistic regression model to a (simulated) dataset of past customer purchases, and see if we can predict whether they’re pregnant\n",
    "    3. Build a classifier to predict cancer cases, and discover that overall prediction accuracy is often only part of the story in real life"
   ]
  },
  {
   "cell_type": "code",
   "execution_count": 1,
   "metadata": {},
   "outputs": [
    {
     "name": "stderr",
     "output_type": "stream",
     "text": [
      "c:\\users\\covuworie\\.virtualenvs\\a-2017-asnab769\\lib\\site-packages\\sklearn\\cross_validation.py:41: DeprecationWarning: This module was deprecated in version 0.18 in favor of the model_selection module into which all the refactored classes and functions are moved. Also note that the interface of the new CV iterators are different from that of this module. This module will be removed in 0.20.\n",
      "  \"This module will be removed in 0.20.\", DeprecationWarning)\n"
     ]
    }
   ],
   "source": [
    "import numpy as np\n",
    "import pandas as pd\n",
    "import scipy as sp\n",
    "from sklearn import preprocessing\n",
    "from sklearn.cross_validation import KFold\n",
    "from sklearn.linear_model import LogisticRegression\n",
    "from sklearn.discriminant_analysis import LinearDiscriminantAnalysis as LDA\n",
    "from sklearn.discriminant_analysis import QuadraticDiscriminantAnalysis as QDA\n",
    "from sklearn.neighbors import KNeighborsClassifier as KNN\n",
    "from sklearn.tree import DecisionTreeClassifier as DecisionTree\n",
    "from sklearn.ensemble import RandomForestClassifier as RandomForest\n",
    "from sklearn.linear_model import LogisticRegressionCV\n",
    "from sklearn.svm import SVC\n",
    "from sklearn.metrics import accuracy_score\n",
    "from sklearn.metrics import confusion_matrix\n",
    "from sklearn.metrics import roc_curve, auc\n",
    "from sklearn.model_selection import train_test_split\n",
    "from sklearn.preprocessing import Imputer\n",
    "from sklearn import metrics, datasets\n",
    "import matplotlib\n",
    "import matplotlib.pyplot as plt\n",
    "import seaborn as sns\n",
    "%matplotlib inline"
   ]
  },
  {
   "cell_type": "markdown",
   "metadata": {},
   "source": [
    "---"
   ]
  },
  {
   "cell_type": "markdown",
   "metadata": {},
   "source": [
    "## Review ROC Curves (Titanic Example) "
   ]
  },
  {
   "cell_type": "markdown",
   "metadata": {},
   "source": [
    "Let’s start by load in the Titanic Dataset that we’ve become very familiar with over the last few sections, and fit a standard logistic regression classifier. "
   ]
  },
  {
   "cell_type": "code",
   "execution_count": 2,
   "metadata": {},
   "outputs": [
    {
     "data": {
      "text/html": [
       "<div>\n",
       "<style scoped>\n",
       "    .dataframe tbody tr th:only-of-type {\n",
       "        vertical-align: middle;\n",
       "    }\n",
       "\n",
       "    .dataframe tbody tr th {\n",
       "        vertical-align: top;\n",
       "    }\n",
       "\n",
       "    .dataframe thead th {\n",
       "        text-align: right;\n",
       "    }\n",
       "</style>\n",
       "<table border=\"1\" class=\"dataframe\">\n",
       "  <thead>\n",
       "    <tr style=\"text-align: right;\">\n",
       "      <th></th>\n",
       "      <th>survived</th>\n",
       "      <th>pclass</th>\n",
       "      <th>sex</th>\n",
       "      <th>age</th>\n",
       "      <th>sibsp</th>\n",
       "      <th>parch</th>\n",
       "      <th>fare</th>\n",
       "      <th>embarked</th>\n",
       "      <th>class</th>\n",
       "      <th>who</th>\n",
       "      <th>adult_male</th>\n",
       "      <th>deck</th>\n",
       "      <th>embark_town</th>\n",
       "      <th>alive</th>\n",
       "      <th>alone</th>\n",
       "    </tr>\n",
       "  </thead>\n",
       "  <tbody>\n",
       "    <tr>\n",
       "      <th>0</th>\n",
       "      <td>0</td>\n",
       "      <td>3</td>\n",
       "      <td>male</td>\n",
       "      <td>22.0</td>\n",
       "      <td>1</td>\n",
       "      <td>0</td>\n",
       "      <td>7.2500</td>\n",
       "      <td>S</td>\n",
       "      <td>Third</td>\n",
       "      <td>man</td>\n",
       "      <td>True</td>\n",
       "      <td>NaN</td>\n",
       "      <td>Southampton</td>\n",
       "      <td>no</td>\n",
       "      <td>False</td>\n",
       "    </tr>\n",
       "    <tr>\n",
       "      <th>1</th>\n",
       "      <td>1</td>\n",
       "      <td>1</td>\n",
       "      <td>female</td>\n",
       "      <td>38.0</td>\n",
       "      <td>1</td>\n",
       "      <td>0</td>\n",
       "      <td>71.2833</td>\n",
       "      <td>C</td>\n",
       "      <td>First</td>\n",
       "      <td>woman</td>\n",
       "      <td>False</td>\n",
       "      <td>C</td>\n",
       "      <td>Cherbourg</td>\n",
       "      <td>yes</td>\n",
       "      <td>False</td>\n",
       "    </tr>\n",
       "    <tr>\n",
       "      <th>2</th>\n",
       "      <td>1</td>\n",
       "      <td>3</td>\n",
       "      <td>female</td>\n",
       "      <td>26.0</td>\n",
       "      <td>0</td>\n",
       "      <td>0</td>\n",
       "      <td>7.9250</td>\n",
       "      <td>S</td>\n",
       "      <td>Third</td>\n",
       "      <td>woman</td>\n",
       "      <td>False</td>\n",
       "      <td>NaN</td>\n",
       "      <td>Southampton</td>\n",
       "      <td>yes</td>\n",
       "      <td>True</td>\n",
       "    </tr>\n",
       "    <tr>\n",
       "      <th>3</th>\n",
       "      <td>1</td>\n",
       "      <td>1</td>\n",
       "      <td>female</td>\n",
       "      <td>35.0</td>\n",
       "      <td>1</td>\n",
       "      <td>0</td>\n",
       "      <td>53.1000</td>\n",
       "      <td>S</td>\n",
       "      <td>First</td>\n",
       "      <td>woman</td>\n",
       "      <td>False</td>\n",
       "      <td>C</td>\n",
       "      <td>Southampton</td>\n",
       "      <td>yes</td>\n",
       "      <td>False</td>\n",
       "    </tr>\n",
       "    <tr>\n",
       "      <th>4</th>\n",
       "      <td>0</td>\n",
       "      <td>3</td>\n",
       "      <td>male</td>\n",
       "      <td>35.0</td>\n",
       "      <td>0</td>\n",
       "      <td>0</td>\n",
       "      <td>8.0500</td>\n",
       "      <td>S</td>\n",
       "      <td>Third</td>\n",
       "      <td>man</td>\n",
       "      <td>True</td>\n",
       "      <td>NaN</td>\n",
       "      <td>Southampton</td>\n",
       "      <td>no</td>\n",
       "      <td>True</td>\n",
       "    </tr>\n",
       "  </tbody>\n",
       "</table>\n",
       "</div>"
      ],
      "text/plain": [
       "   survived  pclass     sex   age  sibsp  parch     fare embarked  class  \\\n",
       "0         0       3    male  22.0      1      0   7.2500        S  Third   \n",
       "1         1       1  female  38.0      1      0  71.2833        C  First   \n",
       "2         1       3  female  26.0      0      0   7.9250        S  Third   \n",
       "3         1       1  female  35.0      1      0  53.1000        S  First   \n",
       "4         0       3    male  35.0      0      0   8.0500        S  Third   \n",
       "\n",
       "     who  adult_male deck  embark_town alive  alone  \n",
       "0    man        True  NaN  Southampton    no  False  \n",
       "1  woman       False    C    Cherbourg   yes  False  \n",
       "2  woman       False  NaN  Southampton   yes   True  \n",
       "3  woman       False    C  Southampton   yes  False  \n",
       "4    man        True  NaN  Southampton    no   True  "
      ]
     },
     "execution_count": 2,
     "metadata": {},
     "output_type": "execute_result"
    }
   ],
   "source": [
    "import statsmodels.formula.api as sm\n",
    "titanic = sns.load_dataset(\"titanic\")\n",
    "titanic.head()"
   ]
  },
  {
   "cell_type": "code",
   "execution_count": 3,
   "metadata": {},
   "outputs": [
    {
     "data": {
      "text/html": [
       "<div>\n",
       "<style scoped>\n",
       "    .dataframe tbody tr th:only-of-type {\n",
       "        vertical-align: middle;\n",
       "    }\n",
       "\n",
       "    .dataframe tbody tr th {\n",
       "        vertical-align: top;\n",
       "    }\n",
       "\n",
       "    .dataframe thead th {\n",
       "        text-align: right;\n",
       "    }\n",
       "</style>\n",
       "<table border=\"1\" class=\"dataframe\">\n",
       "  <thead>\n",
       "    <tr style=\"text-align: right;\">\n",
       "      <th></th>\n",
       "      <th>female</th>\n",
       "      <th>First</th>\n",
       "      <th>Second</th>\n",
       "      <th>age</th>\n",
       "      <th>survived</th>\n",
       "    </tr>\n",
       "  </thead>\n",
       "  <tbody>\n",
       "    <tr>\n",
       "      <th>0</th>\n",
       "      <td>0</td>\n",
       "      <td>0</td>\n",
       "      <td>0</td>\n",
       "      <td>22.0</td>\n",
       "      <td>0</td>\n",
       "    </tr>\n",
       "    <tr>\n",
       "      <th>1</th>\n",
       "      <td>1</td>\n",
       "      <td>1</td>\n",
       "      <td>0</td>\n",
       "      <td>38.0</td>\n",
       "      <td>1</td>\n",
       "    </tr>\n",
       "    <tr>\n",
       "      <th>2</th>\n",
       "      <td>1</td>\n",
       "      <td>0</td>\n",
       "      <td>0</td>\n",
       "      <td>26.0</td>\n",
       "      <td>1</td>\n",
       "    </tr>\n",
       "    <tr>\n",
       "      <th>3</th>\n",
       "      <td>1</td>\n",
       "      <td>1</td>\n",
       "      <td>0</td>\n",
       "      <td>35.0</td>\n",
       "      <td>1</td>\n",
       "    </tr>\n",
       "    <tr>\n",
       "      <th>4</th>\n",
       "      <td>0</td>\n",
       "      <td>0</td>\n",
       "      <td>0</td>\n",
       "      <td>35.0</td>\n",
       "      <td>0</td>\n",
       "    </tr>\n",
       "  </tbody>\n",
       "</table>\n",
       "</div>"
      ],
      "text/plain": [
       "   female  First  Second   age  survived\n",
       "0       0      0       0  22.0         0\n",
       "1       1      1       0  38.0         1\n",
       "2       1      0       0  26.0         1\n",
       "3       1      1       0  35.0         1\n",
       "4       0      0       0  35.0         0"
      ]
     },
     "execution_count": 3,
     "metadata": {},
     "output_type": "execute_result"
    }
   ],
   "source": [
    "# Subset to only cols we want\n",
    "titanic = titanic[['sex', 'age', 'class', 'survived']]\n",
    "\n",
    "# Rename 'class' col to 'pclass' to avoid namespace issues\n",
    "titanic.columns = ['sex', 'age', 'pclass', 'survived']\n",
    "\n",
    "#Drop any row with NA values in any col in dataframe\n",
    "titanic = titanic.dropna()\n",
    "\n",
    "is_female = pd.get_dummies(titanic.sex)['female']\n",
    "pclass_coded = pd.get_dummies(titanic.pclass)[['First','Second']]\n",
    "\n",
    "titanic_c = pd.concat([is_female,pclass_coded,titanic[['age','survived']]],axis=1)\n",
    "titanic_c.head()"
   ]
  },
  {
   "cell_type": "code",
   "execution_count": 4,
   "metadata": {},
   "outputs": [
    {
     "name": "stdout",
     "output_type": "stream",
     "text": [
      "0.7552447552447552\n"
     ]
    }
   ],
   "source": [
    "logit = LogisticRegression(C=1000000)\n",
    "train, test =  train_test_split(titanic_c, test_size=.2, random_state=123)\n",
    "X_train = train.iloc[:,:4]\n",
    "y_train = train.survived\n",
    "\n",
    "X_test = test.iloc[:,:4]\n",
    "y_test = test.survived\n",
    "\n",
    "logit.fit(X_train, y_train) \n",
    "print(logit.score(X_test,y_test))"
   ]
  },
  {
   "cell_type": "markdown",
   "metadata": {},
   "source": [
    "Overall Accuracy is about 75%. Let’s fit an ROC curve…"
   ]
  },
  {
   "cell_type": "code",
   "execution_count": 5,
   "metadata": {
    "scrolled": true
   },
   "outputs": [
    {
     "data": {
      "text/plain": [
       "array([[ 2.66233164,  2.5962139 ,  1.13821077, -0.03594795]])"
      ]
     },
     "execution_count": 5,
     "metadata": {},
     "output_type": "execute_result"
    }
   ],
   "source": [
    "logit.coef_"
   ]
  },
  {
   "cell_type": "code",
   "execution_count": 6,
   "metadata": {},
   "outputs": [
    {
     "data": {
      "image/png": "[encoded data removed]",
      "text/plain": [
       "<Figure size 864x864 with 1 Axes>"
      ]
     },
     "metadata": {},
     "output_type": "display_data"
    }
   ],
   "source": [
    "preds = logit.predict_proba(X_test)[:,1]\n",
    "fpr, tpr, thresholds = metrics.roc_curve(y_test, preds)\n",
    "\n",
    "plt.figure(figsize=(12, 12))\n",
    "lw = 2\n",
    "roc_auc = metrics.auc(fpr, tpr)\n",
    "plt.plot(fpr, tpr, color='red',\n",
    "         lw=lw, label='ROC curve (area = %0.2f) Logistic Regression' % roc_auc)\n",
    "plt.plot([0, 1], [0, 1], color='navy', lw=lw, linestyle='--')\n",
    "plt.xlim([-0.02, 1.0])\n",
    "plt.ylim([0.0, 1.05])\n",
    "plt.xlabel('False Positive Rate')\n",
    "plt.ylabel('True Positive Rate')\n",
    "plt.title('Receiver operating characteristic')\n",
    "plt.legend(loc=\"lower right\")\n",
    "label_kwargs = {}\n",
    "label_kwargs['bbox'] = dict(\n",
    "        boxstyle='round,pad=1.7', alpha=0.4, color = 'green'\n",
    "    )\n",
    "for k in range(0, fpr.shape[0],5):\n",
    "            threshold = str(np.round(thresholds[k], 2))\n",
    "            plt.annotate(threshold, (fpr[k], tpr[k]), **label_kwargs, fontsize = 12, ha = 'right', va = 'bottom')\n",
    "plt.show()"
   ]
  },
  {
   "cell_type": "markdown",
   "metadata": {},
   "source": [
    "What does the red line actually mean in this scenario? How might our model be different if we were at a different position on the line? "
   ]
  },
  {
   "cell_type": "code",
   "execution_count": 7,
   "metadata": {},
   "outputs": [
    {
     "name": "stdout",
     "output_type": "stream",
     "text": [
      "             precision    recall  f1-score   support\n",
      "\n",
      "          0       0.80      0.79      0.80        87\n",
      "          1       0.68      0.70      0.69        56\n",
      "\n",
      "avg / total       0.76      0.76      0.76       143\n",
      "\n"
     ]
    }
   ],
   "source": [
    "predicted = logit.predict(test[['female','First','Second','age']])\n",
    "threshold = .5\n",
    "#predicted = threshold < pd.DataFrame(logit.predict_proba(test[['female','First','Second','age']]))[1]\n",
    "expected = test['survived']\n",
    "print(metrics.classification_report(expected, predicted))"
   ]
  },
  {
   "cell_type": "markdown",
   "metadata": {},
   "source": [
    "We have two ways to create our confusion matrix:"
   ]
  },
  {
   "cell_type": "markdown",
   "metadata": {},
   "source": [
    "**Method 1:**"
   ]
  },
  {
   "cell_type": "code",
   "execution_count": 8,
   "metadata": {
    "scrolled": true
   },
   "outputs": [
    {
     "data": {
      "text/html": [
       "<div>\n",
       "<style scoped>\n",
       "    .dataframe tbody tr th:only-of-type {\n",
       "        vertical-align: middle;\n",
       "    }\n",
       "\n",
       "    .dataframe tbody tr th {\n",
       "        vertical-align: top;\n",
       "    }\n",
       "\n",
       "    .dataframe thead th {\n",
       "        text-align: right;\n",
       "    }\n",
       "</style>\n",
       "<table border=\"1\" class=\"dataframe\">\n",
       "  <thead>\n",
       "    <tr style=\"text-align: right;\">\n",
       "      <th></th>\n",
       "      <th>y_hat=0</th>\n",
       "      <th>y_hat = 1</th>\n",
       "    </tr>\n",
       "  </thead>\n",
       "  <tbody>\n",
       "    <tr>\n",
       "      <th>y=0</th>\n",
       "      <td>69</td>\n",
       "      <td>18</td>\n",
       "    </tr>\n",
       "    <tr>\n",
       "      <th>y=1</th>\n",
       "      <td>17</td>\n",
       "      <td>39</td>\n",
       "    </tr>\n",
       "  </tbody>\n",
       "</table>\n",
       "</div>"
      ],
      "text/plain": [
       "     y_hat=0  y_hat = 1\n",
       "y=0       69         18\n",
       "y=1       17         39"
      ]
     },
     "execution_count": 8,
     "metadata": {},
     "output_type": "execute_result"
    }
   ],
   "source": [
    "conf_mat = confusion_matrix(expected, predicted)\n",
    "conf_df = pd.DataFrame(conf_mat, columns = ['y_hat=0', 'y_hat = 1'], index = ['y=0', 'y=1'])\n",
    "conf_df"
   ]
  },
  {
   "cell_type": "markdown",
   "metadata": {},
   "source": [
    "**Method 2:**"
   ]
  },
  {
   "cell_type": "code",
   "execution_count": 9,
   "metadata": {},
   "outputs": [
    {
     "data": {
      "text/html": [
       "<div>\n",
       "<style scoped>\n",
       "    .dataframe tbody tr th:only-of-type {\n",
       "        vertical-align: middle;\n",
       "    }\n",
       "\n",
       "    .dataframe tbody tr th {\n",
       "        vertical-align: top;\n",
       "    }\n",
       "\n",
       "    .dataframe thead th {\n",
       "        text-align: right;\n",
       "    }\n",
       "</style>\n",
       "<table border=\"1\" class=\"dataframe\">\n",
       "  <thead>\n",
       "    <tr style=\"text-align: right;\">\n",
       "      <th>col_0</th>\n",
       "      <th>0</th>\n",
       "      <th>1</th>\n",
       "      <th>All</th>\n",
       "    </tr>\n",
       "    <tr>\n",
       "      <th>survived</th>\n",
       "      <th></th>\n",
       "      <th></th>\n",
       "      <th></th>\n",
       "    </tr>\n",
       "  </thead>\n",
       "  <tbody>\n",
       "    <tr>\n",
       "      <th>0</th>\n",
       "      <td>69</td>\n",
       "      <td>18</td>\n",
       "      <td>87</td>\n",
       "    </tr>\n",
       "    <tr>\n",
       "      <th>1</th>\n",
       "      <td>17</td>\n",
       "      <td>39</td>\n",
       "      <td>56</td>\n",
       "    </tr>\n",
       "    <tr>\n",
       "      <th>All</th>\n",
       "      <td>86</td>\n",
       "      <td>57</td>\n",
       "      <td>143</td>\n",
       "    </tr>\n",
       "  </tbody>\n",
       "</table>\n",
       "</div>"
      ],
      "text/plain": [
       "col_0      0   1  All\n",
       "survived             \n",
       "0         69  18   87\n",
       "1         17  39   56\n",
       "All       86  57  143"
      ]
     },
     "execution_count": 9,
     "metadata": {},
     "output_type": "execute_result"
    }
   ],
   "source": [
    "pd.crosstab(expected,predicted,margins=True,dropna=False)"
   ]
  },
  {
   "cell_type": "markdown",
   "metadata": {},
   "source": [
    "The row totals (87 died, 56 survived) above represent the *true* number of individuals in our test set that survived or perished on the titanic. The columns represent what our model predicted. Per the precision stats above, our model is getting about 3/4  of the test set correctly categorized, but still has a lot of false negatives and false positives.\n",
    "\n",
    "However, we can play with the discretization threshold for different outcomes:"
   ]
  },
  {
   "cell_type": "code",
   "execution_count": 10,
   "metadata": {},
   "outputs": [
    {
     "name": "stdout",
     "output_type": "stream",
     "text": [
      "             precision    recall  f1-score   support\n",
      "\n",
      "          0       0.76      0.99      0.86        87\n",
      "          1       0.97      0.52      0.67        56\n",
      "\n",
      "avg / total       0.84      0.80      0.79       143\n",
      "\n"
     ]
    }
   ],
   "source": [
    "threshold = .75\n",
    "predicted = threshold < pd.DataFrame(logit.predict_proba(test[['female','First','Second','age']]))[1]\n",
    "expected = test['survived']\n",
    "print(metrics.classification_report(expected, predicted))"
   ]
  },
  {
   "cell_type": "markdown",
   "metadata": {},
   "source": [
    "With this dataset, there’s probably no real reason we’d want to optimize for anything but overall accuracy. (So we’d want our classifier to be in the upper left-hand corner of the ROC curve.) In the next example the situation is quite different… "
   ]
  },
  {
   "cell_type": "markdown",
   "metadata": {},
   "source": [
    "**Now, what if we wanted to find the *true positive rate*, *true negative rate*, and the *false positive rate* of our fitted classifier, and how the *false positive rate* is related to its true positive and true negative rate?**"
   ]
  },
  {
   "cell_type": "code",
   "execution_count": 11,
   "metadata": {},
   "outputs": [
    {
     "name": "stdout",
     "output_type": "stream",
     "text": [
      "True Positive Rate for Fitted:  0.6964285714285714\n",
      "True Negative Rate for Fitted:  0.7931034482758621\n",
      "False Positive Rate for Fitted:  0.20689655172413793\n"
     ]
    }
   ],
   "source": [
    "print(\"True Positive Rate for Fitted: \", float(conf_mat[1][1])/(conf_mat[1][1]+ conf_mat[1][0]))\n",
    "print(\"True Negative Rate for Fitted: \", float(conf_mat[0][0])/(conf_mat[0][0] + conf_mat[0][1]))\n",
    "print(\"False Positive Rate for Fitted: \", float(conf_mat[0][1])/(conf_mat[0][1] + conf_mat[0][0]))"
   ]
  },
  {
   "cell_type": "markdown",
   "metadata": {},
   "source": [
    "TNR + FPR = 1 for the first part, but there is NO good relation for the FPR and the TPR as they cannot be used to predict each other. There is not direct formula going from one to the other!"
   ]
  },
  {
   "cell_type": "markdown",
   "metadata": {},
   "source": [
    "**Now suppose we wanted our FPR to be set at most at 0.3. What is the highest TPR we can get? What is the threshold at that point?**"
   ]
  },
  {
   "cell_type": "code",
   "execution_count": 12,
   "metadata": {},
   "outputs": [
    {
     "name": "stdout",
     "output_type": "stream",
     "text": [
      "Highest TPR with FPR set at 0.3:  0.8214285714285714\n",
      "Corresponding Threshold:  0.28944223491970483\n"
     ]
    }
   ],
   "source": [
    "print(\"Highest TPR with FPR set at 0.3: \", tpr[np.min([i for i, x in enumerate(fpr) if x>=0.3])])\n",
    "print(\"Corresponding Threshold: \",thresholds[np.min([i for i, x in enumerate(fpr) if x>=0.3])])\n"
   ]
  },
  {
   "cell_type": "markdown",
   "metadata": {},
   "source": [
    "---"
   ]
  },
  {
   "cell_type": "markdown",
   "metadata": {},
   "source": [
    "## Review oversampling (Pregnancy prediction example) \n",
    "\n",
    "This dataset was adapted from an example in *Data Smart* by John Foreman. It's a dataset of indicator variables about customer purchases in the past six-months for a (simulated) large retailer. Ala the scandal that Target [experienced](https://www.forbes.com/sites/kashmirhill/2012/02/16/how-target-figured-out-a-teen-girl-was-pregnant-before-her-father-did/#3ceb310b6668) a few years back, the question is, can you predict customer’s pregnancy status based on their purchases alone? \n",
    "\n",
    "Separate training and test samples (1000 observations each) are provided:"
   ]
  },
  {
   "cell_type": "code",
   "execution_count": 13,
   "metadata": {},
   "outputs": [
    {
     "data": {
      "text/html": [
       "<div>\n",
       "<style scoped>\n",
       "    .dataframe tbody tr th:only-of-type {\n",
       "        vertical-align: middle;\n",
       "    }\n",
       "\n",
       "    .dataframe tbody tr th {\n",
       "        vertical-align: top;\n",
       "    }\n",
       "\n",
       "    .dataframe thead th {\n",
       "        text-align: right;\n",
       "    }\n",
       "</style>\n",
       "<table border=\"1\" class=\"dataframe\">\n",
       "  <thead>\n",
       "    <tr style=\"text-align: right;\">\n",
       "      <th></th>\n",
       "      <th>Pregnancy Test</th>\n",
       "      <th>Birth Control</th>\n",
       "      <th>Feminine Hygiene</th>\n",
       "      <th>Folic Acid</th>\n",
       "      <th>Prenatal Vitamins</th>\n",
       "      <th>Prenatal Yoga</th>\n",
       "      <th>Body Pillow</th>\n",
       "      <th>Ginger Ale</th>\n",
       "      <th>Sea Bands</th>\n",
       "      <th>Cigarettes</th>\n",
       "      <th>Smoking Cessation</th>\n",
       "      <th>Stopped buying wine</th>\n",
       "      <th>Wine</th>\n",
       "      <th>Maternity Clothes</th>\n",
       "      <th>PREGNANT</th>\n",
       "    </tr>\n",
       "  </thead>\n",
       "  <tbody>\n",
       "    <tr>\n",
       "      <th>0</th>\n",
       "      <td>1</td>\n",
       "      <td>0</td>\n",
       "      <td>0</td>\n",
       "      <td>0</td>\n",
       "      <td>1</td>\n",
       "      <td>0</td>\n",
       "      <td>0</td>\n",
       "      <td>0</td>\n",
       "      <td>0</td>\n",
       "      <td>0</td>\n",
       "      <td>0</td>\n",
       "      <td>0</td>\n",
       "      <td>0</td>\n",
       "      <td>0</td>\n",
       "      <td>1</td>\n",
       "    </tr>\n",
       "    <tr>\n",
       "      <th>1</th>\n",
       "      <td>1</td>\n",
       "      <td>0</td>\n",
       "      <td>0</td>\n",
       "      <td>0</td>\n",
       "      <td>1</td>\n",
       "      <td>0</td>\n",
       "      <td>0</td>\n",
       "      <td>0</td>\n",
       "      <td>0</td>\n",
       "      <td>0</td>\n",
       "      <td>0</td>\n",
       "      <td>0</td>\n",
       "      <td>0</td>\n",
       "      <td>0</td>\n",
       "      <td>1</td>\n",
       "    </tr>\n",
       "    <tr>\n",
       "      <th>2</th>\n",
       "      <td>1</td>\n",
       "      <td>0</td>\n",
       "      <td>0</td>\n",
       "      <td>0</td>\n",
       "      <td>0</td>\n",
       "      <td>0</td>\n",
       "      <td>0</td>\n",
       "      <td>0</td>\n",
       "      <td>1</td>\n",
       "      <td>0</td>\n",
       "      <td>0</td>\n",
       "      <td>0</td>\n",
       "      <td>0</td>\n",
       "      <td>0</td>\n",
       "      <td>1</td>\n",
       "    </tr>\n",
       "    <tr>\n",
       "      <th>3</th>\n",
       "      <td>0</td>\n",
       "      <td>0</td>\n",
       "      <td>0</td>\n",
       "      <td>0</td>\n",
       "      <td>0</td>\n",
       "      <td>0</td>\n",
       "      <td>0</td>\n",
       "      <td>1</td>\n",
       "      <td>0</td>\n",
       "      <td>0</td>\n",
       "      <td>0</td>\n",
       "      <td>0</td>\n",
       "      <td>0</td>\n",
       "      <td>0</td>\n",
       "      <td>1</td>\n",
       "    </tr>\n",
       "    <tr>\n",
       "      <th>4</th>\n",
       "      <td>0</td>\n",
       "      <td>0</td>\n",
       "      <td>0</td>\n",
       "      <td>0</td>\n",
       "      <td>0</td>\n",
       "      <td>1</td>\n",
       "      <td>0</td>\n",
       "      <td>0</td>\n",
       "      <td>0</td>\n",
       "      <td>0</td>\n",
       "      <td>0</td>\n",
       "      <td>1</td>\n",
       "      <td>0</td>\n",
       "      <td>0</td>\n",
       "      <td>1</td>\n",
       "    </tr>\n",
       "  </tbody>\n",
       "</table>\n",
       "</div>"
      ],
      "text/plain": [
       "   Pregnancy Test  Birth Control  Feminine Hygiene  Folic Acid  \\\n",
       "0               1              0                 0           0   \n",
       "1               1              0                 0           0   \n",
       "2               1              0                 0           0   \n",
       "3               0              0                 0           0   \n",
       "4               0              0                 0           0   \n",
       "\n",
       "   Prenatal Vitamins  Prenatal Yoga  Body Pillow  Ginger Ale  Sea Bands  \\\n",
       "0                  1              0            0           0          0   \n",
       "1                  1              0            0           0          0   \n",
       "2                  0              0            0           0          1   \n",
       "3                  0              0            0           1          0   \n",
       "4                  0              1            0           0          0   \n",
       "\n",
       "   Cigarettes  Smoking Cessation  Stopped buying wine  Wine  \\\n",
       "0           0                  0                    0     0   \n",
       "1           0                  0                    0     0   \n",
       "2           0                  0                    0     0   \n",
       "3           0                  0                    0     0   \n",
       "4           0                  0                    1     0   \n",
       "\n",
       "   Maternity Clothes  PREGNANT  \n",
       "0                  0         1  \n",
       "1                  0         1  \n",
       "2                  0         1  \n",
       "3                  0         1  \n",
       "4                  0         1  "
      ]
     },
     "execution_count": 13,
     "metadata": {},
     "output_type": "execute_result"
    }
   ],
   "source": [
    "store_train = pd.read_csv(\"https://raw.githubusercontent.com/nathanielburbank/CS109/master/s7_data/store_data_train.csv\")\n",
    "store_test = pd.read_csv(\"https://raw.githubusercontent.com/nathanielburbank/CS109/master/s7_data/store_data_test.csv\")\n",
    "store_train.head()"
   ]
  },
  {
   "cell_type": "code",
   "execution_count": 14,
   "metadata": {},
   "outputs": [
    {
     "data": {
      "text/html": [
       "<div>\n",
       "<style scoped>\n",
       "    .dataframe tbody tr th:only-of-type {\n",
       "        vertical-align: middle;\n",
       "    }\n",
       "\n",
       "    .dataframe tbody tr th {\n",
       "        vertical-align: top;\n",
       "    }\n",
       "\n",
       "    .dataframe thead th {\n",
       "        text-align: right;\n",
       "    }\n",
       "</style>\n",
       "<table border=\"1\" class=\"dataframe\">\n",
       "  <thead>\n",
       "    <tr style=\"text-align: right;\">\n",
       "      <th></th>\n",
       "      <th>Pregnancy Test</th>\n",
       "      <th>Birth Control</th>\n",
       "      <th>Feminine Hygiene</th>\n",
       "      <th>Folic Acid</th>\n",
       "      <th>Prenatal Vitamins</th>\n",
       "      <th>Prenatal Yoga</th>\n",
       "      <th>Body Pillow</th>\n",
       "      <th>Ginger Ale</th>\n",
       "      <th>Sea Bands</th>\n",
       "      <th>Cigarettes</th>\n",
       "      <th>Smoking Cessation</th>\n",
       "      <th>Stopped buying wine</th>\n",
       "      <th>Wine</th>\n",
       "      <th>Maternity Clothes</th>\n",
       "    </tr>\n",
       "    <tr>\n",
       "      <th>PREGNANT</th>\n",
       "      <th></th>\n",
       "      <th></th>\n",
       "      <th></th>\n",
       "      <th></th>\n",
       "      <th></th>\n",
       "      <th></th>\n",
       "      <th></th>\n",
       "      <th></th>\n",
       "      <th></th>\n",
       "      <th></th>\n",
       "      <th></th>\n",
       "      <th></th>\n",
       "      <th></th>\n",
       "      <th></th>\n",
       "    </tr>\n",
       "  </thead>\n",
       "  <tbody>\n",
       "    <tr>\n",
       "      <th>0</th>\n",
       "      <td>500</td>\n",
       "      <td>500</td>\n",
       "      <td>500</td>\n",
       "      <td>500</td>\n",
       "      <td>500</td>\n",
       "      <td>500</td>\n",
       "      <td>500</td>\n",
       "      <td>500</td>\n",
       "      <td>500</td>\n",
       "      <td>500</td>\n",
       "      <td>500</td>\n",
       "      <td>500</td>\n",
       "      <td>500</td>\n",
       "      <td>500</td>\n",
       "    </tr>\n",
       "    <tr>\n",
       "      <th>1</th>\n",
       "      <td>500</td>\n",
       "      <td>500</td>\n",
       "      <td>500</td>\n",
       "      <td>500</td>\n",
       "      <td>500</td>\n",
       "      <td>500</td>\n",
       "      <td>500</td>\n",
       "      <td>500</td>\n",
       "      <td>500</td>\n",
       "      <td>500</td>\n",
       "      <td>500</td>\n",
       "      <td>500</td>\n",
       "      <td>500</td>\n",
       "      <td>500</td>\n",
       "    </tr>\n",
       "  </tbody>\n",
       "</table>\n",
       "</div>"
      ],
      "text/plain": [
       "          Pregnancy Test  Birth Control  Feminine Hygiene  Folic Acid  \\\n",
       "PREGNANT                                                                \n",
       "0                    500            500               500         500   \n",
       "1                    500            500               500         500   \n",
       "\n",
       "          Prenatal Vitamins  Prenatal Yoga  Body Pillow  Ginger Ale  \\\n",
       "PREGNANT                                                              \n",
       "0                       500            500          500         500   \n",
       "1                       500            500          500         500   \n",
       "\n",
       "          Sea Bands  Cigarettes  Smoking Cessation  Stopped buying wine  Wine  \\\n",
       "PREGNANT                                                                        \n",
       "0               500         500                500                  500   500   \n",
       "1               500         500                500                  500   500   \n",
       "\n",
       "          Maternity Clothes  \n",
       "PREGNANT                     \n",
       "0                       500  \n",
       "1                       500  "
      ]
     },
     "execution_count": 14,
     "metadata": {},
     "output_type": "execute_result"
    }
   ],
   "source": [
    "store_train.groupby(\"PREGNANT\").count()"
   ]
  },
  {
   "cell_type": "code",
   "execution_count": 15,
   "metadata": {},
   "outputs": [
    {
     "data": {
      "text/html": [
       "<div>\n",
       "<style scoped>\n",
       "    .dataframe tbody tr th:only-of-type {\n",
       "        vertical-align: middle;\n",
       "    }\n",
       "\n",
       "    .dataframe tbody tr th {\n",
       "        vertical-align: top;\n",
       "    }\n",
       "\n",
       "    .dataframe thead th {\n",
       "        text-align: right;\n",
       "    }\n",
       "</style>\n",
       "<table border=\"1\" class=\"dataframe\">\n",
       "  <thead>\n",
       "    <tr style=\"text-align: right;\">\n",
       "      <th></th>\n",
       "      <th>Pregnancy Test</th>\n",
       "      <th>Birth Control</th>\n",
       "      <th>Feminine Hygiene</th>\n",
       "      <th>Folic Acid</th>\n",
       "      <th>Prenatal Vitamins</th>\n",
       "      <th>Prenatal Yoga</th>\n",
       "      <th>Body Pillow</th>\n",
       "      <th>Ginger Ale</th>\n",
       "      <th>Sea Bands</th>\n",
       "      <th>Cigarettes</th>\n",
       "      <th>Smoking Cessation</th>\n",
       "      <th>Stopped buying wine</th>\n",
       "      <th>Wine</th>\n",
       "      <th>Maternity Clothes</th>\n",
       "    </tr>\n",
       "    <tr>\n",
       "      <th>PREGNANT</th>\n",
       "      <th></th>\n",
       "      <th></th>\n",
       "      <th></th>\n",
       "      <th></th>\n",
       "      <th></th>\n",
       "      <th></th>\n",
       "      <th></th>\n",
       "      <th></th>\n",
       "      <th></th>\n",
       "      <th></th>\n",
       "      <th></th>\n",
       "      <th></th>\n",
       "      <th></th>\n",
       "      <th></th>\n",
       "    </tr>\n",
       "  </thead>\n",
       "  <tbody>\n",
       "    <tr>\n",
       "      <th>0</th>\n",
       "      <td>940</td>\n",
       "      <td>940</td>\n",
       "      <td>940</td>\n",
       "      <td>940</td>\n",
       "      <td>940</td>\n",
       "      <td>940</td>\n",
       "      <td>940</td>\n",
       "      <td>940</td>\n",
       "      <td>940</td>\n",
       "      <td>940</td>\n",
       "      <td>940</td>\n",
       "      <td>940</td>\n",
       "      <td>940</td>\n",
       "      <td>940</td>\n",
       "    </tr>\n",
       "    <tr>\n",
       "      <th>1</th>\n",
       "      <td>60</td>\n",
       "      <td>60</td>\n",
       "      <td>60</td>\n",
       "      <td>60</td>\n",
       "      <td>60</td>\n",
       "      <td>60</td>\n",
       "      <td>60</td>\n",
       "      <td>60</td>\n",
       "      <td>60</td>\n",
       "      <td>60</td>\n",
       "      <td>60</td>\n",
       "      <td>60</td>\n",
       "      <td>60</td>\n",
       "      <td>60</td>\n",
       "    </tr>\n",
       "  </tbody>\n",
       "</table>\n",
       "</div>"
      ],
      "text/plain": [
       "          Pregnancy Test  Birth Control  Feminine Hygiene  Folic Acid  \\\n",
       "PREGNANT                                                                \n",
       "0                    940            940               940         940   \n",
       "1                     60             60                60          60   \n",
       "\n",
       "          Prenatal Vitamins  Prenatal Yoga  Body Pillow  Ginger Ale  \\\n",
       "PREGNANT                                                              \n",
       "0                       940            940          940         940   \n",
       "1                        60             60           60          60   \n",
       "\n",
       "          Sea Bands  Cigarettes  Smoking Cessation  Stopped buying wine  Wine  \\\n",
       "PREGNANT                                                                        \n",
       "0               940         940                940                  940   940   \n",
       "1                60          60                 60                   60    60   \n",
       "\n",
       "          Maternity Clothes  \n",
       "PREGNANT                     \n",
       "0                       940  \n",
       "1                        60  "
      ]
     },
     "execution_count": 15,
     "metadata": {},
     "output_type": "execute_result"
    }
   ],
   "source": [
    "store_test.groupby(\"PREGNANT\").count()"
   ]
  },
  {
   "cell_type": "markdown",
   "metadata": {},
   "source": [
    "Note that only ~4% of adult women are pregnant at any given time, so it’s a very imbalanced classification problem. However, we’ve significantly *oversampled* observations of pregnant women in our training data so as to ensure that our model does a good job of identifying true positives. What’s the downside of this approch? \n",
    "\n",
    "Anyway, let's build a logistic regression and evaluate the ROC curve..."
   ]
  },
  {
   "cell_type": "code",
   "execution_count": 16,
   "metadata": {},
   "outputs": [
    {
     "name": "stdout",
     "output_type": "stream",
     "text": [
      "0.887\n"
     ]
    }
   ],
   "source": [
    "logit = LogisticRegression(C=1000000)\n",
    "X_train = store_train.iloc[:,:14]\n",
    "y_train = store_train.PREGNANT\n",
    "\n",
    "X_test = store_test.iloc[:,:14]\n",
    "y_test = store_test.PREGNANT\n",
    "\n",
    "logit.fit(X_train, y_train) \n",
    "print(logit.score(X_test,y_test))"
   ]
  },
  {
   "cell_type": "code",
   "execution_count": 17,
   "metadata": {},
   "outputs": [
    {
     "data": {
      "image/png": "[encoded data removed]",
      "text/plain": [
       "<Figure size 864x864 with 1 Axes>"
      ]
     },
     "metadata": {},
     "output_type": "display_data"
    }
   ],
   "source": [
    "preds = logit.predict_proba(X_test)[:,1]\n",
    "fpr, tpr, thresholds = metrics.roc_curve(y_test, preds)\n",
    "\n",
    "plt.figure(figsize=(12, 12))\n",
    "lw = 2\n",
    "roc_auc = metrics.auc(fpr, tpr)\n",
    "plt.plot(fpr, tpr, color='red',\n",
    "         lw=lw, label='ROC curve (area = %0.2f) Logistic Regression' % roc_auc)\n",
    "plt.plot([0, 1], [0, 1], color='navy', lw=lw, linestyle='--')\n",
    "plt.xlim([-0.02, 1.0])\n",
    "plt.ylim([0.0, 1.05])\n",
    "plt.xlabel('False Positive Rate')\n",
    "plt.ylabel('True Positive Rate')\n",
    "plt.title('Receiver operating characteristic')\n",
    "plt.legend(loc=\"lower right\")\n",
    "label_kwargs = {}\n",
    "label_kwargs['bbox'] = dict(\n",
    "        boxstyle='round,pad=1.6', alpha=0.4, color = 'green'\n",
    "    )\n",
    "for k in range(0, fpr.shape[0],5):\n",
    "            threshold = str(np.round(thresholds[k], 2))\n",
    "            plt.annotate(threshold, (fpr[k], tpr[k]), **label_kwargs, fontsize = 12, ha = 'right', va = 'bottom')\n",
    "plt.show()"
   ]
  },
  {
   "cell_type": "code",
   "execution_count": 18,
   "metadata": {},
   "outputs": [
    {
     "name": "stdout",
     "output_type": "stream",
     "text": [
      "             precision    recall  f1-score   support\n",
      "\n",
      "          0       0.98      0.90      0.94       940\n",
      "          1       0.31      0.73      0.44        60\n",
      "\n",
      "avg / total       0.94      0.89      0.91      1000\n",
      "\n"
     ]
    }
   ],
   "source": [
    "predicted = logit.predict(X_test)\n",
    "print(metrics.classification_report(y_test, predicted))"
   ]
  },
  {
   "cell_type": "markdown",
   "metadata": {},
   "source": [
    "Let us again use the two methods:"
   ]
  },
  {
   "cell_type": "markdown",
   "metadata": {},
   "source": [
    "**Method 1:**"
   ]
  },
  {
   "cell_type": "code",
   "execution_count": 19,
   "metadata": {},
   "outputs": [
    {
     "data": {
      "text/html": [
       "<div>\n",
       "<style scoped>\n",
       "    .dataframe tbody tr th:only-of-type {\n",
       "        vertical-align: middle;\n",
       "    }\n",
       "\n",
       "    .dataframe tbody tr th {\n",
       "        vertical-align: top;\n",
       "    }\n",
       "\n",
       "    .dataframe thead th {\n",
       "        text-align: right;\n",
       "    }\n",
       "</style>\n",
       "<table border=\"1\" class=\"dataframe\">\n",
       "  <thead>\n",
       "    <tr style=\"text-align: right;\">\n",
       "      <th></th>\n",
       "      <th>y_hat=0</th>\n",
       "      <th>y_hat = 1</th>\n",
       "    </tr>\n",
       "  </thead>\n",
       "  <tbody>\n",
       "    <tr>\n",
       "      <th>y=0</th>\n",
       "      <td>843</td>\n",
       "      <td>97</td>\n",
       "    </tr>\n",
       "    <tr>\n",
       "      <th>y=1</th>\n",
       "      <td>16</td>\n",
       "      <td>44</td>\n",
       "    </tr>\n",
       "  </tbody>\n",
       "</table>\n",
       "</div>"
      ],
      "text/plain": [
       "     y_hat=0  y_hat = 1\n",
       "y=0      843         97\n",
       "y=1       16         44"
      ]
     },
     "execution_count": 19,
     "metadata": {},
     "output_type": "execute_result"
    }
   ],
   "source": [
    "conf_mat2 = confusion_matrix(y_test, predicted)\n",
    "conf_df2 = pd.DataFrame(conf_mat2, columns = ['y_hat=0', 'y_hat = 1'], index = ['y=0', 'y=1'])\n",
    "conf_df2"
   ]
  },
  {
   "cell_type": "markdown",
   "metadata": {},
   "source": [
    "**Method 2:**"
   ]
  },
  {
   "cell_type": "code",
   "execution_count": 20,
   "metadata": {},
   "outputs": [
    {
     "data": {
      "text/html": [
       "<div>\n",
       "<style scoped>\n",
       "    .dataframe tbody tr th:only-of-type {\n",
       "        vertical-align: middle;\n",
       "    }\n",
       "\n",
       "    .dataframe tbody tr th {\n",
       "        vertical-align: top;\n",
       "    }\n",
       "\n",
       "    .dataframe thead th {\n",
       "        text-align: right;\n",
       "    }\n",
       "</style>\n",
       "<table border=\"1\" class=\"dataframe\">\n",
       "  <thead>\n",
       "    <tr style=\"text-align: right;\">\n",
       "      <th>col_0</th>\n",
       "      <th>0</th>\n",
       "      <th>1</th>\n",
       "      <th>All</th>\n",
       "    </tr>\n",
       "    <tr>\n",
       "      <th>PREGNANT</th>\n",
       "      <th></th>\n",
       "      <th></th>\n",
       "      <th></th>\n",
       "    </tr>\n",
       "  </thead>\n",
       "  <tbody>\n",
       "    <tr>\n",
       "      <th>0</th>\n",
       "      <td>843</td>\n",
       "      <td>97</td>\n",
       "      <td>940</td>\n",
       "    </tr>\n",
       "    <tr>\n",
       "      <th>1</th>\n",
       "      <td>16</td>\n",
       "      <td>44</td>\n",
       "      <td>60</td>\n",
       "    </tr>\n",
       "    <tr>\n",
       "      <th>All</th>\n",
       "      <td>859</td>\n",
       "      <td>141</td>\n",
       "      <td>1000</td>\n",
       "    </tr>\n",
       "  </tbody>\n",
       "</table>\n",
       "</div>"
      ],
      "text/plain": [
       "col_0       0    1   All\n",
       "PREGNANT                \n",
       "0         843   97   940\n",
       "1          16   44    60\n",
       "All       859  141  1000"
      ]
     },
     "execution_count": 20,
     "metadata": {},
     "output_type": "execute_result"
    }
   ],
   "source": [
    "pd.crosstab(y_test,predicted,margins=True,dropna=False)"
   ]
  },
  {
   "cell_type": "markdown",
   "metadata": {},
   "source": [
    "**Again, as in the last problem, what if we wanted to find the *true positive rate*, *true negative rate*, and the *false positive rate* of our fitted classifier, and how the *false positive rate* is related to its true positive and true negative rate?**"
   ]
  },
  {
   "cell_type": "code",
   "execution_count": 21,
   "metadata": {},
   "outputs": [
    {
     "name": "stdout",
     "output_type": "stream",
     "text": [
      "True Positive Rate for Fitted:  0.7333333333333333\n",
      "True Negative Rate for Fitted:  0.8968085106382979\n",
      "False Positive Rate for Fitted:  0.10319148936170212\n"
     ]
    }
   ],
   "source": [
    "print(\"True Positive Rate for Fitted: \", float(conf_mat2[1][1])/(conf_mat2[1][1]+ conf_mat2[1][0]))\n",
    "print(\"True Negative Rate for Fitted: \", float(conf_mat2[0][0])/(conf_mat2[0][0] + conf_mat2[0][1]))\n",
    "print(\"False Positive Rate for Fitted: \", float(conf_mat2[0][1])/(conf_mat2[0][1] + conf_mat2[0][0]))"
   ]
  },
  {
   "cell_type": "markdown",
   "metadata": {},
   "source": [
    "**Now suppose we wanted our FPR to be set at most at 0.3. What is the highest TPR we can get? What is the threshold at that point?**"
   ]
  },
  {
   "cell_type": "code",
   "execution_count": 22,
   "metadata": {},
   "outputs": [
    {
     "name": "stdout",
     "output_type": "stream",
     "text": [
      "Highest TPR with FPR set at 0.3:  0.9166666666666666\n",
      "Corresponding Threshold:  0.3891177173773436\n"
     ]
    }
   ],
   "source": [
    "print(\"Highest TPR with FPR set at 0.3: \", tpr[np.min([i for i, x in enumerate(fpr) if x>=0.3])])\n",
    "print(\"Corresponding Threshold: \",thresholds[np.min([i for i, x in enumerate(fpr) if x>=0.3])])\n"
   ]
  },
  {
   "cell_type": "markdown",
   "metadata": {},
   "source": [
    "Note that while our model does a great job of identifying true-positives (pregnant women) it comes at the cost of increased false-positives. Depending on what we were actually going to do this data, we might prefer one or another, and build a model that chose a different optimum on the ROC curve. "
   ]
  },
  {
   "cell_type": "markdown",
   "metadata": {},
   "source": [
    "---"
   ]
  },
  {
   "cell_type": "markdown",
   "metadata": {},
   "source": [
    "# Cancer Prediction with Dropping Missing Values and Mean Imputation\n",
    "\n",
    "This dataset is somewhat similar to the homework in that we have a low number of treated cases compared to the untreated cases. We also have missing values. We will tackle the missing values through two methods."
   ]
  },
  {
   "cell_type": "code",
   "execution_count": 23,
   "metadata": {},
   "outputs": [
    {
     "data": {
      "text/html": [
       "<div>\n",
       "<style scoped>\n",
       "    .dataframe tbody tr th:only-of-type {\n",
       "        vertical-align: middle;\n",
       "    }\n",
       "\n",
       "    .dataframe tbody tr th {\n",
       "        vertical-align: top;\n",
       "    }\n",
       "\n",
       "    .dataframe thead th {\n",
       "        text-align: right;\n",
       "    }\n",
       "</style>\n",
       "<table border=\"1\" class=\"dataframe\">\n",
       "  <thead>\n",
       "    <tr style=\"text-align: right;\">\n",
       "      <th></th>\n",
       "      <th>Incidence</th>\n",
       "      <th>X1</th>\n",
       "      <th>X2</th>\n",
       "      <th>X3</th>\n",
       "      <th>X4</th>\n",
       "      <th>X5</th>\n",
       "      <th>X6</th>\n",
       "      <th>X7</th>\n",
       "      <th>X8</th>\n",
       "      <th>X9</th>\n",
       "      <th>X10</th>\n",
       "      <th>X11</th>\n",
       "      <th>X12</th>\n",
       "      <th>X13</th>\n",
       "      <th>X14</th>\n",
       "      <th>X15</th>\n",
       "      <th>X16</th>\n",
       "    </tr>\n",
       "  </thead>\n",
       "  <tbody>\n",
       "    <tr>\n",
       "      <th>0</th>\n",
       "      <td>1</td>\n",
       "      <td>-0.00184</td>\n",
       "      <td>0.02440</td>\n",
       "      <td>1.090</td>\n",
       "      <td>0.948</td>\n",
       "      <td>NaN</td>\n",
       "      <td>-1.560</td>\n",
       "      <td>-1.580</td>\n",
       "      <td>-0.664</td>\n",
       "      <td>0.568</td>\n",
       "      <td>-0.4590</td>\n",
       "      <td>-1.200</td>\n",
       "      <td>0.0957</td>\n",
       "      <td>-0.210</td>\n",
       "      <td>-0.72900</td>\n",
       "      <td>0.575</td>\n",
       "      <td>NaN</td>\n",
       "    </tr>\n",
       "    <tr>\n",
       "      <th>1</th>\n",
       "      <td>1</td>\n",
       "      <td>-0.04980</td>\n",
       "      <td>0.00719</td>\n",
       "      <td>1.070</td>\n",
       "      <td>0.923</td>\n",
       "      <td>0.472</td>\n",
       "      <td>-1.690</td>\n",
       "      <td>-1.650</td>\n",
       "      <td>0.594</td>\n",
       "      <td>0.205</td>\n",
       "      <td>-0.2810</td>\n",
       "      <td>-1.280</td>\n",
       "      <td>-0.1140</td>\n",
       "      <td>-0.147</td>\n",
       "      <td>0.36300</td>\n",
       "      <td>1.070</td>\n",
       "      <td>1.460</td>\n",
       "    </tr>\n",
       "    <tr>\n",
       "      <th>2</th>\n",
       "      <td>1</td>\n",
       "      <td>-0.12000</td>\n",
       "      <td>0.00218</td>\n",
       "      <td>0.141</td>\n",
       "      <td>0.140</td>\n",
       "      <td>0.288</td>\n",
       "      <td>-0.428</td>\n",
       "      <td>-0.538</td>\n",
       "      <td>NaN</td>\n",
       "      <td>-0.433</td>\n",
       "      <td>0.1690</td>\n",
       "      <td>-0.678</td>\n",
       "      <td>-0.7380</td>\n",
       "      <td>0.271</td>\n",
       "      <td>0.78800</td>\n",
       "      <td>0.779</td>\n",
       "      <td>0.389</td>\n",
       "    </tr>\n",
       "    <tr>\n",
       "      <th>3</th>\n",
       "      <td>1</td>\n",
       "      <td>-0.11600</td>\n",
       "      <td>0.08790</td>\n",
       "      <td>0.324</td>\n",
       "      <td>0.277</td>\n",
       "      <td>0.399</td>\n",
       "      <td>-0.336</td>\n",
       "      <td>-0.336</td>\n",
       "      <td>NaN</td>\n",
       "      <td>-0.168</td>\n",
       "      <td>0.2120</td>\n",
       "      <td>-0.689</td>\n",
       "      <td>0.5580</td>\n",
       "      <td>0.188</td>\n",
       "      <td>-0.00104</td>\n",
       "      <td>0.178</td>\n",
       "      <td>0.546</td>\n",
       "    </tr>\n",
       "    <tr>\n",
       "      <th>4</th>\n",
       "      <td>1</td>\n",
       "      <td>-0.06150</td>\n",
       "      <td>-0.26000</td>\n",
       "      <td>0.871</td>\n",
       "      <td>0.755</td>\n",
       "      <td>NaN</td>\n",
       "      <td>-1.430</td>\n",
       "      <td>-1.390</td>\n",
       "      <td>-0.796</td>\n",
       "      <td>-0.422</td>\n",
       "      <td>-0.0827</td>\n",
       "      <td>-1.380</td>\n",
       "      <td>-0.0306</td>\n",
       "      <td>0.605</td>\n",
       "      <td>NaN</td>\n",
       "      <td>NaN</td>\n",
       "      <td>NaN</td>\n",
       "    </tr>\n",
       "  </tbody>\n",
       "</table>\n",
       "</div>"
      ],
      "text/plain": [
       "   Incidence       X1       X2     X3     X4     X5     X6     X7     X8  \\\n",
       "0          1 -0.00184  0.02440  1.090  0.948    NaN -1.560 -1.580 -0.664   \n",
       "1          1 -0.04980  0.00719  1.070  0.923  0.472 -1.690 -1.650  0.594   \n",
       "2          1 -0.12000  0.00218  0.141  0.140  0.288 -0.428 -0.538    NaN   \n",
       "3          1 -0.11600  0.08790  0.324  0.277  0.399 -0.336 -0.336    NaN   \n",
       "4          1 -0.06150 -0.26000  0.871  0.755    NaN -1.430 -1.390 -0.796   \n",
       "\n",
       "      X9     X10    X11     X12    X13      X14    X15    X16  \n",
       "0  0.568 -0.4590 -1.200  0.0957 -0.210 -0.72900  0.575    NaN  \n",
       "1  0.205 -0.2810 -1.280 -0.1140 -0.147  0.36300  1.070  1.460  \n",
       "2 -0.433  0.1690 -0.678 -0.7380  0.271  0.78800  0.779  0.389  \n",
       "3 -0.168  0.2120 -0.689  0.5580  0.188 -0.00104  0.178  0.546  \n",
       "4 -0.422 -0.0827 -1.380 -0.0306  0.605      NaN    NaN    NaN  "
      ]
     },
     "execution_count": 23,
     "metadata": {},
     "output_type": "execute_result"
    }
   ],
   "source": [
    "#Load and inspect the data\n",
    "data = pd.read_csv('https://raw.githubusercontent.com/albertw1/data/master/final_data4.csv', low_memory=False)  # low memory is set false for better type inference\n",
    "data.head()"
   ]
  },
  {
   "cell_type": "markdown",
   "metadata": {},
   "source": [
    "The first column represents our indicator of Cancer, which is our response variable. "
   ]
  },
  {
   "cell_type": "code",
   "execution_count": 24,
   "metadata": {},
   "outputs": [
    {
     "data": {
      "text/plain": [
       "(15474, 17)"
      ]
     },
     "execution_count": 24,
     "metadata": {},
     "output_type": "execute_result"
    }
   ],
   "source": [
    "data.shape"
   ]
  },
  {
   "cell_type": "markdown",
   "metadata": {},
   "source": [
    "### Dropping NA values"
   ]
  },
  {
   "cell_type": "markdown",
   "metadata": {},
   "source": [
    "We wish to use the first method on homework 7, which is to drop the missing values."
   ]
  },
  {
   "cell_type": "code",
   "execution_count": 25,
   "metadata": {
    "collapsed": true
   },
   "outputs": [],
   "source": [
    "data1 = data.copy()\n",
    "\n",
    "# Drop out NAN's by row\n",
    "data1.dropna(inplace=True)\n",
    "# Splitting our data\n",
    "np.random.seed(9001)\n",
    "msk = np.random.rand(len(data1)) < 0.75\n",
    "data_train = data1[msk]\n",
    "data_test = data1[~msk]\n",
    "\n",
    "X_train = data_train.loc[:, data_train.columns != 'Incidence']\n",
    "X_test  = data_test.loc[:, data_test.columns != 'Incidence']\n",
    "y_train = data_train['Incidence'].values\n",
    "y_test  = data_test['Incidence'].values"
   ]
  },
  {
   "cell_type": "code",
   "execution_count": 26,
   "metadata": {
    "scrolled": false
   },
   "outputs": [
    {
     "data": {
      "text/plain": [
       "(6563, 17)"
      ]
     },
     "execution_count": 26,
     "metadata": {},
     "output_type": "execute_result"
    }
   ],
   "source": [
    "data1.shape"
   ]
  },
  {
   "cell_type": "markdown",
   "metadata": {},
   "source": [
    "Now lets do logistic regression on the data."
   ]
  },
  {
   "cell_type": "code",
   "execution_count": 27,
   "metadata": {},
   "outputs": [
    {
     "name": "stdout",
     "output_type": "stream",
     "text": [
      "Train accuracy for NA Drop:  0.9921402660217654\n",
      "Test accuracy for NA Drop:  0.9875078076202374\n"
     ]
    }
   ],
   "source": [
    "logregcv = LogisticRegressionCV()\n",
    "logregcv.fit(X_train, y_train)\n",
    "y_hat_train = logregcv.predict(X_train)\n",
    "y_hat_test = logregcv.predict(X_test)\n",
    "print(\"Train accuracy for NA Drop: \", accuracy_score(y_train, y_hat_train))\n",
    "print(\"Test accuracy for NA Drop: \", accuracy_score(y_test, y_hat_test))"
   ]
  },
  {
   "cell_type": "markdown",
   "metadata": {},
   "source": [
    "We again rely on the confusion matrix to gain a clearer picture of how the classification did."
   ]
  },
  {
   "cell_type": "code",
   "execution_count": 28,
   "metadata": {},
   "outputs": [
    {
     "data": {
      "text/html": [
       "<div>\n",
       "<style scoped>\n",
       "    .dataframe tbody tr th:only-of-type {\n",
       "        vertical-align: middle;\n",
       "    }\n",
       "\n",
       "    .dataframe tbody tr th {\n",
       "        vertical-align: top;\n",
       "    }\n",
       "\n",
       "    .dataframe thead th {\n",
       "        text-align: right;\n",
       "    }\n",
       "</style>\n",
       "<table border=\"1\" class=\"dataframe\">\n",
       "  <thead>\n",
       "    <tr style=\"text-align: right;\">\n",
       "      <th></th>\n",
       "      <th>y_hat=0</th>\n",
       "      <th>y_hat = 1</th>\n",
       "    </tr>\n",
       "  </thead>\n",
       "  <tbody>\n",
       "    <tr>\n",
       "      <th>y=0</th>\n",
       "      <td>1580</td>\n",
       "      <td>0</td>\n",
       "    </tr>\n",
       "    <tr>\n",
       "      <th>y=1</th>\n",
       "      <td>20</td>\n",
       "      <td>1</td>\n",
       "    </tr>\n",
       "  </tbody>\n",
       "</table>\n",
       "</div>"
      ],
      "text/plain": [
       "     y_hat=0  y_hat = 1\n",
       "y=0     1580          0\n",
       "y=1       20          1"
      ]
     },
     "execution_count": 28,
     "metadata": {},
     "output_type": "execute_result"
    }
   ],
   "source": [
    "conf_mat_1 = confusion_matrix(y_test, y_hat_test)\n",
    "conf_df_1 = pd.DataFrame(conf_mat_1, columns = ['y_hat=0', 'y_hat = 1'], index = ['y=0', 'y=1'])\n",
    "conf_df_1"
   ]
  },
  {
   "cell_type": "code",
   "execution_count": 29,
   "metadata": {},
   "outputs": [
    {
     "name": "stdout",
     "output_type": "stream",
     "text": [
      "True Positive Rate for Part 1:  0.047619047619047616\n"
     ]
    }
   ],
   "source": [
    "print(\"True Positive Rate for Part 1: \", float(conf_mat_1[1][1])/(conf_mat_1[1][1]+ conf_mat_1[1][0]))"
   ]
  },
  {
   "cell_type": "markdown",
   "metadata": {},
   "source": [
    "We can see that prediction accuracy is only part of the story. Most of the high predictive power is due to predicting the negative cases. We perform very bad for the positive case, with only one right prediction of Cancer out of 21. "
   ]
  },
  {
   "cell_type": "markdown",
   "metadata": {},
   "source": [
    "### Mean Imputation Method"
   ]
  },
  {
   "cell_type": "markdown",
   "metadata": {},
   "source": [
    "For this method, we will use the mean of the non-missing entries of each column to impute, or predict the missing values within that column, across our entire dataset. "
   ]
  },
  {
   "cell_type": "code",
   "execution_count": 30,
   "metadata": {
    "collapsed": true
   },
   "outputs": [],
   "source": [
    "data2 = data.copy()\n",
    "imputer = Imputer( strategy='mean')\n",
    "data2 = imputer.fit_transform(data2.values)\n",
    "msk = np.random.rand(len(data2)) < 0.75\n",
    "data_train2 = data2[msk]\n",
    "data_test2 = data2[~msk]\n",
    "\n",
    "X_train2 = data_train2[:, 1:]\n",
    "y_train2 = data_train2[:, 0]\n",
    "X_test2  = data_test2[:, 1:]\n",
    "y_test2  = data_test2[:, 0]"
   ]
  },
  {
   "cell_type": "code",
   "execution_count": 31,
   "metadata": {},
   "outputs": [
    {
     "name": "stdout",
     "output_type": "stream",
     "text": [
      "Train accuracy for Mean Imputation:  0.9908099287125312\n",
      "Test accuracy for Mean Imputation:  0.9900809188201514\n"
     ]
    }
   ],
   "source": [
    "logregcv = LogisticRegressionCV()\n",
    "logregcv.fit(X_train2, y_train2)\n",
    "y_hat_train2 = logregcv.predict(X_train2)\n",
    "y_hat_test2 = logregcv.predict(X_test2)\n",
    "print(\"Train accuracy for Mean Imputation: \", accuracy_score(y_train2, y_hat_train2))\n",
    "print(\"Test accuracy for Mean Imputation: \", accuracy_score(y_test2, y_hat_test2))"
   ]
  },
  {
   "cell_type": "markdown",
   "metadata": {},
   "source": [
    "The test accuracy is better than before, but let us see how well it does for the cancer classification."
   ]
  },
  {
   "cell_type": "code",
   "execution_count": 32,
   "metadata": {},
   "outputs": [
    {
     "data": {
      "text/html": [
       "<div>\n",
       "<style scoped>\n",
       "    .dataframe tbody tr th:only-of-type {\n",
       "        vertical-align: middle;\n",
       "    }\n",
       "\n",
       "    .dataframe tbody tr th {\n",
       "        vertical-align: top;\n",
       "    }\n",
       "\n",
       "    .dataframe thead th {\n",
       "        text-align: right;\n",
       "    }\n",
       "</style>\n",
       "<table border=\"1\" class=\"dataframe\">\n",
       "  <thead>\n",
       "    <tr style=\"text-align: right;\">\n",
       "      <th></th>\n",
       "      <th>y_hat=0</th>\n",
       "      <th>y_hat = 1</th>\n",
       "    </tr>\n",
       "  </thead>\n",
       "  <tbody>\n",
       "    <tr>\n",
       "      <th>y=0</th>\n",
       "      <td>3791</td>\n",
       "      <td>0</td>\n",
       "    </tr>\n",
       "    <tr>\n",
       "      <th>y=1</th>\n",
       "      <td>38</td>\n",
       "      <td>2</td>\n",
       "    </tr>\n",
       "  </tbody>\n",
       "</table>\n",
       "</div>"
      ],
      "text/plain": [
       "     y_hat=0  y_hat = 1\n",
       "y=0     3791          0\n",
       "y=1       38          2"
      ]
     },
     "execution_count": 32,
     "metadata": {},
     "output_type": "execute_result"
    }
   ],
   "source": [
    "conf_mat_2 = confusion_matrix(y_test2, y_hat_test2)\n",
    "conf_df_2 = pd.DataFrame(conf_mat_2, columns = ['y_hat=0', 'y_hat = 1'], index = ['y=0', 'y=1'])\n",
    "conf_df_2"
   ]
  },
  {
   "cell_type": "code",
   "execution_count": 33,
   "metadata": {},
   "outputs": [
    {
     "name": "stdout",
     "output_type": "stream",
     "text": [
      "True Positive Rate for Part 2:  0.05\n"
     ]
    }
   ],
   "source": [
    "print(\"True Positive Rate for Part 2: \", float(conf_mat_2[1][1])/(conf_mat_2[1][1]+ conf_mat_2[1][0]))"
   ]
  },
  {
   "cell_type": "markdown",
   "metadata": {},
   "source": [
    "This does a bit better than before, but still missed a ton of cases for the positives!"
   ]
  }
 ],
 "metadata": {
  "kernelspec": {
   "display_name": "Python 3",
   "language": "python",
   "name": "python3"
  },
  "language_info": {
   "codemirror_mode": {
    "name": "ipython",
    "version": 3
   },
   "file_extension": ".py",
   "mimetype": "text/x-python",
   "name": "python",
   "nbconvert_exporter": "python",
   "pygments_lexer": "ipython3",
   "version": "3.6.5"
  }
 },
 "nbformat": 4,
 "nbformat_minor": 2
}
