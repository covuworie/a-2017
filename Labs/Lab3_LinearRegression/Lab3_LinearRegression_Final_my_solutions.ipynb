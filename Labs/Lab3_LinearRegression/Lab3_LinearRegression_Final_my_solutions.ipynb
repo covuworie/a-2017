{
 "cells": [
  {
   "cell_type": "markdown",
   "metadata": {},
   "source": [
    "### CS 109A/STAT 121A/AC 209A/CSCI E-109A \n",
    "\n",
    "# Lab 3: Linear Regression\n",
    "\n",
    "**Harvard University**<br>\n",
    "**Fall 2017**<br>\n",
    "**Instructors: Pavlos Protopapas, Kevin Rader, Rahul Dave, Margo Levine**\n",
    "\n",
    "---"
   ]
  },
  {
   "cell_type": "markdown",
   "metadata": {},
   "source": [
    "# Table of Contents \n",
    "\n",
    "<ol>\n",
    "<li> Linear regression with a toy  </li>\n",
    "- matrices and math <br>\n",
    "- building a model from scratch<br>\n",
    "- building a model with statsmodel and sklearn\n",
    "<li> Simple linear regression with automobile data </li>\n",
    "<li> Multiple linear regression with automobile data </li>\n",
    "<li> Interpreting results</li>\n",
    "</ol>\n",
    "\n",
    "*This lab maps on to lectures 3, 4, 5 and homework 2.*"
   ]
  },
  {
   "cell_type": "markdown",
   "metadata": {},
   "source": [
    "## Part 1: Linear regression with a toy \n",
    "We first examine a toy problem, focusing our efforts on fitting a linear model to a small dataset with three observations.  Each observation consists of one predictor $x_i$ and one response $y_i$ for $i = 1, 2, 3$,\n",
    "\n",
    "\\begin{equation*}\n",
    "(x , y) = \\{(x_1, y_1), (x_2, y_2), (x_3, y_3)\\}.\n",
    "\\end{equation*}\n",
    "\n",
    "To be very concrete, let's set the values of the predictors and responses.\n",
    "\n",
    "\\begin{equation*}\n",
    "(x , y) = \\{(1, 2), (2, 2), (3, 4)\\}\n",
    "\\end{equation*}\n",
    "\n",
    "There is no line of the form $\\beta_0 + \\beta_1 x = y$ that passes through all three observations, since the data is not collinear.  Thus our aim is to find the line that best fits these observations in the *least-squares sense*, as discussed in lecture.\n",
    "\n",
    "\n",
    "### Matrices and math [10 minutes]\n",
    "\n",
    "Suspending reality, suppose there is a line $\\beta_0 + \\beta_1 x = y$ that passes through all three observations.  Then we'd solve\n",
    "\n",
    "\\begin{eqnarray}\n",
    "\\beta_0 + \\beta_1 &=& 2 \\nonumber \\\\\n",
    "\\beta_0 + 2 \\beta_1 &=& 2 \\nonumber \\\\\n",
    "\\beta_0 + 3 \\beta_1 &=& 4, \\nonumber \\\\\n",
    "\\end{eqnarray}\n",
    "\n",
    "\n",
    "for  $\\beta_0$ and  $\\beta_1$, the intercept and slope of the desired line.  Let's write these equations in matrix form.  The left hand sides of the above equations can be written as\n",
    "\n",
    "<img src=\"images/LHS.pdf\" alt=\"Drawing\" style=\"width: 450px;\"/>\n",
    "\n",
    "while the right hand side is simply the vector\n",
    "\n",
    "\\begin{equation*}Y = \\begin{bmatrix}\n",
    "2 \\\\\n",
    "2 \\\\\n",
    "4 \n",
    "\\end{bmatrix}. \\end{equation*}\n",
    "\n",
    "Thus we have the matrix equation $X \\beta = Y$ where\n",
    "\n",
    "\\begin{equation}\n",
    "X = \\begin{bmatrix}\n",
    "1 & 1\\\\\n",
    "1 & 2\\\\\n",
    "1 & 3\n",
    "\\end{bmatrix}, \\quad\n",
    "\\beta = \\begin{pmatrix}\n",
    "\\beta_0 \\\\\n",
    "\\beta_1 \n",
    "\\end{pmatrix}, \\quad \\mathrm{and} \n",
    "\\quad Y = \\begin{bmatrix}\n",
    "2 \\\\\n",
    "2 \\\\\n",
    "4 \n",
    "\\end{bmatrix}.\n",
    "\\end{equation}\n",
    "\n",
    "To find the best possible solution to this linear system that has no solution, we need to solve the *normal equations*, or\n",
    "\n",
    "\\begin{equation}\n",
    "X^T X \\beta = X^T Y.\n",
    "\\end{equation}\n",
    "\n",
    "If $X^T X$ is invertible then the solution is\n",
    "\n",
    "\\begin{equation}\n",
    "\\beta = (X^T X)^{-1} X^T Y.\n",
    "\\end{equation}\n",
    "\n",
    "\n"
   ]
  },
  {
   "cell_type": "markdown",
   "metadata": {},
   "source": [
    "> **EXERCISE:** What if the toy problem included a second predictor variable?  How would $X, \\beta$, and $Y$ change, if at all?  Would anything else change?  Create a new markdown cell below and explain."
   ]
  },
  {
   "cell_type": "markdown",
   "metadata": {},
   "source": [
    "$X$ would contain one extra column, $\\beta$ would contain one extra row and Y would be unchanged if a second predictor variable was added."
   ]
  },
  {
   "cell_type": "markdown",
   "metadata": {},
   "source": [
    "### Building a model from scratch [15 minutes]\n",
    "\n",
    "We now solve the normal equations to find the best fit solution to our toy problem.   Note that we have constructed our toy problem so that $X^T X$ is invertible.  Let's import the needed modules.  Note that we've imported statsmodels and sklearn in this below, which we'll use to build regression models."
   ]
  },
  {
   "cell_type": "code",
   "execution_count": 1,
   "metadata": {
    "collapsed": true
   },
   "outputs": [],
   "source": [
    "import numpy as np\n",
    "import pandas as pd\n",
    "import seaborn as sns\n",
    "from sklearn import linear_model, datasets, metrics\n",
    "import matplotlib.pyplot as plt\n",
    "import statsmodels.api as sm\n",
    "%matplotlib inline"
   ]
  },
  {
   "cell_type": "markdown",
   "metadata": {},
   "source": [
    "The snippets of code below solves the equations using the observed predictors and responses, which we'll call the training data set.  Let's walk through the code."
   ]
  },
  {
   "cell_type": "code",
   "execution_count": 2,
   "metadata": {
    "collapsed": true
   },
   "outputs": [
    {
     "name": "stdout",
     "output_type": "stream",
     "text": [
      "(3,)\n"
     ]
    }
   ],
   "source": [
    "#observed predictors\n",
    "x_train = np.array([1, 2, 3])\n",
    "print(x_train.shape)"
   ]
  },
  {
   "cell_type": "code",
   "execution_count": 3,
   "metadata": {
    "collapsed": true
   },
   "outputs": [
    {
     "name": "stdout",
     "output_type": "stream",
     "text": [
      "(3, 1)\n"
     ]
    }
   ],
   "source": [
    "x_train = x_train.reshape(len(x_train),1)\n",
    "#check dimensions \n",
    "print(x_train.shape)"
   ]
  },
  {
   "cell_type": "code",
   "execution_count": 4,
   "metadata": {
    "collapsed": true
   },
   "outputs": [
    {
     "name": "stdout",
     "output_type": "stream",
     "text": [
      "(3, 1)\n"
     ]
    }
   ],
   "source": [
    "#observed responses\n",
    "y_train = np.array([2, 2, 4])\n",
    "y_train = y_train.reshape(len(y_train),1)\n",
    "print(y_train.shape)"
   ]
  },
  {
   "cell_type": "code",
   "execution_count": 5,
   "metadata": {
    "collapsed": true
   },
   "outputs": [
    {
     "name": "stdout",
     "output_type": "stream",
     "text": [
      "[[1. 1.]\n",
      " [1. 2.]\n",
      " [1. 3.]] (3, 2)\n"
     ]
    }
   ],
   "source": [
    "#build matrix X by concatenating predictors and a column of ones\n",
    "n = x_train.shape[0]\n",
    "ones_col = np.ones((n, 1))\n",
    "X = np.concatenate((ones_col, x_train), axis=1)\n",
    "#check X and dimensions\n",
    "print(X, X.shape)"
   ]
  },
  {
   "cell_type": "code",
   "execution_count": 6,
   "metadata": {
    "collapsed": true
   },
   "outputs": [],
   "source": [
    "#matrix X^T X\n",
    "LHS = np.dot(np.transpose(X), X)\n",
    "\n",
    "#matrix X^T Y\n",
    "RHS = np.dot(np.transpose(X), y_train)"
   ]
  },
  {
   "cell_type": "code",
   "execution_count": 7,
   "metadata": {
    "collapsed": true
   },
   "outputs": [],
   "source": [
    "#solution beta to normal equations, since LHS is invertible by toy construction\n",
    "betas = np.dot(np.linalg.inv(LHS), RHS)"
   ]
  },
  {
   "cell_type": "code",
   "execution_count": 8,
   "metadata": {
    "collapsed": true
   },
   "outputs": [
    {
     "name": "stdout",
     "output_type": "stream",
     "text": [
      "[0.66666667] [1.]\n"
     ]
    }
   ],
   "source": [
    "#intercept beta0\n",
    "beta0 = betas[0]\n",
    "\n",
    "#slope beta1\n",
    "beta1 = betas[1]\n",
    "\n",
    "print(beta0, beta1)"
   ]
  },
  {
   "cell_type": "markdown",
   "metadata": {},
   "source": [
    "> **EXERCISE:** Turn the code from the above cells into a function, called `simple_linear_regression_fit`, that inputs the training data and returns `beta0` and `beta1`.\n",
    "\n",
    "> To do this, copy and paste the code from the above cells below and adjust the code as needed, so that the training data becomes the input and the betas become the output.\n",
    "\n",
    "> Check your function by calling it with the training data from above and printing out the beta values."
   ]
  },
  {
   "cell_type": "code",
   "execution_count": 9,
   "metadata": {},
   "outputs": [],
   "source": [
    "%load_ext pycodestyle_magic"
   ]
  },
  {
   "cell_type": "code",
   "execution_count": 10,
   "metadata": {
    "collapsed": true
   },
   "outputs": [
    {
     "data": {
      "text/plain": [
       "array([[0.66666667],\n",
       "       [1.        ]])"
      ]
     },
     "execution_count": 10,
     "metadata": {},
     "output_type": "execute_result"
    }
   ],
   "source": [
    "def simple_linear_regression_fit(x_train, y_train):\n",
    "    X = np.concatenate((np.ones(3).reshape(len(x_train), 1), x_train), axis=1)\n",
    "    Y = y_train\n",
    "    norm_X = np.dot(np.transpose(X), X)\n",
    "    XT_times_Y = np.dot(np.transpose(X), Y)\n",
    "    beta = np.dot(np.linalg.inv(norm_X), XT_times_Y)\n",
    "    return beta\n",
    "\n",
    "\n",
    "betas = simple_linear_regression_fit(x_train, y_train)\n",
    "betas"
   ]
  },
  {
   "cell_type": "markdown",
   "metadata": {},
   "source": [
    "> **EXERCISE:** Plot the training data.  Do the values of `beta0` and `beta1` seem reasonable?\n",
    "\n",
    ">Now write a lambda function `f` for the best fit line with `beta0` and `beta1`, and plot the best fit line together with the training data."
   ]
  },
  {
   "cell_type": "code",
   "execution_count": 11,
   "metadata": {
    "collapsed": true
   },
   "outputs": [
    {
     "data": {
      "image/png": "[encoded data removed]",
      "text/plain": [
       "<Figure size 432x288 with 1 Axes>"
      ]
     },
     "metadata": {},
     "output_type": "display_data"
    }
   ],
   "source": [
    "f = lambda x: betas[0] + betas[1] * x\n",
    "\n",
    "fig = plt.figure()\n",
    "ax = plt.axes()\n",
    "x = np.linspace(1, 3, 3)\n",
    "ax.plot(x, f(x), label='Regression line');\n",
    "sns.regplot(x=x_train, y=y_train, fit_reg=False, ax=ax, label='data points')\n",
    "ax.set(xlabel='x', ylabel='y', title='x versus y')\n",
    "ax.set_xticks(ticks=range(0, 4))\n",
    "ax.set_yticks(ticks=range(0, 5))\n",
    "ax.legend()\n",
    "sns.despine()"
   ]
  },
  {
   "cell_type": "markdown",
   "metadata": {},
   "source": [
    "### Building a model with statsmodel and sklearn [10 minutes]\n",
    "\n",
    "Now that we can concretely fit the training data from scratch, let's learn two Python packages to do it all for us: [statsmodels](http://www.statsmodels.org/stable/regression.html) and [scikit-learn (sklearn)](http://scikit-learn.org/stable/modules/generated/sklearn.linear_model.LinearRegression.html).  Our goal  is to show how to implement simple linear regression with these packages.  For an important sanity check, we compare the $\\beta$ values from statsmodel and sklearn to the $\\beta$ values that we found from above from scratch.\n",
    "\n",
    "For the purposes of this lab, statsmodels and sklearn do the same thing.  More generally though, statsmodels tends to be easier for inference, whereas sklearn has machine-learning algorithms and is better for prediction.  "
   ]
  },
  {
   "cell_type": "markdown",
   "metadata": {},
   "source": [
    "Below is the code for statsmodels.  Statsmodels does not by default include the column of ones in the $X$ matrix, so we include it with `sm.add_constant`."
   ]
  },
  {
   "cell_type": "code",
   "execution_count": 12,
   "metadata": {
    "collapsed": true
   },
   "outputs": [
    {
     "name": "stdout",
     "output_type": "stream",
     "text": [
      "[[1. 1.]\n",
      " [1. 2.]\n",
      " [1. 3.]]\n",
      "(beta0, beta1) = (0.666667, 1.000000)\n"
     ]
    }
   ],
   "source": [
    "#create the X matrix by appending a column of ones to x_train\n",
    "X = sm.add_constant(x_train)\n",
    "#this is the same matrix as in our scratch problem!\n",
    "print(X)\n",
    "#build the OLS model (ordinary least squares) from the training data\n",
    "toyregr_sm = sm.OLS(y_train, X)\n",
    "#save regression info (parameters, etc) in results_sm\n",
    "results_sm = toyregr_sm.fit()\n",
    "#pull the beta parameters out from results_sm\n",
    "beta0_sm = results_sm.params[0]\n",
    "beta1_sm = results_sm.params[1]\n",
    "\n",
    "print(\"(beta0, beta1) = (%f, %f)\" %(beta0_sm, beta1_sm))"
   ]
  },
  {
   "cell_type": "markdown",
   "metadata": {},
   "source": [
    "Besides the beta parameters, `results_sm` contains a ton of other potentially useful information.  Type `results_sm` and hit tab to see."
   ]
  },
  {
   "cell_type": "markdown",
   "metadata": {},
   "source": [
    "Below is the code for sklearn."
   ]
  },
  {
   "cell_type": "code",
   "execution_count": 13,
   "metadata": {
    "collapsed": true
   },
   "outputs": [
    {
     "name": "stdout",
     "output_type": "stream",
     "text": [
      "(beta0, beta1) = (0.666667, 1.000000)\n"
     ]
    }
   ],
   "source": [
    "#build the least squares model\n",
    "toyregr_skl = linear_model.LinearRegression()\n",
    "#save regression info (parameters, etc) in results_skl\n",
    "results_skl = toyregr_skl.fit(x_train,y_train)\n",
    "#pull the beta parameters out from results_skl\n",
    "beta0_skl = toyregr_skl.intercept_\n",
    "beta1_skl = toyregr_skl.coef_[0]\n",
    "\n",
    "print(\"(beta0, beta1) = (%f, %f)\" %(beta0_skl, beta1_skl))"
   ]
  },
  {
   "cell_type": "markdown",
   "metadata": {},
   "source": [
    "We should feel pretty good about ourselves now, and we're ready to move on to a real problem!"
   ]
  },
  {
   "cell_type": "markdown",
   "metadata": {},
   "source": [
    "## Part 2: Simple linear regression with automobile data [30 minutes]\n",
    "We will now use sklearn to to predict automobile milesage per gallon (mpg) and evaluate these predictions. We first load the data and split them into a training set and a testing set."
   ]
  },
  {
   "cell_type": "code",
   "execution_count": 14,
   "metadata": {
    "collapsed": true
   },
   "outputs": [
    {
     "data": {
      "text/html": [
       "<div>\n",
       "<style scoped>\n",
       "    .dataframe tbody tr th:only-of-type {\n",
       "        vertical-align: middle;\n",
       "    }\n",
       "\n",
       "    .dataframe tbody tr th {\n",
       "        vertical-align: top;\n",
       "    }\n",
       "\n",
       "    .dataframe thead th {\n",
       "        text-align: right;\n",
       "    }\n",
       "</style>\n",
       "<table border=\"1\" class=\"dataframe\">\n",
       "  <thead>\n",
       "    <tr style=\"text-align: right;\">\n",
       "      <th></th>\n",
       "      <th>name</th>\n",
       "      <th>mpg</th>\n",
       "      <th>cyl</th>\n",
       "      <th>disp</th>\n",
       "      <th>hp</th>\n",
       "      <th>drat</th>\n",
       "      <th>wt</th>\n",
       "      <th>qsec</th>\n",
       "      <th>vs</th>\n",
       "      <th>am</th>\n",
       "      <th>gear</th>\n",
       "      <th>carb</th>\n",
       "    </tr>\n",
       "  </thead>\n",
       "  <tbody>\n",
       "    <tr>\n",
       "      <th>0</th>\n",
       "      <td>Mazda RX4</td>\n",
       "      <td>21.0</td>\n",
       "      <td>6</td>\n",
       "      <td>160.0</td>\n",
       "      <td>110</td>\n",
       "      <td>3.90</td>\n",
       "      <td>2.620</td>\n",
       "      <td>16.46</td>\n",
       "      <td>0</td>\n",
       "      <td>1</td>\n",
       "      <td>4</td>\n",
       "      <td>4</td>\n",
       "    </tr>\n",
       "    <tr>\n",
       "      <th>1</th>\n",
       "      <td>Mazda RX4 Wag</td>\n",
       "      <td>21.0</td>\n",
       "      <td>6</td>\n",
       "      <td>160.0</td>\n",
       "      <td>110</td>\n",
       "      <td>3.90</td>\n",
       "      <td>2.875</td>\n",
       "      <td>17.02</td>\n",
       "      <td>0</td>\n",
       "      <td>1</td>\n",
       "      <td>4</td>\n",
       "      <td>4</td>\n",
       "    </tr>\n",
       "    <tr>\n",
       "      <th>2</th>\n",
       "      <td>Datsun 710</td>\n",
       "      <td>22.8</td>\n",
       "      <td>4</td>\n",
       "      <td>108.0</td>\n",
       "      <td>93</td>\n",
       "      <td>3.85</td>\n",
       "      <td>2.320</td>\n",
       "      <td>18.61</td>\n",
       "      <td>1</td>\n",
       "      <td>1</td>\n",
       "      <td>4</td>\n",
       "      <td>1</td>\n",
       "    </tr>\n",
       "    <tr>\n",
       "      <th>3</th>\n",
       "      <td>Hornet 4 Drive</td>\n",
       "      <td>21.4</td>\n",
       "      <td>6</td>\n",
       "      <td>258.0</td>\n",
       "      <td>110</td>\n",
       "      <td>3.08</td>\n",
       "      <td>3.215</td>\n",
       "      <td>19.44</td>\n",
       "      <td>1</td>\n",
       "      <td>0</td>\n",
       "      <td>3</td>\n",
       "      <td>1</td>\n",
       "    </tr>\n",
       "    <tr>\n",
       "      <th>4</th>\n",
       "      <td>Hornet Sportabout</td>\n",
       "      <td>18.7</td>\n",
       "      <td>8</td>\n",
       "      <td>360.0</td>\n",
       "      <td>175</td>\n",
       "      <td>3.15</td>\n",
       "      <td>3.440</td>\n",
       "      <td>17.02</td>\n",
       "      <td>0</td>\n",
       "      <td>0</td>\n",
       "      <td>3</td>\n",
       "      <td>2</td>\n",
       "    </tr>\n",
       "  </tbody>\n",
       "</table>\n",
       "</div>"
      ],
      "text/plain": [
       "                name   mpg  cyl   disp   hp  drat     wt   qsec  vs  am  gear  \\\n",
       "0          Mazda RX4  21.0    6  160.0  110  3.90  2.620  16.46   0   1     4   \n",
       "1      Mazda RX4 Wag  21.0    6  160.0  110  3.90  2.875  17.02   0   1     4   \n",
       "2         Datsun 710  22.8    4  108.0   93  3.85  2.320  18.61   1   1     4   \n",
       "3     Hornet 4 Drive  21.4    6  258.0  110  3.08  3.215  19.44   1   0     3   \n",
       "4  Hornet Sportabout  18.7    8  360.0  175  3.15  3.440  17.02   0   0     3   \n",
       "\n",
       "   carb  \n",
       "0     4  \n",
       "1     4  \n",
       "2     1  \n",
       "3     1  \n",
       "4     2  "
      ]
     },
     "execution_count": 14,
     "metadata": {},
     "output_type": "execute_result"
    }
   ],
   "source": [
    "#load mtcars\n",
    "dfcars=pd.read_csv(\"data/mtcars.csv\")\n",
    "dfcars=dfcars.rename(columns={\"Unnamed: 0\":\"name\"})\n",
    "dfcars.head()"
   ]
  },
  {
   "cell_type": "code",
   "execution_count": 15,
   "metadata": {
    "collapsed": true
   },
   "outputs": [],
   "source": [
    "#split into training set and testing set\n",
    "from sklearn.model_selection import train_test_split\n",
    "#set random_state to get the same split every time\n",
    "traindf, testdf = train_test_split(dfcars, test_size=0.3, random_state=6)"
   ]
  },
  {
   "cell_type": "code",
   "execution_count": 16,
   "metadata": {
    "collapsed": true
   },
   "outputs": [
    {
     "data": {
      "text/plain": [
       "((32, 12), (22, 12), (10, 12))"
      ]
     },
     "execution_count": 16,
     "metadata": {},
     "output_type": "execute_result"
    }
   ],
   "source": [
    "#testing set is ~30% of the total data; training set is ~70%\n",
    "dfcars.shape, traindf.shape, testdf.shape"
   ]
  },
  {
   "cell_type": "markdown",
   "metadata": {},
   "source": [
    "We need to choose the variables that we think will be good predictors for the dependent variable `mpg`. \n",
    "\n",
    ">**EXERCISE:**  Pick one variable to use as a predictor for simple linear regression.  Create a markdown cell below and discuss your reasons.  You may want to justify this with some visualizations.  Is there a second variable you'd like to use as well, say for multiple linear regression with two predictors?"
   ]
  },
  {
   "cell_type": "code",
   "execution_count": 17,
   "metadata": {
    "collapsed": true
   },
   "outputs": [
    {
     "data": {
      "image/png": "[encoded data removed]",
      "text/plain": [
       "<Figure size 1080x180 with 6 Axes>"
      ]
     },
     "metadata": {},
     "output_type": "display_data"
    }
   ],
   "source": [
    "traindf.dtypes\n",
    "sns.pairplot(traindf, y_vars=['mpg'],\n",
    "             x_vars=['mpg', 'disp', 'hp', 'drat', 'wt', 'qsec']);"
   ]
  },
  {
   "cell_type": "markdown",
   "metadata": {},
   "source": [
    "Looking at the plots above and also from the knowledge I have of cars, I think the predictors to use should be weight (wt) and gross horsepower (hp). Typically lighter cars and cars with lower horsepower, tend to be more fuel efficient, i.e. have a higher miles per gallon (mpg). "
   ]
  },
  {
   "cell_type": "markdown",
   "metadata": {},
   "source": [
    "> **EXERCISE:** With either sklearn or statsmodels, fit the training data using simple linear regression.  Use the model to make mpg predictions on testing set.  \n",
    "\n",
    "> Plot the data and the prediction.  \n",
    "\n",
    ">Print out the mean squared error for the training set and the testing set and compare."
   ]
  },
  {
   "cell_type": "code",
   "execution_count": 18,
   "metadata": {
    "collapsed": true
   },
   "outputs": [],
   "source": [
    "#define  predictor and response for training set\n",
    "train_shape = (traindf.shape[0], 1)\n",
    "x_train = traindf.wt.values\n",
    "X_train = np.concatenate((\n",
    "    np.ones(train_shape[0]).reshape(train_shape[0], train_shape[1]),\n",
    "    x_train.reshape(train_shape[0], train_shape[1])), axis=1)\n",
    "y_train = traindf.mpg.values\n",
    "\n",
    "# define predictor and response for testing set\n",
    "test_shape = (testdf.shape[0], 1)\n",
    "x_test = testdf.wt.values\n",
    "X_test = np.concatenate((\n",
    "    np.ones(test_shape[0]).reshape(test_shape[0], test_shape[1]),\n",
    "    x_test.reshape(test_shape[0], test_shape[1])), axis=1)\n",
    "y_test = testdf.mpg.values"
   ]
  },
  {
   "cell_type": "code",
   "execution_count": 19,
   "metadata": {
    "collapsed": true
   },
   "outputs": [
    {
     "name": "stdout",
     "output_type": "stream",
     "text": [
      "(beta0, beta1) = (37.777858413135085, -5.252574103908986)\n",
      "(mse_train, mse_test) = (7.3085041145381355, 13.767533827645996)\n"
     ]
    }
   ],
   "source": [
    "# create linear regression object with sklearn\n",
    "reg_mpg = linear_model.LinearRegression()\n",
    "\n",
    "# train the model and make predictions\n",
    "fit_reg_mpg = reg_mpg.fit(X=X_train, y=y_train)\n",
    "test_reg_mpg = reg_mpg.predict(X_test)\n",
    "\n",
    "#print out coefficients\n",
    "betas = [fit_reg_mpg.intercept_, fit_reg_mpg.coef_[1]]\n",
    "print('(beta0,', 'beta1) = ({0}, {1})'.format(betas[0], betas[1]))\n",
    "\n",
    "#print out mean squared error\n",
    "mse_train = metrics.mean_squared_error(y_train, \n",
    "                                       reg_mpg.predict(X_train))\n",
    "mse_test = metrics.mean_squared_error(y_test, test_reg_mpg)\n",
    "print('(mse_train,', 'mse_test) = ({0}, {1})'.format(\n",
    "    mse_train, mse_test))"
   ]
  },
  {
   "cell_type": "code",
   "execution_count": 20,
   "metadata": {
    "collapsed": true
   },
   "outputs": [
    {
     "data": {
      "image/png": "[encoded data removed]",
      "text/plain": [
       "<Figure size 432x288 with 1 Axes>"
      ]
     },
     "metadata": {},
     "output_type": "display_data"
    }
   ],
   "source": [
    "# Plot outputs\n",
    "sns.regplot(x=traindf.wt.values, y=traindf.mpg.values,\n",
    "            fit_reg=False, label=' training data')\n",
    "ax = sns.regplot(x=testdf.wt.values, y=testdf.mpg.values,\n",
    "                 fit_reg=False, label=' test data')\n",
    "\n",
    "x = np.linspace(x_train.min(), x_train.max(), 10)\n",
    "ax.plot(x, f(x),  label='regression line')\n",
    "ax.set(xlabel='weight (1000 lbs)', ylabel='mpg', \n",
    "       title='Car weight vs mpg')\n",
    "ax.set_xticks(ticks=range(0, 7, 1))\n",
    "ax.set_yticks(ticks=range(0, 40, 5))\n",
    "ax.legend()\n",
    "sns.despine()"
   ]
  },
  {
   "cell_type": "markdown",
   "metadata": {},
   "source": [
    "# Part 3: Multiple linear regression with automobile data [15 minutes]"
   ]
  },
  {
   "cell_type": "markdown",
   "metadata": {},
   "source": [
    "> **EXERCISE:** With either sklearn or statsmodels, fit the training data using multiple linear regression with two predictors.  Use the model to make mpg predictions on testing set.  Print out the mean squared error for the training set and the testing set and compare.  \n",
    "\n",
    ">How do these training and testing mean squared errors compare to those from the simple linear regression?\n",
    "\n",
    ">Time permitting, repeat the training and testing with three predictors and calculate the mean squared errors.  How do these compare to the errors from the one and two predictor models?"
   ]
  },
  {
   "cell_type": "code",
   "execution_count": 21,
   "metadata": {
    "collapsed": true
   },
   "outputs": [
    {
     "name": "stdout",
     "output_type": "stream",
     "text": [
      "(beta0, beta1, beta2) = (37.65626136757238, -3.8858540380102027, -0.03259233996138286)\n",
      "(mse_train, mse_test) = (6.869722562770153, 4.659417453819115)\n"
     ]
    }
   ],
   "source": [
    "#define  predictor and response for training set\n",
    "X_train_2 = np.concatenate((X_train, traindf.hp.values.reshape(\n",
    "    train_shape[0], train_shape[1])), axis=1)\n",
    "\n",
    "# define predictor and response for testing set\n",
    "X_test_2 = np.concatenate((X_test, testdf.hp.values.reshape(\n",
    "    test_shape[0], test_shape[1])), axis=1)\n",
    "\n",
    "# create linear regression object with statsmodels\n",
    "reg_mpg = sm.OLS(y_train, X_train_2)\n",
    "\n",
    "# train the model and make predictions\n",
    "fit_reg_mpg = reg_mpg.fit()\n",
    "#print(X_test_2.shape)\n",
    "test_reg_mpg = fit_reg_mpg.predict(X_test_2)\n",
    "\n",
    "#print out coefficients\n",
    "betas = [\n",
    "    fit_reg_mpg.params[0], fit_reg_mpg.params[1], fit_reg_mpg.params[2]\n",
    "]\n",
    "print('(beta0,', 'beta1, beta2) = ({0}, {1}, {2})'.format(\n",
    "    betas[0], betas[1], betas[2]))\n",
    "\n",
    "#print out mean squared error\n",
    "mse_train = np.mean((y_train - fit_reg_mpg.predict(X_train_2))**2)\n",
    "mse_test = np.mean((y_test - test_reg_mpg)**2)\n",
    "print('(mse_train,', 'mse_test) = ({0}, {1})'.format(mse_train, mse_test))"
   ]
  },
  {
   "cell_type": "markdown",
   "metadata": {},
   "source": [
    "We can see that both the training and testing mean squared errors for the linear regression with two predictors is lower than for the linear regression with one predictor. However, withe the two predictors model we can see that the training mean squared error is larger than the testing mean squared error. "
   ]
  },
  {
   "cell_type": "markdown",
   "metadata": {},
   "source": [
    "## Part 4: Interpreting results [5 minutes / remaining time]\n",
    "Tell a story with your results.  "
   ]
  },
  {
   "cell_type": "markdown",
   "metadata": {},
   "source": [
    "From the results above we can see that the weight (wt) of a car and it's horsepower (hp) can be used as predictors for its fuel efficiency as measured by miles per gallon (mpg)."
   ]
  }
 ],
 "metadata": {
  "anaconda-cloud": {},
  "kernelspec": {
   "display_name": "Python 3",
   "language": "python",
   "name": "python3"
  },
  "language_info": {
   "codemirror_mode": {
    "name": "ipython",
    "version": 3
   },
   "file_extension": ".py",
   "mimetype": "text/x-python",
   "name": "python",
   "nbconvert_exporter": "python",
   "pygments_lexer": "ipython3",
   "version": "3.6.5"
  }
 },
 "nbformat": 4,
 "nbformat_minor": 2
}
