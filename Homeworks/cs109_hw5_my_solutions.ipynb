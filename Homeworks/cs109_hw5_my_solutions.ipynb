{
 "cells": [
  {
   "cell_type": "markdown",
   "metadata": {},
   "source": [
    "# CS 109A/STAT 121A/AC 209A/CSCI E-109A: Homework 5\n",
    "# Logistic Regression and PCA \n",
    "\n",
    "**Harvard University**<br/>\n",
    "**Fall 2017**<br/>\n",
    "**Instructors**: Pavlos Protopapas, Kevin Rader, Rahul Dave, Margo Levine\n",
    "\n",
    "---\n",
    "\n",
    "### INSTRUCTIONS\n",
    "\n",
    "- To submit your assignment follow the instructions given in canvas.\n",
    "- Restart the kernel and run the whole notebook again before you submit. \n",
    "- Do not include your name(s) in the notebook if you are submitting as a group. \n",
    "- If you submit individually and you have worked with someone, please include the name of your [one] partner below. \n",
    "\n",
    "---"
   ]
  },
  {
   "cell_type": "markdown",
   "metadata": {},
   "source": [
    "Your partner's name (if you submit separately):\n",
    "\n",
    "Enrollment Status (109A, 121A, 209A, or E109A):"
   ]
  },
  {
   "cell_type": "markdown",
   "metadata": {},
   "source": [
    "Import libraries:"
   ]
  },
  {
   "cell_type": "code",
   "execution_count": 1,
   "metadata": {},
   "outputs": [],
   "source": [
    "import numpy as np\n",
    "import pandas as pd\n",
    "import matplotlib\n",
    "import matplotlib.pyplot as plt\n",
    "import seaborn as sns\n",
    "import statsmodels.api as sm\n",
    "from statsmodels.api import OLS\n",
    "from sklearn.decomposition import PCA\n",
    "from sklearn.linear_model import LinearRegression\n",
    "from sklearn.linear_model import LogisticRegression\n",
    "from sklearn.linear_model import LogisticRegressionCV\n",
    "from sklearn.utils import resample\n",
    "from sklearn.model_selection import cross_val_score\n",
    "from sklearn.metrics import accuracy_score\n",
    "from sklearn.preprocessing import MinMaxScaler\n",
    "%matplotlib inline"
   ]
  },
  {
   "cell_type": "markdown",
   "metadata": {},
   "source": [
    "## Cancer Classification from Gene Expressions\n",
    "\n",
    "In this homework assignment, we will build a classification model to distinguish between two related classes of cancer, acute lymphoblastic leukemia (ALL) and acute myeloid leukemia (AML), using gene expression measurements. The data set is provided in the file `dataset_hw5.csv`. Each row in this file corresponds to a tumor tissue sample from a patient with one of the two forms of Leukemia. The first column contains the cancer type, with 0 indicating the ALL class and 1 indicating the AML class. Columns 2-7130 contain expression levels of 7129 genes recorded from each tissue sample. \n",
    "\n",
    "In the following parts, we will use logistic regression to build a classification model for this data set. We will also use principal components analysis (PCA) to visualize the data and to reduce its dimensions. \n",
    "\n"
   ]
  },
  {
   "cell_type": "markdown",
   "metadata": {},
   "source": [
    "## Part (a): Data Exploration\n",
    "\n",
    "1. First step is to  split  the observations into an approximate 50-50 train-test split.  Below is some code to do this for you (we want to make sure everyone has the same splits).\n",
    "\n",
    "2. Take a peak at your training set: you should notice the severe differences in the measurements from one gene to the next (some are negative, some hover around zero, and some are well into the thousands).  To account for these differences in scale and variability, normalize each predictor to vary between 0 and 1.\n",
    "\n",
    "3. Notice that the results training set contains more predictors than observations. Do you foresee a problem in fitting a classification model to such a data set?\n",
    "\n",
    "4. A convenient tool to visualize the gene expression data is a heat map. Arrange the rows of the training set so that the 'AML' rows are grouped together and the 'ALL' rows are together. Generate a heat map of the data with expression values from the following genes: \n",
    "`D49818_at`, `M23161_at`, `hum_alu_at`, `AFFX-PheX-5_at`, `M15990_at`. By observing the heat map, comment on which of these genes are useful in discriminating between the two classes.\n",
    "\n",
    "5. We can also visualize this data set in two dimensions using PCA. Find the top two principal components for the gene expression data. Generate a scatter plot using these principal components, highlighting the AML and ALL points in different colors. How well do the top two principal components discriminate between the two classes?\n",
    "\n"
   ]
  },
  {
   "cell_type": "code",
   "execution_count": 2,
   "metadata": {},
   "outputs": [],
   "source": [
    "np.random.seed(9001)\n",
    "df = pd.read_csv('../hwassets/data/dataset_hw5.csv')\n",
    "msk = np.random.rand(len(df)) < 0.5\n",
    "data_train = df[msk]\n",
    "data_test = df[~msk]"
   ]
  },
  {
   "cell_type": "markdown",
   "metadata": {},
   "source": [
    "Let's take a peak at the training set."
   ]
  },
  {
   "cell_type": "code",
   "execution_count": 3,
   "metadata": {},
   "outputs": [
    {
     "data": {
      "text/html": [
       "<div>\n",
       "<style scoped>\n",
       "    .dataframe tbody tr th:only-of-type {\n",
       "        vertical-align: middle;\n",
       "    }\n",
       "\n",
       "    .dataframe tbody tr th {\n",
       "        vertical-align: top;\n",
       "    }\n",
       "\n",
       "    .dataframe thead th {\n",
       "        text-align: right;\n",
       "    }\n",
       "</style>\n",
       "<table border=\"1\" class=\"dataframe\">\n",
       "  <thead>\n",
       "    <tr style=\"text-align: right;\">\n",
       "      <th></th>\n",
       "      <th>Cancer_type</th>\n",
       "      <th>AFFX-BioB-5_at</th>\n",
       "      <th>AFFX-BioB-M_at</th>\n",
       "      <th>AFFX-BioB-3_at</th>\n",
       "      <th>AFFX-BioC-5_at</th>\n",
       "      <th>AFFX-BioC-3_at</th>\n",
       "      <th>AFFX-BioDn-5_at</th>\n",
       "      <th>AFFX-BioDn-3_at</th>\n",
       "      <th>AFFX-CreX-5_at</th>\n",
       "      <th>AFFX-CreX-3_at</th>\n",
       "      <th>...</th>\n",
       "      <th>U48730_at</th>\n",
       "      <th>U58516_at</th>\n",
       "      <th>U73738_at</th>\n",
       "      <th>X06956_at</th>\n",
       "      <th>X16699_at</th>\n",
       "      <th>X83863_at</th>\n",
       "      <th>Z17240_at</th>\n",
       "      <th>L49218_f_at</th>\n",
       "      <th>M71243_f_at</th>\n",
       "      <th>Z78285_f_at</th>\n",
       "    </tr>\n",
       "  </thead>\n",
       "  <tbody>\n",
       "    <tr>\n",
       "      <th>count</th>\n",
       "      <td>32.000000</td>\n",
       "      <td>32.000000</td>\n",
       "      <td>32.000000</td>\n",
       "      <td>32.000000</td>\n",
       "      <td>32.000000</td>\n",
       "      <td>32.000000</td>\n",
       "      <td>32.000000</td>\n",
       "      <td>32.000000</td>\n",
       "      <td>32.000000</td>\n",
       "      <td>32.000000</td>\n",
       "      <td>...</td>\n",
       "      <td>32.000000</td>\n",
       "      <td>32.00000</td>\n",
       "      <td>32.00000</td>\n",
       "      <td>32.000000</td>\n",
       "      <td>32.000000</td>\n",
       "      <td>32.000000</td>\n",
       "      <td>32.000000</td>\n",
       "      <td>32.00000</td>\n",
       "      <td>32.000000</td>\n",
       "      <td>32.00000</td>\n",
       "    </tr>\n",
       "    <tr>\n",
       "      <th>mean</th>\n",
       "      <td>0.375000</td>\n",
       "      <td>-125.281250</td>\n",
       "      <td>-165.250000</td>\n",
       "      <td>5.000000</td>\n",
       "      <td>175.375000</td>\n",
       "      <td>-262.625000</td>\n",
       "      <td>-401.500000</td>\n",
       "      <td>-72.125000</td>\n",
       "      <td>-202.125000</td>\n",
       "      <td>85.843750</td>\n",
       "      <td>...</td>\n",
       "      <td>151.468750</td>\n",
       "      <td>626.28125</td>\n",
       "      <td>-23.31250</td>\n",
       "      <td>311.468750</td>\n",
       "      <td>-47.906250</td>\n",
       "      <td>741.875000</td>\n",
       "      <td>303.875000</td>\n",
       "      <td>0.96875</td>\n",
       "      <td>454.531250</td>\n",
       "      <td>-39.43750</td>\n",
       "    </tr>\n",
       "    <tr>\n",
       "      <th>std</th>\n",
       "      <td>0.491869</td>\n",
       "      <td>113.857646</td>\n",
       "      <td>74.106288</td>\n",
       "      <td>143.113084</td>\n",
       "      <td>104.963204</td>\n",
       "      <td>133.640526</td>\n",
       "      <td>155.560796</td>\n",
       "      <td>316.414872</td>\n",
       "      <td>91.076979</td>\n",
       "      <td>101.131696</td>\n",
       "      <td>...</td>\n",
       "      <td>72.956896</td>\n",
       "      <td>327.35866</td>\n",
       "      <td>93.16563</td>\n",
       "      <td>197.598809</td>\n",
       "      <td>57.788468</td>\n",
       "      <td>438.251493</td>\n",
       "      <td>259.216406</td>\n",
       "      <td>55.53057</td>\n",
       "      <td>581.862858</td>\n",
       "      <td>48.78388</td>\n",
       "    </tr>\n",
       "    <tr>\n",
       "      <th>min</th>\n",
       "      <td>0.000000</td>\n",
       "      <td>-476.000000</td>\n",
       "      <td>-326.000000</td>\n",
       "      <td>-410.000000</td>\n",
       "      <td>-24.000000</td>\n",
       "      <td>-535.000000</td>\n",
       "      <td>-810.000000</td>\n",
       "      <td>-726.000000</td>\n",
       "      <td>-452.000000</td>\n",
       "      <td>-148.000000</td>\n",
       "      <td>...</td>\n",
       "      <td>36.000000</td>\n",
       "      <td>91.00000</td>\n",
       "      <td>-295.00000</td>\n",
       "      <td>13.000000</td>\n",
       "      <td>-220.000000</td>\n",
       "      <td>67.000000</td>\n",
       "      <td>-42.000000</td>\n",
       "      <td>-207.00000</td>\n",
       "      <td>-33.000000</td>\n",
       "      <td>-190.00000</td>\n",
       "    </tr>\n",
       "    <tr>\n",
       "      <th>25%</th>\n",
       "      <td>0.000000</td>\n",
       "      <td>-178.750000</td>\n",
       "      <td>-214.000000</td>\n",
       "      <td>-77.250000</td>\n",
       "      <td>93.250000</td>\n",
       "      <td>-367.750000</td>\n",
       "      <td>-496.750000</td>\n",
       "      <td>-307.500000</td>\n",
       "      <td>-256.000000</td>\n",
       "      <td>4.000000</td>\n",
       "      <td>...</td>\n",
       "      <td>92.750000</td>\n",
       "      <td>399.50000</td>\n",
       "      <td>-78.00000</td>\n",
       "      <td>212.750000</td>\n",
       "      <td>-75.000000</td>\n",
       "      <td>436.500000</td>\n",
       "      <td>98.750000</td>\n",
       "      <td>-23.00000</td>\n",
       "      <td>164.250000</td>\n",
       "      <td>-67.75000</td>\n",
       "    </tr>\n",
       "    <tr>\n",
       "      <th>50%</th>\n",
       "      <td>0.000000</td>\n",
       "      <td>-115.000000</td>\n",
       "      <td>-162.500000</td>\n",
       "      <td>7.000000</td>\n",
       "      <td>173.000000</td>\n",
       "      <td>-259.000000</td>\n",
       "      <td>-398.000000</td>\n",
       "      <td>-77.000000</td>\n",
       "      <td>-186.500000</td>\n",
       "      <td>92.500000</td>\n",
       "      <td>...</td>\n",
       "      <td>151.500000</td>\n",
       "      <td>583.00000</td>\n",
       "      <td>-2.50000</td>\n",
       "      <td>254.000000</td>\n",
       "      <td>-52.000000</td>\n",
       "      <td>659.500000</td>\n",
       "      <td>279.500000</td>\n",
       "      <td>6.50000</td>\n",
       "      <td>217.000000</td>\n",
       "      <td>-39.00000</td>\n",
       "    </tr>\n",
       "    <tr>\n",
       "      <th>75%</th>\n",
       "      <td>1.000000</td>\n",
       "      <td>-61.000000</td>\n",
       "      <td>-99.500000</td>\n",
       "      <td>67.000000</td>\n",
       "      <td>258.750000</td>\n",
       "      <td>-200.000000</td>\n",
       "      <td>-310.250000</td>\n",
       "      <td>93.250000</td>\n",
       "      <td>-139.000000</td>\n",
       "      <td>165.250000</td>\n",
       "      <td>...</td>\n",
       "      <td>197.500000</td>\n",
       "      <td>747.75000</td>\n",
       "      <td>47.00000</td>\n",
       "      <td>383.000000</td>\n",
       "      <td>-6.500000</td>\n",
       "      <td>1016.000000</td>\n",
       "      <td>396.000000</td>\n",
       "      <td>29.50000</td>\n",
       "      <td>527.000000</td>\n",
       "      <td>-3.50000</td>\n",
       "    </tr>\n",
       "    <tr>\n",
       "      <th>max</th>\n",
       "      <td>1.000000</td>\n",
       "      <td>86.000000</td>\n",
       "      <td>-36.000000</td>\n",
       "      <td>312.000000</td>\n",
       "      <td>328.000000</td>\n",
       "      <td>114.000000</td>\n",
       "      <td>-122.000000</td>\n",
       "      <td>709.000000</td>\n",
       "      <td>-24.000000</td>\n",
       "      <td>283.000000</td>\n",
       "      <td>...</td>\n",
       "      <td>341.000000</td>\n",
       "      <td>1455.00000</td>\n",
       "      <td>132.00000</td>\n",
       "      <td>1046.000000</td>\n",
       "      <td>50.000000</td>\n",
       "      <td>1950.000000</td>\n",
       "      <td>1108.000000</td>\n",
       "      <td>81.00000</td>\n",
       "      <td>2484.000000</td>\n",
       "      <td>78.00000</td>\n",
       "    </tr>\n",
       "  </tbody>\n",
       "</table>\n",
       "<p>8 rows × 7130 columns</p>\n",
       "</div>"
      ],
      "text/plain": [
       "       Cancer_type  AFFX-BioB-5_at  AFFX-BioB-M_at  AFFX-BioB-3_at  \\\n",
       "count    32.000000       32.000000       32.000000       32.000000   \n",
       "mean      0.375000     -125.281250     -165.250000        5.000000   \n",
       "std       0.491869      113.857646       74.106288      143.113084   \n",
       "min       0.000000     -476.000000     -326.000000     -410.000000   \n",
       "25%       0.000000     -178.750000     -214.000000      -77.250000   \n",
       "50%       0.000000     -115.000000     -162.500000        7.000000   \n",
       "75%       1.000000      -61.000000      -99.500000       67.000000   \n",
       "max       1.000000       86.000000      -36.000000      312.000000   \n",
       "\n",
       "       AFFX-BioC-5_at  AFFX-BioC-3_at  AFFX-BioDn-5_at  AFFX-BioDn-3_at  \\\n",
       "count       32.000000       32.000000        32.000000        32.000000   \n",
       "mean       175.375000     -262.625000      -401.500000       -72.125000   \n",
       "std        104.963204      133.640526       155.560796       316.414872   \n",
       "min        -24.000000     -535.000000      -810.000000      -726.000000   \n",
       "25%         93.250000     -367.750000      -496.750000      -307.500000   \n",
       "50%        173.000000     -259.000000      -398.000000       -77.000000   \n",
       "75%        258.750000     -200.000000      -310.250000        93.250000   \n",
       "max        328.000000      114.000000      -122.000000       709.000000   \n",
       "\n",
       "       AFFX-CreX-5_at  AFFX-CreX-3_at     ...        U48730_at   U58516_at  \\\n",
       "count       32.000000       32.000000     ...        32.000000    32.00000   \n",
       "mean      -202.125000       85.843750     ...       151.468750   626.28125   \n",
       "std         91.076979      101.131696     ...        72.956896   327.35866   \n",
       "min       -452.000000     -148.000000     ...        36.000000    91.00000   \n",
       "25%       -256.000000        4.000000     ...        92.750000   399.50000   \n",
       "50%       -186.500000       92.500000     ...       151.500000   583.00000   \n",
       "75%       -139.000000      165.250000     ...       197.500000   747.75000   \n",
       "max        -24.000000      283.000000     ...       341.000000  1455.00000   \n",
       "\n",
       "       U73738_at    X06956_at   X16699_at    X83863_at    Z17240_at  \\\n",
       "count   32.00000    32.000000   32.000000    32.000000    32.000000   \n",
       "mean   -23.31250   311.468750  -47.906250   741.875000   303.875000   \n",
       "std     93.16563   197.598809   57.788468   438.251493   259.216406   \n",
       "min   -295.00000    13.000000 -220.000000    67.000000   -42.000000   \n",
       "25%    -78.00000   212.750000  -75.000000   436.500000    98.750000   \n",
       "50%     -2.50000   254.000000  -52.000000   659.500000   279.500000   \n",
       "75%     47.00000   383.000000   -6.500000  1016.000000   396.000000   \n",
       "max    132.00000  1046.000000   50.000000  1950.000000  1108.000000   \n",
       "\n",
       "       L49218_f_at  M71243_f_at  Z78285_f_at  \n",
       "count     32.00000    32.000000     32.00000  \n",
       "mean       0.96875   454.531250    -39.43750  \n",
       "std       55.53057   581.862858     48.78388  \n",
       "min     -207.00000   -33.000000   -190.00000  \n",
       "25%      -23.00000   164.250000    -67.75000  \n",
       "50%        6.50000   217.000000    -39.00000  \n",
       "75%       29.50000   527.000000     -3.50000  \n",
       "max       81.00000  2484.000000     78.00000  \n",
       "\n",
       "[8 rows x 7130 columns]"
      ]
     },
     "execution_count": 3,
     "metadata": {},
     "output_type": "execute_result"
    }
   ],
   "source": [
    "data_train.describe()"
   ]
  },
  {
   "cell_type": "markdown",
   "metadata": {},
   "source": [
    "We notice the severe differences in the measurements from one gene to the next (some are negative, some hover around zero, and some are well into the thousands). To account for these differences in scale and variability, we normalize each predictor to vary between 0 and 1."
   ]
  },
  {
   "cell_type": "code",
   "execution_count": 4,
   "metadata": {},
   "outputs": [],
   "source": [
    "def scale_data(scaler, data):\n",
    "    data = pd.DataFrame(data=scaler.transform(data), columns=data.columns)\n",
    "    return data"
   ]
  },
  {
   "cell_type": "code",
   "execution_count": 5,
   "metadata": {},
   "outputs": [
    {
     "data": {
      "text/html": [
       "<div>\n",
       "<style scoped>\n",
       "    .dataframe tbody tr th:only-of-type {\n",
       "        vertical-align: middle;\n",
       "    }\n",
       "\n",
       "    .dataframe tbody tr th {\n",
       "        vertical-align: top;\n",
       "    }\n",
       "\n",
       "    .dataframe thead th {\n",
       "        text-align: right;\n",
       "    }\n",
       "</style>\n",
       "<table border=\"1\" class=\"dataframe\">\n",
       "  <thead>\n",
       "    <tr style=\"text-align: right;\">\n",
       "      <th></th>\n",
       "      <th>Cancer_type</th>\n",
       "      <th>AFFX-BioB-5_at</th>\n",
       "      <th>AFFX-BioB-M_at</th>\n",
       "      <th>AFFX-BioB-3_at</th>\n",
       "      <th>AFFX-BioC-5_at</th>\n",
       "      <th>AFFX-BioC-3_at</th>\n",
       "      <th>AFFX-BioDn-5_at</th>\n",
       "      <th>AFFX-BioDn-3_at</th>\n",
       "      <th>AFFX-CreX-5_at</th>\n",
       "      <th>AFFX-CreX-3_at</th>\n",
       "      <th>...</th>\n",
       "      <th>U48730_at</th>\n",
       "      <th>U58516_at</th>\n",
       "      <th>U73738_at</th>\n",
       "      <th>X06956_at</th>\n",
       "      <th>X16699_at</th>\n",
       "      <th>X83863_at</th>\n",
       "      <th>Z17240_at</th>\n",
       "      <th>L49218_f_at</th>\n",
       "      <th>M71243_f_at</th>\n",
       "      <th>Z78285_f_at</th>\n",
       "    </tr>\n",
       "  </thead>\n",
       "  <tbody>\n",
       "    <tr>\n",
       "      <th>count</th>\n",
       "      <td>32.000000</td>\n",
       "      <td>32.000000</td>\n",
       "      <td>32.000000</td>\n",
       "      <td>32.000000</td>\n",
       "      <td>32.000000</td>\n",
       "      <td>32.000000</td>\n",
       "      <td>32.000000</td>\n",
       "      <td>32.000000</td>\n",
       "      <td>32.000000</td>\n",
       "      <td>32.000000</td>\n",
       "      <td>...</td>\n",
       "      <td>32.000000</td>\n",
       "      <td>32.000000</td>\n",
       "      <td>32.000000</td>\n",
       "      <td>32.000000</td>\n",
       "      <td>32.000000</td>\n",
       "      <td>32.000000</td>\n",
       "      <td>32.000000</td>\n",
       "      <td>32.000000</td>\n",
       "      <td>32.000000</td>\n",
       "      <td>32.000000</td>\n",
       "    </tr>\n",
       "    <tr>\n",
       "      <th>mean</th>\n",
       "      <td>0.375000</td>\n",
       "      <td>0.624055</td>\n",
       "      <td>0.554310</td>\n",
       "      <td>0.574792</td>\n",
       "      <td>0.566406</td>\n",
       "      <td>0.419684</td>\n",
       "      <td>0.593750</td>\n",
       "      <td>0.455662</td>\n",
       "      <td>0.583820</td>\n",
       "      <td>0.542561</td>\n",
       "      <td>...</td>\n",
       "      <td>0.378586</td>\n",
       "      <td>0.392435</td>\n",
       "      <td>0.636270</td>\n",
       "      <td>0.288934</td>\n",
       "      <td>0.637384</td>\n",
       "      <td>0.358404</td>\n",
       "      <td>0.300761</td>\n",
       "      <td>0.722114</td>\n",
       "      <td>0.193695</td>\n",
       "      <td>0.561800</td>\n",
       "    </tr>\n",
       "    <tr>\n",
       "      <th>std</th>\n",
       "      <td>0.491869</td>\n",
       "      <td>0.202594</td>\n",
       "      <td>0.255539</td>\n",
       "      <td>0.198218</td>\n",
       "      <td>0.298191</td>\n",
       "      <td>0.205918</td>\n",
       "      <td>0.226106</td>\n",
       "      <td>0.220498</td>\n",
       "      <td>0.212797</td>\n",
       "      <td>0.234644</td>\n",
       "      <td>...</td>\n",
       "      <td>0.239203</td>\n",
       "      <td>0.239999</td>\n",
       "      <td>0.218186</td>\n",
       "      <td>0.191286</td>\n",
       "      <td>0.214031</td>\n",
       "      <td>0.232741</td>\n",
       "      <td>0.225406</td>\n",
       "      <td>0.192814</td>\n",
       "      <td>0.231173</td>\n",
       "      <td>0.182029</td>\n",
       "    </tr>\n",
       "    <tr>\n",
       "      <th>min</th>\n",
       "      <td>0.000000</td>\n",
       "      <td>0.000000</td>\n",
       "      <td>0.000000</td>\n",
       "      <td>0.000000</td>\n",
       "      <td>0.000000</td>\n",
       "      <td>0.000000</td>\n",
       "      <td>0.000000</td>\n",
       "      <td>0.000000</td>\n",
       "      <td>0.000000</td>\n",
       "      <td>0.000000</td>\n",
       "      <td>...</td>\n",
       "      <td>0.000000</td>\n",
       "      <td>0.000000</td>\n",
       "      <td>0.000000</td>\n",
       "      <td>0.000000</td>\n",
       "      <td>0.000000</td>\n",
       "      <td>0.000000</td>\n",
       "      <td>0.000000</td>\n",
       "      <td>0.000000</td>\n",
       "      <td>0.000000</td>\n",
       "      <td>0.000000</td>\n",
       "    </tr>\n",
       "    <tr>\n",
       "      <th>25%</th>\n",
       "      <td>0.000000</td>\n",
       "      <td>0.528915</td>\n",
       "      <td>0.386207</td>\n",
       "      <td>0.460873</td>\n",
       "      <td>0.333097</td>\n",
       "      <td>0.257704</td>\n",
       "      <td>0.455305</td>\n",
       "      <td>0.291638</td>\n",
       "      <td>0.457944</td>\n",
       "      <td>0.352668</td>\n",
       "      <td>...</td>\n",
       "      <td>0.186066</td>\n",
       "      <td>0.226173</td>\n",
       "      <td>0.508197</td>\n",
       "      <td>0.193369</td>\n",
       "      <td>0.537037</td>\n",
       "      <td>0.196229</td>\n",
       "      <td>0.122391</td>\n",
       "      <td>0.638889</td>\n",
       "      <td>0.078367</td>\n",
       "      <td>0.456157</td>\n",
       "    </tr>\n",
       "    <tr>\n",
       "      <th>50%</th>\n",
       "      <td>0.000000</td>\n",
       "      <td>0.642349</td>\n",
       "      <td>0.563793</td>\n",
       "      <td>0.577562</td>\n",
       "      <td>0.559659</td>\n",
       "      <td>0.425270</td>\n",
       "      <td>0.598837</td>\n",
       "      <td>0.452265</td>\n",
       "      <td>0.620327</td>\n",
       "      <td>0.558005</td>\n",
       "      <td>...</td>\n",
       "      <td>0.378689</td>\n",
       "      <td>0.360704</td>\n",
       "      <td>0.685012</td>\n",
       "      <td>0.233301</td>\n",
       "      <td>0.622222</td>\n",
       "      <td>0.314657</td>\n",
       "      <td>0.279565</td>\n",
       "      <td>0.741319</td>\n",
       "      <td>0.099325</td>\n",
       "      <td>0.563433</td>\n",
       "    </tr>\n",
       "    <tr>\n",
       "      <th>75%</th>\n",
       "      <td>1.000000</td>\n",
       "      <td>0.738434</td>\n",
       "      <td>0.781034</td>\n",
       "      <td>0.660665</td>\n",
       "      <td>0.803267</td>\n",
       "      <td>0.516179</td>\n",
       "      <td>0.726381</td>\n",
       "      <td>0.570906</td>\n",
       "      <td>0.731308</td>\n",
       "      <td>0.726798</td>\n",
       "      <td>...</td>\n",
       "      <td>0.529508</td>\n",
       "      <td>0.481488</td>\n",
       "      <td>0.800937</td>\n",
       "      <td>0.358180</td>\n",
       "      <td>0.790741</td>\n",
       "      <td>0.503983</td>\n",
       "      <td>0.380870</td>\n",
       "      <td>0.821181</td>\n",
       "      <td>0.222487</td>\n",
       "      <td>0.695896</td>\n",
       "    </tr>\n",
       "    <tr>\n",
       "      <th>max</th>\n",
       "      <td>1.000000</td>\n",
       "      <td>1.000000</td>\n",
       "      <td>1.000000</td>\n",
       "      <td>1.000000</td>\n",
       "      <td>1.000000</td>\n",
       "      <td>1.000000</td>\n",
       "      <td>1.000000</td>\n",
       "      <td>1.000000</td>\n",
       "      <td>1.000000</td>\n",
       "      <td>1.000000</td>\n",
       "      <td>...</td>\n",
       "      <td>1.000000</td>\n",
       "      <td>1.000000</td>\n",
       "      <td>1.000000</td>\n",
       "      <td>1.000000</td>\n",
       "      <td>1.000000</td>\n",
       "      <td>1.000000</td>\n",
       "      <td>1.000000</td>\n",
       "      <td>1.000000</td>\n",
       "      <td>1.000000</td>\n",
       "      <td>1.000000</td>\n",
       "    </tr>\n",
       "  </tbody>\n",
       "</table>\n",
       "<p>8 rows × 7130 columns</p>\n",
       "</div>"
      ],
      "text/plain": [
       "       Cancer_type  AFFX-BioB-5_at  AFFX-BioB-M_at  AFFX-BioB-3_at  \\\n",
       "count    32.000000       32.000000       32.000000       32.000000   \n",
       "mean      0.375000        0.624055        0.554310        0.574792   \n",
       "std       0.491869        0.202594        0.255539        0.198218   \n",
       "min       0.000000        0.000000        0.000000        0.000000   \n",
       "25%       0.000000        0.528915        0.386207        0.460873   \n",
       "50%       0.000000        0.642349        0.563793        0.577562   \n",
       "75%       1.000000        0.738434        0.781034        0.660665   \n",
       "max       1.000000        1.000000        1.000000        1.000000   \n",
       "\n",
       "       AFFX-BioC-5_at  AFFX-BioC-3_at  AFFX-BioDn-5_at  AFFX-BioDn-3_at  \\\n",
       "count       32.000000       32.000000        32.000000        32.000000   \n",
       "mean         0.566406        0.419684         0.593750         0.455662   \n",
       "std          0.298191        0.205918         0.226106         0.220498   \n",
       "min          0.000000        0.000000         0.000000         0.000000   \n",
       "25%          0.333097        0.257704         0.455305         0.291638   \n",
       "50%          0.559659        0.425270         0.598837         0.452265   \n",
       "75%          0.803267        0.516179         0.726381         0.570906   \n",
       "max          1.000000        1.000000         1.000000         1.000000   \n",
       "\n",
       "       AFFX-CreX-5_at  AFFX-CreX-3_at     ...       U48730_at  U58516_at  \\\n",
       "count       32.000000       32.000000     ...       32.000000  32.000000   \n",
       "mean         0.583820        0.542561     ...        0.378586   0.392435   \n",
       "std          0.212797        0.234644     ...        0.239203   0.239999   \n",
       "min          0.000000        0.000000     ...        0.000000   0.000000   \n",
       "25%          0.457944        0.352668     ...        0.186066   0.226173   \n",
       "50%          0.620327        0.558005     ...        0.378689   0.360704   \n",
       "75%          0.731308        0.726798     ...        0.529508   0.481488   \n",
       "max          1.000000        1.000000     ...        1.000000   1.000000   \n",
       "\n",
       "       U73738_at  X06956_at  X16699_at  X83863_at  Z17240_at  L49218_f_at  \\\n",
       "count  32.000000  32.000000  32.000000  32.000000  32.000000    32.000000   \n",
       "mean    0.636270   0.288934   0.637384   0.358404   0.300761     0.722114   \n",
       "std     0.218186   0.191286   0.214031   0.232741   0.225406     0.192814   \n",
       "min     0.000000   0.000000   0.000000   0.000000   0.000000     0.000000   \n",
       "25%     0.508197   0.193369   0.537037   0.196229   0.122391     0.638889   \n",
       "50%     0.685012   0.233301   0.622222   0.314657   0.279565     0.741319   \n",
       "75%     0.800937   0.358180   0.790741   0.503983   0.380870     0.821181   \n",
       "max     1.000000   1.000000   1.000000   1.000000   1.000000     1.000000   \n",
       "\n",
       "       M71243_f_at  Z78285_f_at  \n",
       "count    32.000000    32.000000  \n",
       "mean      0.193695     0.561800  \n",
       "std       0.231173     0.182029  \n",
       "min       0.000000     0.000000  \n",
       "25%       0.078367     0.456157  \n",
       "50%       0.099325     0.563433  \n",
       "75%       0.222487     0.695896  \n",
       "max       1.000000     1.000000  \n",
       "\n",
       "[8 rows x 7130 columns]"
      ]
     },
     "execution_count": 5,
     "metadata": {},
     "output_type": "execute_result"
    }
   ],
   "source": [
    "scaler = MinMaxScaler().fit(data_train)\n",
    "data_train = scale_data(scaler, data_train)\n",
    "data_test = scale_data(scaler, data_test)\n",
    "data_train.describe()"
   ]
  },
  {
   "cell_type": "code",
   "execution_count": 6,
   "metadata": {},
   "outputs": [
    {
     "data": {
      "text/plain": [
       "(32, 7130)"
      ]
     },
     "execution_count": 6,
     "metadata": {},
     "output_type": "execute_result"
    }
   ],
   "source": [
    "data_train.shape"
   ]
  },
  {
   "cell_type": "markdown",
   "metadata": {},
   "source": [
    "We notice that the results training set contains way more predictors (7130) than observations (32). It is clear that we will have problems in fitting a classification model to such a data set. There will be a problem with model identifiability as we do not have enough observations to be able to explain the coefficients we need for each predictor. Clearly, a dimensionality reduction technique is needed."
   ]
  },
  {
   "cell_type": "markdown",
   "metadata": {},
   "source": [
    "Let's visualize the gene expression data using a heat map. Specifically, let's generate a heat map of the data with expression values from the following genes: \n",
    "`D49818_at`, `M23161_at`, `hum_alu_at`, `AFFX-PheX-5_at`, `M15990_at`."
   ]
  },
  {
   "cell_type": "code",
   "execution_count": 7,
   "metadata": {},
   "outputs": [
    {
     "data": {
      "image/png": "[encoded data removed]",
      "text/plain": [
       "<Figure size 432x288 with 2 Axes>"
      ]
     },
     "metadata": {},
     "output_type": "display_data"
    }
   ],
   "source": [
    "sns.heatmap(data_train.sort_values(by='Cancer_type')\n",
    "            [['Cancer_type', 'D49818_at', 'M23161_at', 'hum_alu_at',\n",
    "              'AFFX-PheX-5_at', 'M15990_at']],\n",
    "            cmap=sns.light_palette('green'), yticklabels=[]);"
   ]
  },
  {
   "cell_type": "markdown",
   "metadata": {},
   "source": [
    "From the heat map, we can see that the following genes are useful in discriminating between the two classes:\n",
    "- D49818_at\n",
    "- AFFX-PheX-5_at\n",
    "- hum_alu_at"
   ]
  },
  {
   "cell_type": "markdown",
   "metadata": {},
   "source": [
    "Let's take a look at the top two principal components for the gene expression data."
   ]
  },
  {
   "cell_type": "code",
   "execution_count": 8,
   "metadata": {},
   "outputs": [
    {
     "data": {
      "image/png": "[encoded data removed]",
      "text/plain": [
       "<Figure size 432x288 with 1 Axes>"
      ]
     },
     "metadata": {},
     "output_type": "display_data"
    }
   ],
   "source": [
    "X_train_pca = PCA(n_components=2).fit_transform(data_train)\n",
    "X_train_pca = pd.DataFrame(X_train_pca).join(data_train['Cancer_type'])\n",
    "X_train_pca.columns = ['pc1', 'pc2', 'Cancer type']\n",
    "X_train_pca['Cancer type'] = X_train_pca['Cancer type'].replace(\n",
    "    to_replace=[0.0, 1.0], value=['ALL', 'ALM'])\n",
    "ax = sns.scatterplot(x='pc1', y='pc2', hue='Cancer type', data=X_train_pca)\n",
    "ax.set_title('First two principal components of cancer classification'\n",
    "             '\\nfrom gene expressions')\n",
    "ax.legend(loc='upper left');"
   ]
  },
  {
   "cell_type": "markdown",
   "metadata": {},
   "source": [
    "We can see from the scatter plot that the top two principal components do not discriminate well between the two cancer types."
   ]
  },
  {
   "cell_type": "markdown",
   "metadata": {},
   "source": [
    "## Part (b): Linear Regression vs. Logistic Regression\n",
    "\n",
    "Begin by analyzing the differences between using linear regression and logistic regression for classification. For this part, you shall work with a single gene predictor: `D29963_at`.\n",
    "\n",
    "1. Fit a simple linear regression model to the training set using the single gene predictor `D29963_at`. We could interpret the scores predicted by regression model interpreted for a patient as an estimate of the probability that the patient has the `ALL` type cancer (class 1). Is there a problem with this interpretation?\n",
    "\n",
    "2. The fitted linear regression model can be converted to a classification model (i.e. a model that predicts one of two binary labels 0 or 1) by classifying patients with predicted score greater than 0.5 into the `ALL` type (class 1), and the others into the `AML` type (class 0). Evaluate the classification accuracy (1 - misclassification rate) of the obtained classification model on both the training and test sets.\n",
    "\n",
    "3. Next, fit a simple logistic regression model to the training set. How does the training and test calssification accuracy of this model compare with the linear regression model?  Remember, you need to set the regularization parameter for sklearn's logistic regression function to be a very large value in order not to regularize (use 'C=100000').\n",
    "\n",
    "4. Plot the quantitative output from linear regression model and the probabilistic output from the logistic regression model (on the training set points) as a function of the gene predictor. Also, display the true binary response for the training set points in the same plot.\n",
    "Based on these plots, does one of the models appear better suited for binary classification than the other? Explain.\n",
    "\n"
   ]
  },
  {
   "cell_type": "markdown",
   "metadata": {},
   "source": [
    "Let's fit a simple linear regression model to the training set using the single gene predictor D29963_at."
   ]
  },
  {
   "cell_type": "code",
   "execution_count": 9,
   "metadata": {},
   "outputs": [],
   "source": [
    "y_train = data_train['Cancer_type']\n",
    "y_test = data_test['Cancer_type']\n",
    "X_train = data_train['D29963_at'].values.reshape(-1, 1)\n",
    "X_test = data_test['D29963_at'].values.reshape(-1, 1)"
   ]
  },
  {
   "cell_type": "code",
   "execution_count": 10,
   "metadata": {},
   "outputs": [
    {
     "data": {
      "text/plain": [
       "array([0.32341262, 0.20860616, 0.39471348, 0.43096815, 0.39833895,\n",
       "       0.32945507, 0.3963248 , 0.32864941, 0.43902475, 0.32703809,\n",
       "       0.46722283, 0.41525779, 0.28030984, 0.34516542, 0.41203516,\n",
       "       0.39914461, 0.68716784, 0.15623829, 0.13569398, 0.13126285,\n",
       "       0.41445213, 0.29884001, 0.34959655, 0.18645052, 0.88213742,\n",
       "       0.50831146, 0.37416916, 0.51878503, 0.29843718, 0.36893238,\n",
       "       0.20054956, 0.59330852])"
      ]
     },
     "execution_count": 10,
     "metadata": {},
     "output_type": "execute_result"
    }
   ],
   "source": [
    "lin_reg = LinearRegression()\n",
    "lin_reg.fit(X_train, y_train)\n",
    "lin_reg.predict(X_train)"
   ]
  },
  {
   "cell_type": "markdown",
   "metadata": {},
   "source": [
    "We could interpret the scores predicted by regression model interpreted for a patient as an estimate of the probability that the patient has the `ALL` type cancer (class 1). However, there is a problem with this interpretation for the following reasons:\n",
    "\n",
    "- It could lead to non-sensical values for the scores, that is, probabilities below 0 or above 1.\n",
    "- There is no logical argument that the output of a linear regression model actually estimates a probability."
   ]
  },
  {
   "cell_type": "markdown",
   "metadata": {},
   "source": [
    "Let us now calculate the classification accuracy of the model on both the training and testing sets."
   ]
  },
  {
   "cell_type": "code",
   "execution_count": 11,
   "metadata": {},
   "outputs": [],
   "source": [
    "def classify(model, X, threshold=0.5):\n",
    "    y_pred = model.predict(X)\n",
    "    y_class = (y_pred > threshold).astype(float)\n",
    "    return y_class\n",
    "\n",
    "\n",
    "def print_accuracy(train_acc, test_acc):\n",
    "    print('Train accuracy: %.2f' % train_acc)\n",
    "    print('Test accuracy: %.2f' % test_acc)"
   ]
  },
  {
   "cell_type": "code",
   "execution_count": 12,
   "metadata": {},
   "outputs": [
    {
     "name": "stdout",
     "output_type": "stream",
     "text": [
      "Train accuracy: 0.72\n",
      "Test accuracy: 0.83\n"
     ]
    }
   ],
   "source": [
    "y_train_lin_reg_pred = classify(lin_reg, X_train, threshold=0.5)\n",
    "y_test_lin_reg_pred = classify(lin_reg, X_test, threshold=0.5)\n",
    "train_acc = accuracy_score(y_train, y_train_lin_reg_pred)\n",
    "test_acc = accuracy_score(y_test, y_test_lin_reg_pred)\n",
    "print_accuracy(train_acc, test_acc)"
   ]
  },
  {
   "cell_type": "markdown",
   "metadata": {},
   "source": [
    "Next, we fit a simple logistic regression model to the training set."
   ]
  },
  {
   "cell_type": "code",
   "execution_count": 13,
   "metadata": {},
   "outputs": [],
   "source": [
    "def model_accuracy(model, X_train, X_test, y_train, y_test):\n",
    "    model.fit(X_train, y_train)\n",
    "    y_train_pred = model.predict(X_train)\n",
    "    y_test_pred = model.predict(X_test)\n",
    "    train_acc = accuracy_score(y_train, y_train_pred)\n",
    "    test_acc = accuracy_score(y_test, y_test_pred)\n",
    "    print_accuracy(train_acc, test_acc)"
   ]
  },
  {
   "cell_type": "code",
   "execution_count": 14,
   "metadata": {},
   "outputs": [
    {
     "name": "stdout",
     "output_type": "stream",
     "text": [
      "Train accuracy: 0.72\n",
      "Test accuracy: 0.83\n"
     ]
    }
   ],
   "source": [
    "log_reg = LogisticRegression(C=100000)\n",
    "model_accuracy(log_reg, X_train, X_test, y_train, y_test)"
   ]
  },
  {
   "cell_type": "markdown",
   "metadata": {},
   "source": [
    "We see that the training and test calssification accuracy of this model are identical to the linear regression model. This is the standard Bayes classifier which takes the approach that assigns each observation to the most likely class, given it's predictor value."
   ]
  },
  {
   "cell_type": "markdown",
   "metadata": {},
   "source": [
    "Now we plot the quantitative output from linear regression model and the probabilistic output from the logistic regression model (on the training set points) as a function of the gene predictor. Also, we display the true binary response for the training set points in the same plot."
   ]
  },
  {
   "cell_type": "code",
   "execution_count": 15,
   "metadata": {},
   "outputs": [
    {
     "data": {
      "image/png": "[encoded data removed]",
      "text/plain": [
       "<Figure size 432x288 with 1 Axes>"
      ]
     },
     "metadata": {},
     "output_type": "display_data"
    }
   ],
   "source": [
    "plt.plot(X_train, y_train, '.', label='true response')\n",
    "plt.plot(X_train, lin_reg.predict(X_train), '.', label='linear model')\n",
    "plt.plot(X_train, log_reg.predict_proba(X_train)[:, 1], '.',\n",
    "         label='logistic model')\n",
    "plt.title('Training data vs linear and logistic regression models')\n",
    "plt.xlabel('D29963_at')\n",
    "plt.ylabel('Class / score / probability')\n",
    "plt.legend();"
   ]
  },
  {
   "cell_type": "markdown",
   "metadata": {},
   "source": [
    "Based on these plots, the logistic regression model is better suited for binary classification than the linear regression model. This is due to the sigmoid shape of the logistic function versus the straight line of linear regression. On average, the predicted probabilities of the logistic regression are closer to the class values of the true binary response when compared to the scores of the linear regression. Essentially, the logistic regression model will be more sure about the classification decision. "
   ]
  },
  {
   "cell_type": "markdown",
   "metadata": {},
   "source": [
    "## Part (c): Multiple Logistic Regression\n",
    "\n",
    "1. Next, fit a multiple logistic regression model with all the gene predictors from the data set.  How does the classification accuracy of this model compare with the models fitted in Part (b) with a single gene (on both the training and test sets)?  \n",
    "\n",
    "2. \"Use the `visualize_prob` from `HW5_functions.py` to visualize the probabilties predicted by the fitted multiple logistic regression model on both the training and test data sets. The function creates a visualization that places the data points on a vertical line based on the predicted probabilities, with the `ALL` and `AML` classes shown in different colors, and with the 0.5 threshold highlighted using a dotted horizontal line.  Is there a difference in the spread of probabilities in the training and test plots? Are there data points for which the predicted probability is close to 0.5? If so, what can you say about these points?\""
   ]
  },
  {
   "cell_type": "markdown",
   "metadata": {},
   "source": [
    "Next, we will fit a multiple logistic regression model with all the gene predictors from the data set."
   ]
  },
  {
   "cell_type": "code",
   "execution_count": 16,
   "metadata": {
    "collapsed": true
   },
   "outputs": [],
   "source": [
    "# starter code\n",
    "from HW5_functions import visualize_prob"
   ]
  },
  {
   "cell_type": "code",
   "execution_count": 17,
   "metadata": {},
   "outputs": [],
   "source": [
    "X_train = data_train.drop('Cancer_type', axis=1)\n",
    "X_test = data_test.drop('Cancer_type', axis=1)"
   ]
  },
  {
   "cell_type": "code",
   "execution_count": 18,
   "metadata": {},
   "outputs": [
    {
     "name": "stdout",
     "output_type": "stream",
     "text": [
      "Train accuracy: 1.00\n",
      "Test accuracy: 0.98\n"
     ]
    }
   ],
   "source": [
    "log_reg = LogisticRegression(C=100000)\n",
    "model_accuracy(log_reg, X_train, X_test, y_train, y_test)"
   ]
  },
  {
   "cell_type": "markdown",
   "metadata": {},
   "source": [
    "We see that the classification accuracy of this model is far better than the models fitted in Part (b) with a single gene on both the training and test sets."
   ]
  },
  {
   "cell_type": "markdown",
   "metadata": {},
   "source": [
    "Let us now visualize the probabilties predicted by the fitted multiple logistic regression model on both the training and test data sets."
   ]
  },
  {
   "cell_type": "code",
   "execution_count": 19,
   "metadata": {},
   "outputs": [],
   "source": [
    "def plot_probabilities(model, X_train, X_test, y_train, y_test):\n",
    "    fig, (ax1, ax2) = plt.subplots(ncols=2, figsize=(12, 5))\n",
    "    visualize_prob(model, X_train, y_train, ax1)\n",
    "    visualize_prob(model, X_test, y_test, ax2)\n",
    "    ax1.set_title('Training data set')\n",
    "    ax2.set_title('Test data set');"
   ]
  },
  {
   "cell_type": "code",
   "execution_count": 20,
   "metadata": {},
   "outputs": [
    {
     "data": {
      "image/png": "[encoded data removed]",
      "text/plain": [
       "<Figure size 864x360 with 2 Axes>"
      ]
     },
     "metadata": {},
     "output_type": "display_data"
    }
   ],
   "source": [
    "plot_probabilities(log_reg, X_train, X_test, y_train, y_test)"
   ]
  },
  {
   "cell_type": "markdown",
   "metadata": {},
   "source": [
    "We can see that there a difference in the spread of probabilities in the training and test plots. As expected, for the training points, the probabilities are all very close to the class labels of 0 and 1. The logistic regression model is sure about these predictions since the data was trained on these points. However, for the testing points, the probabilities are spread through the range of zero to one depending on how sure the model is on the predictions.  We can see that there is one data point in the test set for which the predicted probability is close to 0.5. In fact the predicted probability is just less than 0.5 (about 0.47) even though the true class is ALL. This point is misclassified by the logistic regression model."
   ]
  },
  {
   "cell_type": "code",
   "execution_count": 21,
   "metadata": {},
   "outputs": [
    {
     "data": {
      "text/plain": [
       "array([5.51215850e-04, 3.20803028e-03, 9.09973267e-03, 1.75982769e-04,\n",
       "       1.88754262e-06, 2.15708572e-05, 1.41088241e-04, 1.43154681e-02,\n",
       "       1.75922255e-03, 4.09617101e-05, 2.76058872e-03, 4.06330187e-05,\n",
       "       1.97461990e-03, 3.44885013e-02, 1.50229270e-03, 4.37215406e-03,\n",
       "       1.94416438e-03, 9.99996926e-01, 9.99993989e-01, 9.85591597e-01,\n",
       "       9.75114194e-01, 9.99996160e-01, 5.84317825e-01, 9.99055555e-01,\n",
       "       9.71992765e-07, 2.21823207e-03, 3.23887563e-02, 8.35097322e-06,\n",
       "       1.36838319e-03, 5.49781763e-05, 2.37801937e-03, 3.69284215e-04,\n",
       "       2.08723908e-04, 1.22337717e-05, 1.60054982e-01, 9.99978937e-01,\n",
       "       9.61200939e-01, 8.13839516e-01, 4.69399053e-01, 9.99955151e-01,\n",
       "       9.99692974e-01])"
      ]
     },
     "execution_count": 21,
     "metadata": {},
     "output_type": "execute_result"
    }
   ],
   "source": [
    "log_reg.predict_proba(X_test)[:, 1]"
   ]
  },
  {
   "cell_type": "markdown",
   "metadata": {},
   "source": [
    "## Part (d): Analyzing Significance of Coefficients\n",
    "\n",
    "How many of the coefficients estimated by the multiple logistic regression in the previous problem are significantly different from zero at a *significance level of 95%*? \n",
    "\n",
    "Hint: To answer this question, use *bootstrapping* with 100 boostrap samples/iterations.  \n",
    "\n"
   ]
  },
  {
   "cell_type": "markdown",
   "metadata": {},
   "source": [
    "As an example, we can fit a regularized logistic regression model on ONLY the first 90 genes. The 90 was a random number chosen to be greater than the observations (we could have done 100, 3000, etc). We only did the first 90 as it would take forever to do all 6033 genes. The reason we used the regularization fit was to get the logistic module to report at least some of the NaN's. Notice how many NaN's there are for the confidence intervals reported below, even with something like regularization! \n",
    "\n",
    "This is the reason we need a bootstrap when the number of predictors is greater than the number of observations. Intuitively, that creates a problem in that we do not have enough observations to \"represent\" each predictor varaible. Hence, the resampling gives us a way to approximate our standard errors."
   ]
  },
  {
   "cell_type": "code",
   "execution_count": 22,
   "metadata": {},
   "outputs": [
    {
     "name": "stdout",
     "output_type": "stream",
     "text": [
      "Optimization terminated successfully.    (Exit mode 0)\n",
      "            Current function value: 1.1193736921889176e-10\n",
      "            Iterations: 39\n",
      "            Function evaluations: 40\n",
      "            Gradient evaluations: 39\n",
      "                           Logit Regression Results                           \n",
      "==============================================================================\n",
      "Dep. Variable:            Cancer_type   No. Observations:                   32\n",
      "Model:                          Logit   Df Residuals:                      -59\n",
      "Method:                           MLE   Df Model:                           90\n",
      "Date:                Wed, 25 Jul 2018   Pseudo R-squ.:                   1.000\n",
      "Time:                        13:55:38   Log-Likelihood:            -3.5820e-09\n",
      "converged:                       True   LL-Null:                       -21.170\n",
      "                                        LLR p-value:                     1.000\n",
      "===============================================================================================\n",
      "                                  coef    std err          z      P>|z|      [0.025      0.975]\n",
      "-----------------------------------------------------------------------------------------------\n",
      "AFFX-BioB-5_at                 26.2780        nan        nan        nan         nan         nan\n",
      "AFFX-BioB-M_at                 -7.7841   1.53e+12  -5.09e-12      1.000      -3e+12       3e+12\n",
      "AFFX-BioB-3_at                 18.3313        nan        nan        nan         nan         nan\n",
      "AFFX-BioC-5_at                -21.6467        nan        nan        nan         nan         nan\n",
      "AFFX-BioC-3_at                -23.5574   1.58e+12  -1.49e-11      1.000   -3.09e+12    3.09e+12\n",
      "AFFX-BioDn-5_at                12.5936   3.82e+11    3.3e-11      1.000   -7.49e+11    7.49e+11\n",
      "AFFX-BioDn-3_at               -49.1411        nan        nan        nan         nan         nan\n",
      "AFFX-CreX-5_at                -32.7830    1.1e+12  -2.98e-11      1.000   -2.16e+12    2.16e+12\n",
      "AFFX-CreX-3_at                 14.9073        nan        nan        nan         nan         nan\n",
      "AFFX-BioB-5_st                 -1.0952        nan        nan        nan         nan         nan\n",
      "AFFX-BioB-M_st                -24.1432        nan        nan        nan         nan         nan\n",
      "AFFX-BioB-3_st                -29.7914   9.69e+11  -3.07e-11      1.000    -1.9e+12     1.9e+12\n",
      "AFFX-BioC-5_st                -20.7772        nan        nan        nan         nan         nan\n",
      "AFFX-BioC-3_st                -17.2146        nan        nan        nan         nan         nan\n",
      "AFFX-BioDn-5_st                15.5134        nan        nan        nan         nan         nan\n",
      "AFFX-BioDn-3_st                -7.8896        nan        nan        nan         nan         nan\n",
      "AFFX-CreX-5_st                -27.2240   5.27e+11  -5.17e-11      1.000   -1.03e+12    1.03e+12\n",
      "AFFX-CreX-3_st                 22.1653        nan        nan        nan         nan         nan\n",
      "hum_alu_at                     16.3283    2.5e+11   6.53e-11      1.000    -4.9e+11     4.9e+11\n",
      "AFFX-DapX-5_at                -15.1428   3.65e+11  -4.15e-11      1.000   -7.15e+11    7.15e+11\n",
      "AFFX-DapX-M_at                 -3.7941        nan        nan        nan         nan         nan\n",
      "AFFX-DapX-3_at                 20.3177   1.12e+12   1.82e-11      1.000   -2.19e+12    2.19e+12\n",
      "AFFX-LysX-5_at                 -6.9220   6.99e+11   -9.9e-12      1.000   -1.37e+12    1.37e+12\n",
      "AFFX-LysX-M_at                 10.0823    2.2e+11   4.59e-11      1.000    -4.3e+11     4.3e+11\n",
      "AFFX-LysX-3_at                 27.5101   3.55e+11   7.76e-11      1.000   -6.95e+11    6.95e+11\n",
      "AFFX-PheX-5_at                 19.4946   4.29e+11   4.55e-11      1.000    -8.4e+11     8.4e+11\n",
      "AFFX-PheX-M_at                -35.2345        nan        nan        nan         nan         nan\n",
      "AFFX-PheX-3_at                -34.9990        nan        nan        nan         nan         nan\n",
      "AFFX-ThrX-5_at                -41.2992   4.57e+11  -9.05e-11      1.000   -8.95e+11    8.95e+11\n",
      "AFFX-ThrX-M_at                 32.7339   5.77e+11   5.67e-11      1.000   -1.13e+12    1.13e+12\n",
      "AFFX-ThrX-3_at                  8.4240        nan        nan        nan         nan         nan\n",
      "AFFX-TrpnX-5_at               -19.6855        nan        nan        nan         nan         nan\n",
      "AFFX-TrpnX-M_at                29.9558        nan        nan        nan         nan         nan\n",
      "AFFX-TrpnX-3_at                35.1544   5.26e+11   6.69e-11      1.000   -1.03e+12    1.03e+12\n",
      "AFFX-HUMISGF3A/M97935_5_at     31.8897   1.12e+12   2.85e-11      1.000   -2.19e+12    2.19e+12\n",
      "AFFX-HUMISGF3A/M97935_MA_at    38.4420        nan        nan        nan         nan         nan\n",
      "AFFX-HUMISGF3A/M97935_MB_at     2.4969   6.63e+11   3.77e-12      1.000    -1.3e+12     1.3e+12\n",
      "AFFX-HUMISGF3A/M97935_3_at    -11.2224        nan        nan        nan         nan         nan\n",
      "AFFX-HUMRGE/M10098_5_at       -30.9842   8.51e+12  -3.64e-12      1.000   -1.67e+13    1.67e+13\n",
      "AFFX-HUMRGE/M10098_M_at       -27.7925   6.77e+12   -4.1e-12      1.000   -1.33e+13    1.33e+13\n",
      "AFFX-HUMRGE/M10098_3_at       -31.7801      1e+13  -3.16e-12      1.000   -1.97e+13    1.97e+13\n",
      "AFFX-HUMGAPDH/M33197_5_at      18.7029        nan        nan        nan         nan         nan\n",
      "AFFX-HUMGAPDH/M33197_M_at      20.2926        nan        nan        nan         nan         nan\n",
      "AFFX-HUMGAPDH/M33197_3_at      25.2035        nan        nan        nan         nan         nan\n",
      "AFFX-HSAC07/X00351_5_at        13.7677        nan        nan        nan         nan         nan\n",
      "AFFX-HSAC07/X00351_M_at        16.3359        nan        nan        nan         nan         nan\n",
      "AFFX-HSAC07/X00351_3_at        13.5203        nan        nan        nan         nan         nan\n",
      "AFFX-HUMTFRR/M11507_5_at       20.7414        nan        nan        nan         nan         nan\n",
      "AFFX-HUMTFRR/M11507_M_at       33.6094    4.3e+11   7.82e-11      1.000   -8.42e+11    8.42e+11\n",
      "AFFX-HUMTFRR/M11507_3_at       32.8236        nan        nan        nan         nan         nan\n",
      "AFFX-M27830_5_at              -33.6994        nan        nan        nan         nan         nan\n",
      "AFFX-M27830_M_at              -33.0099        nan        nan        nan         nan         nan\n",
      "AFFX-M27830_3_at              -41.4594   7.48e+11  -5.55e-11      1.000   -1.47e+12    1.47e+12\n",
      "AFFX-HSAC07/X00351_3_st       -29.0631   8.83e+11  -3.29e-11      1.000   -1.73e+12    1.73e+12\n",
      "AFFX-HUMGAPDH/M33197_5_st      15.2406        nan        nan        nan         nan         nan\n",
      "AFFX-HUMGAPDH/M33197_M_st       2.1769        nan        nan        nan         nan         nan\n",
      "AFFX-HUMGAPDH/M33197_3_st     -15.5278        nan        nan        nan         nan         nan\n",
      "AFFX-HSAC07/X00351_5_st        24.2415   1.38e+12   1.76e-11      1.000    -2.7e+12     2.7e+12\n",
      "AFFX-HSAC07/X00351_M_st       -22.4569        nan        nan        nan         nan         nan\n",
      "A28102_at                      18.0577   7.95e+11   2.27e-11      1.000   -1.56e+12    1.56e+12\n",
      "AB000114_at                   -53.3163        nan        nan        nan         nan         nan\n",
      "AB000115_at                   -23.5857   3.77e+12  -6.26e-12      1.000   -7.38e+12    7.38e+12\n",
      "AB000220_at                   -43.7171   1.97e+11  -2.22e-10      1.000   -3.85e+11    3.85e+11\n",
      "AB000409_at                    12.2130        nan        nan        nan         nan         nan\n",
      "AB000449_at                   -45.9831        nan        nan        nan         nan         nan\n",
      "AB000450_at                    10.4738   4.46e+11   2.35e-11      1.000   -8.74e+11    8.74e+11\n",
      "AB000460_at                   -14.6253   4.35e+12  -3.36e-12      1.000   -8.54e+12    8.54e+12\n",
      "AB000462_at                   -25.8473   1.71e+12  -1.51e-11      1.000   -3.35e+12    3.35e+12\n",
      "AB000464_at                     5.2313        nan        nan        nan         nan         nan\n",
      "AB000466_at                   -28.2797   5.25e+11  -5.39e-11      1.000   -1.03e+12    1.03e+12\n",
      "AB000467_at                   -23.4982   3.84e+11  -6.12e-11      1.000   -7.52e+11    7.52e+11\n",
      "AB000468_at                     5.6599   1.66e+12   3.41e-12      1.000   -3.26e+12    3.26e+12\n",
      "AB000584_at                    11.8943   1.14e+12   1.04e-11      1.000   -2.24e+12    2.24e+12\n",
      "AB000895_at                   -33.8830      6e+11  -5.65e-11      1.000   -1.18e+12    1.18e+12\n",
      "AB000896_at                   -22.1736        nan        nan        nan         nan         nan\n",
      "AB000897_at                   -11.5837        nan        nan        nan         nan         nan\n",
      "AB000905_at                   -58.7775        nan        nan        nan         nan         nan\n",
      "AB001106_at                     8.5075        nan        nan        nan         nan         nan\n",
      "AB001325_at                   -12.5998   3.55e+12  -3.55e-12      1.000   -6.95e+12    6.95e+12\n",
      "AB002314_at                    -4.3907    3.8e+11  -1.16e-11      1.000   -7.45e+11    7.45e+11\n",
      "AB002315_at                    22.8721   1.29e+12   1.77e-11      1.000   -2.53e+12    2.53e+12\n",
      "AB002318_at                   -25.4734   1.35e+12  -1.89e-11      1.000   -2.65e+12    2.65e+12\n",
      "AB002365_at                   -44.1685    1.8e+12  -2.46e-11      1.000   -3.53e+12    3.53e+12\n",
      "AB002366_at                   -23.6913   5.68e+11  -4.17e-11      1.000   -1.11e+12    1.11e+12\n",
      "AB002380_at                   -29.9465        nan        nan        nan         nan         nan\n",
      "AB002382_at                    -0.5510   1.82e+12  -3.02e-13      1.000   -3.58e+12    3.58e+12\n",
      "AB002409_at                    21.9187   3.44e+11   6.37e-11      1.000   -6.74e+11    6.74e+11\n",
      "AB002559_at                    44.5769   5.28e+11   8.44e-11      1.000   -1.04e+12    1.04e+12\n",
      "AB003102_at                    10.3192   1.55e+12   6.67e-12      1.000   -3.03e+12    3.03e+12\n",
      "AB003103_at                   -11.0333        nan        nan        nan         nan         nan\n",
      "AB003177_at                   -12.9587   2.45e+11   -5.3e-11      1.000   -4.79e+11    4.79e+11\n",
      "===============================================================================================\n",
      "\n",
      "Complete Separation: The results show that there iscomplete separation.\n",
      "In this case the Maximum Likelihood Estimator does not exist and the parameters\n",
      "are not identified.\n"
     ]
    },
    {
     "name": "stderr",
     "output_type": "stream",
     "text": [
      "C:\\Users\\covuworie\\.virtualenvs\\a-2017-AsNAB769\\lib\\site-packages\\statsmodels\\base\\model.py:1092: RuntimeWarning: invalid value encountered in sqrt\n",
      "  bse_ = np.sqrt(np.diag(self.cov_params()))\n",
      "C:\\Users\\covuworie\\.virtualenvs\\a-2017-AsNAB769\\lib\\site-packages\\scipy\\stats\\_distn_infrastructure.py:879: RuntimeWarning: invalid value encountered in greater\n",
      "  return (self.a < x) & (x < self.b)\n",
      "C:\\Users\\covuworie\\.virtualenvs\\a-2017-AsNAB769\\lib\\site-packages\\scipy\\stats\\_distn_infrastructure.py:879: RuntimeWarning: invalid value encountered in less\n",
      "  return (self.a < x) & (x < self.b)\n",
      "C:\\Users\\covuworie\\.virtualenvs\\a-2017-AsNAB769\\lib\\site-packages\\scipy\\stats\\_distn_infrastructure.py:1821: RuntimeWarning: invalid value encountered in less_equal\n",
      "  cond2 = cond0 & (x <= self.a)\n"
     ]
    }
   ],
   "source": [
    "import statsmodels.discrete.discrete_model as dm\n",
    "logit = dm.Logit(y_train, X_train.iloc[:, 0:91]).fit_regularized()\n",
    "print(logit.summary())"
   ]
  },
  {
   "cell_type": "markdown",
   "metadata": {},
   "source": [
    "Let's now conduct a bootstrap analysis and estimate just how many of our coefficients are significant at a significance level of 95%."
   ]
  },
  {
   "cell_type": "code",
   "execution_count": 23,
   "metadata": {},
   "outputs": [],
   "source": [
    "def bootstrap(model, X_train, y_train, num_samples=100):\n",
    "    boot_coefs = np.zeros((X_train.shape[1], num_samples))\n",
    "    for i in range(num_samples):\n",
    "        X_train_samples = X_train.sample(n=len(y_train), replace=True)\n",
    "        y_train_samples = y_train[X_train_samples.index]\n",
    "        model.fit(X_train_samples, y_train_samples)\n",
    "        boot_coefs[:, i] = model.coef_\n",
    "    return boot_coefs"
   ]
  },
  {
   "cell_type": "code",
   "execution_count": 24,
   "metadata": {},
   "outputs": [],
   "source": [
    "boot_coefs = bootstrap(LogisticRegression(C=100000),\n",
    "                       X_train, y_train, num_samples=100)"
   ]
  },
  {
   "cell_type": "code",
   "execution_count": 25,
   "metadata": {},
   "outputs": [],
   "source": [
    "def significant_predictors(X, coefs, sig_level=95.0):\n",
    "    ci_width = (100.0 - sig_level) / 2.0\n",
    "    ci_upper = np.percentile(boot_coefs, sig_level + ci_width, axis=1)\n",
    "    ci_lower = np.percentile(boot_coefs, ci_width, axis=1)\n",
    "    sig_predictors = []\n",
    "    for i in range(len(ci_upper)):\n",
    "        if ci_upper[i] < 0 or ci_lower[i] > 0:\n",
    "            sig_predictors.append(X.columns[i])\n",
    "    return sig_predictors"
   ]
  },
  {
   "cell_type": "code",
   "execution_count": 26,
   "metadata": {},
   "outputs": [
    {
     "name": "stdout",
     "output_type": "stream",
     "text": [
      "Number of significant coefficients = 1881\n"
     ]
    }
   ],
   "source": [
    "sig_predictors = significant_predictors(X_train, boot_coefs,\n",
    "                                        sig_level=95.0)\n",
    "print('Number of significant coefficients =',\n",
    "      len(sig_predictors))"
   ]
  },
  {
   "cell_type": "markdown",
   "metadata": {},
   "source": [
    "Now let's fit a logistic regression model using these predictors and look at the classification accuracy on the training and test sets."
   ]
  },
  {
   "cell_type": "code",
   "execution_count": 27,
   "metadata": {},
   "outputs": [
    {
     "name": "stdout",
     "output_type": "stream",
     "text": [
      "Train accuracy: 1.00\n",
      "Test accuracy: 0.98\n"
     ]
    }
   ],
   "source": [
    "model_accuracy(LogisticRegression(C=100000),\n",
    "               X_train[sig_predictors], X_test[sig_predictors],\n",
    "               y_train, y_test)"
   ]
  },
  {
   "cell_type": "markdown",
   "metadata": {},
   "source": [
    "We see that the classification accuracy of this model is identical to the model fitted in Part (c). However, it has the added advantage that we have removed redundant predictors."
   ]
  },
  {
   "cell_type": "markdown",
   "metadata": {},
   "source": [
    "## Part (e): Dimensionality Reduction using PCA\n",
    "\n",
    "A reasonable approach to reduce the dimensionality of the data is to use PCA and fit a logistic regression model on the first set of principal components contributing to 90% of the variance in the predictors.\n",
    "\n",
    "1. How do the classification accuracy values on both the training and tests sets compare with the models fitted in Parts (c) and (d)?  \n",
    "\n",
    "2. Re-fit a logistic regression model using 5-fold cross-validation to choose the number of principal components, and comment on whether you get better test performance than the model fitted above (explain your observations). \n",
    "\n",
    "3. Use the code provided in Part (c) to visualize the probabilities predicted by the fitted models on both the training and test sets. How does the spread of probabilities in these plots compare to those for the models in Part (c) and (d)? \n"
   ]
  },
  {
   "cell_type": "markdown",
   "metadata": {},
   "source": [
    "Let's fit a logistic regression model on the first set of principal components contributing to 90% of the variance in the predictors."
   ]
  },
  {
   "cell_type": "code",
   "execution_count": 28,
   "metadata": {},
   "outputs": [],
   "source": [
    "pca = PCA(n_components=0.9, svd_solver='full').fit(X_train)\n",
    "X_train_pca = pca.transform(X_train)\n",
    "X_test_pca = pca.transform(X_test)"
   ]
  },
  {
   "cell_type": "code",
   "execution_count": 29,
   "metadata": {},
   "outputs": [
    {
     "name": "stdout",
     "output_type": "stream",
     "text": [
      "Train accuracy: 1.00\n",
      "Test accuracy: 0.93\n"
     ]
    }
   ],
   "source": [
    "model_accuracy(LogisticRegression(C=100000),\n",
    "               X_train_pca, X_test_pca, y_train, y_test)"
   ]
  },
  {
   "cell_type": "markdown",
   "metadata": {},
   "source": [
    "We see that the classification accuracy on the training set is identical to that of the models fitted in Parts (c) and (d). However, the test set accuracy is lower."
   ]
  },
  {
   "cell_type": "markdown",
   "metadata": {},
   "source": [
    "Now we will re-fit a logistic regression model using 5-fold cross-validation in order to choose the number of principal components."
   ]
  },
  {
   "cell_type": "code",
   "execution_count": 30,
   "metadata": {},
   "outputs": [],
   "source": [
    "x_val_scores = []\n",
    "for frac_variance in np.linspace(0.01, 0.99, 99):\n",
    "    pca = PCA(n_components=frac_variance)\n",
    "    pca.fit(X_train)\n",
    "    X_train_pca = pca.transform(X_train)\n",
    "\n",
    "    x_val_scores.append(np.mean(\n",
    "        cross_val_score(LogisticRegression(C=100000),\n",
    "                        X_train_pca, y_train, cv=5,\n",
    "                        scoring='accuracy')))"
   ]
  },
  {
   "cell_type": "code",
   "execution_count": 31,
   "metadata": {},
   "outputs": [],
   "source": [
    "x_val_n_comps = np.linspace(0.01, 0.99, 99)[np.argmax(x_val_scores)]\n",
    "x_val_n_comps = pca.n_components_\n",
    "\n",
    "pca = PCA(n_components=x_val_n_comps)\n",
    "pca.fit(X_train)\n",
    "X_train_pca = pca.transform(X_train)\n",
    "X_test_pca = pca.transform(X_test)"
   ]
  },
  {
   "cell_type": "code",
   "execution_count": 32,
   "metadata": {},
   "outputs": [
    {
     "name": "stdout",
     "output_type": "stream",
     "text": [
      "Cross-validation selected 30 principal components\n",
      "This explains 99.03 % of the variance\n",
      "Train accuracy: 1.00\n",
      "Test accuracy: 1.00\n"
     ]
    }
   ],
   "source": [
    "print('Cross-validation selected {0} principal components'\n",
    "      .format(x_val_n_comps))\n",
    "print('This explains {:.2f} % of the variance'.format(\n",
    "    100. * pca.explained_variance_ratio_.sum()))\n",
    "log_reg = LogisticRegression(C=100000)\n",
    "model_accuracy(log_reg, X_train_pca, X_test_pca,\n",
    "               y_train, y_test)"
   ]
  },
  {
   "cell_type": "markdown",
   "metadata": {},
   "source": [
    "We see that we have perfect test performance on the model fitted with PCA and it is better than the above model with the restricted set of predictors (1881 predictors). The PCA has projected the predictors onto a lower-dimensional subspace (30-dimensional) that is less than the number of observations. It seems that this model which obtains 99% of the variance is able to explain all of the predictors whereas the model with 1881 predictors still contains some redundant predictors that is contributing to it's poorer performance."
   ]
  },
  {
   "cell_type": "markdown",
   "metadata": {},
   "source": [
    "It is helpful to visualize the probabilities predicted by the fitted models on both the training and test sets."
   ]
  },
  {
   "cell_type": "code",
   "execution_count": 33,
   "metadata": {},
   "outputs": [
    {
     "data": {
      "image/png": "[encoded data removed]",
      "text/plain": [
       "<Figure size 864x360 with 2 Axes>"
      ]
     },
     "metadata": {},
     "output_type": "display_data"
    }
   ],
   "source": [
    "plot_probabilities(log_reg, X_train_pca, X_test_pca, y_train, y_test)"
   ]
  },
  {
   "cell_type": "markdown",
   "metadata": {},
   "source": [
    "We can see that the spread of probabilities in the test data plot has reduced compared to those for the models in Part (c) and (d). The PCA model is far more sure of it's predictions than the previous models. The most prominent example of this is the point from the 'ALL' class that was previously misclassfied, is way into the positive region now. "
   ]
  },
  {
   "cell_type": "markdown",
   "metadata": {},
   "source": [
    "---\n",
    " "
   ]
  },
  {
   "cell_type": "markdown",
   "metadata": {},
   "source": [
    "# APCOMP209a - Homework Question"
   ]
  },
  {
   "cell_type": "markdown",
   "metadata": {},
   "source": [
    "Suppose we want to conduct PCA on the model matrix $X \\in \\Re^{n×p}$, where the columns have been suitably set to zero mean. In this question, we consider the squared reconstruction error:\n",
    "\n",
    "$$  \\parallel XQ- XQ_m \\parallel ^2 $$\n",
    "\n",
    "for a suitable set of eigenvectors forming the matrix $Q_m$, as discussed below. Suppose that we conduct eigendecomposition of $X^T X$ and obtain eigenvalues $\\lambda_1, \\ldots , \\lambda_p$ and principal components $Q$, i.e.\n",
    "\n",
    "$$ X^T X = Q \\Lambda Q ^T $$\n",
    "\n",
    "(1) Suppose that the matrix norm is simply the squared dot product, namely\n",
    "\n",
    "$$ \\parallel A \\parallel ^2 = A^T A $$\n",
    "\n",
    "Then, express the reconstruction error as a sum of matrix products.\n",
    "\n",
    "(2) Simplify your result from (1) based on properties of the matrices $Q$.\n",
    "\n",
    "(3) Now let $Q_m$ be the matrix of the first $m < p$ eigenvectors, namely\n",
    "\n",
    "$$ Q_m = (q_1, \\ldots, q_m, 0, \\ldots, 0) \\in \\Re^{p \\times p} $$\n",
    "\n",
    "Thus, $X Q_m$ is the PCA projection of the data into the space spanned by the first $m$ principal components. Express the products $Q^T_m Q$ and $Q^T Q_m$, again using properties of the eigenbasis $q_1, \\ldots, q_p$.\n",
    "\n",
    "(4) Use your results from (3) to finally fully simplify your expression from (2).\n",
    "\n",
    "(5) Note that the result you obtain should still be a matrix, i.e. this does not define a proper norm on the space of matrices (since the value should be a scalar). Consequently, the true matrix norm is actually the trace of the\n",
    "above result, namely\n",
    "\n",
    "$$ \\parallel A \\parallel ^2  = {\\rm trace} (A^T A) $$\n",
    "Use your result from (4) and this new definition to find a simple expression\n",
    "for the reconstruction error in terms of the eigenvalues.\n",
    "\n",
    "(6) Interpret your result from (5). In light of your results, does our procedure for PCA (selecting the $m$ substantially larger eigenvalues) make sense? Why or why not?"
   ]
  },
  {
   "cell_type": "code",
   "execution_count": null,
   "metadata": {
    "collapsed": true
   },
   "outputs": [],
   "source": []
  }
 ],
 "metadata": {
  "anaconda-cloud": {},
  "kernelspec": {
   "display_name": "a-2017",
   "language": "python",
   "name": "a-2017"
  },
  "language_info": {
   "codemirror_mode": {
    "name": "ipython",
    "version": 3
   },
   "file_extension": ".py",
   "mimetype": "text/x-python",
   "name": "python",
   "nbconvert_exporter": "python",
   "pygments_lexer": "ipython3",
   "version": "3.6.5"
  }
 },
 "nbformat": 4,
 "nbformat_minor": 2
}
