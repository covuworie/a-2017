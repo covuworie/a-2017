{
 "cells": [
  {
   "cell_type": "markdown",
   "metadata": {},
   "source": [
    "# CS 109A/STAT 121A/AC 209A/CSCI E-109A: Homework 4\n",
    "# Regularization, High Dimensionality, PCA\n",
    "\n",
    "\n",
    "**Harvard University**<br/>\n",
    "**Fall 2017**<br/>\n",
    "**Instructors**: Pavlos Protopapas, Kevin Rader, Rahul Dave, Margo Levine\n",
    "\n",
    "---\n",
    "\n",
    "### INSTRUCTIONS\n",
    "\n",
    "- To submit your assignment follow the instructions given in canvas.\n",
    "- Restart the kernel and run the whole notebook again before you submit. \n",
    "- Do not include your name(s) in the notebook even if you are submitting as a group. \n",
    "- If you submit individually and you have worked with someone, please include the name of your [one] partner below. \n",
    "\n",
    "---"
   ]
  },
  {
   "cell_type": "markdown",
   "metadata": {},
   "source": [
    "Your partner's name (if you submit separately):\n",
    "\n",
    "Enrollment Status (109A, 121A, 209A, or E109A):"
   ]
  },
  {
   "cell_type": "markdown",
   "metadata": {},
   "source": [
    "Import libraries:"
   ]
  },
  {
   "cell_type": "code",
   "execution_count": 1,
   "metadata": {
    "collapsed": true
   },
   "outputs": [],
   "source": [
    "import numpy as np\n",
    "import pandas as pd\n",
    "import matplotlib\n",
    "import matplotlib.pyplot as plt\n",
    "from sklearn.metrics import mean_squared_error\n",
    "from sklearn.metrics import r2_score\n",
    "import statsmodels.api as sm\n",
    "from statsmodels.api import OLS\n",
    "from sklearn.preprocessing import PolynomialFeatures\n",
    "from sklearn.linear_model import LinearRegression\n",
    "from sklearn.linear_model import Ridge\n",
    "from sklearn.linear_model import Lasso\n",
    "from sklearn.model_selection import GridSearchCV\n",
    "from sklearn.decomposition import PCA\n",
    "%matplotlib inline"
   ]
  },
  {
   "cell_type": "markdown",
   "metadata": {},
   "source": [
    "# Continuing Bike Sharing Usage Data\n",
    "\n",
    "In this homework, we will focus on multiple linear regression, regularization, dealing with high dimensionality, and PCA. We will continue to build regression models for the Capital Bikeshare program in Washington D.C.  See Homework 3 for more information about the data.\n",
    "\n",
    "*Note: please make sure you use all the processed data from HW 3 Part (a)...you make want to save the data set on your computer and reread the csv/json file here.\n"
   ]
  },
  {
   "cell_type": "markdown",
   "metadata": {},
   "source": [
    "## Part (f): Regularization/Penalization Methods\n",
    "\n",
    "As an alternative to selecting a subset of predictors and fitting a regression model on the subset, one can fit a linear regression model on all predictors, but shrink or regularize the coefficient estimates to make sure that the model does not \"overfit\" the training set. \n",
    "\n",
    "Use the following regularization techniques to fit linear models to the training set:\n",
    "- Ridge regression\n",
    "- Lasso regression\n",
    "    \n",
    "You may choose the shrikage parameter $\\lambda$ from the set $\\{10^{-5}, 10^{-4},...,10^{4},10^{5}\\}$ using cross-validation. In each case, \n",
    "\n",
    "- How do the estimated coefficients compare to or differ from the coefficients estimated by a plain linear regression (without shrikage penalty) in Part (b) fropm HW 3? Is there a difference between coefficients estimated by the two shrinkage methods? If so, give an explantion for the difference.\n",
    "- List the predictors that are assigned a coefficient value close to 0 (say < 1e-10) by the two methods. How closely do these predictors match the redundant predictors (if any) identified in Part (c) from HW 3?\n",
    "- Is there a difference in the way Ridge and Lasso regression assign coefficients to the predictors `temp` and `atemp`? If so, explain the reason for the difference."
   ]
  },
  {
   "cell_type": "markdown",
   "metadata": {},
   "source": [
    "First we read in the preprocessed data from HW3 and check that the data has been imported correctly."
   ]
  },
  {
   "cell_type": "code",
   "execution_count": 2,
   "metadata": {},
   "outputs": [
    {
     "data": {
      "text/html": [
       "<div>\n",
       "<style scoped>\n",
       "    .dataframe tbody tr th:only-of-type {\n",
       "        vertical-align: middle;\n",
       "    }\n",
       "\n",
       "    .dataframe tbody tr th {\n",
       "        vertical-align: top;\n",
       "    }\n",
       "\n",
       "    .dataframe thead th {\n",
       "        text-align: right;\n",
       "    }\n",
       "</style>\n",
       "<table border=\"1\" class=\"dataframe\">\n",
       "  <thead>\n",
       "    <tr style=\"text-align: right;\">\n",
       "      <th></th>\n",
       "      <th>season_2</th>\n",
       "      <th>season_3</th>\n",
       "      <th>season_4</th>\n",
       "      <th>month_2</th>\n",
       "      <th>month_3</th>\n",
       "      <th>month_4</th>\n",
       "      <th>month_5</th>\n",
       "      <th>month_6</th>\n",
       "      <th>month_7</th>\n",
       "      <th>month_8</th>\n",
       "      <th>...</th>\n",
       "      <th>day_of_week_6</th>\n",
       "      <th>weather_2</th>\n",
       "      <th>weather_3</th>\n",
       "      <th>temp</th>\n",
       "      <th>atemp</th>\n",
       "      <th>humidity</th>\n",
       "      <th>windspeed</th>\n",
       "      <th>holiday</th>\n",
       "      <th>workingday</th>\n",
       "      <th>count</th>\n",
       "    </tr>\n",
       "  </thead>\n",
       "  <tbody>\n",
       "    <tr>\n",
       "      <th>0</th>\n",
       "      <td>1</td>\n",
       "      <td>0</td>\n",
       "      <td>0</td>\n",
       "      <td>0</td>\n",
       "      <td>0</td>\n",
       "      <td>0</td>\n",
       "      <td>1</td>\n",
       "      <td>0</td>\n",
       "      <td>0</td>\n",
       "      <td>0</td>\n",
       "      <td>...</td>\n",
       "      <td>0</td>\n",
       "      <td>1</td>\n",
       "      <td>0</td>\n",
       "      <td>0.623798</td>\n",
       "      <td>0.650106</td>\n",
       "      <td>0.920664</td>\n",
       "      <td>-0.928758</td>\n",
       "      <td>0</td>\n",
       "      <td>1</td>\n",
       "      <td>6073.0</td>\n",
       "    </tr>\n",
       "    <tr>\n",
       "      <th>1</th>\n",
       "      <td>0</td>\n",
       "      <td>0</td>\n",
       "      <td>1</td>\n",
       "      <td>0</td>\n",
       "      <td>0</td>\n",
       "      <td>0</td>\n",
       "      <td>0</td>\n",
       "      <td>0</td>\n",
       "      <td>0</td>\n",
       "      <td>0</td>\n",
       "      <td>...</td>\n",
       "      <td>0</td>\n",
       "      <td>0</td>\n",
       "      <td>0</td>\n",
       "      <td>-0.180310</td>\n",
       "      <td>-0.054759</td>\n",
       "      <td>0.696852</td>\n",
       "      <td>-0.213502</td>\n",
       "      <td>0</td>\n",
       "      <td>1</td>\n",
       "      <td>6606.0</td>\n",
       "    </tr>\n",
       "    <tr>\n",
       "      <th>2</th>\n",
       "      <td>1</td>\n",
       "      <td>0</td>\n",
       "      <td>0</td>\n",
       "      <td>0</td>\n",
       "      <td>0</td>\n",
       "      <td>0</td>\n",
       "      <td>0</td>\n",
       "      <td>1</td>\n",
       "      <td>0</td>\n",
       "      <td>0</td>\n",
       "      <td>...</td>\n",
       "      <td>0</td>\n",
       "      <td>0</td>\n",
       "      <td>0</td>\n",
       "      <td>0.802489</td>\n",
       "      <td>0.851495</td>\n",
       "      <td>-0.448383</td>\n",
       "      <td>0.803926</td>\n",
       "      <td>0</td>\n",
       "      <td>1</td>\n",
       "      <td>7363.0</td>\n",
       "    </tr>\n",
       "    <tr>\n",
       "      <th>3</th>\n",
       "      <td>0</td>\n",
       "      <td>0</td>\n",
       "      <td>1</td>\n",
       "      <td>0</td>\n",
       "      <td>0</td>\n",
       "      <td>0</td>\n",
       "      <td>0</td>\n",
       "      <td>0</td>\n",
       "      <td>0</td>\n",
       "      <td>0</td>\n",
       "      <td>...</td>\n",
       "      <td>0</td>\n",
       "      <td>0</td>\n",
       "      <td>0</td>\n",
       "      <td>-1.520492</td>\n",
       "      <td>-1.565182</td>\n",
       "      <td>-0.332113</td>\n",
       "      <td>-0.269099</td>\n",
       "      <td>0</td>\n",
       "      <td>0</td>\n",
       "      <td>2431.0</td>\n",
       "    </tr>\n",
       "    <tr>\n",
       "      <th>4</th>\n",
       "      <td>0</td>\n",
       "      <td>1</td>\n",
       "      <td>0</td>\n",
       "      <td>0</td>\n",
       "      <td>0</td>\n",
       "      <td>0</td>\n",
       "      <td>0</td>\n",
       "      <td>0</td>\n",
       "      <td>0</td>\n",
       "      <td>0</td>\n",
       "      <td>...</td>\n",
       "      <td>0</td>\n",
       "      <td>0</td>\n",
       "      <td>1</td>\n",
       "      <td>0.534453</td>\n",
       "      <td>0.348021</td>\n",
       "      <td>1.975789</td>\n",
       "      <td>-1.199027</td>\n",
       "      <td>0</td>\n",
       "      <td>1</td>\n",
       "      <td>1996.0</td>\n",
       "    </tr>\n",
       "  </tbody>\n",
       "</table>\n",
       "<p>5 rows × 29 columns</p>\n",
       "</div>"
      ],
      "text/plain": [
       "   season_2  season_3  season_4  month_2  month_3  month_4  month_5  month_6  \\\n",
       "0         1         0         0        0        0        0        1        0   \n",
       "1         0         0         1        0        0        0        0        0   \n",
       "2         1         0         0        0        0        0        0        1   \n",
       "3         0         0         1        0        0        0        0        0   \n",
       "4         0         1         0        0        0        0        0        0   \n",
       "\n",
       "   month_7  month_8   ...    day_of_week_6  weather_2  weather_3      temp  \\\n",
       "0        0        0   ...                0          1          0  0.623798   \n",
       "1        0        0   ...                0          0          0 -0.180310   \n",
       "2        0        0   ...                0          0          0  0.802489   \n",
       "3        0        0   ...                0          0          0 -1.520492   \n",
       "4        0        0   ...                0          0          1  0.534453   \n",
       "\n",
       "      atemp  humidity  windspeed  holiday  workingday   count  \n",
       "0  0.650106  0.920664  -0.928758        0           1  6073.0  \n",
       "1 -0.054759  0.696852  -0.213502        0           1  6606.0  \n",
       "2  0.851495 -0.448383   0.803926        0           1  7363.0  \n",
       "3 -1.565182 -0.332113  -0.269099        0           0  2431.0  \n",
       "4  0.348021  1.975789  -1.199027        0           1  1996.0  \n",
       "\n",
       "[5 rows x 29 columns]"
      ]
     },
     "metadata": {},
     "output_type": "display_data"
    },
    {
     "data": {
      "text/html": [
       "<div>\n",
       "<style scoped>\n",
       "    .dataframe tbody tr th:only-of-type {\n",
       "        vertical-align: middle;\n",
       "    }\n",
       "\n",
       "    .dataframe tbody tr th {\n",
       "        vertical-align: top;\n",
       "    }\n",
       "\n",
       "    .dataframe thead th {\n",
       "        text-align: right;\n",
       "    }\n",
       "</style>\n",
       "<table border=\"1\" class=\"dataframe\">\n",
       "  <thead>\n",
       "    <tr style=\"text-align: right;\">\n",
       "      <th></th>\n",
       "      <th>season_2</th>\n",
       "      <th>season_3</th>\n",
       "      <th>season_4</th>\n",
       "      <th>month_2</th>\n",
       "      <th>month_3</th>\n",
       "      <th>month_4</th>\n",
       "      <th>month_5</th>\n",
       "      <th>month_6</th>\n",
       "      <th>month_7</th>\n",
       "      <th>month_8</th>\n",
       "      <th>...</th>\n",
       "      <th>day_of_week_6</th>\n",
       "      <th>weather_2</th>\n",
       "      <th>weather_3</th>\n",
       "      <th>temp</th>\n",
       "      <th>atemp</th>\n",
       "      <th>humidity</th>\n",
       "      <th>windspeed</th>\n",
       "      <th>holiday</th>\n",
       "      <th>workingday</th>\n",
       "      <th>count</th>\n",
       "    </tr>\n",
       "  </thead>\n",
       "  <tbody>\n",
       "    <tr>\n",
       "      <th>0</th>\n",
       "      <td>0</td>\n",
       "      <td>0</td>\n",
       "      <td>0</td>\n",
       "      <td>1</td>\n",
       "      <td>0</td>\n",
       "      <td>0</td>\n",
       "      <td>0</td>\n",
       "      <td>0</td>\n",
       "      <td>0</td>\n",
       "      <td>0</td>\n",
       "      <td>...</td>\n",
       "      <td>0</td>\n",
       "      <td>0</td>\n",
       "      <td>0</td>\n",
       "      <td>-1.152787</td>\n",
       "      <td>-1.170934</td>\n",
       "      <td>-0.429753</td>\n",
       "      <td>0.049862</td>\n",
       "      <td>0</td>\n",
       "      <td>1</td>\n",
       "      <td>3830.0</td>\n",
       "    </tr>\n",
       "    <tr>\n",
       "      <th>1</th>\n",
       "      <td>0</td>\n",
       "      <td>0</td>\n",
       "      <td>0</td>\n",
       "      <td>0</td>\n",
       "      <td>0</td>\n",
       "      <td>0</td>\n",
       "      <td>0</td>\n",
       "      <td>0</td>\n",
       "      <td>0</td>\n",
       "      <td>0</td>\n",
       "      <td>...</td>\n",
       "      <td>0</td>\n",
       "      <td>1</td>\n",
       "      <td>0</td>\n",
       "      <td>-1.237691</td>\n",
       "      <td>-1.455602</td>\n",
       "      <td>0.211487</td>\n",
       "      <td>2.077744</td>\n",
       "      <td>0</td>\n",
       "      <td>1</td>\n",
       "      <td>2114.0</td>\n",
       "    </tr>\n",
       "    <tr>\n",
       "      <th>2</th>\n",
       "      <td>1</td>\n",
       "      <td>0</td>\n",
       "      <td>0</td>\n",
       "      <td>0</td>\n",
       "      <td>0</td>\n",
       "      <td>0</td>\n",
       "      <td>0</td>\n",
       "      <td>1</td>\n",
       "      <td>0</td>\n",
       "      <td>0</td>\n",
       "      <td>...</td>\n",
       "      <td>0</td>\n",
       "      <td>1</td>\n",
       "      <td>0</td>\n",
       "      <td>1.733956</td>\n",
       "      <td>1.770634</td>\n",
       "      <td>-0.385631</td>\n",
       "      <td>-0.523753</td>\n",
       "      <td>0</td>\n",
       "      <td>1</td>\n",
       "      <td>915.0</td>\n",
       "    </tr>\n",
       "    <tr>\n",
       "      <th>3</th>\n",
       "      <td>0</td>\n",
       "      <td>0</td>\n",
       "      <td>0</td>\n",
       "      <td>1</td>\n",
       "      <td>0</td>\n",
       "      <td>0</td>\n",
       "      <td>0</td>\n",
       "      <td>0</td>\n",
       "      <td>0</td>\n",
       "      <td>0</td>\n",
       "      <td>...</td>\n",
       "      <td>0</td>\n",
       "      <td>0</td>\n",
       "      <td>0</td>\n",
       "      <td>-0.643362</td>\n",
       "      <td>-0.601598</td>\n",
       "      <td>-0.932739</td>\n",
       "      <td>1.011162</td>\n",
       "      <td>0</td>\n",
       "      <td>1</td>\n",
       "      <td>4322.0</td>\n",
       "    </tr>\n",
       "    <tr>\n",
       "      <th>4</th>\n",
       "      <td>1</td>\n",
       "      <td>0</td>\n",
       "      <td>0</td>\n",
       "      <td>0</td>\n",
       "      <td>0</td>\n",
       "      <td>0</td>\n",
       "      <td>1</td>\n",
       "      <td>0</td>\n",
       "      <td>0</td>\n",
       "      <td>0</td>\n",
       "      <td>...</td>\n",
       "      <td>0</td>\n",
       "      <td>0</td>\n",
       "      <td>0</td>\n",
       "      <td>1.054723</td>\n",
       "      <td>1.011520</td>\n",
       "      <td>0.523275</td>\n",
       "      <td>0.324419</td>\n",
       "      <td>0</td>\n",
       "      <td>0</td>\n",
       "      <td>6591.0</td>\n",
       "    </tr>\n",
       "  </tbody>\n",
       "</table>\n",
       "<p>5 rows × 29 columns</p>\n",
       "</div>"
      ],
      "text/plain": [
       "   season_2  season_3  season_4  month_2  month_3  month_4  month_5  month_6  \\\n",
       "0         0         0         0        1        0        0        0        0   \n",
       "1         0         0         0        0        0        0        0        0   \n",
       "2         1         0         0        0        0        0        0        1   \n",
       "3         0         0         0        1        0        0        0        0   \n",
       "4         1         0         0        0        0        0        1        0   \n",
       "\n",
       "   month_7  month_8   ...    day_of_week_6  weather_2  weather_3      temp  \\\n",
       "0        0        0   ...                0          0          0 -1.152787   \n",
       "1        0        0   ...                0          1          0 -1.237691   \n",
       "2        0        0   ...                0          1          0  1.733956   \n",
       "3        0        0   ...                0          0          0 -0.643362   \n",
       "4        0        0   ...                0          0          0  1.054723   \n",
       "\n",
       "      atemp  humidity  windspeed  holiday  workingday   count  \n",
       "0 -1.170934 -0.429753   0.049862        0           1  3830.0  \n",
       "1 -1.455602  0.211487   2.077744        0           1  2114.0  \n",
       "2  1.770634 -0.385631  -0.523753        0           1   915.0  \n",
       "3 -0.601598 -0.932739   1.011162        0           1  4322.0  \n",
       "4  1.011520  0.523275   0.324419        0           0  6591.0  \n",
       "\n",
       "[5 rows x 29 columns]"
      ]
     },
     "execution_count": 2,
     "metadata": {},
     "output_type": "execute_result"
    }
   ],
   "source": [
    "bike_rentals_train_pp = pd.read_csv('../hwassets/data/Bikeshare_pp_train.csv',\n",
    "                                    usecols=range(1, 30))\n",
    "bike_rentals_test_pp = pd.read_csv('../hwassets/data/Bikeshare_pp_test.csv',\n",
    "                                   usecols=range(1, 30))\n",
    "display(bike_rentals_train_pp.head())\n",
    "bike_rentals_test_pp.head()"
   ]
  },
  {
   "cell_type": "markdown",
   "metadata": {},
   "source": [
    "Now we select the regularization parameter $\\lambda$ from cross-validation and fit the Ridge and Lasso regression models on the training data."
   ]
  },
  {
   "cell_type": "code",
   "execution_count": 3,
   "metadata": {},
   "outputs": [],
   "source": [
    "def cross_validate(estimator, param_grid, X, y, cv=3, scoring='r2'):\n",
    "    grid_search_cv = GridSearchCV(estimator, param_grid=param_grid, cv=3,\n",
    "                                  scoring=scoring, return_train_score=True)\n",
    "    grid_search_cv.fit(X, y)\n",
    "    return grid_search_cv.best_estimator_\n",
    "\n",
    "\n",
    "def fit_model(estimator, X, y):\n",
    "    estimator.fit(X, y)\n",
    "    return pd.Series(estimator.coef_, index=X.columns)"
   ]
  },
  {
   "cell_type": "code",
   "execution_count": 4,
   "metadata": {},
   "outputs": [],
   "source": [
    "lambdas = {'alpha': [10**i for i in range(-5, 6)]}\n",
    "Xtrain = bike_rentals_train_pp.drop('count', axis='columns')\n",
    "ytrain = bike_rentals_train_pp['count']\n",
    "Xtest = bike_rentals_test_pp.drop('count', axis='columns')\n",
    "ytest = bike_rentals_test_pp['count']"
   ]
  },
  {
   "cell_type": "code",
   "execution_count": 5,
   "metadata": {},
   "outputs": [
    {
     "name": "stdout",
     "output_type": "stream",
     "text": [
      "season_2         393.172558\n",
      "season_3         172.179280\n",
      "season_4         761.785438\n",
      "month_2         -115.121866\n",
      "month_3           88.890507\n",
      "month_4          369.535648\n",
      "month_5          133.372454\n",
      "month_6         -312.374874\n",
      "month_7         -529.544517\n",
      "month_8          -89.294041\n",
      "month_9          676.886869\n",
      "month_10         503.423043\n",
      "month_11         159.095865\n",
      "month_12        -100.658217\n",
      "day_of_week_1   -130.581134\n",
      "day_of_week_2   -125.495343\n",
      "day_of_week_3    124.317969\n",
      "day_of_week_4     64.479041\n",
      "day_of_week_5    126.173106\n",
      "day_of_week_6    303.988692\n",
      "weather_2         20.280511\n",
      "weather_3       -676.143888\n",
      "temp             682.808258\n",
      "atemp            553.889947\n",
      "humidity        -567.721919\n",
      "windspeed       -266.413119\n",
      "holiday         -158.559716\n",
      "workingday       217.453354\n",
      "dtype: float64\n",
      "sum of coefs L1-norm: 8423.641171924373\n",
      "sum of coefs L2-norm: 3930125.9527748106\n"
     ]
    }
   ],
   "source": [
    "ridge = Ridge(random_state=1)\n",
    "best_ridge = cross_validate(ridge, lambdas, Xtrain, ytrain)\n",
    "ridge_coef = fit_model(best_ridge, Xtrain, ytrain)\n",
    "print(ridge_coef)\n",
    "print('sum of coefs L1-norm:', sum([abs(coef) for coef in ridge_coef]))\n",
    "print('sum of coefs L2-norm:', sum([coef**2 for coef in ridge_coef]))"
   ]
  },
  {
   "cell_type": "code",
   "execution_count": 6,
   "metadata": {},
   "outputs": [
    {
     "name": "stdout",
     "output_type": "stream",
     "text": [
      "season_2          543.861927\n",
      "season_3          113.454922\n",
      "season_4          898.946725\n",
      "month_2            -0.000000\n",
      "month_3            14.047603\n",
      "month_4           312.677260\n",
      "month_5             0.000000\n",
      "month_6          -354.588153\n",
      "month_7          -495.859956\n",
      "month_8            -0.000000\n",
      "month_9           834.711018\n",
      "month_10          484.026195\n",
      "month_11           68.215006\n",
      "month_12           -0.000000\n",
      "day_of_week_1    -178.923213\n",
      "day_of_week_2    -129.139964\n",
      "day_of_week_3      17.604088\n",
      "day_of_week_4       0.000000\n",
      "day_of_week_5      11.175120\n",
      "day_of_week_6     309.978800\n",
      "weather_2          -0.000000\n",
      "weather_3       -1058.378974\n",
      "temp              857.462470\n",
      "atemp             396.714215\n",
      "humidity         -555.831919\n",
      "windspeed        -254.429009\n",
      "holiday            -0.000000\n",
      "workingday        277.547940\n",
      "dtype: float64\n",
      "sum of coefs L1-norm: 8167.574478542821\n",
      "sum of coefs L2-norm: 5130732.91767416\n"
     ]
    }
   ],
   "source": [
    "lasso = Lasso(random_state=3, max_iter=10**5,\n",
    "              selection='random')  # convergence issues\n",
    "best_lasso = cross_validate(lasso, lambdas, Xtrain, ytrain)\n",
    "lasso_coef = fit_model(best_lasso, Xtrain, ytrain)\n",
    "print(lasso_coef)\n",
    "print('sum of coefs L1-norm:', sum([abs(coef) for coef in lasso_coef]))\n",
    "print('sum of coefs L2-norm:', sum([coef**2 for coef in lasso_coef]))"
   ]
  },
  {
   "cell_type": "markdown",
   "metadata": {},
   "source": [
    "In general, the estimated coefficients for both Ridge and Lasso regression are smaller than the coefficients estimated by plain linear regression in part (b) from HW 3 due to the shrinkage penalty. More precisely, $\\lvert \\lvert \\beta_{i} \\rvert \\rvert_{1}$ and $\\lvert \\lvert \\beta_{i} \\rvert \\rvert^{2}_{2}$ are smaller. Moreover, we can see that the L1-norm value for Lasso regression is smaller than that for Ridge regression and the L2-norm value is smaller for Ridge regression than for Lasso regression. This is to be expected as these are the respective norms in the loss functions that these regression methods minimize. We also see that Ridge regression just shrinks the coefficients (no coefficient values are zero) whereas Lasso regression actually performs variable selection as it sets some of the parameter values to zero.\n",
    "\n",
    "We can see that the predictors which are assigned a coefficient value of zero by Lasso regression are:\n",
    "- month_2            \n",
    "- month_5             \n",
    "- month_8            \n",
    "- month_12           \n",
    "- day_of_week_4      \n",
    "- weather_2       \n",
    "- holiday  \n",
    "\n",
    "It's a mixed bag with regards to how closely these predictors match the redundant predictors in part (c) from HW 3. We can see that the several of the month predictors have been elimated by the Lasso regression. `day_of_week_4`, `weather_2` and `holidat` were not particularly problematic, but have been eliminated. Some predictor pairs which were highly problematic such as `temp` and `atemp`, `day_of_week_6` and `workingday` and a few pairs of month and season still remain.\n",
    "\n",
    "There a difference in the way Ridge and Lasso regression assign coefficients to the predictors `temp` and `atemp`. The Ridge regression has the effect of these two predictors on the bike rental count as more comparable (with `temp` having a slightly greater effect) whereas Lasso regression has `temp` having a much larger effect than `atemp`."
   ]
  },
  {
   "cell_type": "markdown",
   "metadata": {},
   "source": [
    "We next analyze the performance of the two shrinkage methods for different training sample sizes:\n",
    "- Generate random samples of sizes 100, 150, ..., 400 from the training set. You may use the following code to draw a random sample of a specified size from the training set:"
   ]
  },
  {
   "cell_type": "code",
   "execution_count": 7,
   "metadata": {
    "collapsed": true
   },
   "outputs": [],
   "source": [
    "#--------  sample\n",
    "# A function to select a random sample of size k from the training set\n",
    "# Input: \n",
    "#      x (n x d array of predictors in training data)\n",
    "#      y (n x 1 array of response variable vals in training data)\n",
    "#      k (size of sample) \n",
    "# Return: \n",
    "#      chosen sample of predictors and responses\n",
    "\n",
    "def sample(x, y, k):\n",
    "    n = x.shape[0] # No. of training points\n",
    "    \n",
    "    # Choose random indices of size 'k'\n",
    "    subset_ind = np.random.choice(np.arange(n), k)\n",
    "    \n",
    "    # Get predictors and reponses with the indices\n",
    "    x_subset = x[subset_ind, :]\n",
    "    y_subset = y[subset_ind]\n",
    "    \n",
    "    return (x_subset, y_subset)"
   ]
  },
  {
   "cell_type": "markdown",
   "metadata": {},
   "source": [
    "- Fit linear, Ridge and Lasso regression models to each of the generated sample. In each case, compute the $R^2$ score for the model on the training sample on which it was fitted, and on the test set.\n",
    "- Repeat the above experiment for 10 random trials/splits, and compute the average train and test $R^2$ across the trials for each training sample size. Also, compute the standard deviation (SD) in each case.\n",
    "- Make a plot of the mean training $R^2$ scores for the linear, Ridge and Lasso regression methods as a function of the training sample size. Also, show a confidence interval for the mean scores extending from **mean - SD** to **mean + SD**. Make a similar plot for the test $R^2$ scores.\n",
    "\n",
    "How do the training and test $R^2$ scores compare for the three methods? Give an explanation for your observations. How do the confidence intervals for the estimated $R^2$ change with training sample size? Based on the plots, which of the three methods would you recommend when one needs to fit a regression model using a small training sample?\n",
    "\n",
    "*Hint:* You may use `sklearn`'s `RidgeCV` and `LassoCV` classes to implement Ridge and Lasso regression. These classes automatically perform cross-validation to tune the parameter $\\lambda$ from a given range of values. You may use the `plt.errorbar` function to plot confidence bars for the average $R^2$ scores."
   ]
  },
  {
   "cell_type": "code",
   "execution_count": 8,
   "metadata": {},
   "outputs": [],
   "source": [
    "sample_sizes = list(range(100, 401, 50))\n",
    "models = {'linear': LinearRegression(),\n",
    "          'ridge': Ridge(alpha=best_ridge.alpha, random_state=4),\n",
    "          'lasso': Lasso(alpha=best_lasso.alpha, random_state=6,\n",
    "                         max_iter=10**5)}"
   ]
  },
  {
   "cell_type": "code",
   "execution_count": 9,
   "metadata": {},
   "outputs": [],
   "source": [
    "def models_r_squared(estimators, Xtrain, ytrain, Xtest, ytest,\n",
    "                     sample_sizes, num_trials=10):\n",
    "    models_r2 = []\n",
    "    for name, model in models.items():\n",
    "        train_r2_means = []\n",
    "        test_r2_means = []\n",
    "        train_r2_stds = []\n",
    "        test_r2_stds = []\n",
    "        for sample_size in sample_sizes:\n",
    "            train_r2 = []\n",
    "            test_r2 = []\n",
    "            for trial in range(num_trials):\n",
    "                Xtrain_sample, ytrain_sample = sample(Xtrain.values, ytrain,\n",
    "                                                      sample_size)\n",
    "                model.fit(Xtrain_sample, ytrain_sample)\n",
    "                train_r2.append(model.score(Xtrain_sample, ytrain_sample))\n",
    "                test_r2.append(r2_score(ytest, model.predict(Xtest)))\n",
    "            train_r2_means.append(np.mean(train_r2))\n",
    "            test_r2_means.append(np.mean(test_r2))\n",
    "            train_r2_stds.append(np.std(train_r2))\n",
    "            test_r2_stds.append(np.std(test_r2))\n",
    "        results = {'name': name, 'sample_sizes': sample_sizes,\n",
    "                   'train_r2_means': train_r2_means,\n",
    "                   'test_r2_means': test_r2_means,\n",
    "                   'train_r2_stds': train_r2_stds,\n",
    "                   'test_r2_stds': test_r2_stds}\n",
    "        models_r2.append(results)\n",
    "    return models_r2"
   ]
  },
  {
   "cell_type": "code",
   "execution_count": 10,
   "metadata": {},
   "outputs": [],
   "source": [
    "models_r2 = models_r_squared(models, Xtrain, ytrain, Xtest, ytest,\n",
    "                             sample_sizes)"
   ]
  },
  {
   "cell_type": "code",
   "execution_count": 11,
   "metadata": {},
   "outputs": [
    {
     "data": {
      "image/png": "[encoded data removed]",
      "text/plain": [
       "<Figure size 864x432 with 2 Axes>"
      ]
     },
     "metadata": {},
     "output_type": "display_data"
    }
   ],
   "source": [
    "fig, (ax1, ax2) = plt.subplots(ncols=2, figsize=(12, 6), sharey=True)\n",
    "for model_r2 in models_r2:\n",
    "    ax1.errorbar(sample_sizes, model_r2['train_r2_means'],\n",
    "                 yerr=2*np.array(model_r2['train_r2_stds']),\n",
    "                 label=model_r2['name'], fmt='-o', capsize=3, markersize=4)\n",
    "    ax2.errorbar(sample_sizes, model_r2['test_r2_means'],\n",
    "                 yerr=2*np.array(model_r2['test_r2_stds']),\n",
    "                 label=model_r2['name'], fmt='-o', capsize=3, markersize=4)\n",
    "ax1.set_ylim((-0.2, 1))\n",
    "ax1.set_xlabel('training sample size')\n",
    "ax2.set_xlabel(ax1.get_xlabel())\n",
    "ax1.set_ylabel('mean training $R^{2}$')\n",
    "ax2.set_ylabel('mean test $R^{2}$')\n",
    "ax1.set_title('Mean training $R^{2}$ vs training sample size')\n",
    "ax1.set_title('Mean test $R^{2}$ vs training sample size')\n",
    "ax1.legend()\n",
    "ax2.legend()\n",
    "fig.tight_layout()"
   ]
  },
  {
   "cell_type": "markdown",
   "metadata": {},
   "source": [
    "The mean training $R^2$ is highest for the Linear regression model over almost all training sample sizes as it overfits to the training data. The Lasso regression model has a higher mean training $R^2$ than the Ridge regression model for all training sample sizes except the largest (400). As expected, the mean training $R^2$ generally decreases with training sample size as it becomes more difficult for the models to fit to the data.\n",
    "\n",
    "The mean test $R^2$ values are much lower than the corresponding training values as expected as we are out-of-sample. The Ridge regression model has the highest mean test $R^2$ over almost all training examples except the largest where it is overtaken by the Lasso regression model. Unsurprisingly, due to the overfitting, the Linear regression model has the poorest out-of-sample performance over all training sample sizes. \n",
    "\n",
    "We can see that the width of the confidence intervals are getting smaller and thus improving as the training sample size increases (for both the training and test $R^2$ values) due to the standard error decreasing. In fact proportional to $\\frac{1}{\\sqrt n}$ where n is the sample size.\n",
    "\n",
    "Based on the plots, I would recommend the Ridge regression be used when one needs to fit a regression model using a small training sample of under 350 points. Should one have 400 points I would recommend the use of Lasso regression instead."
   ]
  },
  {
   "cell_type": "markdown",
   "metadata": {},
   "source": [
    "## Part (g): Polynomial & Interaction Terms\n",
    "\n",
    "Moving beyond linear models, we will now try to improve the performance of the regression model in Part (b) from HW 3 by including higher-order polynomial and interaction terms. \n",
    "\n",
    "- For each continuous predictor $X_j$, include additional polynomial terms $X^2_j$, $X^3_j$, and $X^4_j$, and fit a multiple regression model to the expanded training set. How does the $R^2$ of this model on the test set compare with that of the linear model fitted in Part (b) from HW 3? Using a t-test, find out which of estimated coefficients for the polynomial terms are statistically significant at a significance level of 5%. \n",
    "\n",
    "- Fit a multiple linear regression model with additional interaction terms $\\mathbb{I}_{month = 12} \\times temp$ and $\\mathbb{I}_{workingday = 1} \\times \\mathbb{I}_{weathersit = 1}$ and report the test $R^2$ for the fitted model. How does this compare with the $R^2$ obtained using linear model in Part (b) from HW 3? Are the estimated coefficients for the interaction terms statistically significant at a significance level of 5%?"
   ]
  },
  {
   "cell_type": "markdown",
   "metadata": {},
   "source": [
    "First we fit the model with the polynomial terms"
   ]
  },
  {
   "cell_type": "code",
   "execution_count": 12,
   "metadata": {
    "collapsed": true
   },
   "outputs": [],
   "source": [
    "def create_poly_terms(X, predictors, powers=[2, 3, 4]):\n",
    "    sorted_powers = sorted(powers)\n",
    "    poly_terms = pd.DataFrame()\n",
    "    for power in sorted_powers:\n",
    "        poly_terms = pd.concat((poly_terms, X[predictors]**power), axis=1)\n",
    "    poly_terms.columns = np.ravel([X[predictors].columns + '^' + str(power)\n",
    "                                   for power in powers])\n",
    "    Xpoly = X.join(poly_terms)\n",
    "    return Xpoly"
   ]
  },
  {
   "cell_type": "code",
   "execution_count": 13,
   "metadata": {},
   "outputs": [],
   "source": [
    "continous_predictors = ['temp', 'atemp', 'humidity', 'windspeed']\n",
    "Xtrain_poly = create_poly_terms(Xtrain, continous_predictors)\n",
    "Xtest_poly = create_poly_terms(Xtest, continous_predictors)"
   ]
  },
  {
   "cell_type": "code",
   "execution_count": 14,
   "metadata": {},
   "outputs": [
    {
     "name": "stdout",
     "output_type": "stream",
     "text": [
      "Test R^2 = 0.293959291219576\n",
      "\n",
      "Predictor p-values:\n",
      "season_2         0.092840\n",
      "season_3         0.002583\n",
      "season_4         0.001256\n",
      "month_2          0.428073\n",
      "month_3          0.494851\n",
      "month_4          0.513854\n",
      "month_5          0.126698\n",
      "month_6          0.037698\n",
      "month_7          0.059759\n",
      "month_8          0.021659\n",
      "month_9          0.105405\n",
      "month_10         0.134872\n",
      "month_11         0.163624\n",
      "month_12         0.247511\n",
      "day_of_week_1    0.550179\n",
      "day_of_week_2    0.470708\n",
      "day_of_week_3    0.449470\n",
      "day_of_week_4    0.870538\n",
      "day_of_week_5    0.249713\n",
      "day_of_week_6    0.057033\n",
      "weather_2        0.763811\n",
      "weather_3        0.056870\n",
      "temp             0.310969\n",
      "atemp            0.209347\n",
      "humidity         0.000029\n",
      "windspeed        0.002951\n",
      "holiday          0.603677\n",
      "workingday       0.020369\n",
      "temp^2           0.027402\n",
      "atemp^2          0.137276\n",
      "humidity^2       0.730036\n",
      "windspeed^2      0.788028\n",
      "temp^3           0.975117\n",
      "atemp^3          0.217818\n",
      "humidity^3       0.720833\n",
      "windspeed^3      0.493942\n",
      "temp^4           0.792253\n",
      "atemp^4          0.888201\n",
      "humidity^4       0.430786\n",
      "windspeed^4      0.506371\n",
      "dtype: float64\n"
     ]
    }
   ],
   "source": [
    "ols_poly = OLS(ytrain, sm.add_constant(Xtrain_poly))\n",
    "ols_poly_results = ols_poly.fit()\n",
    "print('Test R^2 =',\n",
    "      r2_score(ytest,\n",
    "               ols_poly_results.predict(sm.add_constant(Xtest_poly))))\n",
    "print()\n",
    "print('Predictor p-values:')\n",
    "print(ols_poly_results.pvalues.drop('const'))"
   ]
  },
  {
   "cell_type": "markdown",
   "metadata": {},
   "source": [
    "The $R^2$ of this model on the test set is higher than that of the linear model fitted in Part (b) from HW 3. We can see that using a t-test, the estimated coefficients of the following parameters for the polynomial terms are statistically significant at a significance level of 5%:\n",
    "- season_3\n",
    "- season_4\n",
    "- month_6         \n",
    "- month_8          \n",
    "- humidity         \n",
    "- windspeed       \n",
    "- workingday       \n",
    "- temp^2           "
   ]
  },
  {
   "cell_type": "markdown",
   "metadata": {},
   "source": [
    "Now we fit the model with the interaction terms."
   ]
  },
  {
   "cell_type": "code",
   "execution_count": 15,
   "metadata": {},
   "outputs": [],
   "source": [
    "def create_interaction_terms(X):\n",
    "    month_terms = X.month_12 * X.temp\n",
    "    month_terms.name = 'temp_int'\n",
    "    # if indicators of weather_2 and weather_3 (no entries for weather_4)\n",
    "    # sum to 0 then weather_1 = 1, otherwise weather_1 = 0\n",
    "    Xweather_1 = 1 - (X.weather_2 + X.weather_3)\n",
    "    weather_terms = X.workingday * Xweather_1\n",
    "    weather_terms.name = 'weather_int'\n",
    "    Xint = X.join((month_terms, weather_terms))\n",
    "    return Xint"
   ]
  },
  {
   "cell_type": "code",
   "execution_count": 16,
   "metadata": {},
   "outputs": [],
   "source": [
    "Xtrain_int = create_interaction_terms(Xtrain)\n",
    "Xtest_int = create_interaction_terms(Xtest)"
   ]
  },
  {
   "cell_type": "code",
   "execution_count": 17,
   "metadata": {},
   "outputs": [
    {
     "name": "stdout",
     "output_type": "stream",
     "text": [
      "Test R^2 = 0.28120865835372255\n",
      "\n",
      "Predictor p-values:\n",
      "temp_int       0.153104\n",
      "weather_int    0.375336\n",
      "dtype: float64\n"
     ]
    }
   ],
   "source": [
    "ols_int = OLS(ytrain, sm.add_constant(Xtrain_int))\n",
    "ols_int_results = ols_int.fit()\n",
    "print('Test R^2 =',\n",
    "      r2_score(ytest,\n",
    "               ols_int_results.predict(sm.add_constant(Xtest_int))))\n",
    "print()\n",
    "print('Predictor p-values:')\n",
    "print(ols_int_results.pvalues.drop('const')[-2:])"
   ]
  },
  {
   "cell_type": "markdown",
   "metadata": {},
   "source": [
    "The $R^2$ of this model on the test set is higher than that of the linear model fitted in Part (b) from HW 3. We can see that using a t-test, the estimated coefficients of the interaction terms are not statistically significant at a significance level of 5%."
   ]
  },
  {
   "cell_type": "markdown",
   "metadata": {},
   "source": [
    "## Part (h): PCA to deal with high dimensionality\n",
    "\n",
    "We would like to fit a model to include all main effects, polynomial terms up to the $4^{th}$ order, and all interactions between all possible predictors and polynomial terms (not including the interactions between $X^1_j$, $X^2_j$, $X^3_j$, and $X^4_j$ as they would just create higher order polynomial terms).  \n",
    "\n",
    "- Create an expanded training set including all the desired terms mentioned above.  What are the dimensions of this 'design matrix' of all the predictor variables?   What are the issues with attempting to fit a regression model using all of these predictors?\n",
    "\n",
    "- Instead of using the usual approaches for model selection, let's instead use principal components analysis (PCA) to fit the model.  First, create the principal component vectors in python (consider: should you normalize first?).  Then fit 5 different regression models: (1) using just the first PCA vector, (2) using the first two PCA vectors, (3) using the first three PCA vectors, etc...  Briefly summarize how these models compare in the training set.\n",
    "\n",
    "- Use the test set to decide which of the 5 models above is best to predict out of sample.  How does this model compare to the previous models you've fit?  What are the interpretations of this model's coefficients?"
   ]
  },
  {
   "cell_type": "code",
   "execution_count": 18,
   "metadata": {
    "collapsed": true
   },
   "outputs": [
    {
     "data": {
      "text/plain": [
       "(331, 35960)"
      ]
     },
     "execution_count": 18,
     "metadata": {},
     "output_type": "execute_result"
    }
   ],
   "source": [
    "Xtrain_poly_all = PolynomialFeatures(4).fit_transform(Xtrain)\n",
    "Xtest_poly_all = PolynomialFeatures(4).fit_transform(Xtest)\n",
    "Xtrain_poly_all.shape"
   ]
  },
  {
   "cell_type": "markdown",
   "metadata": {},
   "source": [
    "We see that the dimensions of the 'design matrix' of all main effects, polynomial terms up to the 4th order, and all interactions between possible predictors and polynomical terms is 331 x 35960. Clearly, we have a situation in which the feature space is of high dimensionality, namely, the number of features is (much) higher than the number of observations. The issues with attempting to fit a regression model using all of the predictors are the following:\n",
    "- **Overfitting** where the model is unnecessarily complex in the sense that it captures the random noise in data rather than the relationship between the predictors and the response variable. This causes the model to lose predictive power on new unseen data.\n",
    "- **Model unidentifiablity** where we have more parameters than observations. We will not be able to uniquely determine 35960 parameters with only 331 observations.\n",
    "- **Model interpretability** in the sense that there will be many redudant variables. We are only interested in sets of predictors that have a significant effect on the response. This is so that we can try to understand why the model makes certain predictions on new unseen data.\n",
    "- **Computational performance** in the sense of longer training and/or predictions times and higher memory requirements.\n",
    "\n",
    "It is clear that we will need a dimensionality reduction technique. We will use Principal Component Analysis (PCA) for model selection. Note that we do not normalize here since in the preprocessing step of part (b) HW3 we already standardized the continuous predictors. As we can see, the scales of the variables are not vastly different due to this."
   ]
  },
  {
   "cell_type": "code",
   "execution_count": 19,
   "metadata": {},
   "outputs": [
    {
     "data": {
      "text/html": [
       "<div>\n",
       "<style scoped>\n",
       "    .dataframe tbody tr th:only-of-type {\n",
       "        vertical-align: middle;\n",
       "    }\n",
       "\n",
       "    .dataframe tbody tr th {\n",
       "        vertical-align: top;\n",
       "    }\n",
       "\n",
       "    .dataframe thead th {\n",
       "        text-align: right;\n",
       "    }\n",
       "</style>\n",
       "<table border=\"1\" class=\"dataframe\">\n",
       "  <thead>\n",
       "    <tr style=\"text-align: right;\">\n",
       "      <th></th>\n",
       "      <th>season_2</th>\n",
       "      <th>season_3</th>\n",
       "      <th>season_4</th>\n",
       "      <th>month_2</th>\n",
       "      <th>month_3</th>\n",
       "      <th>month_4</th>\n",
       "      <th>month_5</th>\n",
       "      <th>month_6</th>\n",
       "      <th>month_7</th>\n",
       "      <th>month_8</th>\n",
       "      <th>...</th>\n",
       "      <th>day_of_week_5</th>\n",
       "      <th>day_of_week_6</th>\n",
       "      <th>weather_2</th>\n",
       "      <th>weather_3</th>\n",
       "      <th>temp</th>\n",
       "      <th>atemp</th>\n",
       "      <th>humidity</th>\n",
       "      <th>windspeed</th>\n",
       "      <th>holiday</th>\n",
       "      <th>workingday</th>\n",
       "    </tr>\n",
       "  </thead>\n",
       "  <tbody>\n",
       "    <tr>\n",
       "      <th>count</th>\n",
       "      <td>331.000000</td>\n",
       "      <td>331.000000</td>\n",
       "      <td>331.000000</td>\n",
       "      <td>331.000000</td>\n",
       "      <td>331.000000</td>\n",
       "      <td>331.000000</td>\n",
       "      <td>331.000000</td>\n",
       "      <td>331.000000</td>\n",
       "      <td>331.000000</td>\n",
       "      <td>331.000000</td>\n",
       "      <td>...</td>\n",
       "      <td>331.000000</td>\n",
       "      <td>331.000000</td>\n",
       "      <td>331.000000</td>\n",
       "      <td>331.000000</td>\n",
       "      <td>3.310000e+02</td>\n",
       "      <td>3.310000e+02</td>\n",
       "      <td>3.310000e+02</td>\n",
       "      <td>3.310000e+02</td>\n",
       "      <td>331.000000</td>\n",
       "      <td>331.000000</td>\n",
       "    </tr>\n",
       "    <tr>\n",
       "      <th>mean</th>\n",
       "      <td>0.259819</td>\n",
       "      <td>0.265861</td>\n",
       "      <td>0.256798</td>\n",
       "      <td>0.066465</td>\n",
       "      <td>0.075529</td>\n",
       "      <td>0.078550</td>\n",
       "      <td>0.102719</td>\n",
       "      <td>0.072508</td>\n",
       "      <td>0.093656</td>\n",
       "      <td>0.081571</td>\n",
       "      <td>...</td>\n",
       "      <td>0.145015</td>\n",
       "      <td>0.135952</td>\n",
       "      <td>0.329305</td>\n",
       "      <td>0.030211</td>\n",
       "      <td>-4.829973e-17</td>\n",
       "      <td>-1.046494e-16</td>\n",
       "      <td>-7.996289e-16</td>\n",
       "      <td>1.534858e-15</td>\n",
       "      <td>0.033233</td>\n",
       "      <td>0.670695</td>\n",
       "    </tr>\n",
       "    <tr>\n",
       "      <th>std</th>\n",
       "      <td>0.439199</td>\n",
       "      <td>0.442459</td>\n",
       "      <td>0.437528</td>\n",
       "      <td>0.249471</td>\n",
       "      <td>0.264643</td>\n",
       "      <td>0.269442</td>\n",
       "      <td>0.304051</td>\n",
       "      <td>0.259719</td>\n",
       "      <td>0.291790</td>\n",
       "      <td>0.274124</td>\n",
       "      <td>...</td>\n",
       "      <td>0.352649</td>\n",
       "      <td>0.343256</td>\n",
       "      <td>0.470672</td>\n",
       "      <td>0.171428</td>\n",
       "      <td>1.000000e+00</td>\n",
       "      <td>1.000000e+00</td>\n",
       "      <td>1.000000e+00</td>\n",
       "      <td>1.000000e+00</td>\n",
       "      <td>0.179515</td>\n",
       "      <td>0.470672</td>\n",
       "    </tr>\n",
       "    <tr>\n",
       "      <th>min</th>\n",
       "      <td>0.000000</td>\n",
       "      <td>0.000000</td>\n",
       "      <td>0.000000</td>\n",
       "      <td>0.000000</td>\n",
       "      <td>0.000000</td>\n",
       "      <td>0.000000</td>\n",
       "      <td>0.000000</td>\n",
       "      <td>0.000000</td>\n",
       "      <td>0.000000</td>\n",
       "      <td>0.000000</td>\n",
       "      <td>...</td>\n",
       "      <td>0.000000</td>\n",
       "      <td>0.000000</td>\n",
       "      <td>0.000000</td>\n",
       "      <td>0.000000</td>\n",
       "      <td>-2.503291e+00</td>\n",
       "      <td>-2.572131e+00</td>\n",
       "      <td>-2.648736e+00</td>\n",
       "      <td>-2.152869e+00</td>\n",
       "      <td>0.000000</td>\n",
       "      <td>0.000000</td>\n",
       "    </tr>\n",
       "    <tr>\n",
       "      <th>25%</th>\n",
       "      <td>0.000000</td>\n",
       "      <td>0.000000</td>\n",
       "      <td>0.000000</td>\n",
       "      <td>0.000000</td>\n",
       "      <td>0.000000</td>\n",
       "      <td>0.000000</td>\n",
       "      <td>0.000000</td>\n",
       "      <td>0.000000</td>\n",
       "      <td>0.000000</td>\n",
       "      <td>0.000000</td>\n",
       "      <td>...</td>\n",
       "      <td>0.000000</td>\n",
       "      <td>0.000000</td>\n",
       "      <td>0.000000</td>\n",
       "      <td>0.000000</td>\n",
       "      <td>-8.504011e-01</td>\n",
       "      <td>-8.603176e-01</td>\n",
       "      <td>-7.452412e-01</td>\n",
       "      <td>-7.381149e-01</td>\n",
       "      <td>0.000000</td>\n",
       "      <td>0.000000</td>\n",
       "    </tr>\n",
       "    <tr>\n",
       "      <th>50%</th>\n",
       "      <td>0.000000</td>\n",
       "      <td>0.000000</td>\n",
       "      <td>0.000000</td>\n",
       "      <td>0.000000</td>\n",
       "      <td>0.000000</td>\n",
       "      <td>0.000000</td>\n",
       "      <td>0.000000</td>\n",
       "      <td>0.000000</td>\n",
       "      <td>0.000000</td>\n",
       "      <td>0.000000</td>\n",
       "      <td>...</td>\n",
       "      <td>0.000000</td>\n",
       "      <td>0.000000</td>\n",
       "      <td>0.000000</td>\n",
       "      <td>0.000000</td>\n",
       "      <td>8.772587e-02</td>\n",
       "      <td>1.466312e-01</td>\n",
       "      <td>-6.562743e-03</td>\n",
       "      <td>-1.579037e-01</td>\n",
       "      <td>0.000000</td>\n",
       "      <td>1.000000</td>\n",
       "    </tr>\n",
       "    <tr>\n",
       "      <th>75%</th>\n",
       "      <td>1.000000</td>\n",
       "      <td>1.000000</td>\n",
       "      <td>1.000000</td>\n",
       "      <td>0.000000</td>\n",
       "      <td>0.000000</td>\n",
       "      <td>0.000000</td>\n",
       "      <td>0.000000</td>\n",
       "      <td>0.000000</td>\n",
       "      <td>0.000000</td>\n",
       "      <td>0.000000</td>\n",
       "      <td>...</td>\n",
       "      <td>0.000000</td>\n",
       "      <td>0.000000</td>\n",
       "      <td>1.000000</td>\n",
       "      <td>0.000000</td>\n",
       "      <td>8.024892e-01</td>\n",
       "      <td>7.508005e-01</td>\n",
       "      <td>7.055719e-01</td>\n",
       "      <td>5.693478e-01</td>\n",
       "      <td>0.000000</td>\n",
       "      <td>1.000000</td>\n",
       "    </tr>\n",
       "    <tr>\n",
       "      <th>max</th>\n",
       "      <td>1.000000</td>\n",
       "      <td>1.000000</td>\n",
       "      <td>1.000000</td>\n",
       "      <td>1.000000</td>\n",
       "      <td>1.000000</td>\n",
       "      <td>1.000000</td>\n",
       "      <td>1.000000</td>\n",
       "      <td>1.000000</td>\n",
       "      <td>1.000000</td>\n",
       "      <td>1.000000</td>\n",
       "      <td>...</td>\n",
       "      <td>1.000000</td>\n",
       "      <td>1.000000</td>\n",
       "      <td>1.000000</td>\n",
       "      <td>1.000000</td>\n",
       "      <td>1.874634e+00</td>\n",
       "      <td>1.959139e+00</td>\n",
       "      <td>2.362380e+00</td>\n",
       "      <td>2.949989e+00</td>\n",
       "      <td>1.000000</td>\n",
       "      <td>1.000000</td>\n",
       "    </tr>\n",
       "  </tbody>\n",
       "</table>\n",
       "<p>8 rows × 28 columns</p>\n",
       "</div>"
      ],
      "text/plain": [
       "         season_2    season_3    season_4     month_2     month_3     month_4  \\\n",
       "count  331.000000  331.000000  331.000000  331.000000  331.000000  331.000000   \n",
       "mean     0.259819    0.265861    0.256798    0.066465    0.075529    0.078550   \n",
       "std      0.439199    0.442459    0.437528    0.249471    0.264643    0.269442   \n",
       "min      0.000000    0.000000    0.000000    0.000000    0.000000    0.000000   \n",
       "25%      0.000000    0.000000    0.000000    0.000000    0.000000    0.000000   \n",
       "50%      0.000000    0.000000    0.000000    0.000000    0.000000    0.000000   \n",
       "75%      1.000000    1.000000    1.000000    0.000000    0.000000    0.000000   \n",
       "max      1.000000    1.000000    1.000000    1.000000    1.000000    1.000000   \n",
       "\n",
       "          month_5     month_6     month_7     month_8     ...      \\\n",
       "count  331.000000  331.000000  331.000000  331.000000     ...       \n",
       "mean     0.102719    0.072508    0.093656    0.081571     ...       \n",
       "std      0.304051    0.259719    0.291790    0.274124     ...       \n",
       "min      0.000000    0.000000    0.000000    0.000000     ...       \n",
       "25%      0.000000    0.000000    0.000000    0.000000     ...       \n",
       "50%      0.000000    0.000000    0.000000    0.000000     ...       \n",
       "75%      0.000000    0.000000    0.000000    0.000000     ...       \n",
       "max      1.000000    1.000000    1.000000    1.000000     ...       \n",
       "\n",
       "       day_of_week_5  day_of_week_6   weather_2   weather_3          temp  \\\n",
       "count     331.000000     331.000000  331.000000  331.000000  3.310000e+02   \n",
       "mean        0.145015       0.135952    0.329305    0.030211 -4.829973e-17   \n",
       "std         0.352649       0.343256    0.470672    0.171428  1.000000e+00   \n",
       "min         0.000000       0.000000    0.000000    0.000000 -2.503291e+00   \n",
       "25%         0.000000       0.000000    0.000000    0.000000 -8.504011e-01   \n",
       "50%         0.000000       0.000000    0.000000    0.000000  8.772587e-02   \n",
       "75%         0.000000       0.000000    1.000000    0.000000  8.024892e-01   \n",
       "max         1.000000       1.000000    1.000000    1.000000  1.874634e+00   \n",
       "\n",
       "              atemp      humidity     windspeed     holiday  workingday  \n",
       "count  3.310000e+02  3.310000e+02  3.310000e+02  331.000000  331.000000  \n",
       "mean  -1.046494e-16 -7.996289e-16  1.534858e-15    0.033233    0.670695  \n",
       "std    1.000000e+00  1.000000e+00  1.000000e+00    0.179515    0.470672  \n",
       "min   -2.572131e+00 -2.648736e+00 -2.152869e+00    0.000000    0.000000  \n",
       "25%   -8.603176e-01 -7.452412e-01 -7.381149e-01    0.000000    0.000000  \n",
       "50%    1.466312e-01 -6.562743e-03 -1.579037e-01    0.000000    1.000000  \n",
       "75%    7.508005e-01  7.055719e-01  5.693478e-01    0.000000    1.000000  \n",
       "max    1.959139e+00  2.362380e+00  2.949989e+00    1.000000    1.000000  \n",
       "\n",
       "[8 rows x 28 columns]"
      ]
     },
     "execution_count": 19,
     "metadata": {},
     "output_type": "execute_result"
    }
   ],
   "source": [
    "Xtrain.describe()"
   ]
  },
  {
   "cell_type": "markdown",
   "metadata": {},
   "source": [
    "OK let's perform the PCA regression for a range of 1 to 5 principal eigenvectors."
   ]
  },
  {
   "cell_type": "code",
   "execution_count": 20,
   "metadata": {},
   "outputs": [],
   "source": [
    "train_r2 = {}\n",
    "test_r2 = {}\n",
    "for num_comps in range(1, 6):\n",
    "    pca = PCA(n_components=num_comps, random_state=10)\n",
    "    pca.fit(Xtrain_poly_all)\n",
    "    Xtrain_poly_pca = pca.transform(Xtrain_poly_all)\n",
    "    Xtest_poly_pca = pca.transform(Xtest_poly_all)\n",
    "\n",
    "    lin_reg = LinearRegression()\n",
    "    lin_reg.fit(Xtrain_poly_pca, ytrain)\n",
    "    train_r2[num_comps] = lin_reg.score(Xtrain_poly_pca, ytrain)\n",
    "    test_r2[num_comps] = r2_score(ytest, lin_reg.predict(Xtest_poly_pca))"
   ]
  },
  {
   "cell_type": "code",
   "execution_count": 21,
   "metadata": {},
   "outputs": [
    {
     "name": "stdout",
     "output_type": "stream",
     "text": [
      "Train R^2 for number of principal components:\n",
      "{1: 0.09752686978478908, 2: 0.12690890738265936, 3: 0.18421512941869822, 4: 0.24114465546876052, 5: 0.24155840691027952}\n",
      "Test R^2 for number of principal components:\n",
      "{1: 0.01812511244563897, 2: 0.07139251377119182, 3: 0.05610611814617772, 4: 0.15528296486647675, 5: 0.15619731671647674}\n"
     ]
    }
   ],
   "source": [
    "print('Train R^2 for number of principal components:')\n",
    "print(train_r2)\n",
    "print('Test R^2 for number of principal components:')\n",
    "print(test_r2)"
   ]
  },
  {
   "cell_type": "markdown",
   "metadata": {},
   "source": [
    "We can see that as we add more of the principal component eigenvectors in the model that the training set $R^2$ is increasing as the model is able to explain more of the variation in the response.\n",
    "\n",
    "The highest test set $R^2$ is from the model with 5 principle components and therefore it is the best to predict out of sample.  However, we see that this model is worse than the previous models we have fit. The model's coefficients represent how much the predictor changes for a unit change of the corresponding principal component (linear combination of the original predictors). For completeness, we show the model coefficients, principal components, eigenvalues and the proportion of variance explained by each principal component.  "
   ]
  },
  {
   "cell_type": "code",
   "execution_count": 22,
   "metadata": {},
   "outputs": [
    {
     "name": "stdout",
     "output_type": "stream",
     "text": [
      "Model coefficients [-37.89323906 -29.59152452 -55.75205126  63.78258916   5.75880369]\n",
      "Principal components (eigenvectors) [[-1.15513556e-18 -2.72208776e-03 -3.77998533e-03 ...  0.00000000e+00\n",
      "   0.00000000e+00 -1.90685495e-03]\n",
      " [-7.17245117e-17 -5.49833530e-03  3.05936495e-03 ... -0.00000000e+00\n",
      "  -0.00000000e+00 -2.94260660e-03]\n",
      " [ 1.76700610e-16  7.99183481e-03 -2.21363812e-02 ... -0.00000000e+00\n",
      "  -0.00000000e+00  5.36517984e-04]\n",
      " [ 1.14252859e-16  8.26576738e-05  3.05081754e-02 ...  0.00000000e+00\n",
      "   0.00000000e+00  3.52787503e-03]\n",
      " [-2.72859794e-16 -1.89095060e-03  3.35896908e-03 ...  0.00000000e+00\n",
      "   0.00000000e+00  1.36356625e-04]]\n",
      "Explained variances (eigenvalues) [254.39355127 125.67604625  69.05347258  52.41298853  46.72015602]\n",
      "Explained variance ratios [0.22773091 0.11250411 0.06181607 0.04691965 0.04182348]\n"
     ]
    }
   ],
   "source": [
    "pca = PCA(n_components=max(test_r2.keys(), key=(lambda key: test_r2[key])),\n",
    "          random_state=10)\n",
    "pca.fit(Xtrain_poly_all)\n",
    "Xtrain_poly_pca = pca.transform(Xtrain_poly_all)\n",
    "Xtest_poly_pca = pca.transform(Xtest_poly_all)\n",
    "\n",
    "lin_reg = LinearRegression()\n",
    "lin_reg.fit(Xtrain_poly_pca, ytrain)\n",
    "print('Model coefficients', lin_reg.coef_)\n",
    "print('Principal components (eigenvectors)', pca.components_)\n",
    "print('Explained variances (eigenvalues)', pca.explained_variance_)\n",
    "print('Explained variance ratios', pca.explained_variance_ratio_)"
   ]
  },
  {
   "cell_type": "markdown",
   "metadata": {},
   "source": [
    "## Part (i): Beyond Squared Error\n",
    "\n",
    "We have seen in class that the multiple linear regression method optimizes the Mean Squared Error (MSE) on the training set. Consider the following alternate evaluation metric, referred to as the Root Mean Squared Logarthmic Error (RMSLE):\n",
    "\n",
    "$$\n",
    "\\sqrt{\\frac{1}{n}\\sum_{i=1}^n (log(y_i+1) - log(\\hat{y}_i+1))^2}.\n",
    "$$\n",
    "\n",
    "The *lower* the RMSLE the *better* is the performance of a model. The RMSLE penalizes errors on smaller responses more heavily than errors on larger responses. For example, the RMSLE penalizes a prediction of $\\hat{y} = 15$ for a true response of $y=10$ more heavily than a prediction of $\\hat{y} = 105$ for a true response of $100$, though the difference in predicted and true responses are the same in both cases. \n",
    "\n",
    "This is a natural evaluation metric for bike share demand prediction, as in this application, it is more important that the prediction model is accurate on days where the demand is low (so that the few customers who arrive are served satisfactorily), compared to days on which the demand is high (when it is less damaging to lose out on some customers).\n",
    "\n",
    "The following code computes the RMSLE for you:"
   ]
  },
  {
   "cell_type": "code",
   "execution_count": 23,
   "metadata": {
    "collapsed": true
   },
   "outputs": [],
   "source": [
    "#--------  rmsle\n",
    "# A function for evaluating Root Mean Squared Logarithmic Error (RMSLE)\n",
    "# of the linear regression model on a data set\n",
    "# Input: \n",
    "#      y_test (n x 1 array of response variable vals in testing data)\n",
    "#      y_pred (n x 1 array of response variable vals in testing data)\n",
    "# Return: \n",
    "#      RMSLE (float) \n",
    "\n",
    "def rmsle(y, y_pred):     \n",
    "    # Evaluate sqaured error, against target labels\n",
    "    # rmsle = \\sqrt(1/n \\sum_i (log (y[i]+1) - log (y_pred[i]+1))^2)\n",
    "    rmsle_ = np.sqrt(np.mean(np.square(np.log(y+1) - np.log(y_pred+1))))\n",
    "    \n",
    "    return rmsle_"
   ]
  },
  {
   "cell_type": "markdown",
   "metadata": {},
   "source": [
    "Use the above code to compute the training and test RMSLE for the polynomial regression model you fit in Part (g). \n",
    "\n",
    "You are required to develop a strategy to fit a regression model by optimizing the RMSLE on the training set. Give a justification for your proposed approach. Does the model fitted using your approach yield lower train RMSLE than the model in Part (g)? How about the test RMSLE of the new model? \n",
    "\n",
    "**Note:** We do not require you to implement a new regression solver for RMSLE. Instead, we ask you to think about ways to use existing built-in functions to fit a model that performs well on RMSLE. Your regression model may use the same polynomial terms used in Part (g)."
   ]
  },
  {
   "cell_type": "code",
   "execution_count": 24,
   "metadata": {
    "collapsed": true
   },
   "outputs": [
    {
     "name": "stdout",
     "output_type": "stream",
     "text": [
      "Train RMSLE  0.31064487734756446\n",
      "Test RMSLE  0.5020243957632905\n"
     ]
    }
   ],
   "source": [
    "ytrain_pred_poly = ols_poly_results.predict(\n",
    "    sm.add_constant(Xtrain_poly))\n",
    "train_index_neg_values = ytrain_pred_poly[\n",
    "    ytrain_pred_poly < 0].index  # drop 3 negative predictions\n",
    "train_rmsle = rmsle(ytrain.drop(index=train_index_neg_values),\n",
    "                    ytrain_pred_poly.drop(index=train_index_neg_values))\n",
    "\n",
    "ytest_pred_poly = ols_poly_results.predict(sm.add_constant(Xtest_poly))\n",
    "test_index_neg_values = ytest_pred_poly[\n",
    "    ytest_pred_poly < 0].index  # drop 4 negative predictions\n",
    "test_rmsle = rmsle(ytest.drop(index=test_index_neg_values),\n",
    "                   ytest_pred_poly.drop(index=test_index_neg_values))\n",
    "\n",
    "print('Train RMSLE ', train_rmsle)\n",
    "print('Test RMSLE ', test_rmsle)"
   ]
  },
  {
   "cell_type": "markdown",
   "metadata": {},
   "source": [
    "If we substitute $log({y}_i+1)$ for ${y}_i$ and $log(\\hat{y}_i+1)$ for $\\hat{y}_i$  in the Root Mean Squared Logarithmic Error (RMSLE) error above  we get the Root Mean Squared Error (RMSE):\n",
    "\n",
    "$$\n",
    "\\sqrt{\\frac{1}{n}\\sum_{i=1}^n (y_i - \\hat{y}_i)^2}.\n",
    "$$\n",
    "\n",
    "Since the square root function is monotonic, minimizing the RMSE on the training set is the same as minimizing Mean Squared Error (MSE) on the training set. So if we make the above substitution then we can use the standard multiple linear regression method that optimizes the MSE on the training set to do so for the RMSLE."
   ]
  },
  {
   "cell_type": "code",
   "execution_count": 25,
   "metadata": {},
   "outputs": [
    {
     "name": "stdout",
     "output_type": "stream",
     "text": [
      "Train RMSLE  0.08477996037881162\n",
      "Test RMSLE  0.0638178280003674\n"
     ]
    }
   ],
   "source": [
    "log_ytrain = np.log(ytrain + 1)\n",
    "log_ytest = np.log(ytest + 1)\n",
    "\n",
    "ols_poly_log = OLS(log_ytrain, sm.add_constant(Xtrain_poly))\n",
    "ols_poly_log_results = ols_poly_log.fit()\n",
    "ytrain_pred_poly_log = ols_poly_log_results.predict(\n",
    "    sm.add_constant(Xtrain_poly))\n",
    "train_rmsle = mean_squared_error(log_ytrain, ytrain_pred_poly_log)\n",
    "\n",
    "ytest_pred_poly_log = ols_poly_log_results.predict(sm.add_constant(Xtest_poly))\n",
    "test_rmsle = rmsle(log_ytest, ytest_pred_poly_log)\n",
    "\n",
    "print('Train RMSLE ', train_rmsle)\n",
    "print('Test RMSLE ', test_rmsle)"
   ]
  },
  {
   "cell_type": "markdown",
   "metadata": {},
   "source": [
    "We can see that the model fitted using this approach yields a much lower train and test RMSLE than the model in Part (g). Interestingly, the test RMSLE of the new model is also lower than its train RMSLE. "
   ]
  },
  {
   "cell_type": "markdown",
   "metadata": {},
   "source": [
    "## Part (j): Dealing with Erroneous Labels\n",
    "\n",
    "Due to occasional system crashes, some of the bike counts reported in the data set have been recorded manually. These counts are not very unreliable and are prone to errors. It is known that roughly 5% of the labels in the training set are erroneous (i.e. can be arbitrarily different from the true counts), while all the labels in the test set were confirmed to be accurate. Unfortunately, the identities of the erroneous records in the training set are not available. Can this information about presence of 5% errors in the training set labels (without details about the specific identities of the erroneous rows) be used to improve the performance of the model in Part (g)? Note that we are interested in improving the $R^2$ performance of the model on the test set (not the training $R^2$ score). \n",
    "\n",
    "As a final task, we require you to come up with a strategy to fit a regression model, taking into account the errors in the training set labels. Explain the intuition behind your approach (we do not expect a detailed mathematical justification). Use your approach to fit a regression model on the training set, and compare its test $R^2$ with the model in Part (g).\n",
    "\n",
    "**Note:** Again, we do not require you to implement a new regression solver for handling erroneous labels. It is sufficient that you to come up with an approach that uses existing built-in functions. Your regression model may use the same polynomial terms used in Part (g)."
   ]
  },
  {
   "cell_type": "markdown",
   "metadata": {},
   "source": [
    "Since we know that roughly 5% of the labels in the training set are erroneous, we know that the model in Part (g) is fitting to the noise in these training labels. This is bad as it has the effect of reducing the $R^2$ performance of the model on the test set. If we knew which labels were erroneous we would just remove these observations from the training set. However, since we do not know which labels are erroneous, the best we can do is to try training with as many 95% subsets of the training data as possible. Our aim will be to fit as little of the noise in the training examples as possible, thereby improving the $R^2$ performance of the model in the test set. We will then select the model with the highest $R^2$ performance on the test set."
   ]
  },
  {
   "cell_type": "code",
   "execution_count": 26,
   "metadata": {
    "collapsed": true
   },
   "outputs": [
    {
     "name": "stdout",
     "output_type": "stream",
     "text": [
      "Max test R^2 = 0.31891408058907755 when these observation indexes are dropped:\n",
      "[174 275 201 151 294  60  29  82 299   3 242 251 327 180 195  78]\n"
     ]
    }
   ],
   "source": [
    "r2_results = {}\n",
    "for trial in range(1000):\n",
    "    indexes_to_drop = np.random.choice(\n",
    "        ytrain.shape[0], size=int(ytrain.shape[0] * .05), replace=False)\n",
    "    ols_poly = OLS(ytrain.drop(indexes_to_drop),\n",
    "                   sm.add_constant(Xtrain_poly.drop(indexes_to_drop)))\n",
    "    ols_poly_results = ols_poly.fit()\n",
    "    test_r2 = r2_score(ytest, ols_poly_results.predict(\n",
    "        sm.add_constant(Xtest_poly)))\n",
    "    r2_results[test_r2] = indexes_to_drop\n",
    "max_r2 = max(r2_results)\n",
    "print('Max test R^2 = {0} when these observation indexes are dropped:\\n{1}'\n",
    "      .format(max_r2, r2_results[max_r2]))"
   ]
  },
  {
   "cell_type": "markdown",
   "metadata": {},
   "source": [
    "We can see that the test $R^2$ of the model that we found is higher than that of the model in Part (g)."
   ]
  },
  {
   "cell_type": "markdown",
   "metadata": {},
   "source": [
    "---\n",
    "--_"
   ]
  },
  {
   "cell_type": "markdown",
   "metadata": {},
   "source": [
    "# APCOMP209a - Homework Question"
   ]
  },
  {
   "cell_type": "markdown",
   "metadata": {},
   "source": [
    "\n",
    "\n",
    "##  Question 1: Student's t MLE\n",
    "\n",
    "Use Maximum Likelihood Estimation to generate a linear regression model on the data provided in ``beerdata.csv`` considering two statistical models for noise: a) iid Normal and b) iid Student's t-distribution with $\\nu=5$ and scale factor σ=0.5.  \n",
    "\n",
    "Compare the two models performances and comment why it is perhaps appropriate to use the Student's t-distribution instead of the Normal? \n",
    "\n",
    "\n",
    "\n",
    "\n",
    "\n",
    "HINTS:\n",
    "1. Use the probability density function for the Student's t distribution  with location μ and scale factor σ.\n",
    "2. If the MLE regressions coefficients can not be derived analytically consider numerical methods.\n",
    "3. You can use sklearn or statsmodel for the Normal case \n",
    "\n",
    "\n"
   ]
  },
  {
   "cell_type": "markdown",
   "metadata": {},
   "source": [
    "Let's read in the data first."
   ]
  },
  {
   "cell_type": "code",
   "execution_count": 27,
   "metadata": {},
   "outputs": [
    {
     "data": {
      "text/html": [
       "<div>\n",
       "<style scoped>\n",
       "    .dataframe tbody tr th:only-of-type {\n",
       "        vertical-align: middle;\n",
       "    }\n",
       "\n",
       "    .dataframe tbody tr th {\n",
       "        vertical-align: top;\n",
       "    }\n",
       "\n",
       "    .dataframe thead th {\n",
       "        text-align: right;\n",
       "    }\n",
       "</style>\n",
       "<table border=\"1\" class=\"dataframe\">\n",
       "  <thead>\n",
       "    <tr style=\"text-align: right;\">\n",
       "      <th></th>\n",
       "      <th>x</th>\n",
       "      <th>y</th>\n",
       "    </tr>\n",
       "  </thead>\n",
       "  <tbody>\n",
       "    <tr>\n",
       "      <th>0</th>\n",
       "      <td>0.760083</td>\n",
       "      <td>9.616565</td>\n",
       "    </tr>\n",
       "    <tr>\n",
       "      <th>1</th>\n",
       "      <td>0.766794</td>\n",
       "      <td>8.652492</td>\n",
       "    </tr>\n",
       "    <tr>\n",
       "      <th>2</th>\n",
       "      <td>0.504173</td>\n",
       "      <td>7.653462</td>\n",
       "    </tr>\n",
       "    <tr>\n",
       "      <th>3</th>\n",
       "      <td>0.357411</td>\n",
       "      <td>7.984081</td>\n",
       "    </tr>\n",
       "    <tr>\n",
       "      <th>4</th>\n",
       "      <td>0.730932</td>\n",
       "      <td>9.080448</td>\n",
       "    </tr>\n",
       "  </tbody>\n",
       "</table>\n",
       "</div>"
      ],
      "text/plain": [
       "          x         y\n",
       "0  0.760083  9.616565\n",
       "1  0.766794  8.652492\n",
       "2  0.504173  7.653462\n",
       "3  0.357411  7.984081\n",
       "4  0.730932  9.080448"
      ]
     },
     "execution_count": 27,
     "metadata": {},
     "output_type": "execute_result"
    }
   ],
   "source": [
    "beerdata = pd.read_csv('../hwassets/data/beerdata.csv', usecols=(1, 2))\n",
    "beerdata.head()"
   ]
  },
  {
   "cell_type": "markdown",
   "metadata": {},
   "source": [
    "Let's visualize the data."
   ]
  },
  {
   "cell_type": "code",
   "execution_count": 28,
   "metadata": {},
   "outputs": [
    {
     "data": {
      "image/png": "[encoded data removed]",
      "text/plain": [
       "<Figure size 432x288 with 1 Axes>"
      ]
     },
     "metadata": {},
     "output_type": "display_data"
    }
   ],
   "source": [
    "x = beerdata.x.values.reshape(-1, 1)\n",
    "y = beerdata.y\n",
    "plt.plot(x, y, 'o')\n",
    "plt.xlabel('x')\n",
    "plt.ylabel('y')\n",
    "plt.title('Beer data x vs y');"
   ]
  },
  {
   "cell_type": "markdown",
   "metadata": {},
   "source": [
    "Yes it seems we can fit a linear regression line to this data.\n",
    "\n",
    "As was shown in class, the MLE for linear regression which assumes Gaussian (normal) noise is the Mean Squared Error (MSE). So let's fit this model now."
   ]
  },
  {
   "cell_type": "code",
   "execution_count": 29,
   "metadata": {},
   "outputs": [
    {
     "name": "stdout",
     "output_type": "stream",
     "text": [
      "0.9079238029356782\n"
     ]
    },
    {
     "data": {
      "text/plain": [
       "0.3359148856221863"
      ]
     },
     "execution_count": 29,
     "metadata": {},
     "output_type": "execute_result"
    }
   ],
   "source": [
    "beer_reg = LinearRegression().fit(x, y)\n",
    "print(beer_reg.score(x, y))\n",
    "mean_squared_error(y, beer_reg.predict(x))"
   ]
  },
  {
   "cell_type": "markdown",
   "metadata": {},
   "source": [
    "Clearly MLE for linear regression which assumes student t noise is not easy. Exercise (2) of this [lecture](http://www.stat.cmu.edu/~cshalizi/mreg/15/lectures/06/lecture-06.pdf) seems to suggests that it is possible but challenging to write down the MLE for this situation. I haven't found any derivations of this in the brief Google search I did. Section (1.1) of this [paper](https://www.researchgate.net/publication/318294582_Robust_Lasso_Regression_with_Student-t_Residuals) suggests \"fitting a regression modelwith t-distributed errors using maximum likelihood can be eﬃciently performed using the expectation-maximisation (EM) algorithm\". This is something to come back to when I know more about that algorithm.\n",
    "\n",
    "Clearly this question is addressing \"the situation in many practical fields (e.g., finance and geology) it is common to encounter noise whose distribution has much heavier tails than any Gaussian\n",
    "could give us. One way to model this is with t distributions.\""
   ]
  },
  {
   "cell_type": "markdown",
   "metadata": {},
   "source": [
    "## Question 2 (continued from HW2) \n",
    "\n",
    "Read sections 1 and 2 of this [paper](https://www.researchgate.net/profile/Roberto_Togneri/publication/45094554_Linear_Regression_for_Face_Recognition/links/09e4150d243bd8b987000000/Linear-Regression-for-Face-Recognition.pdf). \n",
    "\n",
    "Briefly, the model leverages the concept that \"patterns from a single-object class lie on a linear subspace.\"   It also makes use of the idea of linear regression as a problem about projections.  In this case, given a vector $y$, the goal is to find the subspace induced by $\\mathrm{Col} \\, \\mathbf X$ that produced the 'closest' projection vector $\\widehat y$ to the original $y$.  \n",
    "\n",
    "### Question 2a\n",
    "\n",
    "As discussed in the paper, our face dataset contains cleaned images of faces belonging to different people. Assuming that patterns (faces) from one class (person) are elements of the same subspace, let's try to classify an unknown face using the method presented in the paper.  For each class $i$, we need to:\n",
    "\n",
    "1. construct the $\\mathbf H_i$ hat matrix from known faces, being careful to follow the column concatenation step described in the paper to convert an image into its vector representation;\n",
    "2. calculate the predicted $\\widehat y_i$, the closest vector in $\\mathrm{Col} \\, \\mathbf X_i$ to $y$; and\n",
    "3. calculate the magnitude of the difference vector between $y$ and $\\widehat y_i$.\n",
    "\n",
    "You should then be able to make a classification decision.\n",
    "\n",
    "**Notes:**\n",
    "- Use the provided code to download and re-sample the dataset.\n",
    "- Follow the normalisation step in the paper to ensure the \"maximum pixel value is 1\".\n",
    "- Your classifier should have approximately an 80% accuracy.\n",
    "- Use the image plotting library of matplotlib to display one (or two) correctly classified faces and the known faces.\n",
    "- Use the image plotting library of matplotlib to display one (or two) incorrectly classified faces and the known faces.\n",
    "    \n",
    "### Question 2b - Significant Faces\n",
    "Select an example of a correctly classified face. Use statsmodels to investigate the most predictive columns (faces) that the model used in this regression:\n",
    "\n",
    "(i) Which columns (i.e. faces) make the highest contribution to the projection?\n",
    "\n",
    "(ii) Which columns (i.e. faces) are the least useful in making this projection?\n",
    "\n",
    "Plot the correctly assigned face, and the two faces from the questions (i) and (ii). What do you notice about these faces?"
   ]
  },
  {
   "cell_type": "code",
   "execution_count": 30,
   "metadata": {
    "collapsed": true
   },
   "outputs": [],
   "source": [
    "from io import BytesIO\n",
    "from zipfile import ZipFile\n",
    "import urllib\n",
    "import os\n",
    "\n",
    "# Note that you may need to run the following command to install Python Image Library (PIL)\n",
    "#pip install Pillow\n",
    "from PIL import Image\n",
    "from sklearn.model_selection import train_test_split\n",
    "from sklearn.metrics import accuracy_score"
   ]
  },
  {
   "cell_type": "code",
   "execution_count": 31,
   "metadata": {
    "collapsed": true
   },
   "outputs": [],
   "source": [
    "# starter functions provided to students\n",
    "def rgb2gray(rgb):\n",
    "    '''\n",
    "    function to convert RGB image to gray scale\n",
    "    accepts 3D numpy array and returns 2D array with same dimensions\n",
    "    as the first two dimensions of input\n",
    "    '''\n",
    "    \n",
    "    return np.dot(rgb[...,:3], [0.299, 0.587, 0.114])\n",
    "\n",
    "def fetch_and_read_data(shape=(50,30)):\n",
    "    \n",
    "    '''\n",
    "    Function to download image data, store in a local folder (note this is 18.4mb), only download the data when\n",
    "    the local folder is not present, read in the images, downsample them to the specified shape (default = (50x30) (rows x cols))\n",
    "    and finally split them into a four tuple return object.\n",
    "    \n",
    "    Returns:\n",
    "        - 1) training image data (i.e. images that should form the predictor matrix in your solution)\n",
    "        - 2) training image data labels (i.e. labels from 1 to 50 that identify which face (1) belongs to)\n",
    "        - 3) testing image data (i.e. data that you should use to try and classify - note this forms the predictor variable in your regression)\n",
    "        - 4) testing image data labels (i.e. the labels for (3) - this is to allow you to evaluate your model)\n",
    "    \n",
    "    ___________________\n",
    "    Aside:\n",
    "    If you want to change the sampling dimensions of your data, pass the shape = (x,y) argument to the method where\n",
    "    y is the number of columns and x is the number of rows in the image.\n",
    "    '''\n",
    "    \n",
    "    if not os.path.exists('./cropped_faces'):\n",
    "        url = urllib.request.urlopen(\"http://www.anefian.com/research/GTdb_crop.zip\")\n",
    "        \n",
    "        zipfile = ZipFile(BytesIO(url.read()))\n",
    "        zipfile.extractall()\n",
    "     \n",
    "    data = []\n",
    "    labels = []\n",
    "    \n",
    "    files = os.listdir('cropped_faces')\n",
    "    for f in files:\n",
    "        if '.jpg' in f:\n",
    "            image = Image.open('cropped_faces/' + f)\n",
    "            image = image.resize((shape[1], shape[0]))\n",
    "            data.append(rgb2gray(np.asarray(image)))\n",
    "            labels.append(int(f.split('_')[0][1:]) - 1)\n",
    "            \n",
    "    data = np.array(data)\n",
    "    \n",
    "    trainX, testX, trainY, testY = train_test_split(data, labels, test_size=0.2, stratify=labels)\n",
    "    return np.array(trainX), np.array(testX), np.array(trainY), np.array(testY)"
   ]
  },
  {
   "cell_type": "code",
   "execution_count": 32,
   "metadata": {},
   "outputs": [
    {
     "data": {
      "image/png": "[encoded data removed]",
      "text/plain": [
       "<Figure size 720x360 with 8 Axes>"
      ]
     },
     "metadata": {},
     "output_type": "display_data"
    }
   ],
   "source": [
    "# starter code for the students\n",
    "train_dataset, test_dataset, train_labels, test_labels = fetch_and_read_data()\n",
    "\n",
    "# code to plot some of the images\n",
    "fig, axes = plt.subplots(2,4,figsize=(10,5))\n",
    "axes = axes.flatten()\n",
    "[axes[i].imshow(train_dataset[i], cmap='gray') for i in range(len(axes))]\n",
    "plt.show()"
   ]
  },
  {
   "cell_type": "markdown",
   "metadata": {},
   "source": [
    "### Answer 2a"
   ]
  },
  {
   "cell_type": "markdown",
   "metadata": {},
   "source": [
    "We first develop class specific models  Xi for i=0, 1,.., 49  by stacking the vectors."
   ]
  },
  {
   "cell_type": "code",
   "execution_count": 33,
   "metadata": {},
   "outputs": [],
   "source": [
    "def build_image_vectors(dataset, indexes=None):\n",
    "    if indexes is None:\n",
    "        indexes = list(range(dataset.shape[0]))\n",
    "\n",
    "    image_vectors = []\n",
    "    for m in indexes:\n",
    "        image_vector = dataset[m].ravel('F')\n",
    "        image_vector /= np.linalg.norm(image_vector)  # normalize\n",
    "        image_vectors.append(image_vector)\n",
    "    X = np.stack(image_vectors, axis=1)\n",
    "    return X\n",
    "\n",
    "\n",
    "def build_regressors(dataset, labels):\n",
    "    X = []\n",
    "    num_classes = labels.max() + 1\n",
    "    for i in range(num_classes):\n",
    "        class_indexes = np.argwhere(labels == i).ravel()\n",
    "        Xi = build_image_vectors(dataset, indexes=class_indexes)\n",
    "        X.append(Xi)\n",
    "    return X"
   ]
  },
  {
   "cell_type": "code",
   "execution_count": 34,
   "metadata": {},
   "outputs": [],
   "source": [
    "Xtrain = build_regressors(train_dataset, train_labels)\n",
    "Xtest = build_image_vectors(test_dataset)"
   ]
  },
  {
   "cell_type": "markdown",
   "metadata": {},
   "source": [
    "Next we project the unknown vector onto the subspaces spanned by the various X matrices using the \"hat\" interpretation of linear regression. We calculate the Euclidean distance measure between the predicted response vector and the original response vector and rule in favor of the class with minimum distance."
   ]
  },
  {
   "cell_type": "code",
   "execution_count": 35,
   "metadata": {},
   "outputs": [],
   "source": [
    "def predict(Xtrain, X):\n",
    "    predictions = []\n",
    "    for y in X.T:  # columns of X are the image vectors\n",
    "        yi_hats = []\n",
    "        for Xi in Xtrain:\n",
    "            # project y onto ith subspace\n",
    "            Xi_trans_y = np.dot(Xi.T, y)\n",
    "            Xi_trans_Xi_inv = np.linalg.inv(np.dot(Xi.T, Xi))\n",
    "            betai_hat = np.dot(Xi_trans_Xi_inv, Xi_trans_y)\n",
    "            yi_hats.append(np.dot(Xi, betai_hat))\n",
    "\n",
    "        # rule in favor of the class with minimum Euclidean distance\n",
    "        distances = []\n",
    "        for yi_hat in yi_hats:\n",
    "            distance = np.linalg.norm(y - yi_hat)\n",
    "            distances.append(distance)\n",
    "        prediction = np.argmin(distances)\n",
    "        predictions.append(prediction)\n",
    "    return np.array(predictions)"
   ]
  },
  {
   "cell_type": "code",
   "execution_count": 36,
   "metadata": {},
   "outputs": [
    {
     "name": "stdout",
     "output_type": "stream",
     "text": [
      "Accuracy = 82.0%\n"
     ]
    }
   ],
   "source": [
    "y_predict = predict(Xtrain, Xtest)\n",
    "accuracy = 100 * accuracy_score(y_true=test_labels, y_pred=y_predict)\n",
    "print('Accuracy = {0}%'.format(accuracy))"
   ]
  },
  {
   "cell_type": "markdown",
   "metadata": {},
   "source": [
    "Let's look at one correctly classified faces and the known faces.\n",
    "and also one incorrectly classified faces and the known faces."
   ]
  },
  {
   "cell_type": "code",
   "execution_count": 37,
   "metadata": {},
   "outputs": [],
   "source": [
    "correct_faces = test_dataset[y_predict == test_labels]\n",
    "labels_correct_faces = test_labels[np.argwhere(y_predict == test_labels)]\n",
    "correct_idxs = np.where(np.isin(train_labels, labels_correct_faces[0]))[0]\n",
    "\n",
    "incorrect_faces = test_dataset[y_predict != test_labels]\n",
    "labels_incorrect_faces = y_predict[np.argwhere(y_predict != test_labels)]\n",
    "incorrect_idxs = np.where(np.isin(train_labels, labels_incorrect_faces[0]))[0]"
   ]
  },
  {
   "cell_type": "code",
   "execution_count": 38,
   "metadata": {},
   "outputs": [
    {
     "data": {
      "image/png": "[encoded data removed]",
      "text/plain": [
       "<Figure size 360x180 with 1 Axes>"
      ]
     },
     "metadata": {},
     "output_type": "display_data"
    },
    {
     "data": {
      "image/png": "[encoded data removed]",
      "text/plain": [
       "<Figure size 720x360 with 12 Axes>"
      ]
     },
     "metadata": {},
     "output_type": "display_data"
    },
    {
     "data": {
      "image/png": "[encoded data removed]",
      "text/plain": [
       "<Figure size 360x180 with 1 Axes>"
      ]
     },
     "metadata": {},
     "output_type": "display_data"
    },
    {
     "data": {
      "image/png": "[encoded data removed]",
      "text/plain": [
       "<Figure size 720x360 with 12 Axes>"
      ]
     },
     "metadata": {},
     "output_type": "display_data"
    }
   ],
   "source": [
    "fig, axes = plt.subplots(figsize=(5, 2.5))\n",
    "axes.imshow(correct_faces[0], cmap='gray')\n",
    "plt.title('Correctly classified face')\n",
    "plt.show()\n",
    "\n",
    "fig, axes = plt.subplots(2, 6, figsize=(10, 5))\n",
    "axes = axes.flatten()\n",
    "[axes[i].imshow(train_dataset[correct_idxs][i], cmap='gray')\n",
    " for i in range(len(axes))]\n",
    "fig.suptitle('Known faces')\n",
    "plt.show()\n",
    "\n",
    "fig, axes = plt.subplots(figsize=(5, 2.5))\n",
    "axes.imshow(incorrect_faces[0], cmap='gray')\n",
    "plt.title('Incorrectly classified face')\n",
    "plt.show()\n",
    "\n",
    "fig, axes = plt.subplots(2, 6, figsize=(10, 5))\n",
    "axes = axes.flatten()\n",
    "[axes[i].imshow(train_dataset[incorrect_idxs][i], cmap='gray')\n",
    " for i in range(len(axes))]\n",
    "fig.suptitle('Known faces')\n",
    "plt.show()"
   ]
  },
  {
   "cell_type": "markdown",
   "metadata": {},
   "source": [
    "### Answer 2b\n",
    "\n",
    "We select the correctly classified face above to investigate the most predictive columns (faces) that the model used in this regression."
   ]
  },
  {
   "cell_type": "code",
   "execution_count": 39,
   "metadata": {},
   "outputs": [
    {
     "data": {
      "text/html": [
       "<div>\n",
       "<style scoped>\n",
       "    .dataframe tbody tr th:only-of-type {\n",
       "        vertical-align: middle;\n",
       "    }\n",
       "\n",
       "    .dataframe tbody tr th {\n",
       "        vertical-align: top;\n",
       "    }\n",
       "\n",
       "    .dataframe thead th {\n",
       "        text-align: right;\n",
       "    }\n",
       "</style>\n",
       "<table border=\"1\" class=\"dataframe\">\n",
       "  <thead>\n",
       "    <tr style=\"text-align: right;\">\n",
       "      <th></th>\n",
       "      <th>face_23</th>\n",
       "      <th>face_33</th>\n",
       "      <th>face_159</th>\n",
       "      <th>face_305</th>\n",
       "      <th>face_330</th>\n",
       "      <th>face_392</th>\n",
       "      <th>face_428</th>\n",
       "      <th>face_439</th>\n",
       "      <th>face_502</th>\n",
       "      <th>face_531</th>\n",
       "      <th>face_549</th>\n",
       "      <th>face_580</th>\n",
       "    </tr>\n",
       "  </thead>\n",
       "  <tbody>\n",
       "    <tr>\n",
       "      <th>0</th>\n",
       "      <td>0.020915</td>\n",
       "      <td>0.017321</td>\n",
       "      <td>0.008331</td>\n",
       "      <td>0.012570</td>\n",
       "      <td>0.003825</td>\n",
       "      <td>0.019042</td>\n",
       "      <td>0.008354</td>\n",
       "      <td>0.009234</td>\n",
       "      <td>0.018432</td>\n",
       "      <td>0.003904</td>\n",
       "      <td>0.006588</td>\n",
       "      <td>0.017785</td>\n",
       "    </tr>\n",
       "    <tr>\n",
       "      <th>1</th>\n",
       "      <td>0.019279</td>\n",
       "      <td>0.015327</td>\n",
       "      <td>0.007997</td>\n",
       "      <td>0.012640</td>\n",
       "      <td>0.003997</td>\n",
       "      <td>0.016006</td>\n",
       "      <td>0.006406</td>\n",
       "      <td>0.008078</td>\n",
       "      <td>0.015302</td>\n",
       "      <td>0.006297</td>\n",
       "      <td>0.005091</td>\n",
       "      <td>0.014950</td>\n",
       "    </tr>\n",
       "    <tr>\n",
       "      <th>2</th>\n",
       "      <td>0.016910</td>\n",
       "      <td>0.013646</td>\n",
       "      <td>0.006751</td>\n",
       "      <td>0.011319</td>\n",
       "      <td>0.002396</td>\n",
       "      <td>0.014146</td>\n",
       "      <td>0.006963</td>\n",
       "      <td>0.007246</td>\n",
       "      <td>0.011057</td>\n",
       "      <td>0.003797</td>\n",
       "      <td>0.004333</td>\n",
       "      <td>0.009641</td>\n",
       "    </tr>\n",
       "    <tr>\n",
       "      <th>3</th>\n",
       "      <td>0.014929</td>\n",
       "      <td>0.008978</td>\n",
       "      <td>0.006720</td>\n",
       "      <td>0.011319</td>\n",
       "      <td>0.003290</td>\n",
       "      <td>0.015251</td>\n",
       "      <td>0.007043</td>\n",
       "      <td>0.006656</td>\n",
       "      <td>0.008743</td>\n",
       "      <td>0.003812</td>\n",
       "      <td>0.005191</td>\n",
       "      <td>0.007568</td>\n",
       "    </tr>\n",
       "    <tr>\n",
       "      <th>4</th>\n",
       "      <td>0.013838</td>\n",
       "      <td>0.007777</td>\n",
       "      <td>0.006989</td>\n",
       "      <td>0.011319</td>\n",
       "      <td>0.003886</td>\n",
       "      <td>0.014143</td>\n",
       "      <td>0.007814</td>\n",
       "      <td>0.006870</td>\n",
       "      <td>0.007029</td>\n",
       "      <td>0.003285</td>\n",
       "      <td>0.004383</td>\n",
       "      <td>0.007738</td>\n",
       "    </tr>\n",
       "  </tbody>\n",
       "</table>\n",
       "</div>"
      ],
      "text/plain": [
       "    face_23   face_33  face_159  face_305  face_330  face_392  face_428  \\\n",
       "0  0.020915  0.017321  0.008331  0.012570  0.003825  0.019042  0.008354   \n",
       "1  0.019279  0.015327  0.007997  0.012640  0.003997  0.016006  0.006406   \n",
       "2  0.016910  0.013646  0.006751  0.011319  0.002396  0.014146  0.006963   \n",
       "3  0.014929  0.008978  0.006720  0.011319  0.003290  0.015251  0.007043   \n",
       "4  0.013838  0.007777  0.006989  0.011319  0.003886  0.014143  0.007814   \n",
       "\n",
       "   face_439  face_502  face_531  face_549  face_580  \n",
       "0  0.009234  0.018432  0.003904  0.006588  0.017785  \n",
       "1  0.008078  0.015302  0.006297  0.005091  0.014950  \n",
       "2  0.007246  0.011057  0.003797  0.004333  0.009641  \n",
       "3  0.006656  0.008743  0.003812  0.005191  0.007568  \n",
       "4  0.006870  0.007029  0.003285  0.004383  0.007738  "
      ]
     },
     "execution_count": 39,
     "metadata": {},
     "output_type": "execute_result"
    }
   ],
   "source": [
    "Xtrain_df = pd.DataFrame(Xtrain[labels_correct_faces[0][0]],\n",
    "                         columns=['face_' + str(face) for face in correct_idxs])\n",
    "Xtrain_df.head()"
   ]
  },
  {
   "cell_type": "code",
   "execution_count": 40,
   "metadata": {},
   "outputs": [
    {
     "name": "stdout",
     "output_type": "stream",
     "text": [
      "Predictor p-values:\n"
     ]
    },
    {
     "data": {
      "text/plain": [
       "face_580    4.831003e-75\n",
       "face_330    3.003012e-57\n",
       "face_428    3.292588e-20\n",
       "face_33     4.112129e-20\n",
       "face_159    3.250942e-04\n",
       "face_23     2.971665e-02\n",
       "face_549    3.621345e-01\n",
       "face_439    3.631861e-01\n",
       "face_392    5.127951e-01\n",
       "face_305    6.091953e-01\n",
       "face_531    7.314130e-01\n",
       "face_502    8.675055e-01\n",
       "dtype: float64"
      ]
     },
     "execution_count": 40,
     "metadata": {},
     "output_type": "execute_result"
    }
   ],
   "source": [
    "pred_results = OLS(correct_faces[0].ravel('F'),\n",
    "                   sm.add_constant(Xtrain_df)).fit()\n",
    "print('Predictor p-values:')\n",
    "pred_results.pvalues.drop('const').sort_values()"
   ]
  },
  {
   "cell_type": "markdown",
   "metadata": {},
   "source": [
    "We can see the most significant faces in the training data that make the highest contribution to the projection since they are the most statistically significant predictors at the top of the list. Whilst we see the least useful faces in making this projection at the bottom of the list as they are not statistically significant at all.\n",
    "\n",
    "Let's now plot the most significant and least significant faces for comparison with the correctly assigned face. We see that the most significant face for the prediction has a similar orientation to the correctly assigned face whilst the least significant face has a very different orientation."
   ]
  },
  {
   "cell_type": "code",
   "execution_count": 41,
   "metadata": {},
   "outputs": [
    {
     "data": {
      "image/png": "[encoded data removed]",
      "text/plain": [
       "<Figure size 432x216 with 3 Axes>"
      ]
     },
     "metadata": {},
     "output_type": "display_data"
    }
   ],
   "source": [
    "most_significant_face = int(pred_results.pvalues.drop(\n",
    "    'const').sort_values().index[0].split('_')[1])\n",
    "least_significant_face = int(pred_results.pvalues.drop(\n",
    "    'const').sort_values().index[-1].split('_')[1])\n",
    "\n",
    "fig, axes = plt.subplots(1, 3, figsize=(6, 3))\n",
    "axes = axes.flatten()\n",
    "[axes[i].imshow([correct_faces[0], train_dataset[most_significant_face],\n",
    "                 train_dataset[least_significant_face]][i],\n",
    "                cmap='gray') for i in range(len(axes))]\n",
    "axes[0].set_title('Correctly \\nassigned')\n",
    "axes[1].set_title('Most \\nsignificant')\n",
    "axes[2].set_title('Least \\nsignificant')\n",
    "fig.tight_layout()\n",
    "plt.show()"
   ]
  }
 ],
 "metadata": {
  "anaconda-cloud": {},
  "kernelspec": {
   "display_name": "a-2017",
   "language": "python",
   "name": "a-2017"
  },
  "language_info": {
   "codemirror_mode": {
    "name": "ipython",
    "version": 3
   },
   "file_extension": ".py",
   "mimetype": "text/x-python",
   "name": "python",
   "nbconvert_exporter": "python",
   "pygments_lexer": "ipython3",
   "version": "3.6.5"
  }
 },
 "nbformat": 4,
 "nbformat_minor": 2
}
