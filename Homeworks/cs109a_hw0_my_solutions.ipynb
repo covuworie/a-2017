{
 "cells": [
  {
   "cell_type": "markdown",
   "metadata": {},
   "source": [
    "### CS 109A/STAT 121A/AC 209A/CSCI E-109A\n",
    "\n",
    "# Homework 0\n",
    "\n",
    "**Harvard University**<br/>\n",
    "**Fall 2017**<br/>\n",
    "**Instructors**: Pavlos Protopapas, Kevin Rader, Rahul Dave, Margo Levine\n",
    "\n",
    "---\n",
    "\n",
    "This is a homework which you must  turn in.\n",
    "\n",
    "This homework has the following intentions:\n",
    "\n",
    "1. To get you familiar with the jupyter/python environment (whether you are using your own install or jupyterhub)\n",
    "2. You should easily understand these questions and what is being asked. If you struggle, this may not be the right class for you.\n",
    "3. You should be able to understand the intent (if not the exact syntax) of the code and be able to look up google and provide code that is asked of you. If you cannot, this may not be the right class for you."
   ]
  },
  {
   "cell_type": "code",
   "execution_count": 1,
   "metadata": {
    "collapsed": true
   },
   "outputs": [],
   "source": [
    "# The line %... is a jupyter \"magic\" command, and is not part of the Python language.\n",
    "# In this case we're just telling the plotting library to draw things on\n",
    "# the notebook, instead of on a separate window.\n",
    "%matplotlib inline\n",
    "%load_ext pycodestyle_magic\n",
    "# See the \"import ... as ...\" contructs below? They're just aliasing the package names.\n",
    "# That way we can call methods like plt.plot() instead of matplotlib.pyplot.plot().\n",
    "import numpy as np\n",
    "import matplotlib.pyplot as plt"
   ]
  },
  {
   "cell_type": "markdown",
   "metadata": {},
   "source": [
    "## Simulation of a coin throw\n",
    "\n",
    "We dont have a coin right now. So let us **simulate** the process of throwing one on a computer. To do this we will use a form of the **random number generator** built into `numpy`. In particular, we will use the function `np.random.choice`, which will pick items with uniform probability from a list (thus if the list is of size 6, it will pick one of the six list items each time, with a probability 1/6). "
   ]
  },
  {
   "cell_type": "code",
   "execution_count": 2,
   "metadata": {},
   "outputs": [
    {
     "name": "stdout",
     "output_type": "stream",
     "text": [
      "Throws ['H' 'H' 'H' 'H' 'T' 'T' 'H' 'T' 'T' 'H' 'H' 'H' 'H' 'T' 'T' 'H' 'H' 'T'\n",
      " 'H' 'T' 'T' 'T' 'H' 'T' 'T' 'H' 'H' 'T' 'H' 'T' 'T' 'T' 'H' 'H' 'H' 'H'\n",
      " 'H' 'T' 'T' 'H']\n"
     ]
    }
   ],
   "source": [
    "def throw_a_coin(N):\n",
    "    return np.random.choice(['H','T'], size=N)\n",
    "\n",
    "throws = throw_a_coin(40)\n",
    "print(\"Throws\",throws)"
   ]
  },
  {
   "cell_type": "markdown",
   "metadata": {},
   "source": [
    "This next line gives you a `True` when the array element is a 'H' and `False` otherwise."
   ]
  },
  {
   "cell_type": "code",
   "execution_count": 3,
   "metadata": {},
   "outputs": [
    {
     "data": {
      "text/plain": [
       "array([ True,  True,  True,  True, False, False,  True, False, False,\n",
       "        True,  True,  True,  True, False, False,  True,  True, False,\n",
       "        True, False, False, False,  True, False, False,  True,  True,\n",
       "       False,  True, False, False, False,  True,  True,  True,  True,\n",
       "        True, False, False,  True])"
      ]
     },
     "execution_count": 3,
     "metadata": {},
     "output_type": "execute_result"
    }
   ],
   "source": [
    "throws == 'H'"
   ]
  },
  {
   "cell_type": "markdown",
   "metadata": {},
   "source": [
    "If you do a `np.sum` on the array of `True`s and `False`s, python will coerce the `True` to 1 and `False` to 0. Thus a sum will give you the number of heads"
   ]
  },
  {
   "cell_type": "code",
   "execution_count": 4,
   "metadata": {},
   "outputs": [
    {
     "data": {
      "text/plain": [
       "22"
      ]
     },
     "execution_count": 4,
     "metadata": {},
     "output_type": "execute_result"
    }
   ],
   "source": [
    "np.sum(throws == 'H')"
   ]
  },
  {
   "cell_type": "code",
   "execution_count": 5,
   "metadata": {},
   "outputs": [
    {
     "name": "stdout",
     "output_type": "stream",
     "text": [
      "Number of Heads: 22\n",
      "p1 = Number of Heads/Total Throws: 0.55\n"
     ]
    }
   ],
   "source": [
    "print(\"Number of Heads:\", np.sum(throws == 'H'))\n",
    "print(\"p1 = Number of Heads/Total Throws:\", np.sum(throws == 'H')/40.) # you can also do np.mean(throws=='H')"
   ]
  },
  {
   "cell_type": "markdown",
   "metadata": {},
   "source": [
    "Notice that you do not necessarily get 20 heads.\n",
    "\n",
    "Now say that we run the entire process again, a second **replication** to obtain a second sample. Then we ask the same question: what is the fraction of heads we get this time? Lets call the odds of heads in sample 2, then, $p_2$:"
   ]
  },
  {
   "cell_type": "code",
   "execution_count": 6,
   "metadata": {},
   "outputs": [
    {
     "name": "stdout",
     "output_type": "stream",
     "text": [
      "Throws: ['T' 'T' 'T' 'T' 'H' 'T' 'H' 'H' 'H' 'H' 'T' 'T' 'H' 'H' 'H' 'T' 'H' 'T'\n",
      " 'T' 'H' 'T' 'T' 'H' 'H' 'T' 'H' 'H' 'H' 'H' 'T' 'H' 'T' 'H' 'H' 'T' 'T'\n",
      " 'T' 'H' 'T' 'T']\n",
      "Number of Heads: 20\n",
      "p2 = Number of Heads/Total Throws: 0.5\n"
     ]
    }
   ],
   "source": [
    "throws = throw_a_coin(40)\n",
    "print(\"Throws:\", throws)\n",
    "print(\"Number of Heads:\", np.sum(throws == 'H'))\n",
    "print(\"p2 = Number of Heads/Total Throws:\", np.sum(throws ==  'H')/40.)"
   ]
  },
  {
   "cell_type": "markdown",
   "metadata": {},
   "source": [
    "### Q1. Show what happens as we choose a larger and larger set of trials\n",
    "\n",
    "Do one replication for each size in the trials array below. Store the resultant probabilities in an array `probabilities`. Write a few lines on what you observe."
   ]
  },
  {
   "cell_type": "code",
   "execution_count": 7,
   "metadata": {
    "collapsed": true
   },
   "outputs": [],
   "source": [
    "trials = [10, 30, 50, 70, 100, 130, 170, 200, 500, 1000, 2000, 5000, 10000]"
   ]
  },
  {
   "cell_type": "code",
   "execution_count": 8,
   "metadata": {},
   "outputs": [
    {
     "data": {
      "text/plain": [
       "[0.4,\n",
       " 0.5666666666666667,\n",
       " 0.52,\n",
       " 0.5285714285714286,\n",
       " 0.54,\n",
       " 0.5538461538461539,\n",
       " 0.5294117647058824,\n",
       " 0.57,\n",
       " 0.512,\n",
       " 0.48,\n",
       " 0.505,\n",
       " 0.4998,\n",
       " 0.4915]"
      ]
     },
     "execution_count": 8,
     "metadata": {},
     "output_type": "execute_result"
    }
   ],
   "source": [
    "probabilities = [np.mean(throw_a_coin(trial) == 'H') for trial in trials]\n",
    "probabilities"
   ]
  },
  {
   "cell_type": "code",
   "execution_count": 9,
   "metadata": {},
   "outputs": [
    {
     "data": {
      "image/png": "[encoded data removed]",
      "text/plain": [
       "<Figure size 432x288 with 1 Axes>"
      ]
     },
     "metadata": {},
     "output_type": "display_data"
    }
   ],
   "source": [
    "plt.plot(trials, probabilities, 'o-', alpha=0.6);\n",
    "plt.axhline(0.5, 0, 1, color='r');\n",
    "plt.xlabel('number of trials');\n",
    "plt.ylabel('probability of heads from simulation');\n",
    "plt.title('Probability of heads, one replication per trial size');"
   ]
  },
  {
   "cell_type": "markdown",
   "metadata": {},
   "source": [
    "What did you observe?\n",
    "\n",
    "As the number of trials increases, the fraction of heads converges in probability towards the expected value of 0.5 in accordance with The Law of Large Numbers. We see that the fluctation in the fraction of heads as we go from one fixed trial size to the next is tending towards 0."
   ]
  },
  {
   "cell_type": "markdown",
   "metadata": {},
   "source": [
    "## Multiple replications of the coin flips\n",
    "\n",
    "Lets redo the experiment with coin flips that we started above. We'll establish some terminology at first. As notation we shall call the size of the trial of coin flips $n$. We'll call the result of each coin flip an observation, and a single replication (which is what we did above) a sample of observations. We will do $M$ replications (or $M$ \"samples\"), for which the variable in the function below is `number_of_samples` now, for each sample size $n$ (`sample_size`)."
   ]
  },
  {
   "cell_type": "markdown",
   "metadata": {},
   "source": [
    "### Q2. Write a function to make M replications of N throws\n",
    "\n",
    "Your job is to write a function `make_throws` which takes as arguments the `number_of_samples` (M) and the `sample_size` (n), and returns a list of probablities of size M, with each probability coming from a different replication of size n. In each replication we do n coin tosses. We have provided a \"spec\" of the function below. "
   ]
  },
  {
   "cell_type": "code",
   "execution_count": 10,
   "metadata": {
    "collapsed": true
   },
   "outputs": [],
   "source": [
    "\"\"\"\n",
    "Function\n",
    "--------\n",
    "make_throws\n",
    "\n",
    "Generate a array of probabilities, each representing\n",
    "the probability of finding heads in a sample of fair coins\n",
    "\n",
    "Parameters\n",
    "----------\n",
    "number_of_samples : int\n",
    "    The number of samples or replications\n",
    "sample_size: int\n",
    "    The size of each sample (we assume each sample has the same size)\n",
    "\n",
    "Returns\n",
    "-------\n",
    "sample_probs : array\n",
    "    Array of probabilities of H, one from each sample or replication\n",
    "\n",
    "Example\n",
    "-------\n",
    ">>> make_throws(number_of_samples = 3, sample_size = 20)\n",
    "[0.40000000000000002, 0.5, 0.59999999999999998]\n",
    "\"\"\"\n",
    "\n",
    "\n",
    "def make_throws(number_of_samples, sample_size):\n",
    "    if not np.issubdtype(type(number_of_samples), np.integer):\n",
    "        raise TypeError(\"'number_of_samples' must be of type 'integer'\")\n",
    "    if not np.issubdtype(type(sample_size), np.integer):\n",
    "        raise TypeError(\"'sample_size' must be of type 'integer'\")\n",
    "    if number_of_samples <= 0:\n",
    "        raise ValueError((\"'number_of_samples' must be greater than 0\"))\n",
    "    if sample_size <= 0:\n",
    "        raise ValueError((\"'sample_size' must be greater than 0\"))\n",
    "\n",
    "    sample_probs = [np.mean(throw_a_coin(sample_size) == 'H')\n",
    "                   for sample in range(number_of_samples)]\n",
    "    return sample_probs"
   ]
  },
  {
   "cell_type": "markdown",
   "metadata": {},
   "source": [
    "We show the mean over the observations, or sample mean, for a sample size of 10, with 20 replications. There are thus 20 means."
   ]
  },
  {
   "cell_type": "code",
   "execution_count": 11,
   "metadata": {},
   "outputs": [
    {
     "data": {
      "text/plain": [
       "[0.6,\n",
       " 0.7,\n",
       " 0.4,\n",
       " 0.3,\n",
       " 0.5,\n",
       " 0.5,\n",
       " 0.4,\n",
       " 0.5,\n",
       " 0.5,\n",
       " 0.4,\n",
       " 0.7,\n",
       " 0.4,\n",
       " 0.5,\n",
       " 0.2,\n",
       " 0.3,\n",
       " 0.6,\n",
       " 0.6,\n",
       " 0.4,\n",
       " 0.7,\n",
       " 0.3]"
      ]
     },
     "execution_count": 11,
     "metadata": {},
     "output_type": "execute_result"
    }
   ],
   "source": [
    "make_throws(number_of_samples=20, sample_size=10)"
   ]
  },
  {
   "cell_type": "markdown",
   "metadata": {},
   "source": [
    "### Q3. What happens to the mean and standard deviation of the sample means as you increase the sample size\n",
    "\n",
    "Using the sample sizes from the `sample_sizes` array below, compute a set of sample_means for each sample size, and for 200 replications. Calculate the mean and standard deviation for each sample size. Store this in arrays `mean_of_sample_means` and `std_dev_of_sample_means`. The standard deviation of the sampling means is called the \"standard error\". Explain what you see about this \"mean of sampling means\"."
   ]
  },
  {
   "cell_type": "code",
   "execution_count": 12,
   "metadata": {
    "collapsed": true
   },
   "outputs": [],
   "source": [
    "sample_sizes = np.arange(1,1001,1)"
   ]
  },
  {
   "cell_type": "code",
   "execution_count": 13,
   "metadata": {
    "collapsed": true
   },
   "outputs": [],
   "source": [
    "throws = [make_throws(number_of_samples=200, sample_size=sample_size)\n",
    "          for sample_size in sample_sizes]\n",
    "mean_of_sample_means = np.mean(throws, axis=1)"
   ]
  },
  {
   "cell_type": "code",
   "execution_count": 14,
   "metadata": {},
   "outputs": [],
   "source": [
    "std_dev_of_sample_means = np.std(throws, axis=1)"
   ]
  },
  {
   "cell_type": "code",
   "execution_count": 15,
   "metadata": {},
   "outputs": [
    {
     "data": {
      "text/plain": [
       "(10, 0.54, 0.49839743177508444)"
      ]
     },
     "execution_count": 15,
     "metadata": {},
     "output_type": "execute_result"
    }
   ],
   "source": [
    "# mean and std of 200 means from 200 replications, each of size 10\n",
    "trials[0], mean_of_sample_means[0], std_dev_of_sample_means[0]"
   ]
  },
  {
   "cell_type": "code",
   "execution_count": 16,
   "metadata": {},
   "outputs": [
    {
     "data": {
      "image/png": "[encoded data removed]",
      "text/plain": [
       "<Figure size 432x288 with 1 Axes>"
      ]
     },
     "metadata": {},
     "output_type": "display_data"
    }
   ],
   "source": [
    "plt.plot(sample_sizes, mean_of_sample_means);\n",
    "plt.ylim([0.480,0.520]);\n",
    "plt.xlabel(\"sample sizes\")\n",
    "plt.ylabel(\"mean probability of heads\")\n",
    "plt.title(\"Mean of sample means over 200 replications\");"
   ]
  },
  {
   "cell_type": "markdown",
   "metadata": {},
   "source": [
    "Explain what you see about this \"mean of sampling means\".\n",
    "\n",
    "As the sample size increases, in accordance with the Law of Large numbers, the \"mean of sampling means\" converges in probability towards the theoretical population expected value (0.5) for flipping a fair coin."
   ]
  },
  {
   "cell_type": "markdown",
   "metadata": {},
   "source": [
    "### Q4. What distribution do the sampling means follow?\n",
    "\n",
    "Store in variables `sampling_means_at_size_100` and `sampling_means_at_size_1000` the set of sampling means at sample sizes of 100 and 1000 respectively, still with 200 replications. We will plot in a histogram below these distributions. What type of distributions are these, roughly? How do these distributions vary with sample size?"
   ]
  },
  {
   "cell_type": "code",
   "execution_count": 17,
   "metadata": {
    "collapsed": true
   },
   "outputs": [],
   "source": [
    "sampling_means_at_size_100 = throws[99]\n",
    "sampling_means_at_size_1000 = throws[999]"
   ]
  },
  {
   "cell_type": "code",
   "execution_count": 18,
   "metadata": {},
   "outputs": [
    {
     "data": {
      "image/png": "[encoded data removed]",
      "text/plain": [
       "<Figure size 432x288 with 1 Axes>"
      ]
     },
     "metadata": {},
     "output_type": "display_data"
    }
   ],
   "source": [
    "plt.hist(sampling_means_at_size_100, alpha=0.3, label=\"100\", bins=10)\n",
    "plt.hist(sampling_means_at_size_1000, alpha=0.3, label=\"1000\", bins=10)\n",
    "plt.legend();\n",
    "plt.title(\"Sampling distributions at different sample sizes and for 200 replications\");"
   ]
  },
  {
   "cell_type": "markdown",
   "metadata": {},
   "source": [
    "What type of distributions are these, roughly? How do these distributions vary with sample size?\n",
    "\n",
    "These distributions are roughly normal since the coin flipping distribution (binomial distribution) is approximately normal for sufficiently large sample size (n) and fixed probability (p). This is a special case of the Central Limit Theorem. \n",
    "\n",
    "As the sample size increases, by the Law of Large Numbers, the sample expected value converges in probability towards the population expected value (0.5)."
   ]
  },
  {
   "cell_type": "markdown",
   "metadata": {},
   "source": [
    "### Q5. How does the standard error of the sample mean vary with sample size? Create a plot to illustrate how it varies over various sample sizes.\n",
    "\n",
    "Hint: you might want to take logarithms for one of your axes"
   ]
  },
  {
   "cell_type": "code",
   "execution_count": 19,
   "metadata": {},
   "outputs": [
    {
     "data": {
      "image/png": "[encoded data removed]",
      "text/plain": [
       "<Figure size 432x288 with 1 Axes>"
      ]
     },
     "metadata": {},
     "output_type": "display_data"
    }
   ],
   "source": [
    "plt.plot(sample_sizes, std_dev_of_sample_means)\n",
    "plt.xlabel(\"$log_{10}$(Sample size)\")\n",
    "plt.xlim(xmin=1., xmax=1000.)\n",
    "plt.xscale(\"log\")\n",
    "plt.ylabel(\"Standard error\")\n",
    "plt.title(\"Standard error at different sample sizes and for 200 replications\");"
   ]
  },
  {
   "cell_type": "markdown",
   "metadata": {},
   "source": [
    "How does the standard error of the sample mean vary with sample size?\n",
    "\n",
    "As the sample size increases, the standard error gets smaller, since by the Central Limit Theorem, sample means cluster more closely around the population mean."
   ]
  }
 ],
 "metadata": {
  "anaconda-cloud": {},
  "kernelspec": {
   "display_name": "Python 3",
   "language": "python",
   "name": "python3"
  },
  "language_info": {
   "codemirror_mode": {
    "name": "ipython",
    "version": 3
   },
   "file_extension": ".py",
   "mimetype": "text/x-python",
   "name": "python",
   "nbconvert_exporter": "python",
   "pygments_lexer": "ipython3",
   "version": "3.6.5"
  }
 },
 "nbformat": 4,
 "nbformat_minor": 2
}
