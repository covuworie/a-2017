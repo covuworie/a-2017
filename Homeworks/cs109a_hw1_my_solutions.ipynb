{
 "cells": [
  {
   "cell_type": "markdown",
   "metadata": {},
   "source": [
    "# CS 109A/STAT 121A/AC 209A/CSCI E-109A: Homework 1\n",
    "\n",
    "\n",
    "\n",
    "**Harvard University**<br/>\n",
    "**Fall 2017**<br/>\n",
    "**Instructors**: Pavlos Protopapas, Kevin Rader, Rahul Dave, Margo Levine\n",
    "\n",
    "---\n",
    "\n",
    "### INSTRUCTIONS\n",
    "\n",
    "**WARNING**: There is web page scraping in this homework. It takes about 40 minutes. **Do not wait till the last minute** to do this homework.\n",
    "\n",
    "- To submit your assignment follow the instructions given in canvas.\n",
    "- Restart the kernel and run the whole notebook again before you submit. There is an important CAVEAT to this. DO NOT run the web-page fetching cells again. (We have provided hints like `# DO NOT RERUN THIS CELL WHEN SUBMITTING` on some of the cells where we provide the code). Instead load your data structures from the JSON files we will ask you to save below. Otherwise you will be waiting for a long time. (Another reason to not wait until the last moment to submit.)\n",
    "\n",
    "- Do not include your name in the notebook.\n",
    "\n",
    "---"
   ]
  },
  {
   "cell_type": "markdown",
   "metadata": {},
   "source": [
    "# Homework 1: Rihanna or Mariah?"
   ]
  },
  {
   "cell_type": "markdown",
   "metadata": {},
   "source": [
    "Billboard Magazine puts out a top 100 list of \"singles\" every week. Information from this list, as well as that from music sales, radio, and other sources is used to determine a top-100 \"singles\" of the year list. A **single** is typically one song, but sometimes can be two songs which are on one \"single\" record.\n",
    "\n",
    "In this homework you will: \n",
    "\n",
    "1. Scrape Wikipedia to obtain infprmation about the best singers and groups from each year (distinguishing between the two groups) as determined by the Billboard top 100 charts. You will have to clean this data. Along the way you will learn how to save data in json files to avoid repeated scraping. \n",
    "2. Scrape Wikipedia to obtain information on these singers. You will have to scrape the web pages, this time using a cache to guard against network timeouts (or your laptop going to sleep). You will again clean the data, and save it to a json file.\n",
    "3. Use pandas to represent these two datasets and merge them.\n",
    "4. Use the individual and merged datasets to visualize the performance of the artists and their songs. We have kept the amount of analysis limited here for reasons of time; but you might enjoy exploring music genres and other aspects of the music business you can find on these wikipedia pages at your own leisure."
   ]
  },
  {
   "cell_type": "markdown",
   "metadata": {},
   "source": [
    "You should have worked through Lab0 and Lab 1, and Lecture 2.  Lab 2 will help as well."
   ]
  },
  {
   "cell_type": "markdown",
   "metadata": {},
   "source": [
    "As usual, first we import the necessary libraries.  In particular, we use [Seaborn](http://stanford.edu/~mwaskom/software/seaborn/) to give us a nicer default color palette, with our plots being of large (`poster`) size and with a white-grid background. "
   ]
  },
  {
   "cell_type": "code",
   "execution_count": 1,
   "metadata": {
    "collapsed": true,
    "scrolled": false
   },
   "outputs": [],
   "source": [
    "%matplotlib inline\n",
    "import itertools\n",
    "from bs4 import BeautifulSoup\n",
    "import numpy as np\n",
    "import scipy as sp\n",
    "import matplotlib as mpl\n",
    "import matplotlib.cm as cm\n",
    "import matplotlib.pyplot as plt\n",
    "import pandas as pd\n",
    "import requests\n",
    "import time\n",
    "pd.set_option('display.width', 500)\n",
    "pd.set_option('display.max_columns', 100)\n",
    "pd.set_option('display.notebook_repr_html', True)\n",
    "import seaborn as sns\n",
    "sns.set_style(\"whitegrid\")\n",
    "sns.set_context(\"poster\")"
   ]
  },
  {
   "cell_type": "markdown",
   "metadata": {},
   "source": [
    "## Q1. Scraping Wikipedia for Billboard Top 100."
   ]
  },
  {
   "cell_type": "markdown",
   "metadata": {},
   "source": [
    "In this question you will scrape Wikipedia for the Billboard's top 100 singles."
   ]
  },
  {
   "cell_type": "markdown",
   "metadata": {},
   "source": [
    "### Scraping Wikipedia for Billboard singles"
   ]
  },
  {
   "cell_type": "markdown",
   "metadata": {},
   "source": [
    "We'll be using  [BeautifulSoup](http://www.crummy.com/software/BeautifulSoup/), and suggest that you use Python's built in `requests` library to fetch the web page."
   ]
  },
  {
   "cell_type": "markdown",
   "metadata": {},
   "source": [
    "#### 1.1 Parsing the Billboard Wikipedia page for 1970"
   ]
  },
  {
   "cell_type": "markdown",
   "metadata": {},
   "source": [
    "Obtain the web page at http://en.wikipedia.org/wiki/Billboard_Year-End_Hot_100_singles_of_1970 using a HTTP GET request. From this web page we'll extract the top 100 singles and their rankings. Create a list of dictionaries, 100 of them to be precise, with entries like \n",
    "\n",
    "`{'url': '/wiki/Sugarloaf_(band)', 'ranking': 30, 'band_singer': 'Sugarloaf', 'title': 'Green-Eyed Lady'}`. \n",
    "\n",
    "If you look at that web page, you'll see a link for every song, from which you can get the `url` of the singer or band. We will use these links later to scrape information about the singer or band. From the listing we can also get the band or singer name `band_singer`, and `title` of the song.\n",
    "\n",
    "*HINT: look for a table with class `wikitable`.*"
   ]
  },
  {
   "cell_type": "markdown",
   "metadata": {},
   "source": [
    "You should get something similar to this (where songs is the aforementioned list):\n",
    "\n",
    "```\n",
    "songs[2:4]\n",
    "```\n",
    "\n",
    "```\n",
    "[{'band_singer': 'The Guess Who',\n",
    "  'ranking': 3,\n",
    "  'title': '\"American Woman\"',\n",
    "  'url': '/wiki/The_Guess_Who'},\n",
    " {'band_singer': 'B.J. Thomas',\n",
    "  'ranking': 4,\n",
    "  'title': '\"Raindrops Keep Fallin\\' on My Head\"',\n",
    "  'url': '/wiki/B.J._Thomas'}]\n",
    "```"
   ]
  },
  {
   "cell_type": "code",
   "execution_count": 2,
   "metadata": {},
   "outputs": [],
   "source": [
    "response = requests.get(\n",
    "    \"http://en.wikipedia.org/wiki/Billboard_Year-End_Hot_100_singles_of_1992\",\n",
    "    \"lxml\")"
   ]
  },
  {
   "cell_type": "code",
   "execution_count": 3,
   "metadata": {},
   "outputs": [],
   "source": [
    "\"\"\"\n",
    "Function\n",
    "--------\n",
    "get_page_songs\n",
    "\n",
    "Inputs\n",
    "------\n",
    "markup: the html of the year of the singles you want\n",
    "\n",
    "Returns\n",
    "-------\n",
    "\n",
    "a list of dictionaries, each of which corresponds to a single and has the\n",
    "following data:\n",
    "\n",
    "Eg:\n",
    "\n",
    "{'band_singer': ['Brandy', 'Monica'],\n",
    "  'ranking': 2,\n",
    "  'song': ['The Boy Is Mine'],\n",
    "  'songurl': ['/wiki/The_Boy_Is_Mine_(song)'],\n",
    "  'titletext': '\" The Boy Is Mine \"',\n",
    "  'url': ['/wiki/Brandy_Norwood', '/wiki/Monica_(entertainer)']}\n",
    "\n",
    "A dictionary with the following data:\n",
    "    band_singer: a list of bands/singers who made this single\n",
    "    song: a list of the titles of songs on this single\n",
    "    songurl: a list of the same size as song which has urls\n",
    "    for the songs on the single\n",
    "        (see point 3 above)\n",
    "    ranking: ranking of the single\n",
    "    titletext: the contents of the table cell\n",
    "    band_singer: a list of bands or singers on this single\n",
    "    url: a list of wikipedia singer/band urls on this single:\n",
    "    only put in the part of the url from /wiki onwards\n",
    "\n",
    "\n",
    "Notes\n",
    "-----\n",
    "See description and example above.\n",
    "\"\"\"\n",
    "\n",
    "\n",
    "def get_page_songs(markup):\n",
    "    soup = BeautifulSoup(markup, \"lxml\")\n",
    "    tables = soup.find_all(name=\"table\",\n",
    "                           attrs={\"class\": \"wikitable\"})\n",
    "    assert(len(tables) == 1)\n",
    "\n",
    "    songs = []\n",
    "    rows = [row for\n",
    "            row in tables[0].find_all(name=\"tr\")[1:]]\n",
    "    for row in rows:\n",
    "        ranking = get_ranking(row)\n",
    "\n",
    "        data_rows = row.find_all(\"td\")\n",
    "        assert(len(data_rows) == 2 or len(data_rows) == 3)\n",
    "\n",
    "        song_index = 0\n",
    "        if len(data_rows) == 3:\n",
    "            song_index += 1\n",
    "        song_titles, song_urls, titletext = get_data(data_rows[song_index])\n",
    "        if not song_urls:\n",
    "            song_urls = None\n",
    "            song_titles.append(titletext.strip('\"'))\n",
    "            \n",
    "        artist_titles, artist_urls, _ = get_data(data_rows[song_index + 1])\n",
    "\n",
    "        song = {\"band_singer\": artist_titles, \"ranking\": ranking,\n",
    "                \"song\": song_titles, \"songurl\": song_urls,\n",
    "                \"titletext\": titletext, \"url\": artist_urls}\n",
    "        songs.append(song)\n",
    "    assert(len(songs) == 100)\n",
    "    return songs\n",
    "\n",
    "\n",
    "# Helpers\n",
    "def get_ranking(row):\n",
    "    header_row = row.find(name=\"th\", attrs={\"scope\": \"row\"})\n",
    "    if header_row:\n",
    "        return int(header_row.get_text())\n",
    "    return int(row.find(\"td\").get_text())\n",
    "\n",
    "\n",
    "def get_data(data):\n",
    "    titletext = \"\"\n",
    "    for text in data.children:\n",
    "        if text.string:\n",
    "            titletext += text.string\n",
    "        else:  \n",
    "            # there is html in the anchor text, e.g. 21 on \n",
    "            # https://en.wikipedia.org/wiki/Billboard_Year-End_Hot_100_singles_of_2013\n",
    "            titletext += data.contents[1].get_text()\n",
    "\n",
    "    titles = []\n",
    "    urls = []\n",
    "    links = data.find_all(\"a\")\n",
    "    for link in links:\n",
    "        if link.string:\n",
    "            titles.append(link.string)\n",
    "        else:\n",
    "            # same issue with html in anchor text\n",
    "            titles.append(data.contents[1].get_text()) \n",
    "        urls.append(link.get(\"href\"))\n",
    "    return (titles, urls, titletext)"
   ]
  },
  {
   "cell_type": "code",
   "execution_count": 4,
   "metadata": {},
   "outputs": [
    {
     "data": {
      "text/plain": [
       "[{'band_singer': ['Kris Kross'],\n",
       "  'ranking': 3,\n",
       "  'song': ['Jump'],\n",
       "  'songurl': ['/wiki/Jump_(Kris_Kross_song)'],\n",
       "  'titletext': '\"Jump\"',\n",
       "  'url': ['/wiki/Kris_Kross']},\n",
       " {'band_singer': ['Vanessa Williams'],\n",
       "  'ranking': 4,\n",
       "  'song': ['Save the Best for Last'],\n",
       "  'songurl': ['/wiki/Save_the_Best_for_Last'],\n",
       "  'titletext': '\"Save the Best for Last\"',\n",
       "  'url': ['/wiki/Vanessa_L._Williams']}]"
      ]
     },
     "execution_count": 4,
     "metadata": {},
     "output_type": "execute_result"
    }
   ],
   "source": [
    "songs = get_page_songs(response.text)\n",
    "songs[2:4]"
   ]
  },
  {
   "cell_type": "markdown",
   "metadata": {},
   "source": [
    "#### 1.2 Generalize the previous: scrape Wikipedia from 1992 to 2014"
   ]
  },
  {
   "cell_type": "markdown",
   "metadata": {},
   "source": [
    "By visiting the urls similar to the ones for 1970, we can obtain the billboard top 100 for the years 1992 to 2014. (We choose these later years rather than 1970 as you might find music from this era more interesting.) Download these using Python's `requests` module and store the text from those requests in a dictionary called `yearstext`. This dictionary ought to have as its keys the years (as integers from 1992 to 2014), and as values corresponding to these keys the text of the page being fetched.\n",
    "\n",
    "You ought to sleep a second (look up `time.sleep` in Python) at the very least in-between fetching each web page: you do not want Wikipedia to think you are a marauding bot attempting to mount a denial-of-service attack."
   ]
  },
  {
   "cell_type": "code",
   "execution_count": 5,
   "metadata": {},
   "outputs": [],
   "source": [
    "url_prefix=\"http://en.wikipedia.org/wiki/Billboard_Year-End_Hot_100_singles_of_\"\n",
    "yearstext = {}\n",
    "for year in range(1992, 2015):\n",
    "    time.sleep(1)\n",
    "    url = url_prefix + str(year)\n",
    "    response = requests.get(url)\n",
    "    soup = BeautifulSoup(response.text, \"lxml\")\n",
    "    yearstext[year] = str(soup)"
   ]
  },
  {
   "cell_type": "markdown",
   "metadata": {},
   "source": [
    "*HINT: you might find `range` and string-interpolation useful to construct the URLs *.\n"
   ]
  },
  {
   "cell_type": "markdown",
   "metadata": {},
   "source": [
    "#### 1.3 Parse and Clean data "
   ]
  },
  {
   "cell_type": "markdown",
   "metadata": {},
   "source": [
    "Remember the code you wrote to get data from 1970 which produces a list of dictionaries, one corresponding to each single.  Now write a function `parse_year(the_year, yeartext_dict)` which takes the year, prints it out, gets the text for the year from the just created `yearstext` dictionary, and return a list of dictionaries for that year, with one dictionary for each single. Store this list in the variable `yearinfo`.\n",
    "\n",
    "The dictionaries **must** be of this form:\n",
    "\n",
    "```\n",
    "{'band_singer': ['Brandy', 'Monica'],\n",
    "  'ranking': 2,\n",
    "  'song': ['The Boy Is Mine'],\n",
    "  'songurl': ['/wiki/The_Boy_Is_Mine_(song)'],\n",
    "  'titletext': '\" The Boy Is Mine \"',\n",
    "  'url': ['/wiki/Brandy_Norwood', '/wiki/Monica_(entertainer)']}\n",
    "```"
   ]
  },
  {
   "cell_type": "markdown",
   "metadata": {},
   "source": [
    "The spec of this function is provided below:"
   ]
  },
  {
   "cell_type": "code",
   "execution_count": 6,
   "metadata": {
    "collapsed": true
   },
   "outputs": [],
   "source": [
    "\"\"\"\n",
    "Function\n",
    "--------\n",
    "parse_year\n",
    "\n",
    "Inputs\n",
    "------\n",
    "the_year: the year you want the singles for\n",
    "yeartext_dict: a dictionary with keys as integer years and values the\n",
    "    downloaded web pages from wikipedia for that year.\n",
    "\n",
    "Returns\n",
    "-------\n",
    "\n",
    "a list of dictionaries, each of which corresponds to a single and has the\n",
    "following data:\n",
    "\n",
    "Eg:\n",
    "\n",
    "{'band_singer': ['Brandy', 'Monica'],\n",
    "  'ranking': 2,\n",
    "  'song': ['The Boy Is Mine'],\n",
    "  'songurl': ['/wiki/The_Boy_Is_Mine_(song)'],\n",
    "  'titletext': '\" The Boy Is Mine \"',\n",
    "  'url': ['/wiki/Brandy_Norwood', '/wiki/Monica_(entertainer)']}\n",
    "\n",
    "A dictionary with the following data:\n",
    "    band_singer: a list of bands/singers who made this single\n",
    "    song: a list of the titles of songs on this single\n",
    "    songurl: a list of the same size as song which has urls\n",
    "    for the songs on the single\n",
    "        (see point 3 above)\n",
    "    ranking: ranking of the single\n",
    "    titletext: the contents of the table cell\n",
    "    band_singer: a list of bands or singers on this single\n",
    "    url: a list of wikipedia singer/band urls on this single:\n",
    "    only put in the part of the url from /wiki onwards\n",
    "\n",
    "\n",
    "Notes\n",
    "-----\n",
    "See description and example above.\n",
    "\"\"\"\n",
    "\n",
    "\n",
    "def parse_year(the_year, yeartext_dict):\n",
    "    if the_year not in yeartext_dict:\n",
    "        raise ValueError(\n",
    "            \"'the_year' = {0} must be in yeartext_dict\".format(the_year))\n",
    "\n",
    "    print(\"year: \", the_year)\n",
    "    yearinfo = get_page_songs(yeartext_dict[the_year])\n",
    "    return yearinfo"
   ]
  },
  {
   "cell_type": "markdown",
   "metadata": {},
   "source": [
    "#### Helpful notes\n",
    "\n",
    "Notice that some singles might have multiple songs:\n",
    "\n",
    "```\n",
    "{'band_singer': ['Jewel'],\n",
    "  'ranking': 2,\n",
    "  'song': ['Foolish Games', 'You Were Meant for Me'],\n",
    "  'songurl': ['/wiki/Foolish_Games',\n",
    "   '/wiki/You_Were_Meant_for_Me_(Jewel_song)'],\n",
    "  'titletext': '\" Foolish Games \" / \" You Were Meant for Me \"',\n",
    "  'url': ['/wiki/Jewel_(singer)']}\n",
    "```"
   ]
  },
  {
   "cell_type": "markdown",
   "metadata": {},
   "source": [
    "##### And some singles don't have a song URL:\n",
    "\n",
    "```\n",
    "{'band_singer': [u'Nu Flavor'],\n",
    "  'ranking': 91,\n",
    "  'song': [u'Heaven'],\n",
    "  'songurl': [None],\n",
    "  'titletext': u'\"Heaven\"',\n",
    "  'url': [u'/wiki/Nu_Flavor']}\n",
    "```"
   ]
  },
  {
   "cell_type": "markdown",
   "metadata": {},
   "source": [
    "Thus there are some issues this function must handle:\n",
    "\n",
    "1. There can be more than one  `band_singer` as can be seen above (sometimes with a comma, sometimes with \"featuring\" in between). The best way to parse these is to look for the urls.\n",
    "2. There can be two songs in a single, because of the way the industry works: there are two-sided singles. See https://en.wikipedia.org/wiki/Billboard_Year-End_Hot_100_singles_of_1997 for an example. You can find other examples in 1998 and 1999.\n",
    "3. The `titletext` is the contents of the table cell, and retains the quotes that Wikipedia puts on the single.\n",
    "4. If no song anchor is found (see the 24th song in the above url), assume there is one song in the single, set `songurl` to [`None`] and the song name to the contents of the table cell with the quotes stripped (ie `song` is a one-element list with this the `titletext` stripped of its quotes)."
   ]
  },
  {
   "cell_type": "markdown",
   "metadata": {},
   "source": [
    "As a check, we can do this for 1997. We'll print the first 5 outputs: `parse_year(1997, yearstext)[:5]`"
   ]
  },
  {
   "cell_type": "code",
   "execution_count": 7,
   "metadata": {},
   "outputs": [
    {
     "name": "stdout",
     "output_type": "stream",
     "text": [
      "year:  1997\n"
     ]
    },
    {
     "data": {
      "text/plain": [
       "[{'band_singer': ['Elton John'],\n",
       "  'ranking': 1,\n",
       "  'song': ['Something About the Way You Look Tonight',\n",
       "   'Candle in the Wind 1997'],\n",
       "  'songurl': ['/wiki/Something_About_the_Way_You_Look_Tonight',\n",
       "   '/wiki/Candle_in_the_Wind_1997'],\n",
       "  'titletext': '\"Something About the Way You Look Tonight\" / \"Candle in the Wind 1997\"',\n",
       "  'url': ['/wiki/Elton_John']},\n",
       " {'band_singer': ['Jewel'],\n",
       "  'ranking': 2,\n",
       "  'song': ['Foolish Games', 'You Were Meant for Me'],\n",
       "  'songurl': ['/wiki/Foolish_Games',\n",
       "   '/wiki/You_Were_Meant_for_Me_(Jewel_song)'],\n",
       "  'titletext': '\"Foolish Games\" / \"You Were Meant for Me\"',\n",
       "  'url': ['/wiki/Jewel_(singer)']},\n",
       " {'band_singer': ['Puff Daddy', 'Faith Evans', '112'],\n",
       "  'ranking': 3,\n",
       "  'song': [\"I'll Be Missing You\"],\n",
       "  'songurl': ['/wiki/I%27ll_Be_Missing_You'],\n",
       "  'titletext': '\"I\\'ll Be Missing You\"',\n",
       "  'url': ['/wiki/Sean_Combs', '/wiki/Faith_Evans', '/wiki/112_(band)']},\n",
       " {'band_singer': ['Toni Braxton'],\n",
       "  'ranking': 4,\n",
       "  'song': ['Un-Break My Heart'],\n",
       "  'songurl': ['/wiki/Un-Break_My_Heart'],\n",
       "  'titletext': '\"Un-Break My Heart\"',\n",
       "  'url': ['/wiki/Toni_Braxton']},\n",
       " {'band_singer': ['Puff Daddy', 'Mase'],\n",
       "  'ranking': 5,\n",
       "  'song': [\"Can't Nobody Hold Me Down\"],\n",
       "  'songurl': ['/wiki/Can%27t_Nobody_Hold_Me_Down'],\n",
       "  'titletext': '\"Can\\'t Nobody Hold Me Down\"',\n",
       "  'url': ['/wiki/Sean_Combs', '/wiki/Mase']}]"
      ]
     },
     "execution_count": 7,
     "metadata": {},
     "output_type": "execute_result"
    }
   ],
   "source": [
    "parse_year(1997, yearstext)[:5]"
   ]
  },
  {
   "cell_type": "markdown",
   "metadata": {},
   "source": [
    "This should give the following. Notice that the year 1997 exercises the edge cases we talked about earlier."
   ]
  },
  {
   "cell_type": "markdown",
   "metadata": {},
   "source": [
    "```\n",
    "[{'band_singer': ['Elton John'],\n",
    "  'ranking': 1,\n",
    "  'song': ['Something About the Way You Look Tonight',\n",
    "   'Candle in the Wind 1997'],\n",
    "  'songurl': ['/wiki/Something_About_the_Way_You_Look_Tonight',\n",
    "   '/wiki/Candle_in_the_Wind_1997'],\n",
    "  'titletext': '\" Something About the Way You Look Tonight \" / \" Candle in the Wind 1997 \"',\n",
    "  'url': ['/wiki/Elton_John']},\n",
    " {'band_singer': ['Jewel'],\n",
    "  'ranking': 2,\n",
    "  'song': ['Foolish Games', 'You Were Meant for Me'],\n",
    "  'songurl': ['/wiki/Foolish_Games',\n",
    "   '/wiki/You_Were_Meant_for_Me_(Jewel_song)'],\n",
    "  'titletext': '\" Foolish Games \" / \" You Were Meant for Me \"',\n",
    "  'url': ['/wiki/Jewel_(singer)']},\n",
    " {'band_singer': ['Puff Daddy', 'Faith Evans', '112'],\n",
    "  'ranking': 3,\n",
    "  'song': [\"I'll Be Missing You\"],\n",
    "  'songurl': ['/wiki/I%27ll_Be_Missing_You'],\n",
    "  'titletext': '\" I\\'ll Be Missing You \"',\n",
    "  'url': ['/wiki/Sean_Combs', '/wiki/Faith_Evans', '/wiki/112_(band)']},\n",
    " {'band_singer': ['Toni Braxton'],\n",
    "  'ranking': 4,\n",
    "  'song': ['Un-Break My Heart'],\n",
    "  'songurl': ['/wiki/Un-Break_My_Heart'],\n",
    "  'titletext': '\" Un-Break My Heart \"',\n",
    "  'url': ['/wiki/Toni_Braxton']},\n",
    " {'band_singer': ['Puff Daddy', 'Mase'],\n",
    "  'ranking': 5,\n",
    "  'song': [\"Can't Nobody Hold Me Down\"],\n",
    "  'songurl': ['/wiki/Can%27t_Nobody_Hold_Me_Down'],\n",
    "  'titletext': '\" Can\\'t Nobody Hold Me Down \"',\n",
    "  'url': ['/wiki/Sean_Combs', '/wiki/Mase']}]\n",
    "```"
   ]
  },
  {
   "cell_type": "markdown",
   "metadata": {},
   "source": [
    "Seems like in the assignment they forgot to say that we must form the yearinfo dict (where the keys are the years and the values are the list of dicts) by looping through the data for each of the years. So we do that now."
   ]
  },
  {
   "cell_type": "code",
   "execution_count": 8,
   "metadata": {},
   "outputs": [
    {
     "name": "stdout",
     "output_type": "stream",
     "text": [
      "year:  1992\n",
      "year:  1993\n",
      "year:  1994\n",
      "year:  1995\n",
      "year:  1996\n",
      "year:  1997\n",
      "year:  1998\n",
      "year:  1999\n",
      "year:  2000\n",
      "year:  2001\n",
      "year:  2002\n",
      "year:  2003\n",
      "year:  2004\n",
      "year:  2005\n",
      "year:  2006\n",
      "year:  2007\n",
      "year:  2008\n",
      "year:  2009\n",
      "year:  2010\n",
      "year:  2011\n",
      "year:  2012\n",
      "year:  2013\n",
      "year:  2014\n"
     ]
    }
   ],
   "source": [
    "yearinfo = {year: parse_year(year, yearstext) for year in yearstext}"
   ]
  },
  {
   "cell_type": "markdown",
   "metadata": {},
   "source": [
    "#### Save a json file of information from the scraped files"
   ]
  },
  {
   "cell_type": "markdown",
   "metadata": {},
   "source": [
    "We do not want to lose all this work, so let's save the last data structure we created to disk. That way if you need to re-run from here, you don't need to redo all these requests and parsing. \n",
    "\n",
    "DO NOT RERUN THE HTTP REQUESTS TO WIKIPEDIA WHEN SUBMITTING.\n",
    "\n",
    "*We **DO NOT** need to see these JSON files in your submission!*"
   ]
  },
  {
   "cell_type": "code",
   "execution_count": 9,
   "metadata": {
    "collapsed": true
   },
   "outputs": [],
   "source": [
    "import json"
   ]
  },
  {
   "cell_type": "code",
   "execution_count": 10,
   "metadata": {
    "collapsed": true,
    "scrolled": false
   },
   "outputs": [],
   "source": [
    "# DO NOT RERUN THIS CELL WHEN SUBMITTING\n",
    "fd = open(\"data/yearinfo.json\",\"w\")\n",
    "json.dump(yearinfo, fd)\n",
    "fd.close()\n",
    "del yearinfo"
   ]
  },
  {
   "cell_type": "markdown",
   "metadata": {},
   "source": [
    "Now let's reload our JSON file into the yearinfo variable, just to be sure everything is working."
   ]
  },
  {
   "cell_type": "code",
   "execution_count": 11,
   "metadata": {
    "collapsed": true,
    "scrolled": true
   },
   "outputs": [],
   "source": [
    "# RERUN WHEN SUBMITTING\n",
    "# Another way to deal with files. Has the advantage of closing the file for you.\n",
    "with open(\"data/yearinfo.json\", \"r\") as fd:\n",
    "    yearinfo = json.load(fd)"
   ]
  },
  {
   "cell_type": "markdown",
   "metadata": {},
   "source": [
    "#### 1.4 Construct a year-song-singer dataframe from the yearly information"
   ]
  },
  {
   "cell_type": "markdown",
   "metadata": {},
   "source": [
    "Let's construct a dataframe `flatframe` from the `yearinfo`. The frame should be similar to the frame below.  Each row of the frame represents a song, and carries with it the chief properties of year, song, singer, and ranking.\n",
    "\n",
    "![](https://raw.githubusercontent.com/cs109/a-2017/master/hwassets/images/HW1SC1.png)"
   ]
  },
  {
   "cell_type": "markdown",
   "metadata": {},
   "source": [
    "To construct the dataframe, we'll need to iterate over the years and the singles per year. Notice how, above, the dataframe is ordered by ranking and then year. While the exact order is up to you, note that you will have to come up with a scheme to order the information.\n",
    "\n",
    "Check that the dataframe has sensible data types. You will also likely find that the year field has become an \"object\" (Pandas treats strings as generic objects): this is due to the conversion to and back from JSON. Such conversions need special care. Fix any data type issues with `flatframe`. (See Pandas [astype](http://pandas.pydata.org/pandas-docs/stable/generated/pandas.DataFrame.astype.html) function.) \n",
    "We will use this `flatframe` in the next question. \n",
    "\n",
    "(As an aside, we used the name `flatframe` to indicate that this dataframe is flattened from a hierarchical dictionary structure with the keys being the years.)"
   ]
  },
  {
   "cell_type": "code",
   "execution_count": 12,
   "metadata": {},
   "outputs": [
    {
     "data": {
      "text/html": [
       "<div>\n",
       "<style scoped>\n",
       "    .dataframe tbody tr th:only-of-type {\n",
       "        vertical-align: middle;\n",
       "    }\n",
       "\n",
       "    .dataframe tbody tr th {\n",
       "        vertical-align: top;\n",
       "    }\n",
       "\n",
       "    .dataframe thead th {\n",
       "        text-align: right;\n",
       "    }\n",
       "</style>\n",
       "<table border=\"1\" class=\"dataframe\">\n",
       "  <thead>\n",
       "    <tr style=\"text-align: right;\">\n",
       "      <th></th>\n",
       "      <th>band_singer</th>\n",
       "      <th>ranking</th>\n",
       "      <th>song</th>\n",
       "      <th>songurl</th>\n",
       "      <th>url</th>\n",
       "      <th>year</th>\n",
       "    </tr>\n",
       "  </thead>\n",
       "  <tbody>\n",
       "    <tr>\n",
       "      <th>0</th>\n",
       "      <td>Boyz II Men</td>\n",
       "      <td>1</td>\n",
       "      <td>End of the Road</td>\n",
       "      <td>/wiki/End_of_the_Road</td>\n",
       "      <td>/wiki/Boyz_II_Men</td>\n",
       "      <td>1992</td>\n",
       "    </tr>\n",
       "    <tr>\n",
       "      <th>100</th>\n",
       "      <td>Whitney Houston</td>\n",
       "      <td>1</td>\n",
       "      <td>I Will Always Love You</td>\n",
       "      <td>/wiki/I_Will_Always_Love_You#Whitney_Houston_v...</td>\n",
       "      <td>/wiki/Whitney_Houston</td>\n",
       "      <td>1993</td>\n",
       "    </tr>\n",
       "    <tr>\n",
       "      <th>200</th>\n",
       "      <td>Ace of Base</td>\n",
       "      <td>1</td>\n",
       "      <td>The Sign</td>\n",
       "      <td>/wiki/The_Sign_(song)</td>\n",
       "      <td>/wiki/Ace_of_Base</td>\n",
       "      <td>1994</td>\n",
       "    </tr>\n",
       "    <tr>\n",
       "      <th>300</th>\n",
       "      <td>Coolio|L.V.</td>\n",
       "      <td>1</td>\n",
       "      <td>Gangsta's Paradise</td>\n",
       "      <td>/wiki/Gangsta%27s_Paradise</td>\n",
       "      <td>/wiki/Coolio|/wiki/L.V._(singer)</td>\n",
       "      <td>1995</td>\n",
       "    </tr>\n",
       "    <tr>\n",
       "      <th>400</th>\n",
       "      <td>Los del Río</td>\n",
       "      <td>1</td>\n",
       "      <td>Macarena</td>\n",
       "      <td>/wiki/Macarena_(song)</td>\n",
       "      <td>/wiki/Los_del_R%C3%ADo</td>\n",
       "      <td>1996</td>\n",
       "    </tr>\n",
       "  </tbody>\n",
       "</table>\n",
       "</div>"
      ],
      "text/plain": [
       "         band_singer  ranking                    song                                            songurl                               url  year\n",
       "0        Boyz II Men        1         End of the Road                              /wiki/End_of_the_Road                 /wiki/Boyz_II_Men  1992\n",
       "100  Whitney Houston        1  I Will Always Love You  /wiki/I_Will_Always_Love_You#Whitney_Houston_v...             /wiki/Whitney_Houston  1993\n",
       "200      Ace of Base        1                The Sign                              /wiki/The_Sign_(song)                 /wiki/Ace_of_Base  1994\n",
       "300      Coolio|L.V.        1      Gangsta's Paradise                         /wiki/Gangsta%27s_Paradise  /wiki/Coolio|/wiki/L.V._(singer)  1995\n",
       "400      Los del Río        1                Macarena                              /wiki/Macarena_(song)            /wiki/Los_del_R%C3%ADo  1996"
      ]
     },
     "execution_count": 12,
     "metadata": {},
     "output_type": "execute_result"
    }
   ],
   "source": [
    "flatframe = pd.DataFrame()\n",
    "for year, info in yearinfo.items():\n",
    "    for songinfo in info:\n",
    "        songinfo[\"year\"] = year  # modified in place\n",
    "    flatframe = flatframe.append(pd.DataFrame(info), ignore_index=True)\n",
    "flatframe = flatframe.drop(\"titletext\", axis=1)\n",
    "flatframe = flatframe.sort_values(by=[\"ranking\", \"year\"])\n",
    "flatframe[\"year\"] = flatframe.year.astype(\"int64\")\n",
    "flatframe[[\"band_singer\", \"song\", \"songurl\", \"url\"]] = (\n",
    "    flatframe[[\"band_singer\", \"song\", \"songurl\", \"url\"]]\n",
    "    .apply(lambda series: series.str.join(\"|\")))\n",
    "flatframe.head()"
   ]
  },
  {
   "cell_type": "markdown",
   "metadata": {},
   "source": [
    "### Who are the highest quality singers?"
   ]
  },
  {
   "cell_type": "markdown",
   "metadata": {},
   "source": [
    "Here we show the highest quality singers and plot them on a bar chart.\n",
    "\n",
    "#### 1.5 Find highest quality singers according to how prolific they are\n",
    "\n",
    "What do we mean by highest quality? This is of course open to interpretation, but let's define \"highest quality\" here as the number of times a singer appears in the top 100 over this time period. If a singer appears twice in a year (for different songs), this is counted as two appearances, not one. \n",
    "\n",
    "Make a bar-plot of the most prolific singers. Singers on this chart should have appeared at-least more than 15 times. (HINT: look at the docs for the pandas method `value_counts`.)\n"
   ]
  },
  {
   "cell_type": "code",
   "execution_count": 13,
   "metadata": {},
   "outputs": [],
   "source": [
    "singers = flatframe.band_singer.str.get_dummies()\n",
    "top_singers = singers.sum().sort_values(ascending=False)"
   ]
  },
  {
   "cell_type": "code",
   "execution_count": 14,
   "metadata": {},
   "outputs": [
    {
     "data": {
      "image/png": "[encoded data removed]",
      "text/plain": [
       "<Figure size 720x720 with 1 Axes>"
      ]
     },
     "metadata": {},
     "output_type": "display_data"
    }
   ],
   "source": [
    "plt.figure(figsize=(10, 10))\n",
    "axes = top_singers[top_singers.values > 15].plot.barh()\n",
    "axes.set(title=\"Most prolific singers and bands for billboard top 100 (1992-2014)\", \n",
    "         xlabel = \"Number of top 100 songs\", ylabel=\"Singer / Band\")\n",
    "axes.grid(False)"
   ]
  },
  {
   "cell_type": "markdown",
   "metadata": {},
   "source": [
    "#### 1.6 What if we used a different metric?"
   ]
  },
  {
   "cell_type": "markdown",
   "metadata": {},
   "source": [
    "What we would like to capture is this: a singer should to be scored higher if the singer appears higher in the rankings. So we'd say that a singer who appeared once at a higher and once at a lower ranking is a \"higher quality\" singer than one who appeared twice at a lower ranking. \n",
    "\n",
    "To do this, group all of a singers songs together and assign each song a score `101 - ranking`. Order the singers by their total score and make a bar chart for the top 20.\n"
   ]
  },
  {
   "cell_type": "code",
   "execution_count": 15,
   "metadata": {},
   "outputs": [],
   "source": [
    "scores = flatframe.ranking.apply(lambda rank: 101 - rank)\n",
    "top_singers = singers.mul(scores, axis='index').sum().sort_values(ascending=False)"
   ]
  },
  {
   "cell_type": "code",
   "execution_count": 16,
   "metadata": {},
   "outputs": [
    {
     "data": {
      "image/png": "[encoded data removed]",
      "text/plain": [
       "<Figure size 720x720 with 1 Axes>"
      ]
     },
     "metadata": {},
     "output_type": "display_data"
    }
   ],
   "source": [
    "plt.figure(figsize=(10, 10))\n",
    "axes = top_singers[:20].plot.barh()\n",
    "axes.set(title=\"Top 20 singers and bands for billboard top 100 (1992-2014)\", \n",
    "         xlabel = \"Score\", ylabel=\"Singer / Band\")\n",
    "axes.grid(False)"
   ]
  },
  {
   "cell_type": "markdown",
   "metadata": {},
   "source": [
    "#### 1.7 Do you notice any major differences when you change the metric?\n",
    "\n",
    "How have the singers at the top shifted places? Why do you think this happens?"
   ]
  },
  {
   "cell_type": "markdown",
   "metadata": {},
   "source": [
    "Mainly the same top singers are in both positions. However, the positions of the singers in the top places shift. Those who are less prolific, but their songs get to higher rankings in the Billboard Top 100 start to move up the list or onto it. The most notable example in both lists is *Katy Perry*. *50 Cent* and *Bruno Mars* are the singers who appear only in the 2nd list.  Conversely, those who are more profilic, but their songs get to lower rankings start to move down the list or off it. The most notable example who appears in both lists is *R. Kelly*. However, *T-Pain* is the most striking example as he appears at number 9 in the first list and is nowhere to be seen in the second list."
   ]
  },
  {
   "cell_type": "markdown",
   "metadata": {},
   "source": [
    "## Q2. Scraping and Constructing: Information about Artists, Bands and Genres from Wikipedia"
   ]
  },
  {
   "cell_type": "markdown",
   "metadata": {},
   "source": [
    "Our next job is to use those band/singer urls we collected under `flatframe.url` and get information about singers and/or bands."
   ]
  },
  {
   "cell_type": "markdown",
   "metadata": {},
   "source": [
    "### Scrape information about artists from wikipedia"
   ]
  },
  {
   "cell_type": "markdown",
   "metadata": {},
   "source": [
    "We wish to fetch information about the singers or groups for all the winning songs in a list of years.\n",
    "\n",
    "Here we show a function that fetches information about a singer or group from their url on wikipedia. We create a cache object `urlcache` that will avoid redundant HTTP requests (e.g. an artist might have multiple singles on a single year, or be on the list over a span of years). Once we have fetched information about an artist, we don't need to do it again. The caching also helps if the network goes down, or the target website is having some problems. You simply need to run the `get_page` function below again, and the `urlcache` dictionary will continue to be filled.\n",
    "\n",
    "If the request gets an HTTP return code different from 200, (such as a 404 not found or 500 Internal Server Error) the cells for that URL will have a value of 1; and if the request completely fails (e.g. no network connection) the cell will have a value of 2. This will allow you to analyse the failed requests.\n",
    "\n",
    "Notice that we have wrapped the call in whats called _an exception block_. We try to make the request. If it fails entirely, or returns a HTTP code thats not 200, we set the status to 2 and 1 respectively."
   ]
  },
  {
   "cell_type": "code",
   "execution_count": 17,
   "metadata": {
    "collapsed": true,
    "scrolled": true
   },
   "outputs": [],
   "source": [
    "urlcache={}"
   ]
  },
  {
   "cell_type": "code",
   "execution_count": 18,
   "metadata": {
    "collapsed": true,
    "scrolled": true
   },
   "outputs": [],
   "source": [
    "def get_page(url):\n",
    "    # Check if URL has already been visited.\n",
    "    if (url not in urlcache) or (urlcache[url]==1) or (urlcache[url]==2):\n",
    "        time.sleep(1)\n",
    "        # try/except blocks are used whenever the code could generate an exception (e.g. division by zero).\n",
    "        # In this case we don't know if the page really exists, or even if it does, if we'll be able to reach it.\n",
    "        try:\n",
    "            r = requests.get(\"http://en.wikipedia.org%s\" % url)\n",
    "\n",
    "            if r.status_code == 200:\n",
    "                urlcache[url] = r.text\n",
    "            else:\n",
    "                urlcache[url] = 1\n",
    "        except:\n",
    "            urlcache[url] = 2\n",
    "    return urlcache[url]\n"
   ]
  },
  {
   "cell_type": "markdown",
   "metadata": {},
   "source": [
    "We sort the `flatframe` by year, ascending, first. Think why."
   ]
  },
  {
   "cell_type": "code",
   "execution_count": 19,
   "metadata": {
    "collapsed": true,
    "scrolled": true
   },
   "outputs": [
    {
     "data": {
      "text/html": [
       "<div>\n",
       "<style scoped>\n",
       "    .dataframe tbody tr th:only-of-type {\n",
       "        vertical-align: middle;\n",
       "    }\n",
       "\n",
       "    .dataframe tbody tr th {\n",
       "        vertical-align: top;\n",
       "    }\n",
       "\n",
       "    .dataframe thead th {\n",
       "        text-align: right;\n",
       "    }\n",
       "</style>\n",
       "<table border=\"1\" class=\"dataframe\">\n",
       "  <thead>\n",
       "    <tr style=\"text-align: right;\">\n",
       "      <th></th>\n",
       "      <th>band_singer</th>\n",
       "      <th>ranking</th>\n",
       "      <th>song</th>\n",
       "      <th>songurl</th>\n",
       "      <th>url</th>\n",
       "      <th>year</th>\n",
       "    </tr>\n",
       "  </thead>\n",
       "  <tbody>\n",
       "    <tr>\n",
       "      <th>0</th>\n",
       "      <td>Boyz II Men</td>\n",
       "      <td>1</td>\n",
       "      <td>End of the Road</td>\n",
       "      <td>/wiki/End_of_the_Road</td>\n",
       "      <td>/wiki/Boyz_II_Men</td>\n",
       "      <td>1992</td>\n",
       "    </tr>\n",
       "    <tr>\n",
       "      <th>85</th>\n",
       "      <td>The KLF</td>\n",
       "      <td>86</td>\n",
       "      <td>Justified and Ancient</td>\n",
       "      <td>/wiki/Justified_and_Ancient</td>\n",
       "      <td>/wiki/The_KLF</td>\n",
       "      <td>1992</td>\n",
       "    </tr>\n",
       "    <tr>\n",
       "      <th>50</th>\n",
       "      <td>P.M. Dawn</td>\n",
       "      <td>51</td>\n",
       "      <td>I'd Die Without You</td>\n",
       "      <td>/wiki/I%27d_Die_Without_You</td>\n",
       "      <td>/wiki/P.M._Dawn</td>\n",
       "      <td>1992</td>\n",
       "    </tr>\n",
       "    <tr>\n",
       "      <th>8</th>\n",
       "      <td>Color Me Badd</td>\n",
       "      <td>9</td>\n",
       "      <td>All 4 Love</td>\n",
       "      <td>/wiki/All_4_Love</td>\n",
       "      <td>/wiki/Color_Me_Badd</td>\n",
       "      <td>1992</td>\n",
       "    </tr>\n",
       "    <tr>\n",
       "      <th>26</th>\n",
       "      <td>Atlantic Starr</td>\n",
       "      <td>27</td>\n",
       "      <td>Masterpiece</td>\n",
       "      <td>/wiki/Masterpiece_(Atlantic_Starr_song)</td>\n",
       "      <td>/wiki/Atlantic_Starr</td>\n",
       "      <td>1992</td>\n",
       "    </tr>\n",
       "  </tbody>\n",
       "</table>\n",
       "</div>"
      ],
      "text/plain": [
       "       band_singer  ranking                   song                                  songurl                   url  year\n",
       "0      Boyz II Men        1        End of the Road                    /wiki/End_of_the_Road     /wiki/Boyz_II_Men  1992\n",
       "85         The KLF       86  Justified and Ancient              /wiki/Justified_and_Ancient         /wiki/The_KLF  1992\n",
       "50       P.M. Dawn       51    I'd Die Without You              /wiki/I%27d_Die_Without_You       /wiki/P.M._Dawn  1992\n",
       "8    Color Me Badd        9             All 4 Love                         /wiki/All_4_Love   /wiki/Color_Me_Badd  1992\n",
       "26  Atlantic Starr       27            Masterpiece  /wiki/Masterpiece_(Atlantic_Starr_song)  /wiki/Atlantic_Starr  1992"
      ]
     },
     "execution_count": 19,
     "metadata": {},
     "output_type": "execute_result"
    }
   ],
   "source": [
    "flatframe=flatframe.sort_values('year')\n",
    "flatframe.head()"
   ]
  },
  {
   "cell_type": "markdown",
   "metadata": {},
   "source": [
    "#### Pulling and saving the data"
   ]
  },
  {
   "cell_type": "markdown",
   "metadata": {},
   "source": [
    "Note that again here the assignment is not clear. There is in fact a list of urls for each song corresponding to the fact that there can be multiple singers or bands for a specific song. These urls are separated by the | symbol in the url column of the flatframe dataframe. Of course if we naively apply the `get_page` function to the values with a | in them the request will fail as the url is not valid. We could of course split these out in the `get_page` function so that we have the list of urls when there are multiple singers / bands for a specific song. However, this is not necessary looking at the parts of the assignment in section 2.2 below which states to merge the singer-group data frame with the `flatframe` to create `largedf` using the url as the key. Clearly that assumes that all these singers / bands who are present in collaborations will always also have entries in the billboard top 100 where they appear as a single act. This may not always strictly be the case. But for the top artists it's a reasonable assumpion. So let's filter out any rows of `flatframe` with | in the url."
   ]
  },
  {
   "cell_type": "code",
   "execution_count": 20,
   "metadata": {
    "collapsed": true,
    "scrolled": true
   },
   "outputs": [
    {
     "data": {
      "text/plain": [
       "0       <!DOCTYPE html>\\n<html class=\"client-nojs\" lan...\n",
       "85      <!DOCTYPE html>\\n<html class=\"client-nojs\" lan...\n",
       "50      <!DOCTYPE html>\\n<html class=\"client-nojs\" lan...\n",
       "8       <!DOCTYPE html>\\n<html class=\"client-nojs\" lan...\n",
       "26      <!DOCTYPE html>\\n<html class=\"client-nojs\" lan...\n",
       "38      <!DOCTYPE html>\\n<html class=\"client-nojs\" lan...\n",
       "51      <!DOCTYPE html>\\n<html class=\"client-nojs\" lan...\n",
       "94      <!DOCTYPE html>\\n<html class=\"client-nojs\" lan...\n",
       "73      <!DOCTYPE html>\\n<html class=\"client-nojs\" lan...\n",
       "72      <!DOCTYPE html>\\n<html class=\"client-nojs\" lan...\n",
       "99      <!DOCTYPE html>\\n<html class=\"client-nojs\" lan...\n",
       "88      <!DOCTYPE html>\\n<html class=\"client-nojs\" lan...\n",
       "52      <!DOCTYPE html>\\n<html class=\"client-nojs\" lan...\n",
       "71      <!DOCTYPE html>\\n<html class=\"client-nojs\" lan...\n",
       "10      <!DOCTYPE html>\\n<html class=\"client-nojs\" lan...\n",
       "9       <!DOCTYPE html>\\n<html class=\"client-nojs\" lan...\n",
       "36      <!DOCTYPE html>\\n<html class=\"client-nojs\" lan...\n",
       "7       <!DOCTYPE html>\\n<html class=\"client-nojs\" lan...\n",
       "95      <!DOCTYPE html>\\n<html class=\"client-nojs\" lan...\n",
       "4       <!DOCTYPE html>\\n<html class=\"client-nojs\" lan...\n",
       "87      <!DOCTYPE html>\\n<html class=\"client-nojs\" lan...\n",
       "76      <!DOCTYPE html>\\n<html class=\"client-nojs\" lan...\n",
       "60      <!DOCTYPE html>\\n<html class=\"client-nojs\" lan...\n",
       "41      <!DOCTYPE html>\\n<html class=\"client-nojs\" lan...\n",
       "83      <!DOCTYPE html>\\n<html class=\"client-nojs\" lan...\n",
       "39      <!DOCTYPE html>\\n<html class=\"client-nojs\" lan...\n",
       "75      <!DOCTYPE html>\\n<html class=\"client-nojs\" lan...\n",
       "49      <!DOCTYPE html>\\n<html class=\"client-nojs\" lan...\n",
       "22      <!DOCTYPE html>\\n<html class=\"client-nojs\" lan...\n",
       "74      <!DOCTYPE html>\\n<html class=\"client-nojs\" lan...\n",
       "                              ...                        \n",
       "2274    <!DOCTYPE html>\\n<html class=\"client-nojs\" lan...\n",
       "2275    <!DOCTYPE html>\\n<html class=\"client-nojs\" lan...\n",
       "2278    <!DOCTYPE html>\\n<html class=\"client-nojs\" lan...\n",
       "2279    <!DOCTYPE html>\\n<html class=\"client-nojs\" lan...\n",
       "2280    <!DOCTYPE html>\\n<html class=\"client-nojs\" lan...\n",
       "2272    <!DOCTYPE html>\\n<html class=\"client-nojs\" lan...\n",
       "2285    <!DOCTYPE html>\\n<html class=\"client-nojs\" lan...\n",
       "2287    <!DOCTYPE html>\\n<html class=\"client-nojs\" lan...\n",
       "2290    <!DOCTYPE html>\\n<html class=\"client-nojs\" lan...\n",
       "2292    <!DOCTYPE html>\\n<html class=\"client-nojs\" lan...\n",
       "2246    <!DOCTYPE html>\\n<html class=\"client-nojs\" lan...\n",
       "2269    <!DOCTYPE html>\\n<html class=\"client-nojs\" lan...\n",
       "2250    <!DOCTYPE html>\\n<html class=\"client-nojs\" lan...\n",
       "2251    <!DOCTYPE html>\\n<html class=\"client-nojs\" lan...\n",
       "2252    <!DOCTYPE html>\\n<html class=\"client-nojs\" lan...\n",
       "2253    <!DOCTYPE html>\\n<html class=\"client-nojs\" lan...\n",
       "2255    <!DOCTYPE html>\\n<html class=\"client-nojs\" lan...\n",
       "2256    <!DOCTYPE html>\\n<html class=\"client-nojs\" lan...\n",
       "2270    <!DOCTYPE html>\\n<html class=\"client-nojs\" lan...\n",
       "2258    <!DOCTYPE html>\\n<html class=\"client-nojs\" lan...\n",
       "2260    <!DOCTYPE html>\\n<html class=\"client-nojs\" lan...\n",
       "2261    <!DOCTYPE html>\\n<html class=\"client-nojs\" lan...\n",
       "2262    <!DOCTYPE html>\\n<html class=\"client-nojs\" lan...\n",
       "2263    <!DOCTYPE html>\\n<html class=\"client-nojs\" lan...\n",
       "2265    <!DOCTYPE html>\\n<html class=\"client-nojs\" lan...\n",
       "2266    <!DOCTYPE html>\\n<html class=\"client-nojs\" lan...\n",
       "2267    <!DOCTYPE html>\\n<html class=\"client-nojs\" lan...\n",
       "2268    <!DOCTYPE html>\\n<html class=\"client-nojs\" lan...\n",
       "2259    <!DOCTYPE html>\\n<html class=\"client-nojs\" lan...\n",
       "2299    <!DOCTYPE html>\\n<html class=\"client-nojs\" lan...\n",
       "Name: url, Length: 1746, dtype: object"
      ]
     },
     "execution_count": 20,
     "metadata": {},
     "output_type": "execute_result"
    }
   ],
   "source": [
    "# DO NOT RERUN THIS CELL WHEN SUBMITTING\n",
    "# Here we are populating the url cache\n",
    "# subsequent calls to this cell should be very fast, since Python won't\n",
    "# need to fetch the page from the web server.\n",
    "# NOTE this function will take quite some time to run (about 30 mins for me), since we sleep 1 second before\n",
    "# making a request. If you run it again it will be almost instantaneous, save requests that might have failed\n",
    "# (you will need to run it again if requests fail..see cell below for how to test this)\n",
    "#flatframe[\"url\"].apply(get_page)\n",
    "flatframe[~flatframe[\"url\"].str.contains(\"\\|\")][\"url\"].apply(get_page)"
   ]
  },
  {
   "cell_type": "markdown",
   "metadata": {},
   "source": [
    "You may have to run this function again and again, in case there were network problems. Note that, because there is a \"global\" cache, it will take less time each time you run it. Also note that this function is designed to be run again and again: it attempts to make sure that there are no unresolved pages remaining. Let us make sure of this: *the sum below should be 0, and the boolean True.*"
   ]
  },
  {
   "cell_type": "code",
   "execution_count": 21,
   "metadata": {
    "collapsed": true,
    "scrolled": true
   },
   "outputs": [
    {
     "name": "stdout",
     "output_type": "stream",
     "text": [
      "Number of bad requests: 0\n",
      "Did we get all urls? True\n"
     ]
    }
   ],
   "source": [
    "# DO NOT RERUN THIS CELL WHEN SUBMITTING\n",
    "print(\"Number of bad requests:\",np.sum([(urlcache[k]==1) or (urlcache[k]==2) for k in urlcache])) # no one or 0's)\n",
    "#print(\"Did we get all urls?\", len(flatframe.url.unique())==len(urlcache)) # we got all of the urls\n",
    "print(\"Did we get all urls?\", len(flatframe[~flatframe[\"url\"].str.contains(\"\\|\")].url.unique())==len(urlcache)) # we got all of the urls"
   ]
  },
  {
   "cell_type": "markdown",
   "metadata": {},
   "source": [
    "Let's save the `urlcache` to disk, just in case we need it again."
   ]
  },
  {
   "cell_type": "code",
   "execution_count": 22,
   "metadata": {
    "collapsed": true
   },
   "outputs": [],
   "source": [
    "# DO NOT RERUN THIS CELL WHEN SUBMITTING\n",
    "with open(\"data/artistinfo.json\",\"w\") as fd:\n",
    "    json.dump(urlcache, fd)\n",
    "del urlcache"
   ]
  },
  {
   "cell_type": "code",
   "execution_count": 23,
   "metadata": {
    "collapsed": true,
    "scrolled": false
   },
   "outputs": [],
   "source": [
    "# RERUN WHEN SUBMITTING\n",
    "with open(\"data/artistinfo.json\") as json_file:\n",
    "    urlcache = json.load(json_file)"
   ]
  },
  {
   "cell_type": "markdown",
   "metadata": {},
   "source": [
    "#### 2.1 Extract information about singers and bands"
   ]
  },
  {
   "cell_type": "markdown",
   "metadata": {},
   "source": [
    "From each page we collected about a singer or a band, extract the following information:\n",
    "\n",
    "1. If the page has the text \"Born\" in the sidebar on the right, extract the element with the class `.bday`. If the page doesn't contain \"Born\", store `False`.  Store either of these into the variable `born`. We want to analyze the artist's age.\n",
    "\n",
    "2. If the text \"Years active\" is found, but no \"born\", assume a band. Store into the variable `ya` the value of the next table cell corresponding to this, or `False` if the text is not found.\n",
    "\n",
    "Put this all into a function `singer_band_info` which takes the singer/band url as argument and returns a dictionary `dict(url=url, born=born, ya=ya)`.\n",
    "\n",
    "The information can be found on the sidebar on each such wikipedia page, as the example here shows:\n",
    "\n",
    "![sandg](https://raw.githubusercontent.com/cs109/a-2017/master/hwassets/images/sandg.png).\n",
    "\n"
   ]
  },
  {
   "cell_type": "markdown",
   "metadata": {},
   "source": [
    "Write the function `singer_band_info` according to the following specification:"
   ]
  },
  {
   "cell_type": "code",
   "execution_count": 24,
   "metadata": {
    "collapsed": true
   },
   "outputs": [],
   "source": [
    "\"\"\"\n",
    "Function\n",
    "--------\n",
    "singer_band_info\n",
    "\n",
    "Inputs\n",
    "------\n",
    "url: the url\n",
    "page_text: the text associated with the url\n",
    "   \n",
    "Returns\n",
    "-------\n",
    "A dictionary with the following data:\n",
    "    url: copy the input argument url into this value\n",
    "    born: the artist's birthday\n",
    "    ya: years active variable\n",
    "\n",
    "Notes\n",
    "-----\n",
    "See description above. Also note that some of the genres urls might require a \n",
    "bit of care and special handling.\n",
    "\"\"\"\n",
    "\n",
    "def singer_band_info(url, page_text):\n",
    "    if isinstance(page_text, int):  \n",
    "        # case where page_text not returned\n",
    "        return {}\n",
    "    soup = BeautifulSoup(page_text, \"lxml\")\n",
    "    tables = soup.find_all(name=\"table\",\n",
    "                           attrs={\"class\": \"infobox\"})\n",
    "    born = False\n",
    "    years_active = False\n",
    "    if tables:     \n",
    "        table_headers = tables[0].find_all(name=\"th\", \n",
    "                                           attrs={\"scope\": \"row\"})\n",
    "        for table_header in table_headers:\n",
    "            if table_header.string == \"Born\":\n",
    "                birthday = table_header.find_next_sibling(name=\"td\").find(\n",
    "                    name=\"span\", attrs={\"class\": \"bday\"})\n",
    "                if birthday:\n",
    "                    born = birthday.text \n",
    "            if table_header.string == \"Years active\":\n",
    "                years_active = table_header.find_next_sibling(\"td\").text\n",
    "    return {\"url\": url, \"born\": born, \"years_active\": years_active}"
   ]
  },
  {
   "cell_type": "markdown",
   "metadata": {},
   "source": [
    "An example for a band:"
   ]
  },
  {
   "cell_type": "code",
   "execution_count": 25,
   "metadata": {},
   "outputs": [
    {
     "data": {
      "text/plain": [
       "{'url': '/wiki/Boyz_II_Men', 'born': False, 'years_active': '1985–present'}"
      ]
     },
     "execution_count": 25,
     "metadata": {},
     "output_type": "execute_result"
    }
   ],
   "source": [
    "singer_band_info('/wiki/Boyz_II_Men', urlcache['/wiki/Boyz_II_Men'])"
   ]
  },
  {
   "cell_type": "markdown",
   "metadata": {},
   "source": [
    "An example for a singer:"
   ]
  },
  {
   "cell_type": "code",
   "execution_count": 26,
   "metadata": {},
   "outputs": [
    {
     "data": {
      "text/plain": [
       "{'url': '/wiki/Eminem', 'born': '1972-10-17', 'years_active': False}"
      ]
     },
     "execution_count": 26,
     "metadata": {},
     "output_type": "execute_result"
    }
   ],
   "source": [
    "singer_band_info('/wiki/Eminem', urlcache['/wiki/Eminem'])"
   ]
  },
  {
   "cell_type": "markdown",
   "metadata": {},
   "source": [
    "#### 2.2  Merging this information in"
   ]
  },
  {
   "cell_type": "markdown",
   "metadata": {},
   "source": [
    "Iterate over the items in the singer-group dictionary cache `urlcache`, run the above function, and create a dataframe from there with columns `url`, `born`, and `ya`. Merge this dataframe on the `url` key with `flatframe`, creating a rather wide dataframe that we shall call `largedf`. It should look something like this:\n",
    "\n",
    "![](https://raw.githubusercontent.com/cs109/a-2017/master/hwassets/images/HW1SC3.png)\n",
    "\n",
    "Notice how the `born` and `ya` and `url` are repeated every time a different song from a given band is represented in a row."
   ]
  },
  {
   "cell_type": "code",
   "execution_count": 27,
   "metadata": {},
   "outputs": [],
   "source": [
    "singer_bands = [singer_band_info(url=url, page_text=page_text) \n",
    "                for url, page_text in urlcache.items()]"
   ]
  },
  {
   "cell_type": "code",
   "execution_count": 28,
   "metadata": {},
   "outputs": [
    {
     "data": {
      "text/html": [
       "<div>\n",
       "<style scoped>\n",
       "    .dataframe tbody tr th:only-of-type {\n",
       "        vertical-align: middle;\n",
       "    }\n",
       "\n",
       "    .dataframe tbody tr th {\n",
       "        vertical-align: top;\n",
       "    }\n",
       "\n",
       "    .dataframe thead th {\n",
       "        text-align: right;\n",
       "    }\n",
       "</style>\n",
       "<table border=\"1\" class=\"dataframe\">\n",
       "  <thead>\n",
       "    <tr style=\"text-align: right;\">\n",
       "      <th></th>\n",
       "      <th>band_singer</th>\n",
       "      <th>ranking</th>\n",
       "      <th>song</th>\n",
       "      <th>songurl</th>\n",
       "      <th>url</th>\n",
       "      <th>year</th>\n",
       "      <th>born</th>\n",
       "      <th>years_active</th>\n",
       "    </tr>\n",
       "  </thead>\n",
       "  <tbody>\n",
       "    <tr>\n",
       "      <th>0</th>\n",
       "      <td>Boyz II Men</td>\n",
       "      <td>1</td>\n",
       "      <td>End of the Road</td>\n",
       "      <td>/wiki/End_of_the_Road</td>\n",
       "      <td>/wiki/Boyz_II_Men</td>\n",
       "      <td>1992</td>\n",
       "      <td>False</td>\n",
       "      <td>1985–present</td>\n",
       "    </tr>\n",
       "    <tr>\n",
       "      <th>1</th>\n",
       "      <td>Boyz II Men</td>\n",
       "      <td>37</td>\n",
       "      <td>It's So Hard to Say Goodbye to Yesterday</td>\n",
       "      <td>/wiki/It%27s_So_Hard_to_Say_Goodbye_to_Yesterday</td>\n",
       "      <td>/wiki/Boyz_II_Men</td>\n",
       "      <td>1992</td>\n",
       "      <td>False</td>\n",
       "      <td>1985–present</td>\n",
       "    </tr>\n",
       "    <tr>\n",
       "      <th>2</th>\n",
       "      <td>Boyz II Men</td>\n",
       "      <td>84</td>\n",
       "      <td>Uhh Ahh</td>\n",
       "      <td>/wiki/Uhh_Ahh</td>\n",
       "      <td>/wiki/Boyz_II_Men</td>\n",
       "      <td>1992</td>\n",
       "      <td>False</td>\n",
       "      <td>1985–present</td>\n",
       "    </tr>\n",
       "    <tr>\n",
       "      <th>3</th>\n",
       "      <td>Boyz II Men</td>\n",
       "      <td>12</td>\n",
       "      <td>In the Still of the Nite</td>\n",
       "      <td>/wiki/In_the_Still_of_the_Night_(1956_song)#Bo...</td>\n",
       "      <td>/wiki/Boyz_II_Men</td>\n",
       "      <td>1993</td>\n",
       "      <td>False</td>\n",
       "      <td>1985–present</td>\n",
       "    </tr>\n",
       "    <tr>\n",
       "      <th>4</th>\n",
       "      <td>Boyz II Men</td>\n",
       "      <td>3</td>\n",
       "      <td>I'll Make Love to You</td>\n",
       "      <td>/wiki/I%27ll_Make_Love_to_You</td>\n",
       "      <td>/wiki/Boyz_II_Men</td>\n",
       "      <td>1994</td>\n",
       "      <td>False</td>\n",
       "      <td>1985–present</td>\n",
       "    </tr>\n",
       "  </tbody>\n",
       "</table>\n",
       "</div>"
      ],
      "text/plain": [
       "   band_singer  ranking                                      song                                            songurl                url  year   born  years_active\n",
       "0  Boyz II Men        1                           End of the Road                              /wiki/End_of_the_Road  /wiki/Boyz_II_Men  1992  False  1985–present\n",
       "1  Boyz II Men       37  It's So Hard to Say Goodbye to Yesterday   /wiki/It%27s_So_Hard_to_Say_Goodbye_to_Yesterday  /wiki/Boyz_II_Men  1992  False  1985–present\n",
       "2  Boyz II Men       84                                   Uhh Ahh                                      /wiki/Uhh_Ahh  /wiki/Boyz_II_Men  1992  False  1985–present\n",
       "3  Boyz II Men       12                  In the Still of the Nite  /wiki/In_the_Still_of_the_Night_(1956_song)#Bo...  /wiki/Boyz_II_Men  1993  False  1985–present\n",
       "4  Boyz II Men        3                     I'll Make Love to You                      /wiki/I%27ll_Make_Love_to_You  /wiki/Boyz_II_Men  1994  False  1985–present"
      ]
     },
     "execution_count": 28,
     "metadata": {},
     "output_type": "execute_result"
    }
   ],
   "source": [
    "largedf = flatframe[~flatframe[\"url\"].str.contains(\"\\|\")].merge(\n",
    "    pd.DataFrame(singer_bands), on=\"url\")\n",
    "largedf.head()"
   ]
  },
  {
   "cell_type": "markdown",
   "metadata": {},
   "source": [
    "#### 2.3 What is the age at which singers achieve their top ranking?"
   ]
  },
  {
   "cell_type": "markdown",
   "metadata": {},
   "source": [
    "Plot a histogram of the age at which singers achieve their top ranking. What conclusions can you draw from this distribution of ages?\n",
    "\n",
    "*HINT: You will need to do some manipulation of the `born` column, and find the song for which a band or an artist achieves their top ranking. You will then need to put these rows together into another dataframe or array to make the plot.*"
   ]
  },
  {
   "cell_type": "code",
   "execution_count": 29,
   "metadata": {},
   "outputs": [],
   "source": [
    "largedf[\"year_born\"] = largedf.born.replace(\n",
    "    to_replace=False, value=\"0\").apply(lambda date: int(date.split(\"-\")[0]))\n",
    "age_top_ranking = largedf.iloc[largedf.groupby(\"band_singer\").ranking.idxmin()]\n",
    "age_top_ranking = age_top_ranking[age_top_ranking.year_born > 0]\n",
    "age_top_ranking[\"age\"] = age_top_ranking.year.sub(age_top_ranking.year_born)"
   ]
  },
  {
   "cell_type": "code",
   "execution_count": 30,
   "metadata": {},
   "outputs": [
    {
     "data": {
      "image/png": "[encoded data removed]",
      "text/plain": [
       "<Figure size 432x288 with 1 Axes>"
      ]
     },
     "metadata": {},
     "output_type": "display_data"
    }
   ],
   "source": [
    "axes = age_top_ranking.age.hist(bins=range(10, 65, 5), grid=False, density=True)\n",
    "axes.set(\n",
    "    title=\"Age singers achieve their top ranking in billboard \\ntop 100 (1992-2014)\",\n",
    "    xlabel=\"Age\", ylabel=\"Probability density\");"
   ]
  },
  {
   "cell_type": "markdown",
   "metadata": {},
   "source": [
    "As we can see, most singers achieve their top rating in the billboard top 100 when they are relatively young. Usually between the ages of 20-35 with the age range of 25-30 being the most common."
   ]
  },
  {
   "cell_type": "markdown",
   "metadata": {},
   "source": [
    "#### 2.4 At what year since inception do bands reach their top rankings?"
   ]
  },
  {
   "cell_type": "markdown",
   "metadata": {},
   "source": [
    "Make a similar calculation to plot a histogram of the years since inception at which bands reach their top ranking. What conclusions can you draw?"
   ]
  },
  {
   "cell_type": "code",
   "execution_count": 31,
   "metadata": {},
   "outputs": [],
   "source": [
    "def get_inception_year(years_active):\n",
    "    if isinstance(years_active, bool):\n",
    "        return 0\n",
    "    inception_year = years_active.lower().replace(\"\\n\", \"\").replace(\"late\", \"\").strip()\n",
    "    inception_year = int(\"\".join(itertools.takewhile(str.isdigit, inception_year)))\n",
    "    return inception_year"
   ]
  },
  {
   "cell_type": "code",
   "execution_count": 32,
   "metadata": {},
   "outputs": [],
   "source": [
    "largedf[\"inception_year\"] = largedf.years_active.apply(get_inception_year)\n",
    "years_inception_top_ranking = largedf.iloc[\n",
    "    largedf.groupby(\"band_singer\").ranking.idxmin()]\n",
    "years_inception_top_ranking = years_inception_top_ranking[\n",
    "    years_inception_top_ranking.inception_year >= 1992]\n",
    "years_inception_top_ranking[\"years_since_inception\"] = years_inception_top_ranking.year.sub(\n",
    "    years_inception_top_ranking.inception_year)"
   ]
  },
  {
   "cell_type": "code",
   "execution_count": 33,
   "metadata": {},
   "outputs": [
    {
     "data": {
      "image/png": "[encoded data removed]",
      "text/plain": [
       "<Figure size 432x288 with 1 Axes>"
      ]
     },
     "metadata": {},
     "output_type": "display_data"
    }
   ],
   "source": [
    "axes = years_inception_top_ranking.years_since_inception.hist(\n",
    "    bins=range(0, 22, 1), grid=False, density=True)\n",
    "axes.set(\n",
    "    title=\"Years since inception that bands achieve their top ranking\\n in billboard top 100 (1992-2014)\",\n",
    "    xlabel=\"Years since inception\", ylabel=\"Probability density\");"
   ]
  },
  {
   "cell_type": "markdown",
   "metadata": {},
   "source": [
    "As we can see, most bands achieve their top rating in the billboard top 100 within a few years of their inception. Usually between 1-5 years. Generally, bands who have been together for less than 1 year or greater than 10 years are unlikely to hit their top rating."
   ]
  }
 ],
 "metadata": {
  "kernelspec": {
   "display_name": "a-2017",
   "language": "python",
   "name": "a-2017"
  },
  "language_info": {
   "codemirror_mode": {
    "name": "ipython",
    "version": 3
   },
   "file_extension": ".py",
   "mimetype": "text/x-python",
   "name": "python",
   "nbconvert_exporter": "python",
   "pygments_lexer": "ipython3",
   "version": "3.6.5"
  }
 },
 "nbformat": 4,
 "nbformat_minor": 2
}
