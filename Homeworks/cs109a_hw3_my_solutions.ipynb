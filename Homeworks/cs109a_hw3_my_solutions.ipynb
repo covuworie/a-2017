{
 "cells": [
  {
   "cell_type": "markdown",
   "metadata": {},
   "source": [
    "# CS 109A/STAT 121A/AC 209A/CSCI E-109A: Homework 3\n",
    "# Multiple Linear Regression, Subset Selection, Cross Validation\n",
    "\n",
    "**Harvard University**<br/>\n",
    "**Fall 2017**<br/>\n",
    "**Instructors**: Pavlos Protopapas, Kevin Rader, Rahul Dave, Margo Levine\n",
    "\n",
    "---\n",
    "\n",
    "### INSTRUCTIONS\n",
    "\n",
    "- To submit your assignment follow the instructions given in canvas.\n",
    "- Restart the kernel and run the whole notebook again before you submit. \n",
    "- Do not include your name(s) in the notebook if you are submitting as a group. \n",
    "- If you submit individually and you have worked with someone, please include the name of your [one] partner below. \n",
    "\n",
    "---"
   ]
  },
  {
   "cell_type": "markdown",
   "metadata": {},
   "source": [
    "Your partner's name (if you submit separately):\n",
    "\n",
    "Enrollment Status (109A, 121A, 209A, or E109A):"
   ]
  },
  {
   "cell_type": "markdown",
   "metadata": {},
   "source": [
    "Import libraries:"
   ]
  },
  {
   "cell_type": "code",
   "execution_count": 1,
   "metadata": {
    "collapsed": true
   },
   "outputs": [],
   "source": [
    "import numpy as np\n",
    "import pandas as pd\n",
    "import matplotlib\n",
    "import matplotlib.pyplot as plt\n",
    "import seaborn as sns\n",
    "from sklearn.metrics import r2_score\n",
    "from sklearn.model_selection import KFold\n",
    "import statsmodels.api as sm\n",
    "from statsmodels.api import OLS\n",
    "from sklearn.preprocessing import PolynomialFeatures\n",
    "from sklearn.linear_model import Ridge\n",
    "from sklearn.linear_model import Lasso\n",
    "from sklearn.linear_model import RidgeCV\n",
    "from sklearn.linear_model import LassoCV\n",
    "%matplotlib inline"
   ]
  },
  {
   "cell_type": "markdown",
   "metadata": {},
   "source": [
    "# Forecasting Bike Sharing Usage\n",
    "\n",
    "In this homework, we will focus on multiple linear regression and will explore techniques for subset selection. The specific task is to build a regression model for a bike share system that can predict the total number of bike rentals in a given day, based on attributes about the day. Such a demand forecasting model would be useful in planning the number of bikes that need to be available in the system on any given day, and also in monitoring traffic in the city. The data for this problem was collected from the Capital Bikeshare program in Washington D.C. over two years.   \n",
    "\n",
    "The data set is provided in the files `Bikeshare_train.csv` and `Bikeshare_test.csv`, as separate training and test sets. Each row in these files contains 10 attributes describing a day and its weather:\n",
    "- season (1 = spring, 2 = summer, 3 = fall, 4 = winter)\n",
    "- month (1 through 12, with 1 denoting Jan)\n",
    "- holiday (1 = the day is a holiday, 0 = otherwise)\n",
    "- day_of_week (0 through 6, with 0 denoting Sunday)\n",
    "- workingday (1 = the day is neither a holiday or weekend, 0 = otherwise)\n",
    "- weather \n",
    "    - 1: Clear, Few clouds, Partly cloudy, Partly cloudy\n",
    "    - 2: Mist + Cloudy, Mist + Broken clouds, Mist + Few clouds, Mist\n",
    "    - 3: Light Snow, Light Rain + Thunderstorm + Scattered clouds, Light Rain + Scattered clouds\n",
    "    - 4: Heavy Rain + Ice Pallets + Thunderstorm + Mist, Snow + Fog \n",
    "- temp (temperature in Celsius)\n",
    "- atemp (apparent temperature, or relative outdoor temperature, in Celsius)\n",
    "- humidity (relative humidity)\n",
    "- windspeed (wind speed)\n",
    "\n",
    "and the last column 'count' contains the response variable, i.e. total number of bike rentals on the day.\n"
   ]
  },
  {
   "cell_type": "markdown",
   "metadata": {},
   "source": [
    "## Part (a): Data Exploration & Preprocessing\n",
    "\n",
    "As a first step, identify important characteristics of the data using suitable visualizations when necessary. Some of the questions you may ask include (but are not limited to):\n",
    "\n",
    "- How does the number of bike rentals vary between weekdays and weekends? \n",
    "- How about bike rentals on holidays?\n",
    "- What effect does the season have on the bike rentals on a given day?\n",
    "- Is the number of bike rentals lower than average when there is rain or snow?\n",
    "- How does temperature effect bike rentals?\n",
    "- Do any of the numeric attributes have a clear non-linear dependence with number of the bike rentals?\n",
    "\n"
   ]
  },
  {
   "cell_type": "code",
   "execution_count": 2,
   "metadata": {
    "collapsed": true
   },
   "outputs": [],
   "source": [
    "bike_rentals_train = pd.read_csv('../hwassets/data/Bikeshare_train.csv',\n",
    "                                 usecols=range(1, 12))\n",
    "bike_rentals_test = pd.read_csv('../hwassets/data/Bikeshare_test.csv',\n",
    "                                usecols=range(1, 12))\n",
    "int_cols = ['season', 'month', 'holiday', 'day_of_week', 'workingday', 'weather']\n",
    "bike_rentals_train[int_cols] = bike_rentals_train[int_cols].astype('int64')\n",
    "bike_rentals_test[int_cols] = bike_rentals_test[int_cols].astype('int64')"
   ]
  },
  {
   "cell_type": "code",
   "execution_count": 3,
   "metadata": {},
   "outputs": [
    {
     "data": {
      "text/html": [
       "<div>\n",
       "<style scoped>\n",
       "    .dataframe tbody tr th:only-of-type {\n",
       "        vertical-align: middle;\n",
       "    }\n",
       "\n",
       "    .dataframe tbody tr th {\n",
       "        vertical-align: top;\n",
       "    }\n",
       "\n",
       "    .dataframe thead th {\n",
       "        text-align: right;\n",
       "    }\n",
       "</style>\n",
       "<table border=\"1\" class=\"dataframe\">\n",
       "  <thead>\n",
       "    <tr style=\"text-align: right;\">\n",
       "      <th></th>\n",
       "      <th>season</th>\n",
       "      <th>month</th>\n",
       "      <th>holiday</th>\n",
       "      <th>day_of_week</th>\n",
       "      <th>workingday</th>\n",
       "      <th>weather</th>\n",
       "      <th>temp</th>\n",
       "      <th>atemp</th>\n",
       "      <th>humidity</th>\n",
       "      <th>windspeed</th>\n",
       "      <th>count</th>\n",
       "    </tr>\n",
       "  </thead>\n",
       "  <tbody>\n",
       "    <tr>\n",
       "      <th>0</th>\n",
       "      <td>2</td>\n",
       "      <td>5</td>\n",
       "      <td>0</td>\n",
       "      <td>2</td>\n",
       "      <td>1</td>\n",
       "      <td>2</td>\n",
       "      <td>24.0</td>\n",
       "      <td>26.0</td>\n",
       "      <td>76.5833</td>\n",
       "      <td>0.118167</td>\n",
       "      <td>6073.0</td>\n",
       "    </tr>\n",
       "    <tr>\n",
       "      <th>1</th>\n",
       "      <td>4</td>\n",
       "      <td>12</td>\n",
       "      <td>0</td>\n",
       "      <td>2</td>\n",
       "      <td>1</td>\n",
       "      <td>1</td>\n",
       "      <td>15.0</td>\n",
       "      <td>19.0</td>\n",
       "      <td>73.3750</td>\n",
       "      <td>0.174129</td>\n",
       "      <td>6606.0</td>\n",
       "    </tr>\n",
       "    <tr>\n",
       "      <th>2</th>\n",
       "      <td>2</td>\n",
       "      <td>6</td>\n",
       "      <td>0</td>\n",
       "      <td>4</td>\n",
       "      <td>1</td>\n",
       "      <td>1</td>\n",
       "      <td>26.0</td>\n",
       "      <td>28.0</td>\n",
       "      <td>56.9583</td>\n",
       "      <td>0.253733</td>\n",
       "      <td>7363.0</td>\n",
       "    </tr>\n",
       "    <tr>\n",
       "      <th>3</th>\n",
       "      <td>4</td>\n",
       "      <td>12</td>\n",
       "      <td>0</td>\n",
       "      <td>0</td>\n",
       "      <td>0</td>\n",
       "      <td>1</td>\n",
       "      <td>0.0</td>\n",
       "      <td>4.0</td>\n",
       "      <td>58.6250</td>\n",
       "      <td>0.169779</td>\n",
       "      <td>2431.0</td>\n",
       "    </tr>\n",
       "    <tr>\n",
       "      <th>4</th>\n",
       "      <td>3</td>\n",
       "      <td>9</td>\n",
       "      <td>0</td>\n",
       "      <td>3</td>\n",
       "      <td>1</td>\n",
       "      <td>3</td>\n",
       "      <td>23.0</td>\n",
       "      <td>23.0</td>\n",
       "      <td>91.7083</td>\n",
       "      <td>0.097021</td>\n",
       "      <td>1996.0</td>\n",
       "    </tr>\n",
       "  </tbody>\n",
       "</table>\n",
       "</div>"
      ],
      "text/plain": [
       "   season  month  holiday  day_of_week  workingday  weather  temp  atemp  \\\n",
       "0       2      5        0            2           1        2  24.0   26.0   \n",
       "1       4     12        0            2           1        1  15.0   19.0   \n",
       "2       2      6        0            4           1        1  26.0   28.0   \n",
       "3       4     12        0            0           0        1   0.0    4.0   \n",
       "4       3      9        0            3           1        3  23.0   23.0   \n",
       "\n",
       "   humidity  windspeed   count  \n",
       "0   76.5833   0.118167  6073.0  \n",
       "1   73.3750   0.174129  6606.0  \n",
       "2   56.9583   0.253733  7363.0  \n",
       "3   58.6250   0.169779  2431.0  \n",
       "4   91.7083   0.097021  1996.0  "
      ]
     },
     "execution_count": 3,
     "metadata": {},
     "output_type": "execute_result"
    }
   ],
   "source": [
    "bike_rentals = pd.concat((bike_rentals_train, bike_rentals_test),\n",
    "                         ignore_index=True)\n",
    "bike_rentals.head()"
   ]
  },
  {
   "cell_type": "code",
   "execution_count": 4,
   "metadata": {},
   "outputs": [],
   "source": [
    "def plot_variable(data, groupby, x_labels, title, kind, axes):\n",
    "    axes.set_ylabel('Number of bike rentals')\n",
    "    axes.set_title(title)\n",
    "    axes.set_ylim((0, 4e6))\n",
    "    data.groupby(by=groupby)['count'].sum().plot(kind=kind, ax=axes)\n",
    "    if kind == 'bar':\n",
    "        axes.set_xticklabels(x_labels);\n",
    "        axes.set_xlabel('')\n",
    "    elif kind == 'line':\n",
    "        axes.set_xlabel(x_labels[0])"
   ]
  },
  {
   "cell_type": "code",
   "execution_count": 5,
   "metadata": {},
   "outputs": [
    {
     "data": {
      "image/png": "[encoded data removed]",
      "text/plain": [
       "<Figure size 720x720 with 6 Axes>"
      ]
     },
     "metadata": {},
     "output_type": "display_data"
    }
   ],
   "source": [
    "fig, ((ax1, ax2), (ax3, ax4), (ax5, ax6)) = plt.subplots(\n",
    "    nrows=3, ncols=2, sharey=True, figsize=(10, 10))\n",
    "plot_variable(bike_rentals, bike_rentals.day_of_week.isin([0, 6]),\n",
    "              ['Weekday', 'Weekend'],\n",
    "              'Bike rentals on weekdays and weekends',\n",
    "              'bar', ax1)\n",
    "plot_variable(bike_rentals, bike_rentals.holiday,\n",
    "              ['Non holidays', 'Holiday'],\n",
    "              'Bike rentals on holidays and non holidays',\n",
    "              'bar', ax2)\n",
    "plot_variable(bike_rentals, bike_rentals.season,\n",
    "              ['Spring', 'Summer', 'Fall', 'Winter'],\n",
    "              'Bike rentals in different seasons',\n",
    "              'bar', ax3)\n",
    "plot_variable(bike_rentals, bike_rentals.weather.isin([1, 2]),\n",
    "              ['Rain or snow', 'No rain or snow'],\n",
    "              'Bike rentals in rain or snow',\n",
    "              'bar', ax4)\n",
    "plot_variable(bike_rentals, bike_rentals.temp,\n",
    "              ['Temperature (C)'],\n",
    "              'Bike rentals vs Temperature',\n",
    "              'line', ax5)\n",
    "ax6.axis('off')\n",
    "plt.tight_layout()"
   ]
  },
  {
   "cell_type": "markdown",
   "metadata": {},
   "source": [
    "We notice the following about the above plots:\n",
    "\n",
    "1. More bikes are rented on weekdays compared to the weekend.\n",
    "2. Bikes are rented on non holidays for the vast majority of times.\n",
    "3. More bikes are rented in the Summer, Fall and Winter months.\n",
    "4. Unsurprisingly, bike rentals are almost exclusively rented when there is no rain or snow.\n",
    "5. The number of bike rentals is particularly low in extreme weather conditions (0 C and below and over 35 C). It increases in between peaking in the most pleasant temperature range of 20 C to 30 C)."
   ]
  },
  {
   "cell_type": "code",
   "execution_count": 6,
   "metadata": {},
   "outputs": [
    {
     "data": {
      "image/png": "[encoded data removed]",
      "text/plain": [
       "<Figure size 720x180 with 4 Axes>"
      ]
     },
     "metadata": {},
     "output_type": "display_data"
    }
   ],
   "source": [
    "num_cols = ['temp', 'atemp', 'humidity', 'windspeed']\n",
    "grid = sns.pairplot(bike_rentals, x_vars=num_cols, y_vars=['count'])\n",
    "grid.fig.axes[0].set_ylabel('Number of bike rentals');\n",
    "grid.fig.axes[0].set_xlabel('temperature (C)')\n",
    "grid.fig.axes[1].set_xlabel('apparent temperature (C)')\n",
    "grid.fig.axes[2].set_xlabel('relative humidity (%)')\n",
    "grid.fig.axes[3].set_xlabel('wind speed')\n",
    "grid.fig.axes[0].set_xlim((-20, 60))\n",
    "grid.fig.axes[1].set_xlim(grid.fig.axes[0].get_xlim())\n",
    "grid.fig.axes[2].set_xlim((0, 100))\n",
    "grid.fig.axes[3].set_xlim((0., 0.6))\n",
    "grid.fig.axes[0].set_ylim((0, 1.2e4));"
   ]
  },
  {
   "cell_type": "markdown",
   "metadata": {},
   "source": [
    "We can clearly see that all the numeric attributes have a clear non-linear dependence with number of the bike rentals."
   ]
  },
  {
   "cell_type": "markdown",
   "metadata": {},
   "source": [
    "We next require you to pre-process the categorical and numerical attributes in the data set:\n",
    "\n",
    "- Notice that this data set contains categorical attributes with two or more categories. **Why can't they be directly used as predictors?** Convert these categorical attributes into multiple binary attributes using one-hot encoding: in the place of every categorical attribute $x_j$ that has categories $1, \\ldots, K_j$, introduce $K_j-1$ binary predictors $x_{j1}, \\ldots, x_{j,K_j-1}$ where $x_{jk}$ is 1 whenever $x_j = k$ and 0 otherwise. \n",
    "** Why is it okay to not have a binary column for the $K_j$-th category? **\n",
    "\n",
    "- Since the attributes are in different scales, it is a good practice to standardize the continuous predictors, i.e. to scale each continuous predictor to have zero mean and a standard deviation of 1. This can be done by applying the following transform to each continuous-valued predictor $j$:\n",
    "$\\hat{x}_{ij} = (x_{ij} - \\bar{x}_j) / s_j$, where $\\bar{x}_j$ and $s_j$ are the sample mean and sample standard deviation (SD) of predictor $j$ in the training set. We emphasize that the mean and SD values used for standardization must be estimated using only the training set observations, while the transform is applied to both the training and test sets. \n",
    "** Why shouldn't we include the test set observations in computing the mean and SD? **\n",
    "\n",
    "- Provide a table of the summary statistics of the new attributes (`pd.describe()' function will help).\n",
    "\n",
    "*Hint:* You may use the `pd.get_dummies` function to convert a categorical attribute in a data frame to one-hot encoding. This function creates $K$ binary columns for an attribute with $K$ categories. We suggest that you delete the last (or first) binary column generated by this function.\n",
    "\n",
    "**Note:** We shall use the term \"attribute\" to refer to a categorical column in the data set, and the term \"predictor\" to refer to the individual binary columns resulting out of one-hot encoding."
   ]
  },
  {
   "cell_type": "code",
   "execution_count": 7,
   "metadata": {},
   "outputs": [],
   "source": [
    "def preprocess(train_data, test_data=None):\n",
    "    other_col_names = ['holiday', 'workingday', 'count']\n",
    "    if test_data:\n",
    "        cat_cols = one_hot_encode_categoricals(test_data)\n",
    "        num_cols_std = standardize_continous_predictors(train_data, test_data)\n",
    "        other_cols = test_data[other_col_names]\n",
    "    else:\n",
    "        cat_cols = one_hot_encode_categoricals(train_data)\n",
    "        num_cols_std = standardize_continous_predictors(train_data)\n",
    "        other_cols = train_data[other_col_names]\n",
    "\n",
    "    return pd.concat((cat_cols, num_cols_std, other_cols), axis=1)\n",
    "\n",
    "\n",
    "def one_hot_encode_categoricals(data):\n",
    "    cat_cols = ['season', 'month', 'day_of_week', 'weather']\n",
    "    return pd.get_dummies(data[cat_cols], columns=cat_cols, drop_first=True)\n",
    "\n",
    "\n",
    "def standardize_continous_predictors(train_data, test_data=None):\n",
    "    num_cols = ['temp', 'atemp', 'humidity', 'windspeed']\n",
    "    train_mean = train_data[num_cols].mean()\n",
    "    train_std = train_data[num_cols].std()\n",
    "    if test_data:\n",
    "        data_standardized = test_data[num_cols].apply(\n",
    "            lambda x: (x - train_mean[x.name]) / train_std[x.name])\n",
    "    else:\n",
    "        data_standardized = train_data[num_cols].apply(\n",
    "            lambda x: (x - train_mean[x.name]) / train_std[x.name])\n",
    "    return data_standardized"
   ]
  },
  {
   "cell_type": "code",
   "execution_count": 8,
   "metadata": {
    "collapsed": true
   },
   "outputs": [
    {
     "data": {
      "text/html": [
       "<div>\n",
       "<style scoped>\n",
       "    .dataframe tbody tr th:only-of-type {\n",
       "        vertical-align: middle;\n",
       "    }\n",
       "\n",
       "    .dataframe tbody tr th {\n",
       "        vertical-align: top;\n",
       "    }\n",
       "\n",
       "    .dataframe thead th {\n",
       "        text-align: right;\n",
       "    }\n",
       "</style>\n",
       "<table border=\"1\" class=\"dataframe\">\n",
       "  <thead>\n",
       "    <tr style=\"text-align: right;\">\n",
       "      <th></th>\n",
       "      <th>season_2</th>\n",
       "      <th>season_3</th>\n",
       "      <th>season_4</th>\n",
       "      <th>month_2</th>\n",
       "      <th>month_3</th>\n",
       "      <th>month_4</th>\n",
       "      <th>month_5</th>\n",
       "      <th>month_6</th>\n",
       "      <th>month_7</th>\n",
       "      <th>month_8</th>\n",
       "      <th>...</th>\n",
       "      <th>day_of_week_6</th>\n",
       "      <th>weather_2</th>\n",
       "      <th>weather_3</th>\n",
       "      <th>temp</th>\n",
       "      <th>atemp</th>\n",
       "      <th>humidity</th>\n",
       "      <th>windspeed</th>\n",
       "      <th>holiday</th>\n",
       "      <th>workingday</th>\n",
       "      <th>count</th>\n",
       "    </tr>\n",
       "  </thead>\n",
       "  <tbody>\n",
       "    <tr>\n",
       "      <th>count</th>\n",
       "      <td>331.000000</td>\n",
       "      <td>331.000000</td>\n",
       "      <td>331.000000</td>\n",
       "      <td>331.000000</td>\n",
       "      <td>331.000000</td>\n",
       "      <td>331.000000</td>\n",
       "      <td>331.000000</td>\n",
       "      <td>331.000000</td>\n",
       "      <td>331.000000</td>\n",
       "      <td>331.000000</td>\n",
       "      <td>...</td>\n",
       "      <td>331.000000</td>\n",
       "      <td>331.000000</td>\n",
       "      <td>331.000000</td>\n",
       "      <td>3.310000e+02</td>\n",
       "      <td>3.310000e+02</td>\n",
       "      <td>3.310000e+02</td>\n",
       "      <td>3.310000e+02</td>\n",
       "      <td>331.000000</td>\n",
       "      <td>331.000000</td>\n",
       "      <td>331.000000</td>\n",
       "    </tr>\n",
       "    <tr>\n",
       "      <th>mean</th>\n",
       "      <td>0.259819</td>\n",
       "      <td>0.265861</td>\n",
       "      <td>0.256798</td>\n",
       "      <td>0.066465</td>\n",
       "      <td>0.075529</td>\n",
       "      <td>0.078550</td>\n",
       "      <td>0.102719</td>\n",
       "      <td>0.072508</td>\n",
       "      <td>0.093656</td>\n",
       "      <td>0.081571</td>\n",
       "      <td>...</td>\n",
       "      <td>0.135952</td>\n",
       "      <td>0.329305</td>\n",
       "      <td>0.030211</td>\n",
       "      <td>-6.439964e-17</td>\n",
       "      <td>-1.314826e-16</td>\n",
       "      <td>-7.888956e-16</td>\n",
       "      <td>1.540225e-15</td>\n",
       "      <td>0.033233</td>\n",
       "      <td>0.670695</td>\n",
       "      <td>4598.447130</td>\n",
       "    </tr>\n",
       "    <tr>\n",
       "      <th>std</th>\n",
       "      <td>0.439199</td>\n",
       "      <td>0.442459</td>\n",
       "      <td>0.437528</td>\n",
       "      <td>0.249471</td>\n",
       "      <td>0.264643</td>\n",
       "      <td>0.269442</td>\n",
       "      <td>0.304051</td>\n",
       "      <td>0.259719</td>\n",
       "      <td>0.291790</td>\n",
       "      <td>0.274124</td>\n",
       "      <td>...</td>\n",
       "      <td>0.343256</td>\n",
       "      <td>0.470672</td>\n",
       "      <td>0.171428</td>\n",
       "      <td>1.000000e+00</td>\n",
       "      <td>1.000000e+00</td>\n",
       "      <td>1.000000e+00</td>\n",
       "      <td>1.000000e+00</td>\n",
       "      <td>0.179515</td>\n",
       "      <td>0.470672</td>\n",
       "      <td>1935.319338</td>\n",
       "    </tr>\n",
       "    <tr>\n",
       "      <th>min</th>\n",
       "      <td>0.000000</td>\n",
       "      <td>0.000000</td>\n",
       "      <td>0.000000</td>\n",
       "      <td>0.000000</td>\n",
       "      <td>0.000000</td>\n",
       "      <td>0.000000</td>\n",
       "      <td>0.000000</td>\n",
       "      <td>0.000000</td>\n",
       "      <td>0.000000</td>\n",
       "      <td>0.000000</td>\n",
       "      <td>...</td>\n",
       "      <td>0.000000</td>\n",
       "      <td>0.000000</td>\n",
       "      <td>0.000000</td>\n",
       "      <td>-2.503291e+00</td>\n",
       "      <td>-2.572131e+00</td>\n",
       "      <td>-2.648736e+00</td>\n",
       "      <td>-2.152869e+00</td>\n",
       "      <td>0.000000</td>\n",
       "      <td>0.000000</td>\n",
       "      <td>431.000000</td>\n",
       "    </tr>\n",
       "    <tr>\n",
       "      <th>25%</th>\n",
       "      <td>0.000000</td>\n",
       "      <td>0.000000</td>\n",
       "      <td>0.000000</td>\n",
       "      <td>0.000000</td>\n",
       "      <td>0.000000</td>\n",
       "      <td>0.000000</td>\n",
       "      <td>0.000000</td>\n",
       "      <td>0.000000</td>\n",
       "      <td>0.000000</td>\n",
       "      <td>0.000000</td>\n",
       "      <td>...</td>\n",
       "      <td>0.000000</td>\n",
       "      <td>0.000000</td>\n",
       "      <td>0.000000</td>\n",
       "      <td>-8.504011e-01</td>\n",
       "      <td>-8.603176e-01</td>\n",
       "      <td>-7.452412e-01</td>\n",
       "      <td>-7.381149e-01</td>\n",
       "      <td>0.000000</td>\n",
       "      <td>0.000000</td>\n",
       "      <td>3370.000000</td>\n",
       "    </tr>\n",
       "    <tr>\n",
       "      <th>50%</th>\n",
       "      <td>0.000000</td>\n",
       "      <td>0.000000</td>\n",
       "      <td>0.000000</td>\n",
       "      <td>0.000000</td>\n",
       "      <td>0.000000</td>\n",
       "      <td>0.000000</td>\n",
       "      <td>0.000000</td>\n",
       "      <td>0.000000</td>\n",
       "      <td>0.000000</td>\n",
       "      <td>0.000000</td>\n",
       "      <td>...</td>\n",
       "      <td>0.000000</td>\n",
       "      <td>0.000000</td>\n",
       "      <td>0.000000</td>\n",
       "      <td>8.772587e-02</td>\n",
       "      <td>1.466312e-01</td>\n",
       "      <td>-6.562743e-03</td>\n",
       "      <td>-1.579037e-01</td>\n",
       "      <td>0.000000</td>\n",
       "      <td>1.000000</td>\n",
       "      <td>4648.000000</td>\n",
       "    </tr>\n",
       "    <tr>\n",
       "      <th>75%</th>\n",
       "      <td>1.000000</td>\n",
       "      <td>1.000000</td>\n",
       "      <td>1.000000</td>\n",
       "      <td>0.000000</td>\n",
       "      <td>0.000000</td>\n",
       "      <td>0.000000</td>\n",
       "      <td>0.000000</td>\n",
       "      <td>0.000000</td>\n",
       "      <td>0.000000</td>\n",
       "      <td>0.000000</td>\n",
       "      <td>...</td>\n",
       "      <td>0.000000</td>\n",
       "      <td>1.000000</td>\n",
       "      <td>0.000000</td>\n",
       "      <td>8.024892e-01</td>\n",
       "      <td>7.508005e-01</td>\n",
       "      <td>7.055719e-01</td>\n",
       "      <td>5.693478e-01</td>\n",
       "      <td>0.000000</td>\n",
       "      <td>1.000000</td>\n",
       "      <td>5981.000000</td>\n",
       "    </tr>\n",
       "    <tr>\n",
       "      <th>max</th>\n",
       "      <td>1.000000</td>\n",
       "      <td>1.000000</td>\n",
       "      <td>1.000000</td>\n",
       "      <td>1.000000</td>\n",
       "      <td>1.000000</td>\n",
       "      <td>1.000000</td>\n",
       "      <td>1.000000</td>\n",
       "      <td>1.000000</td>\n",
       "      <td>1.000000</td>\n",
       "      <td>1.000000</td>\n",
       "      <td>...</td>\n",
       "      <td>1.000000</td>\n",
       "      <td>1.000000</td>\n",
       "      <td>1.000000</td>\n",
       "      <td>1.874634e+00</td>\n",
       "      <td>1.959139e+00</td>\n",
       "      <td>2.362380e+00</td>\n",
       "      <td>2.949989e+00</td>\n",
       "      <td>1.000000</td>\n",
       "      <td>1.000000</td>\n",
       "      <td>8714.000000</td>\n",
       "    </tr>\n",
       "  </tbody>\n",
       "</table>\n",
       "<p>8 rows × 29 columns</p>\n",
       "</div>"
      ],
      "text/plain": [
       "         season_2    season_3    season_4     month_2     month_3     month_4  \\\n",
       "count  331.000000  331.000000  331.000000  331.000000  331.000000  331.000000   \n",
       "mean     0.259819    0.265861    0.256798    0.066465    0.075529    0.078550   \n",
       "std      0.439199    0.442459    0.437528    0.249471    0.264643    0.269442   \n",
       "min      0.000000    0.000000    0.000000    0.000000    0.000000    0.000000   \n",
       "25%      0.000000    0.000000    0.000000    0.000000    0.000000    0.000000   \n",
       "50%      0.000000    0.000000    0.000000    0.000000    0.000000    0.000000   \n",
       "75%      1.000000    1.000000    1.000000    0.000000    0.000000    0.000000   \n",
       "max      1.000000    1.000000    1.000000    1.000000    1.000000    1.000000   \n",
       "\n",
       "          month_5     month_6     month_7     month_8     ...       \\\n",
       "count  331.000000  331.000000  331.000000  331.000000     ...        \n",
       "mean     0.102719    0.072508    0.093656    0.081571     ...        \n",
       "std      0.304051    0.259719    0.291790    0.274124     ...        \n",
       "min      0.000000    0.000000    0.000000    0.000000     ...        \n",
       "25%      0.000000    0.000000    0.000000    0.000000     ...        \n",
       "50%      0.000000    0.000000    0.000000    0.000000     ...        \n",
       "75%      0.000000    0.000000    0.000000    0.000000     ...        \n",
       "max      1.000000    1.000000    1.000000    1.000000     ...        \n",
       "\n",
       "       day_of_week_6   weather_2   weather_3          temp         atemp  \\\n",
       "count     331.000000  331.000000  331.000000  3.310000e+02  3.310000e+02   \n",
       "mean        0.135952    0.329305    0.030211 -6.439964e-17 -1.314826e-16   \n",
       "std         0.343256    0.470672    0.171428  1.000000e+00  1.000000e+00   \n",
       "min         0.000000    0.000000    0.000000 -2.503291e+00 -2.572131e+00   \n",
       "25%         0.000000    0.000000    0.000000 -8.504011e-01 -8.603176e-01   \n",
       "50%         0.000000    0.000000    0.000000  8.772587e-02  1.466312e-01   \n",
       "75%         0.000000    1.000000    0.000000  8.024892e-01  7.508005e-01   \n",
       "max         1.000000    1.000000    1.000000  1.874634e+00  1.959139e+00   \n",
       "\n",
       "           humidity     windspeed     holiday  workingday        count  \n",
       "count  3.310000e+02  3.310000e+02  331.000000  331.000000   331.000000  \n",
       "mean  -7.888956e-16  1.540225e-15    0.033233    0.670695  4598.447130  \n",
       "std    1.000000e+00  1.000000e+00    0.179515    0.470672  1935.319338  \n",
       "min   -2.648736e+00 -2.152869e+00    0.000000    0.000000   431.000000  \n",
       "25%   -7.452412e-01 -7.381149e-01    0.000000    0.000000  3370.000000  \n",
       "50%   -6.562743e-03 -1.579037e-01    0.000000    1.000000  4648.000000  \n",
       "75%    7.055719e-01  5.693478e-01    0.000000    1.000000  5981.000000  \n",
       "max    2.362380e+00  2.949989e+00    1.000000    1.000000  8714.000000  \n",
       "\n",
       "[8 rows x 29 columns]"
      ]
     },
     "execution_count": 8,
     "metadata": {},
     "output_type": "execute_result"
    }
   ],
   "source": [
    "bike_rentals_train_pp = preprocess(bike_rentals_train)\n",
    "bike_rentals_test_pp = preprocess(bike_rentals_test)\n",
    "bike_rentals_train_pp.describe()"
   ]
  },
  {
   "cell_type": "code",
   "execution_count": 9,
   "metadata": {},
   "outputs": [],
   "source": [
    "bike_rentals_train_pp.to_csv('../hwassets/data/Bikeshare_pp_train.csv')\n",
    "bike_rentals_test_pp.to_csv('../hwassets/data/Bikeshare_pp_test.csv')"
   ]
  },
  {
   "cell_type": "markdown",
   "metadata": {},
   "source": [
    "Categorical variables cannot be used directly as predictors in regression models since they are not numerical variables. Regression treats all independent variables as numerical. Numerical variables are directly comparable as they are interval or ratio scale variables. Categorical variables do not have this property as assigning ordinal numbers to each categorical value has no meaning in this since. As a result, [dummy variables](https://www.moresteam.com/whitepapers/download/dummy-variables.pdf) or indicator variables (binary predictors) should be created in this situation to ‘trick’ the regression algorithm into correctly analyzing attribute variables.\n",
    "\n",
    "If there are K categories for the variable, then we only need K-1 binary predictors. The k-th binary predictor is not needed since it's information is already encoded in the K-1 binary predictors. If the k-th binary predictor is 1 then the K-1 binary predictors will all have value 0 or if the k-th binary predictor is zero, then exactly one of the K-1 predictors will have value 1. In fact including the k-th binary predictor is a bad thing since it can lead to collinearity issues.\n",
    "\n",
    "The mean and SD values used for standardization must be estimated using only the training set observations, while the transform is applied to both the training and test set. The reason we do not include the test data in the mean and SD calculations is that this is data snooping. It causes us to leak information about the response of future data into the model that we build. This can result in considerable optimism bias during model evaluation. The issue is explained very well in the following:\n",
    "\n",
    "- https://sebastianraschka.com/faq/docs/scale-training-test.html\n",
    "- https://stats.stackexchange.com/questions/174823/how-to-apply-standardization-normalization-to-train-and-testset-if-prediction-i"
   ]
  },
  {
   "cell_type": "markdown",
   "metadata": {},
   "source": [
    "## Part (b): Multiple Linear Regression\n",
    "\n",
    "We are now ready to fit a linear regression model and analyze its coefficients and residuals.\n",
    "\n",
    "- Fit a multiple linear regression model to the training set, and report its $R^2$ score on the test set.\n",
    "- *Statistical significance*: Using a t-test, find out which of estimated coefficients are statistically significant at a significance level of 5% (p-value<0.05). Based on the results of the test, answer the following questions:\n",
    "    - Which among the predictors have a positive correlation with the number of bike rentals? \n",
    "    - Does the day of a week have a relationship with bike rentals? \n",
    "    - Does the month influence the bike rentals? \n",
    "    - What effect does a holiday have on  bike rentals? \n",
    "    - Is there a difference in the coefficients assigned to `temp` and `atemp`? Give an explanation for your observation.\n",
    "- *Residual plot:* Make a plot of residuals of the fitted model ${e} = y - \\hat{y}$ as a function of the predicted value $\\hat{y}$. Note that this is different from the residual plot for simple linear regression. Draw a horizontal line denoting the zero residual value on the Y-axis. Does the plot reveal a non-linear relationship between the predictors and response? What does the plot convey about the variance of the error terms?\n"
   ]
  },
  {
   "cell_type": "code",
   "execution_count": 10,
   "metadata": {
    "collapsed": true
   },
   "outputs": [],
   "source": [
    "def make_features(data, predictors=None):\n",
    "    X = data.drop('count', axis=1)\n",
    "    if predictors is not None:\n",
    "        X = X.loc[:, predictors]\n",
    "    X = sm.add_constant(X)\n",
    "    y = data['count']\n",
    "    return X, y"
   ]
  },
  {
   "cell_type": "code",
   "execution_count": 11,
   "metadata": {},
   "outputs": [
    {
     "name": "stdout",
     "output_type": "stream",
     "text": [
      "Test R^2 =  0.25783629187453316\n",
      "\n",
      "Predictor p-values:\n",
      "season_2         0.066362\n",
      "season_3         0.069897\n",
      "season_4         0.016124\n",
      "month_2          0.822906\n",
      "month_3          0.592882\n",
      "month_4          0.621999\n",
      "month_5          0.927861\n",
      "month_6          0.291523\n",
      "month_7          0.117803\n",
      "month_8          0.329365\n",
      "month_9          0.560205\n",
      "month_10         0.456178\n",
      "month_11         0.856274\n",
      "month_12         0.814248\n",
      "day_of_week_1    0.469764\n",
      "day_of_week_2    0.338484\n",
      "day_of_week_3    0.425745\n",
      "day_of_week_4    0.766631\n",
      "day_of_week_5    0.576936\n",
      "day_of_week_6    0.084976\n",
      "weather_2        0.937215\n",
      "weather_3        0.003026\n",
      "temp             0.052000\n",
      "atemp            0.468024\n",
      "humidity         0.000002\n",
      "windspeed        0.001744\n",
      "holiday          0.476577\n",
      "workingday       0.063440\n",
      "dtype: float64\n",
      "\n",
      "Regression coefficients:\n",
      "season_2          898.829039\n",
      "season_3         1032.881575\n",
      "season_4         1226.186543\n",
      "month_2            88.940093\n",
      "month_3           239.180898\n",
      "month_4           333.349086\n",
      "month_5           -65.812500\n",
      "month_6          -792.262899\n",
      "month_7         -1279.987006\n",
      "month_8          -776.475490\n",
      "month_9           405.144566\n",
      "month_10          486.250904\n",
      "month_11          112.681645\n",
      "month_12         -118.835819\n",
      "day_of_week_1    -123.751476\n",
      "day_of_week_2    -195.285933\n",
      "day_of_week_3     170.511347\n",
      "day_of_week_4      61.256030\n",
      "day_of_week_5     111.066899\n",
      "day_of_week_6     465.145010\n",
      "weather_2         -16.566584\n",
      "weather_3       -1581.978284\n",
      "temp              925.733850\n",
      "atemp             312.434072\n",
      "humidity         -548.492949\n",
      "windspeed        -255.122589\n",
      "holiday          -284.356275\n",
      "workingday        308.153142\n",
      "dtype: float64\n"
     ]
    }
   ],
   "source": [
    "# make features\n",
    "X_train, y_train = make_features(bike_rentals_train_pp)\n",
    "X_test, y_test = make_features(bike_rentals_test_pp)\n",
    "\n",
    "# fit model\n",
    "ols = OLS(y_train, X_train)\n",
    "ols_results = ols.fit()\n",
    "\n",
    "# test model\n",
    "y_test_predict = ols_results.predict(X_test)\n",
    "test_r_squared = r2_score(y_test, y_test_predict)\n",
    "print('Test R^2 = ', test_r_squared)\n",
    "print()\n",
    "print('Predictor p-values:')\n",
    "print(ols_results.pvalues.drop('const'))\n",
    "print()\n",
    "print('Regression coefficients:')\n",
    "print(ols_results.params.drop('const'))"
   ]
  },
  {
   "cell_type": "markdown",
   "metadata": {},
   "source": [
    "The estimated coefficients that are statistically significant at a significance level of 5% (p-value<0.05) are:\n",
    "- season_4\n",
    "- weather_3\n",
    "- humidity\n",
    "- windspeed\n",
    "\n",
    "Amongst these predictors, the following preddictors have a positive correlation with the number of bike rentals:\n",
    "- season_4\n",
    "\n",
    "The day of a week, the month and holidays all do not have a statistically significant relationship with bike rentals.\n",
    "\n",
    "Yes there is a difference in the coefficients assigned to `temp` and `atemp`. `temp` increases the number of bike rentals approximately 3 times more than `atemp`."
   ]
  },
  {
   "cell_type": "code",
   "execution_count": 12,
   "metadata": {},
   "outputs": [
    {
     "data": {
      "image/png": "[encoded data removed]",
      "text/plain": [
       "<Figure size 432x288 with 1 Axes>"
      ]
     },
     "metadata": {},
     "output_type": "display_data"
    }
   ],
   "source": [
    "residual = y_test - y_test_predict\n",
    "plt.plot(y_test_predict, residual, 'o', markersize=4)\n",
    "plt.axhline(color='g', label='zero error')\n",
    "plt.title('Residual vs test data prediction')\n",
    "plt.xlabel('$y_{test}^{predict}$')\n",
    "plt.ylabel('Residual')\n",
    "plt.xlim((0, 8000))\n",
    "plt.ylim((-8000, 8000))\n",
    "plt.legend();"
   ]
  },
  {
   "cell_type": "markdown",
   "metadata": {},
   "source": [
    "The residual plot reveals a non-linear relationship between the predictors and response as the points are not randomly scattered about zero error. We can see that the variance of the error terms grows for larger values of the predicted response."
   ]
  },
  {
   "cell_type": "markdown",
   "metadata": {},
   "source": [
    "## Part (c): Checking Collinearity\n",
    "\n",
    "Does the data suffer from multi-collinearity? To answer this question, let us first analyze the correlation matrix for the data. Compute the (Pearson product-moment) correlation matrix for the predictor variables in the training set, and visualize the matrix using a heatmap. For categorical attributes, you should use each binary predictor resulting from one-hot encoding to compute their correlations.  Are there predictors that fall into natural groups based on the correlation values? \n",
    "\n",
    "*Hint:* You may use the `np.corrcoef` function to compute the correlation matrix for a data set (do not forget to transpose the data matrix). You may use `plt.pcolor` function to visualize the correlation matrix."
   ]
  },
  {
   "cell_type": "code",
   "execution_count": 13,
   "metadata": {
    "collapsed": true
   },
   "outputs": [
    {
     "data": {
      "image/png": "[encoded data removed]",
      "text/plain": [
       "<Figure size 720x720 with 2 Axes>"
      ]
     },
     "metadata": {},
     "output_type": "display_data"
    }
   ],
   "source": [
    "corr_matrix = bike_rentals_train_pp.corr()\n",
    "mask = np.zeros_like(corr_matrix, dtype=np.bool)\n",
    "mask[np.triu_indices_from(corr_matrix)] = True\n",
    "fig, ax = plt.subplots(figsize=(10, 10))\n",
    "sns.heatmap(corr_matrix, mask=mask, vmin=-1, vmax=1, center=0,\n",
    "            cmap='coolwarm', ax=ax);"
   ]
  },
  {
   "cell_type": "markdown",
   "metadata": {},
   "source": [
    "We can clearly see that there are variables which fall into certain groups based on their correlation coefficients from the heat map. `temp` and `atemp` leap out at being very highly postively correlated with one another. It is also clear that we have high positive correlations between `temp` / `atemp` and `season_3` (season 3 = Fall) and certain months of the year and seasons (e.g. `season_4` and `month_11` - winter and November). Also, it's obvious that `day_of_week_6` (day 6 = Saturday) and `workingday` are also highly negatively correlated with one another. These are all signs that the data suffers from multi-collinearity and redundant variables can be removed."
   ]
  },
  {
   "cell_type": "markdown",
   "metadata": {},
   "source": [
    "## Part (d): Subset Selection\n",
    "\n",
    "Apply either one of the following subset selection methods discussed in class to choose a minimal subset of predictors that are related to the response variable:\n",
    "- Step-wise forward selection\n",
    "- Step-wise backward selection\n",
    "\n",
    "We require you to implement both these methods *from scratch*. You may use the Bayesian Information Criterion (BIC) to choose the subset size in each method. Do these methods eliminate one or more of the redundant predictors (if any) identified in Part (c)? In each case, fit linear regression models using the identified subset of predictors to the training set. How do the test $R^2$ scores for the fitted models compare with the model fitted in Part (b) using all predictors?\n",
    "\n",
    "\n"
   ]
  },
  {
   "cell_type": "code",
   "execution_count": 14,
   "metadata": {},
   "outputs": [],
   "source": [
    "def get_bic(X_train, y_train):\n",
    "    X_train = sm.add_constant(X_train)\n",
    "    model = sm.OLS(y_train, X_train).fit()\n",
    "    return model.bic"
   ]
  },
  {
   "cell_type": "markdown",
   "metadata": {},
   "source": [
    "For forward selection:"
   ]
  },
  {
   "cell_type": "code",
   "execution_count": 15,
   "metadata": {},
   "outputs": [],
   "source": [
    "predictors = [([], 0)]\n",
    "for k in range(1, len(X_train.columns.drop('const'))):\n",
    "    best_k_minus_1 = predictors[-1][0]\n",
    "    bics = []\n",
    "\n",
    "    new_predictors = list(set(X_train.columns.drop('const')) - set(best_k_minus_1))\n",
    "    for predictor in new_predictors:\n",
    "        k_predictors = best_k_minus_1 + [predictor] \n",
    "        X_train_for = bike_rentals_train_pp[k_predictors].values\n",
    "        bics.append(get_bic(X_train_for, y_train))\n",
    "\n",
    "    best_k = best_k_minus_1 + [new_predictors[np.argmin(bics)]]\n",
    "    predictors.append((best_k, np.min(bics)))\n",
    "predictors.remove(([], 0))"
   ]
  },
  {
   "cell_type": "code",
   "execution_count": 16,
   "metadata": {},
   "outputs": [
    {
     "name": "stdout",
     "output_type": "stream",
     "text": [
      "best predictor set: ['atemp', 'humidity', 'season_4', 'month_9', 'season_2', 'weather_3', 'windspeed']\n",
      "bic: 5743.099730261509\n",
      "test R^2: 0.28522827352038493\n"
     ]
    }
   ],
   "source": [
    "best_predictor_set_for = sorted(predictors, key=lambda t: t[1], reverse=True)[-1]\n",
    "X_train_for = bike_rentals_train_pp[best_predictor_set_for[0]]\n",
    "X_train_for = sm.add_constant(X_train_for)\n",
    "X_test_for = bike_rentals_test_pp[best_predictor_set_for[0]]\n",
    "X_test_for = sm.add_constant(X_test_for)\n",
    "ols_for = OLS(y_train, X_train_for)\n",
    "ols_for_results = ols_for.fit()\n",
    "y_test_predict = ols_for_results.predict(X_test_for)\n",
    "\n",
    "print('best predictor set: {}\\nbic: {}\\ntest R^2: {}'.format(\n",
    "    best_predictor_set_for[0], best_predictor_set_for[1], r2_score(\n",
    "        y_test, y_test_predict)))"
   ]
  },
  {
   "cell_type": "markdown",
   "metadata": {},
   "source": [
    "For backward selection:"
   ]
  },
  {
   "cell_type": "code",
   "execution_count": 17,
   "metadata": {
    "collapsed": true
   },
   "outputs": [],
   "source": [
    "predictors = [(X_train.columns.drop('const'), get_bic(X_train, y_train))]\n",
    "for k in range(len(X_train.columns.drop('const')), 1, -1):\n",
    "    best_k_predictors = predictors[-1][0]\n",
    "    bics = []\n",
    "\n",
    "    for predictor in best_k_predictors:\n",
    "        k_minus_1 = list(set(best_k_predictors) - set([predictor]))\n",
    "        X_train_back = bike_rentals_train_pp[k_minus_1].values\n",
    "        bics.append(get_bic(X_train_back, y_train))\n",
    "\n",
    "    best_k_minus_1 = list(set(best_k_predictors) - set(\n",
    "        [best_k_predictors[np.argmin(bics)]]))\n",
    "    predictors.append((best_k_minus_1, np.min(bics)))"
   ]
  },
  {
   "cell_type": "code",
   "execution_count": 18,
   "metadata": {},
   "outputs": [
    {
     "name": "stdout",
     "output_type": "stream",
     "text": [
      "best predictor set: ['humidity', 'windspeed', 'season_4', 'season_3', 'temp', 'weather_3', 'month_7', 'season_2', 'month_8', 'month_6']\n",
      "bic: 5743.114545842088\n",
      "test R^2: 0.27992774344938287\n"
     ]
    }
   ],
   "source": [
    "best_predictor_set_back = sorted(predictors, key=lambda t: t[1], reverse=True)[-1]\n",
    "X_train_back = bike_rentals_train_pp[best_predictor_set_back[0]]\n",
    "X_train_back = sm.add_constant(X_train_back)\n",
    "X_test_back = bike_rentals_test_pp[best_predictor_set_back[0]]\n",
    "X_test_back = sm.add_constant(X_test_back)\n",
    "ols_back = OLS(y_train, X_train_back)\n",
    "ols_back_results = ols_back.fit()\n",
    "y_test_predict = ols_back_results.predict(X_test_back)\n",
    "\n",
    "print('best predictor set: {}\\nbic: {}\\ntest R^2: {}'.format(\n",
    "    best_predictor_set_back[0], best_predictor_set_back[1], r2_score(\n",
    "        y_test, y_test_predict)))"
   ]
  },
  {
   "cell_type": "markdown",
   "metadata": {},
   "source": [
    "We can see that for both forward and backward stepwise selection that several of the redundant variables have been eliminated  and that the test $R^2$ score is higher than in part (b) using all predictors."
   ]
  },
  {
   "cell_type": "markdown",
   "metadata": {},
   "source": [
    "## Part (e): Cross Validation\n",
    "\n",
    "- Perform a 10-fold cross-validation procedure to select between the 3 competing models you have so far: the model with the best BIC from Step-wise forward selection, the model with the best BIC from Step-wise backward selection (if it is different), and the model with all possible predictors.  Report the average $R^2$ across all 10 validation sets for each model and compare the results.  Why do you think this is the case?\n",
    "- Evaluate each of the 3 models on the provided left out test set by calculating $R^2$.  Do the results agree with the cross-validation?  Why or why not?"
   ]
  },
  {
   "cell_type": "code",
   "execution_count": 19,
   "metadata": {
    "collapsed": true
   },
   "outputs": [],
   "source": [
    "def model_x_valid_r_squared(df_non_test, df_test, predictors, n_splits=3,\n",
    "                            shuffle=False, random_state=None):\n",
    "    X_non_test, y_non_test = make_features(df_non_test, predictors)\n",
    "    \n",
    "    validation_R_sqs = []\n",
    "    kf = KFold(n_splits=n_splits, shuffle=shuffle, random_state=random_state)\n",
    "    for train, val in kf.split(X_non_test):\n",
    "        X_train, X_val = X_non_test.loc[train, :], X_non_test.loc[val, :]\n",
    "        y_train, y_val = y_non_test[train], y_non_test[val]\n",
    "\n",
    "        ols = OLS(y_train, X_train)\n",
    "        ols_results = ols.fit()\n",
    "\n",
    "        y_val_predict = ols_results.predict(X_val)\n",
    "        validation_R_sqs.append(r2_score(y_true=y_val, y_pred=y_val_predict))\n",
    "\n",
    "    return np.mean(validation_R_sqs)\n",
    "\n",
    "\n",
    "def test_r_squared(df_non_test, df_test, predictors):\n",
    "    X_non_test, y_non_test = make_features(df_non_test, predictors)\n",
    "    X_test, y_test = make_features(df_test, predictors)\n",
    "\n",
    "    ols = OLS(y_non_test, X_non_test)\n",
    "    ols_results = ols.fit()\n",
    "\n",
    "    y_test_predict = ols_results.predict(X_test)\n",
    "    return r2_score(y_true=y_test, y_pred=y_test_predict)"
   ]
  },
  {
   "cell_type": "code",
   "execution_count": 20,
   "metadata": {},
   "outputs": [],
   "source": [
    "model_predictors = {}\n",
    "model_predictors['all'] = bike_rentals_train_pp.columns.drop('count').values\n",
    "model_predictors['forward'] = best_predictor_set_for[0]\n",
    "model_predictors['backward'] = best_predictor_set_back[0]"
   ]
  },
  {
   "cell_type": "code",
   "execution_count": 21,
   "metadata": {},
   "outputs": [
    {
     "data": {
      "text/plain": [
       "[{'model': 'all',\n",
       "  'predictors': array(['season_2', 'season_3', 'season_4', 'month_2', 'month_3',\n",
       "         'month_4', 'month_5', 'month_6', 'month_7', 'month_8', 'month_9',\n",
       "         'month_10', 'month_11', 'month_12', 'day_of_week_1',\n",
       "         'day_of_week_2', 'day_of_week_3', 'day_of_week_4', 'day_of_week_5',\n",
       "         'day_of_week_6', 'weather_2', 'weather_3', 'temp', 'atemp',\n",
       "         'humidity', 'windspeed', 'holiday', 'workingday'], dtype=object),\n",
       "  'val_R_squared': 0.40059408809295804,\n",
       "  'test_R_squared': 0.25783629187453316},\n",
       " {'model': 'forward',\n",
       "  'predictors': array(['atemp', 'humidity', 'season_4', 'month_9', 'season_2',\n",
       "         'weather_3', 'windspeed'], dtype=object),\n",
       "  'val_R_squared': 0.4857480094097834,\n",
       "  'test_R_squared': 0.28522827352038493},\n",
       " {'model': 'backward',\n",
       "  'predictors': array(['humidity', 'windspeed', 'season_4', 'season_3', 'temp',\n",
       "         'weather_3', 'month_7', 'season_2', 'month_8', 'month_6'],\n",
       "        dtype=object),\n",
       "  'val_R_squared': 0.502330433030539,\n",
       "  'test_R_squared': 0.27992774344938287}]"
      ]
     },
     "execution_count": 21,
     "metadata": {},
     "output_type": "execute_result"
    }
   ],
   "source": [
    "models_results = []\n",
    "for model, predictors in model_predictors.items():\n",
    "    val_r_sq = model_x_valid_r_squared(bike_rentals_train_pp,\n",
    "                                       bike_rentals_test_pp, predictors,\n",
    "                                       n_splits=10, shuffle=True, random_state=6)\n",
    "    test_r_sq = test_r_squared(bike_rentals_train_pp, bike_rentals_test_pp,\n",
    "                               predictors)\n",
    "    model_results = {'model': model, 'predictors': np.array(predictors,\n",
    "                                                            dtype=object),\n",
    "                     'val_R_squared': val_r_sq, 'test_R_squared': test_r_sq}\n",
    "    models_results.append(model_results)\n",
    "\n",
    "models_results"
   ]
  },
  {
   "cell_type": "markdown",
   "metadata": {},
   "source": [
    "From the cross-validation we can see that the model to select according to $R^2$ is the step-wise backward model. However, according to the test set we can see that the model to select according to $R^2$ is the step-wise forward model. Both these models are better than the model with all predictors due to the removal of some predictors causing multi-collinearity. Beyond, this it is not obvious to me why the cross-validation and hold out set results do not agree even though it is clearly that they select a different subset of the predictors. One thing that I notice is that all the season predictors are selected in the backward model along with more of the moth variables. Maybe this leads to a better predictive model when evaluated on the hold out set. "
   ]
  }
 ],
 "metadata": {
  "anaconda-cloud": {},
  "kernelspec": {
   "display_name": "Python 3",
   "language": "python",
   "name": "python3"
  },
  "language_info": {
   "codemirror_mode": {
    "name": "ipython",
    "version": 3
   },
   "file_extension": ".py",
   "mimetype": "text/x-python",
   "name": "python",
   "nbconvert_exporter": "python",
   "pygments_lexer": "ipython3",
   "version": "3.6.5"
  }
 },
 "nbformat": 4,
 "nbformat_minor": 2
}
