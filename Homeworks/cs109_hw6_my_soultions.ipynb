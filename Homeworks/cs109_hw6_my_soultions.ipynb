{
 "cells": [
  {
   "cell_type": "markdown",
   "metadata": {},
   "source": [
    "# CS 109A/STAT 121A/AC 209A/CSCI E-109A: Homework 6\n",
    "# Reg-Logistic Regression, ROC, and Data Imputation\n",
    "\n",
    "**Harvard University**<br/>\n",
    "**Fall 2017**<br/>\n",
    "**Instructors**: Pavlos Protopapas, Kevin Rader, Rahul Dave, Margo Levine\n",
    "\n",
    "---\n",
    "\n",
    "### INSTRUCTIONS\n",
    "\n",
    "- To submit your assignment follow the instructions given in canvas.\n",
    "- Restart the kernel and run the whole notebook again before you submit. \n",
    "- Do not include your name(s) in the notebook if you are submitting as a group. \n",
    "- If you submit individually and you have worked with someone, please include the name of your [one] partner below. \n",
    "\n",
    "---"
   ]
  },
  {
   "cell_type": "markdown",
   "metadata": {},
   "source": [
    "Your partner's name (if you submit separately):\n",
    "\n",
    "Enrollment Status (109A, 121A, 209A, or E109A):"
   ]
  },
  {
   "cell_type": "markdown",
   "metadata": {},
   "source": [
    "Import libraries:"
   ]
  },
  {
   "cell_type": "code",
   "execution_count": 1,
   "metadata": {
    "collapsed": true
   },
   "outputs": [],
   "source": [
    "import numpy as np\n",
    "import pandas as pd\n",
    "import matplotlib\n",
    "import matplotlib.pyplot as plt\n",
    "from sklearn.linear_model import LogisticRegressionCV\n",
    "import sklearn.metrics as metrics\n",
    "from sklearn.preprocessing import PolynomialFeatures \n",
    "from sklearn.preprocessing import Imputer\n",
    "from sklearn.discriminant_analysis import LinearDiscriminantAnalysis\n",
    "from sklearn.discriminant_analysis import QuadraticDiscriminantAnalysis\n",
    "from sklearn.neighbors import KNeighborsClassifier\n",
    "from sklearn.tree import DecisionTreeClassifier\n",
    "from sklearn.model_selection import cross_val_score\n",
    "from sklearn.model_selection import train_test_split\n",
    "from sklearn.metrics import accuracy_score\n",
    "\n",
    "from sklearn.tree import export_graphviz\n",
    "from IPython.display import Image\n",
    "from IPython.display import display\n",
    "%matplotlib inline"
   ]
  },
  {
   "cell_type": "markdown",
   "metadata": {},
   "source": [
    "## Automated Breast Cancer Detection\n",
    "\n",
    "In this homework, we will consider the problem of early breast cancer detection from X-ray images. Specifically, given a candidate region of interest (ROI) from an X-ray image of a patient's breast, the goal is to predict if the region corresponds to a malignant tumor (label 1) or is normal (label 0). The training and test data sets for this problem is provided in the file `hw6_dataset.csv`. Each row in these files corresponds to a ROI in a patient's X-ray, with columns 1-117 containing features computed using standard image processing algorithms. The last column contains the class label, and is based on a radiologist's opinion or a biopsy. This data was obtained from the KDD Cup 2008 challenge.\n",
    "\n",
    "The data set contain a total of 69,098 candidate ROIs, of which only 409 are malignant, while the remaining are all normal. \n",
    "\n",
    "*Note*: be careful of reading/treating column names and row names in this data set."
   ]
  },
  {
   "cell_type": "markdown",
   "metadata": {},
   "source": [
    "## Question 1: Beyond Classification Accuracy\n",
    "\n",
    "\n",
    "0.  Split the data set into a training set and a testing set.  The training set should be 75% of the original data set, and the testing set 25%.  Use `np.random.seed(9001)`.\n",
    "\n",
    "1. Fit a logistic regression classifier to the training set and report the  accuracy of the classifier on the test set. You should use $L_2$ regularization in logistic regression, with the regularization parameter tuned using cross-validation. \n",
    "    1. How does the fitted model compare with a classifier that predicts 'normal' (label 0) on all patients? \n",
    "    2. Do you think the difference in the classification accuracies are large enough to declare logistic regression as a better classifier than the all 0's classifier? Why or why not?\n",
    "    \n",
    "For applications with imbalanced class labels, in this case when there are many more healthy subjects ($Y=0$) than those with cancer ($Y=1$), the classification accuracy may not be the best metric to evaluate a classifier's performance. As an alternative, we could analyze the confusion table for the classifier. \n",
    "\n",
    "<ol start=\"3\">\n",
    "<li> Compute the confusion table for both the fitted classifier and the classifier that predicts all 0's.</li>\n",
    "<li> Using the entries of the confusion table compute the *true positive rate* and the *true negative rate* for the two classifiers. Explain what these evaluation metrics mean for the specific task of cancer detection. Based on the observed metrics, comment on whether the fitted model is better than the all 0's classifier.</li>\n",
    "<li> What is the *false positive rate* of the fitted classifier, and how is it related to its true positive and true negative rate? Why is a classifier with high false positive rate undesirable for a cancer detection task?</li>\n",
    "</ol>\n",
    "*Hint:* You may use the `metrics.confusion_matrix` function to compute the confusion matrix for a classification model."
   ]
  },
  {
   "cell_type": "markdown",
   "metadata": {},
   "source": [
    "First we read in the data and split it into a training set and a testing set.  The training set will be 75% of the original data set, and the testing set 25%."
   ]
  },
  {
   "cell_type": "code",
   "execution_count": 2,
   "metadata": {},
   "outputs": [],
   "source": [
    "def create_dataframe(file_path, header=None, usecols=None):\n",
    "    col_names = ['X_' + str(i) for i in range(117)] + ['Y']\n",
    "    data = pd.read_csv(file_path, header=header, names=col_names,\n",
    "                       usecols=usecols)\n",
    "    data['Y'] = data.Y.astype('int64')\n",
    "    return data"
   ]
  },
  {
   "cell_type": "code",
   "execution_count": 3,
   "metadata": {},
   "outputs": [
    {
     "data": {
      "text/html": [
       "<div>\n",
       "<style scoped>\n",
       "    .dataframe tbody tr th:only-of-type {\n",
       "        vertical-align: middle;\n",
       "    }\n",
       "\n",
       "    .dataframe tbody tr th {\n",
       "        vertical-align: top;\n",
       "    }\n",
       "\n",
       "    .dataframe thead th {\n",
       "        text-align: right;\n",
       "    }\n",
       "</style>\n",
       "<table border=\"1\" class=\"dataframe\">\n",
       "  <thead>\n",
       "    <tr style=\"text-align: right;\">\n",
       "      <th></th>\n",
       "      <th>X_0</th>\n",
       "      <th>X_1</th>\n",
       "      <th>X_2</th>\n",
       "      <th>X_3</th>\n",
       "      <th>X_4</th>\n",
       "      <th>X_5</th>\n",
       "      <th>X_6</th>\n",
       "      <th>X_7</th>\n",
       "      <th>X_8</th>\n",
       "      <th>X_9</th>\n",
       "      <th>...</th>\n",
       "      <th>X_108</th>\n",
       "      <th>X_109</th>\n",
       "      <th>X_110</th>\n",
       "      <th>X_111</th>\n",
       "      <th>X_112</th>\n",
       "      <th>X_113</th>\n",
       "      <th>X_114</th>\n",
       "      <th>X_115</th>\n",
       "      <th>X_116</th>\n",
       "      <th>Y</th>\n",
       "    </tr>\n",
       "  </thead>\n",
       "  <tbody>\n",
       "    <tr>\n",
       "      <th>0</th>\n",
       "      <td>-0.144</td>\n",
       "      <td>-0.143</td>\n",
       "      <td>-0.1160</td>\n",
       "      <td>-0.1030</td>\n",
       "      <td>0.226</td>\n",
       "      <td>0.210</td>\n",
       "      <td>-0.9800</td>\n",
       "      <td>-0.780</td>\n",
       "      <td>-0.474</td>\n",
       "      <td>-0.447</td>\n",
       "      <td>...</td>\n",
       "      <td>0.925</td>\n",
       "      <td>0.516</td>\n",
       "      <td>0.34400</td>\n",
       "      <td>0.906</td>\n",
       "      <td>-1.1300</td>\n",
       "      <td>-0.552</td>\n",
       "      <td>0.553</td>\n",
       "      <td>-0.417</td>\n",
       "      <td>0.2560</td>\n",
       "      <td>0</td>\n",
       "    </tr>\n",
       "    <tr>\n",
       "      <th>1</th>\n",
       "      <td>-0.011</td>\n",
       "      <td>0.138</td>\n",
       "      <td>-0.2230</td>\n",
       "      <td>-0.1730</td>\n",
       "      <td>0.188</td>\n",
       "      <td>0.284</td>\n",
       "      <td>-0.0522</td>\n",
       "      <td>-0.256</td>\n",
       "      <td>0.129</td>\n",
       "      <td>0.427</td>\n",
       "      <td>...</td>\n",
       "      <td>-0.593</td>\n",
       "      <td>0.452</td>\n",
       "      <td>0.00785</td>\n",
       "      <td>-0.533</td>\n",
       "      <td>-0.0789</td>\n",
       "      <td>0.705</td>\n",
       "      <td>0.906</td>\n",
       "      <td>0.216</td>\n",
       "      <td>-0.0723</td>\n",
       "      <td>0</td>\n",
       "    </tr>\n",
       "    <tr>\n",
       "      <th>2</th>\n",
       "      <td>0.212</td>\n",
       "      <td>-0.313</td>\n",
       "      <td>0.2660</td>\n",
       "      <td>0.2320</td>\n",
       "      <td>-1.190</td>\n",
       "      <td>-1.150</td>\n",
       "      <td>-1.8100</td>\n",
       "      <td>-1.560</td>\n",
       "      <td>-1.250</td>\n",
       "      <td>-1.200</td>\n",
       "      <td>...</td>\n",
       "      <td>-0.816</td>\n",
       "      <td>1.570</td>\n",
       "      <td>0.39400</td>\n",
       "      <td>1.340</td>\n",
       "      <td>-1.1800</td>\n",
       "      <td>-2.700</td>\n",
       "      <td>-0.926</td>\n",
       "      <td>-2.650</td>\n",
       "      <td>-0.0447</td>\n",
       "      <td>0</td>\n",
       "    </tr>\n",
       "    <tr>\n",
       "      <th>3</th>\n",
       "      <td>0.215</td>\n",
       "      <td>-0.184</td>\n",
       "      <td>0.0274</td>\n",
       "      <td>0.0494</td>\n",
       "      <td>0.443</td>\n",
       "      <td>0.463</td>\n",
       "      <td>-1.0500</td>\n",
       "      <td>-0.941</td>\n",
       "      <td>-0.531</td>\n",
       "      <td>-0.394</td>\n",
       "      <td>...</td>\n",
       "      <td>0.634</td>\n",
       "      <td>0.111</td>\n",
       "      <td>0.37100</td>\n",
       "      <td>0.859</td>\n",
       "      <td>-0.9930</td>\n",
       "      <td>-0.492</td>\n",
       "      <td>0.363</td>\n",
       "      <td>0.326</td>\n",
       "      <td>-0.0528</td>\n",
       "      <td>0</td>\n",
       "    </tr>\n",
       "    <tr>\n",
       "      <th>4</th>\n",
       "      <td>0.279</td>\n",
       "      <td>-0.197</td>\n",
       "      <td>0.1270</td>\n",
       "      <td>0.0973</td>\n",
       "      <td>-0.213</td>\n",
       "      <td>-0.150</td>\n",
       "      <td>-1.3200</td>\n",
       "      <td>-0.994</td>\n",
       "      <td>-1.110</td>\n",
       "      <td>-1.090</td>\n",
       "      <td>...</td>\n",
       "      <td>-0.640</td>\n",
       "      <td>0.485</td>\n",
       "      <td>0.29500</td>\n",
       "      <td>0.403</td>\n",
       "      <td>-1.1200</td>\n",
       "      <td>-0.343</td>\n",
       "      <td>0.468</td>\n",
       "      <td>-0.820</td>\n",
       "      <td>0.4350</td>\n",
       "      <td>0</td>\n",
       "    </tr>\n",
       "  </tbody>\n",
       "</table>\n",
       "<p>5 rows × 118 columns</p>\n",
       "</div>"
      ],
      "text/plain": [
       "     X_0    X_1     X_2     X_3    X_4    X_5     X_6    X_7    X_8    X_9  \\\n",
       "0 -0.144 -0.143 -0.1160 -0.1030  0.226  0.210 -0.9800 -0.780 -0.474 -0.447   \n",
       "1 -0.011  0.138 -0.2230 -0.1730  0.188  0.284 -0.0522 -0.256  0.129  0.427   \n",
       "2  0.212 -0.313  0.2660  0.2320 -1.190 -1.150 -1.8100 -1.560 -1.250 -1.200   \n",
       "3  0.215 -0.184  0.0274  0.0494  0.443  0.463 -1.0500 -0.941 -0.531 -0.394   \n",
       "4  0.279 -0.197  0.1270  0.0973 -0.213 -0.150 -1.3200 -0.994 -1.110 -1.090   \n",
       "\n",
       "  ...  X_108  X_109    X_110  X_111   X_112  X_113  X_114  X_115   X_116  Y  \n",
       "0 ...  0.925  0.516  0.34400  0.906 -1.1300 -0.552  0.553 -0.417  0.2560  0  \n",
       "1 ... -0.593  0.452  0.00785 -0.533 -0.0789  0.705  0.906  0.216 -0.0723  0  \n",
       "2 ... -0.816  1.570  0.39400  1.340 -1.1800 -2.700 -0.926 -2.650 -0.0447  0  \n",
       "3 ...  0.634  0.111  0.37100  0.859 -0.9930 -0.492  0.363  0.326 -0.0528  0  \n",
       "4 ... -0.640  0.485  0.29500  0.403 -1.1200 -0.343  0.468 -0.820  0.4350  0  \n",
       "\n",
       "[5 rows x 118 columns]"
      ]
     },
     "execution_count": 3,
     "metadata": {},
     "output_type": "execute_result"
    }
   ],
   "source": [
    "# Download from https://canvas.harvard.edu/courses/29726/assignments/175288\n",
    "breast_cancer = create_dataframe('../hwassets/data/HW6_dataset.csv')\n",
    "breast_cancer.head()"
   ]
  },
  {
   "cell_type": "code",
   "execution_count": 4,
   "metadata": {},
   "outputs": [],
   "source": [
    "X_train, X_test, y_train, y_test = train_test_split(\n",
    "    breast_cancer.drop('Y', axis=1),\n",
    "    breast_cancer.Y, test_size=0.25,\n",
    "    random_state=np.random.seed(9001))"
   ]
  },
  {
   "cell_type": "markdown",
   "metadata": {},
   "source": [
    "Let's fit a logistic regression classifier to the training set and look at the accuracy of the classifier on the test set. We will use $L_2$ regularization with the regularization parameter tuned using 5-fold cross-validation."
   ]
  },
  {
   "cell_type": "code",
   "execution_count": 5,
   "metadata": {},
   "outputs": [],
   "source": [
    "def test_accuracy(model, X_train, y_train, X_test, y_test):\n",
    "    model.fit(X_train, y_train)\n",
    "    y_pred = model.predict(X_test)\n",
    "    accuracy = accuracy_score(y_test, y_pred)\n",
    "    return accuracy"
   ]
  },
  {
   "cell_type": "code",
   "execution_count": 6,
   "metadata": {},
   "outputs": [
    {
     "name": "stdout",
     "output_type": "stream",
     "text": [
      "Test accuracy =  0.9958321273516643\n"
     ]
    }
   ],
   "source": [
    "logit_CV = LogisticRegressionCV(cv=5, penalty='l2', scoring='accuracy',\n",
    "                                random_state=np.random.seed(9001))\n",
    "accuracy = test_accuracy(logit_CV, X_train, y_train, X_test, y_test)\n",
    "print('Test accuracy = ', accuracy)"
   ]
  },
  {
   "cell_type": "markdown",
   "metadata": {},
   "source": [
    "We now compare the fitted model with a baseline classifier that predicts 'normal' (label 0) on all patients."
   ]
  },
  {
   "cell_type": "code",
   "execution_count": 7,
   "metadata": {},
   "outputs": [
    {
     "name": "stdout",
     "output_type": "stream",
     "text": [
      "Test accuracy =  0.9946743849493488\n"
     ]
    }
   ],
   "source": [
    "y_normal = np.zeros(y_test.shape[0])\n",
    "accuracy = accuracy_score(y_test, y_normal)\n",
    "print('Test accuracy = ', accuracy)"
   ]
  },
  {
   "cell_type": "markdown",
   "metadata": {},
   "source": [
    "We see that the difference in the classification accuracies is very small, approximately 0.001, which is not enough to declare logistic regression as a better classifier than the all 0's classifier. This is because almost all the examples in the test set are normal (i.e. belong to the negative class)."
   ]
  },
  {
   "cell_type": "markdown",
   "metadata": {},
   "source": [
    "The confusion tables for the classifier are much better to analyze in a situation like this where we have highly imbalanced classes."
   ]
  },
  {
   "cell_type": "code",
   "execution_count": 8,
   "metadata": {},
   "outputs": [],
   "source": [
    "def conf_matrix_df(y_test, y_pred):\n",
    "    conf_matrix = pd.DataFrame(\n",
    "        data=metrics.confusion_matrix(y_test, y_pred),\n",
    "        columns=['Predicted Y=0', 'Predicted Y=1'],\n",
    "        index=['Observed Y=0', 'Observed Y=1'])\n",
    "    predicted = conf_matrix.sum(axis=0)\n",
    "    predicted.name = 'Predicted'\n",
    "    conf_matrix = conf_matrix.append(predicted)\n",
    "    observed = conf_matrix.sum(axis=1)\n",
    "    observed.name = 'Observed'\n",
    "    conf_matrix = pd.concat((conf_matrix, observed), axis=1)\n",
    "    return conf_matrix"
   ]
  },
  {
   "cell_type": "code",
   "execution_count": 9,
   "metadata": {},
   "outputs": [
    {
     "name": "stdout",
     "output_type": "stream",
     "text": [
      "Logistic regression\n"
     ]
    },
    {
     "data": {
      "text/html": [
       "<div>\n",
       "<style scoped>\n",
       "    .dataframe tbody tr th:only-of-type {\n",
       "        vertical-align: middle;\n",
       "    }\n",
       "\n",
       "    .dataframe tbody tr th {\n",
       "        vertical-align: top;\n",
       "    }\n",
       "\n",
       "    .dataframe thead th {\n",
       "        text-align: right;\n",
       "    }\n",
       "</style>\n",
       "<table border=\"1\" class=\"dataframe\">\n",
       "  <thead>\n",
       "    <tr style=\"text-align: right;\">\n",
       "      <th></th>\n",
       "      <th>Predicted Y=0</th>\n",
       "      <th>Predicted Y=1</th>\n",
       "      <th>Observed</th>\n",
       "    </tr>\n",
       "  </thead>\n",
       "  <tbody>\n",
       "    <tr>\n",
       "      <th>Observed Y=0</th>\n",
       "      <td>17177</td>\n",
       "      <td>6</td>\n",
       "      <td>17183</td>\n",
       "    </tr>\n",
       "    <tr>\n",
       "      <th>Observed Y=1</th>\n",
       "      <td>66</td>\n",
       "      <td>26</td>\n",
       "      <td>92</td>\n",
       "    </tr>\n",
       "    <tr>\n",
       "      <th>Predicted</th>\n",
       "      <td>17243</td>\n",
       "      <td>32</td>\n",
       "      <td>17275</td>\n",
       "    </tr>\n",
       "  </tbody>\n",
       "</table>\n",
       "</div>"
      ],
      "text/plain": [
       "              Predicted Y=0  Predicted Y=1  Observed\n",
       "Observed Y=0          17177              6     17183\n",
       "Observed Y=1             66             26        92\n",
       "Predicted             17243             32     17275"
      ]
     },
     "execution_count": 9,
     "metadata": {},
     "output_type": "execute_result"
    }
   ],
   "source": [
    "print('Logistic regression')\n",
    "conf_matrix_logit = conf_matrix_df(y_test, logit_CV.predict(X_test))\n",
    "conf_matrix_logit"
   ]
  },
  {
   "cell_type": "code",
   "execution_count": 10,
   "metadata": {},
   "outputs": [
    {
     "name": "stdout",
     "output_type": "stream",
     "text": [
      "Normal\n"
     ]
    },
    {
     "data": {
      "text/html": [
       "<div>\n",
       "<style scoped>\n",
       "    .dataframe tbody tr th:only-of-type {\n",
       "        vertical-align: middle;\n",
       "    }\n",
       "\n",
       "    .dataframe tbody tr th {\n",
       "        vertical-align: top;\n",
       "    }\n",
       "\n",
       "    .dataframe thead th {\n",
       "        text-align: right;\n",
       "    }\n",
       "</style>\n",
       "<table border=\"1\" class=\"dataframe\">\n",
       "  <thead>\n",
       "    <tr style=\"text-align: right;\">\n",
       "      <th></th>\n",
       "      <th>Predicted Y=0</th>\n",
       "      <th>Predicted Y=1</th>\n",
       "      <th>Observed</th>\n",
       "    </tr>\n",
       "  </thead>\n",
       "  <tbody>\n",
       "    <tr>\n",
       "      <th>Observed Y=0</th>\n",
       "      <td>17183</td>\n",
       "      <td>0</td>\n",
       "      <td>17183</td>\n",
       "    </tr>\n",
       "    <tr>\n",
       "      <th>Observed Y=1</th>\n",
       "      <td>92</td>\n",
       "      <td>0</td>\n",
       "      <td>92</td>\n",
       "    </tr>\n",
       "    <tr>\n",
       "      <th>Predicted</th>\n",
       "      <td>17275</td>\n",
       "      <td>0</td>\n",
       "      <td>17275</td>\n",
       "    </tr>\n",
       "  </tbody>\n",
       "</table>\n",
       "</div>"
      ],
      "text/plain": [
       "              Predicted Y=0  Predicted Y=1  Observed\n",
       "Observed Y=0          17183              0     17183\n",
       "Observed Y=1             92              0        92\n",
       "Predicted             17275              0     17275"
      ]
     },
     "execution_count": 10,
     "metadata": {},
     "output_type": "execute_result"
    }
   ],
   "source": [
    "print('Normal')\n",
    "conf_matrix_normal = conf_matrix_df(y_test, y_normal)\n",
    "conf_matrix_normal"
   ]
  },
  {
   "cell_type": "markdown",
   "metadata": {},
   "source": [
    "We will now compute the *true positive rate* and the *true negative rate* for the two classifiers. In cancer detection, the *true positive rate* is the fraction of people who are predicted to have cancer who actually have cancer and the *true negative rate* is the fraction of people who are predicted not to have cancer who don't have cancer."
   ]
  },
  {
   "cell_type": "code",
   "execution_count": 11,
   "metadata": {},
   "outputs": [],
   "source": [
    "def conf_matrix_rates(confusion_matrix_df, name=None):\n",
    "    true_positive_rate = confusion_matrix_df.loc[\n",
    "        'Observed Y=1', 'Predicted Y=1'] / confusion_matrix_df.loc[\n",
    "        'Observed Y=1', 'Observed']\n",
    "    true_negative_rate = confusion_matrix_df.loc[\n",
    "        'Observed Y=0', 'Predicted Y=0'] / confusion_matrix_df.loc[\n",
    "        'Observed Y=0', 'Observed']\n",
    "    false_positive_rate = confusion_matrix_df.loc[\n",
    "        'Observed Y=0', 'Predicted Y=1'] / confusion_matrix_df.loc[\n",
    "        'Observed Y=0', 'Observed']\n",
    "    false_negative_rate = confusion_matrix_df.loc[\n",
    "        'Observed Y=1', 'Predicted Y=0'] / confusion_matrix_df.loc[\n",
    "        'Observed Y=1', 'Observed']\n",
    "    index = ['True Positive Rate', 'True Negative Rate',\n",
    "             'False Positive Rate', 'False Negative Rate']\n",
    "    return pd.Series([true_positive_rate, true_negative_rate,\n",
    "                      false_positive_rate, false_negative_rate],\n",
    "                     index=index, name=name)"
   ]
  },
  {
   "cell_type": "code",
   "execution_count": 12,
   "metadata": {},
   "outputs": [
    {
     "data": {
      "text/plain": [
       "True Positive Rate    0.282609\n",
       "True Negative Rate    0.999651\n",
       "Name: Logistic Regression, dtype: float64"
      ]
     },
     "execution_count": 12,
     "metadata": {},
     "output_type": "execute_result"
    }
   ],
   "source": [
    "conf_matrix_rates(conf_matrix_logit, 'Logistic Regression')[0:2]"
   ]
  },
  {
   "cell_type": "code",
   "execution_count": 13,
   "metadata": {},
   "outputs": [
    {
     "data": {
      "text/plain": [
       "True Positive Rate    0.0\n",
       "True Negative Rate    1.0\n",
       "Name: Normal, dtype: float64"
      ]
     },
     "execution_count": 13,
     "metadata": {},
     "output_type": "execute_result"
    }
   ],
   "source": [
    "conf_matrix_rates(conf_matrix_normal, 'Normal')[0:2]"
   ]
  },
  {
   "cell_type": "markdown",
   "metadata": {},
   "source": [
    "We can see that the true negative rates are similar for both classiers. However, the true positive rate is much better for the logistic regression classifier than the normal classifier which of course never predicts any positive. Therefore, based on the observed metrics, the fitted logistic regression model is better than the all 0's classifier for cancer prediction."
   ]
  },
  {
   "cell_type": "markdown",
   "metadata": {},
   "source": [
    "Let's take a look at the false positive rate (FPR) of the fitted logistic regression classifier. It's actually 1- TNR where TNR is the true negative rate. We can see this from the definition:\n",
    "\n",
    "1 - TNR = 1 - TN / (TN + FP) = FP / (TN + FP) = FPR"
   ]
  },
  {
   "cell_type": "code",
   "execution_count": 14,
   "metadata": {},
   "outputs": [
    {
     "data": {
      "text/plain": [
       "False Positive Rate    0.000349\n",
       "Name: Logistic Regression, dtype: float64"
      ]
     },
     "metadata": {},
     "output_type": "display_data"
    },
    {
     "data": {
      "text/plain": [
       "0.00034918233137404275"
      ]
     },
     "execution_count": 14,
     "metadata": {},
     "output_type": "execute_result"
    }
   ],
   "source": [
    "display(conf_matrix_rates(conf_matrix_logit, 'Logistic Regression')[2:3])\n",
    "1. - conf_matrix_rates(conf_matrix_logit,\n",
    "                       'Logistic Regression')['True Negative Rate']"
   ]
  },
  {
   "cell_type": "markdown",
   "metadata": {},
   "source": [
    "We see that the false positive rate is very low. This is good because a classifier with high false positive rate would be undesirable for a cancer detection task as too many false alarms would be raised. This would lead to unnecessary increased stress amongst patients and a surge in appointments to see cancer specialists. "
   ]
  },
  {
   "cell_type": "markdown",
   "metadata": {},
   "source": [
    "## Question 2: ROC Analysis\n",
    "\n",
    "Another powerful diagnostic tool for class-imbalanced classification tasks is the Receiver Operating Characteristic (ROC) curve. Notice that the default logistic regression classifier in `sklearn` classifies a data point by thresholding the predicted class probability $\\hat{P}(Y=1)$ at 0.5. By using a different threshold, we can adjust the trade-off between the true positive rate (TPR) and false positive rate (FPR) of the classifier. The ROC curve allows us to visualize this trade-off across all possible thresholds.\n",
    "\n",
    "\n",
    "1. Display the ROC curve for the fitted classifier on the *test set*. In the same plot, also display the ROC curve for the all 0's classifier. How do the two curves compare?\n",
    "\n",
    "2.  Compute the highest TPR that can be achieved by the classifier at each of the following FPR's, and the thresholds at which they are achieved. Based on your results, comment on how the threshold influences a classifier's FPR.\n",
    "    - FPR = 0\n",
    "    - FPR = 0.1\n",
    "    - FPR = 0.5\n",
    "    - FPR = 0.9\n",
    "- Suppose a clinician told you that diagnosing a cancer patient as normal is *twice* as critical an error as diagnosing a normal patient as having cancer. Based on this information, what threshold would you recommend the clinician to use? What is the TPR and FPR of the classifier at this threshold? \n",
    "\n",
    "- Compute the area under the ROC curve (AUC) for both the fitted classifier and the all 0's classifier. How does the difference in the AUCs of the two classifiers compare with the difference between their classification accuracies in Question 1, Part 2(A)? \n",
    "\n",
    "*Hint:* You may use the `metrics.roc_curve` function to compute the ROC curve for a classification model and the `metrics.roc_auc_score` function to compute the AUC for the model."
   ]
  },
  {
   "cell_type": "markdown",
   "metadata": {},
   "source": [
    "Let's plot the ROC curves on the test set for the two classifiers."
   ]
  },
  {
   "cell_type": "code",
   "execution_count": 15,
   "metadata": {},
   "outputs": [
    {
     "data": {
      "image/png": "[encoded data removed]",
      "text/plain": [
       "<Figure size 864x864 with 1 Axes>"
      ]
     },
     "metadata": {},
     "output_type": "display_data"
    }
   ],
   "source": [
    "preds_logit = logit_CV.predict_proba(X_test)[:, 1]\n",
    "fpr_logit, tpr_logit, thresholds_logit = metrics.roc_curve(\n",
    "    y_test, preds_logit)\n",
    "fpr_normal, tpr_normal, thresholds_normal = metrics.roc_curve(\n",
    "    y_test, y_normal)\n",
    "\n",
    "plt.figure(figsize=(12, 12))\n",
    "lw = 2\n",
    "roc_auc_logit = metrics.auc(fpr_logit, tpr_logit)\n",
    "roc_auc_normal = metrics.auc(fpr_normal, tpr_normal)\n",
    "plt.plot(fpr_logit, tpr_logit, color='red', lw=lw,\n",
    "         label='ROC curve (area = %0.2f) Logistic Regression' % roc_auc_logit)\n",
    "plt.plot(fpr_normal, tpr_normal, color='green',\n",
    "         lw=lw, label='ROC curve (area = %0.2f) Normal' % roc_auc_normal)\n",
    "#plt.plot([0, 1], [0, 1], color='navy', lw=lw, linestyle='--')\n",
    "plt.xlim([-0.02, 1.0])\n",
    "plt.ylim([0.0, 1.05])\n",
    "plt.xlabel('False Positive Rate')\n",
    "plt.ylabel('True Positive Rate')\n",
    "plt.title('Receiver operating characteristic')\n",
    "plt.legend(loc=\"lower right\")\n",
    "label_kwargs = {}\n",
    "label_kwargs['bbox'] = dict(\n",
    "        boxstyle='round,pad=0.1', alpha=0.4, color = 'green'\n",
    "    )\n",
    "for k in range(0, fpr_logit.shape[0], 5):\n",
    "    threshold = str(np.round(thresholds_logit[k], 2))\n",
    "    plt.annotate(threshold, (fpr_logit[k], tpr_logit[k]), **label_kwargs,\n",
    "                 fontsize = 12, ha = 'right', va = 'bottom')\n",
    "plt.show()"
   ]
  },
  {
   "cell_type": "markdown",
   "metadata": {},
   "source": [
    "Looking at the curves, we see that when it comes to TPR and FPR the Normal model performs exactly as a flipping a fair coin would. Whereas, the performance of the Logistic Regression model is very good, with a high TRP and a low FPR through most classification thresholds."
   ]
  },
  {
   "cell_type": "markdown",
   "metadata": {},
   "source": [
    "Now suppose we wanted our FPR to be set at most at 0.3. What is the highest TPR we can get? What is the threshold at that point?\n",
    "\n",
    "Let's now determine the TPR that can be achieved by the classifier at each of the following FPR's, and the thresholds at which they are achieved.\n",
    "    - FPR = 0\n",
    "    - FPR = 0.1\n",
    "    - FPR = 0.5\n",
    "    - FPR = 0.9"
   ]
  },
  {
   "cell_type": "code",
   "execution_count": 16,
   "metadata": {},
   "outputs": [],
   "source": [
    "def print_highest_TPR(tpr, fpr, thresholds, fpr_threshold):\n",
    "    print(\"Highest TPR with FPR set at {0}: {1}\".format(\n",
    "        fpr_threshold, tpr[np.min(\n",
    "            [i for i, x in enumerate(fpr) if x >= fpr_threshold])]))\n",
    "    print(\"Corresponding Threshold: {0}\".format(\n",
    "          thresholds[np.min(\n",
    "              [i for i, x in enumerate(fpr) if x >= fpr_threshold])]))"
   ]
  },
  {
   "cell_type": "code",
   "execution_count": 17,
   "metadata": {},
   "outputs": [
    {
     "name": "stdout",
     "output_type": "stream",
     "text": [
      "Highest TPR with FPR set at 0.0: 0.010869565217391304\n",
      "Corresponding Threshold: 0.9983830190119585\n",
      "Highest TPR with FPR set at 0.1: 0.8260869565217391\n",
      "Corresponding Threshold: 0.006054414052125225\n",
      "Highest TPR with FPR set at 0.5: 0.9782608695652174\n",
      "Corresponding Threshold: 9.871110837364851e-05\n",
      "Highest TPR with FPR set at 0.9: 0.9891304347826086\n",
      "Corresponding Threshold: 4.4828965625691777e-10\n"
     ]
    }
   ],
   "source": [
    "print_highest_TPR(tpr_logit, fpr_logit, thresholds_logit, 0.)\n",
    "print_highest_TPR(tpr_logit, fpr_logit, thresholds_logit, 0.1)\n",
    "print_highest_TPR(tpr_logit, fpr_logit, thresholds_logit, 0.5)\n",
    "print_highest_TPR(tpr_logit, fpr_logit, thresholds_logit, 0.9)"
   ]
  },
  {
   "cell_type": "markdown",
   "metadata": {},
   "source": [
    "Based on these results, we can see that as the threshold decreases, a classifier's FPR increases."
   ]
  },
  {
   "cell_type": "markdown",
   "metadata": {},
   "source": [
    "If a clinician told me that diagnosing a cancer patient as normal (false negative)  is *twice* as critical an error as diagnosing a normal patient as having cancer (false positive), I would recommend a threshold of 0.33 to use. To approximate, it will suffice to find the closest value in the `thresholds` array.\n",
    "\n",
    "What is the TPR and FPR of the classifier at this threshold? "
   ]
  },
  {
   "cell_type": "code",
   "execution_count": 18,
   "metadata": {},
   "outputs": [
    {
     "name": "stdout",
     "output_type": "stream",
     "text": [
      "Threshold: 0.32082916522857746\n",
      "FPR 0.001280335215038119\n",
      "TPR 0.40217391304347827\n"
     ]
    }
   ],
   "source": [
    "# Hack: I know there is only 1 point here. In a production situation\n",
    "# I would expect to use interpolation of some sort.\n",
    "threshold_point = np.intersect1d(np.where(thresholds_logit >= 0.32),\n",
    "                                 np.where(thresholds_logit <=0.34))[0] \n",
    "print('Threshold:', thresholds_logit[threshold_point])\n",
    "print('FPR', fpr_logit[threshold_point])\n",
    "print('TPR', tpr_logit[threshold_point])"
   ]
  },
  {
   "cell_type": "markdown",
   "metadata": {},
   "source": [
    "We can see the area under the ROC curve (AUC) for both the fitted Logistic regression classifier and the all 0's classifier in the ROC curve above. We see that the difference in the AUCs of the two classifiers is very large compared with the tiny difference between their classification accuracies in Question 1, Part 2(A). This is a clear indication that the AUC is a better metric than the classification accuracy in situations where there is a class imbalance in the labels."
   ]
  },
  {
   "cell_type": "markdown",
   "metadata": {},
   "source": [
    "## Question 3: Missing data\n",
    "\n",
    "In this problem you are given a different data set, `hw6_dataset_missing.csv`, that is  similar to the one you used above (same column definitions and same conditions), however this data set contains missing values. \n",
    "\n",
    "*Note*: be careful of reading/treating column names and row names in this data set as well, it *may* be different than the first data set.\n",
    "\n",
    "\n",
    "1. Remove all observations that contain and missing values, split the dataset into a 75-25 train-test split, and fit the regularized logistic regression as in Question 1 (use `LogisticRegressionCV` again to retune).  Report the overall classification rate and TPR in the test set.\n",
    "2. Restart with a fresh copy of the data in `hw6_dataset_missing.csv` and impute the missing data via mean imputation.  Split the data 75-25 and fit the regularized logistic regression model.  Report the overall classification rate and TPR in the test set.  \n",
    "3. Again restart with a fresh copy of the data in `hw6_dataset_missing.csv` and impute the missing data via a model-based imputation method. Once again split the data 75-25 and fit the regularized logistic regression model.  Report the overall classification rate and TPR in the test set.  \n",
    "4. Compare the results in the 3 previous parts of this problem.  Prepare a paragraph (5-6 sentences) discussing the results, the computational complexity of the methods, and conjecture and explain why you get the results that you see.\n",
    "\n"
   ]
  },
  {
   "cell_type": "markdown",
   "metadata": {},
   "source": [
    "First we read in the data, remove all observations containing missing values and split it into a training set and a testing set.  The training set will be 75% of the original data set, and the testing set 25%. Also, let's fit the regularized logistic regression model as before and look at the classification accuracy and TPR in the test set."
   ]
  },
  {
   "cell_type": "code",
   "execution_count": 19,
   "metadata": {},
   "outputs": [],
   "source": [
    "breast_cancer_missing = create_dataframe(\n",
    "    '../hwassets/data/HW6_dataset_missing.csv', header=0,\n",
    "    usecols=range(1, 119))\n",
    "breast_cancer = breast_cancer_missing.dropna()"
   ]
  },
  {
   "cell_type": "code",
   "execution_count": 20,
   "metadata": {},
   "outputs": [],
   "source": [
    "X_train, X_test, y_train, y_test = train_test_split(\n",
    "    breast_cancer.drop('Y', axis=1), breast_cancer.Y, test_size=0.25,\n",
    "    random_state=np.random.seed(9001))"
   ]
  },
  {
   "cell_type": "code",
   "execution_count": 21,
   "metadata": {},
   "outputs": [
    {
     "name": "stderr",
     "output_type": "stream",
     "text": [
      "c:\\users\\covuworie\\.virtualenvs\\a-2017-asnab769\\lib\\site-packages\\sklearn\\model_selection\\_split.py:605: Warning: The least populated class in y has only 2 members, which is too few. The minimum number of members in any class cannot be less than n_splits=5.\n",
      "  % (min_groups, self.n_splits)), Warning)\n"
     ]
    },
    {
     "name": "stdout",
     "output_type": "stream",
     "text": [
      "Test accuracy =  0.9972144846796658\n"
     ]
    },
    {
     "data": {
      "text/plain": [
       "True Positive Rate    0.0\n",
       "dtype: float64"
      ]
     },
     "execution_count": 21,
     "metadata": {},
     "output_type": "execute_result"
    }
   ],
   "source": [
    "logit_CV = LogisticRegressionCV(cv=5, penalty='l2', scoring='accuracy',\n",
    "                                random_state=np.random.seed(9001))\n",
    "accuracy = test_accuracy(logit_CV, X_train, y_train, X_test, y_test)\n",
    "print('Test accuracy = ', accuracy)\n",
    "conf_matrix_rates(conf_matrix_df(y_test, logit_CV.predict(X_test)))[0:1]"
   ]
  },
  {
   "cell_type": "markdown",
   "metadata": {},
   "source": [
    "Let's restart with a fresh copy of the data in `hw6_dataset_missing.csv` and do the same again, but this time let's impute the missing data via mean imputation."
   ]
  },
  {
   "cell_type": "code",
   "execution_count": 22,
   "metadata": {},
   "outputs": [],
   "source": [
    "breast_cancer_mean_impute = breast_cancer_missing.copy()\n",
    "mean_imputer = Imputer(strategy='mean')\n",
    "breast_cancer_mean_impute = mean_imputer.fit_transform(\n",
    "    breast_cancer_mean_impute.values)"
   ]
  },
  {
   "cell_type": "code",
   "execution_count": 23,
   "metadata": {},
   "outputs": [],
   "source": [
    "X_train, X_test, y_train, y_test = train_test_split(\n",
    "    breast_cancer_mean_impute[:, :-1],\n",
    "    breast_cancer_mean_impute[:, -1],\n",
    "    test_size=0.25,\n",
    "    random_state=np.random.seed(9001))"
   ]
  },
  {
   "cell_type": "code",
   "execution_count": 24,
   "metadata": {},
   "outputs": [
    {
     "name": "stdout",
     "output_type": "stream",
     "text": [
      "Test accuracy for mean imputation =  0.99552\n"
     ]
    },
    {
     "data": {
      "text/plain": [
       "True Positive Rate    0.285714\n",
       "dtype: float64"
      ]
     },
     "execution_count": 24,
     "metadata": {},
     "output_type": "execute_result"
    }
   ],
   "source": [
    "logit_CV = LogisticRegressionCV(cv=5, penalty='l2', scoring='accuracy',\n",
    "                                random_state=np.random.seed(9001))\n",
    "accuracy = test_accuracy(logit_CV, X_train, y_train, X_test, y_test)\n",
    "print('Test accuracy for mean imputation = ', accuracy)\n",
    "conf_matrix_rates(conf_matrix_df(y_test, logit_CV.predict(X_test)))[0:1]"
   ]
  },
  {
   "cell_type": "markdown",
   "metadata": {},
   "source": [
    "The third part of the question above which states to impute the missing data via a model-based imputation method does not make sense in this case as there are no missing values in the response variable. We show this now."
   ]
  },
  {
   "cell_type": "code",
   "execution_count": 25,
   "metadata": {},
   "outputs": [
    {
     "data": {
      "text/plain": [
       "0"
      ]
     },
     "execution_count": 25,
     "metadata": {},
     "output_type": "execute_result"
    }
   ],
   "source": [
    "breast_cancer_missing.Y.isna().sum()"
   ]
  },
  {
   "cell_type": "markdown",
   "metadata": {},
   "source": [
    "Compare the results from the 2 previous parts of this problem. The computational complexity of dropping the NA values is obviously less than that of imputing the mean. For model imputation the computational complexity would be far higher than both of these. The TPR is lower when we remove the NA values rather than impute the mean as most of the observations with NA values were associated with the positive class. 161 vs 3 to be precise which we can see below. Imputing the mean for NA is clearly better for model prediction as opposed to just dropping the observations with NA values which means there is less training data for fitting."
   ]
  },
  {
   "cell_type": "code",
   "execution_count": 26,
   "metadata": {},
   "outputs": [
    {
     "name": "stdout",
     "output_type": "stream",
     "text": [
      "Number of Y=1 observations: 161\n",
      "Number of Y=1 observations without NA values: 3\n"
     ]
    }
   ],
   "source": [
    "print('Number of Y=1 observations:', breast_cancer_missing.Y.sum())\n",
    "print('Number of Y=1 observations without NA values:',\n",
    "      breast_cancer_missing.dropna().Y.sum())"
   ]
  },
  {
   "cell_type": "markdown",
   "metadata": {},
   "source": [
    "## APCOMP209a - Homework Question"
   ]
  },
  {
   "cell_type": "markdown",
   "metadata": {},
   "source": [
    "\n",
    "This problem walks you through the derivation of the **likelihood equations** for a generalized linear model (GLM). Suppose that the random component of the GLM is in the univariate natural exponential family, so that\n",
    "$$f(y_i|\\theta_i) = h(y_i) e^{y_i\\theta_i - b(\\theta_i)}$$\n",
    "Define the individual log-likelihood for each observation $i$ as\n",
    "$$l_i(\\theta_i) \\equiv \\log f(y_i|\\theta_i)$$\n",
    "with linear predictor\n",
    "$$\\eta_i = x_i^T\\beta = g(\\mu_i)$$\n",
    "for some link function $g$ and where $\\mu_i=E(Y_i)$.\n",
    "\n",
    "1. Use the above expressions to write a simplified expression for the log-likelihood $l(\\theta)$ for the entire dataset, $y_1, \\dots, y_n$.\n",
    "\n",
    "2. Use the chain rule to express $\\frac{\\partial l_i}{\\partial \\beta_j}$ in terms of the derivatives of $l_i, \\theta_i, \\mu_i$, and $\\eta_i$. (*Hint*: Think carefully about which variables are related to which, and in what way. For example, for which of the above variables do you know the derivative with respect to $\\beta_j$?)\n",
    "\n",
    "3. Compute the derivatives for $\\frac{\\partial l_i}{\\partial \\theta_i}$ and $\\frac{\\partial \\eta_i}{\\partial \\beta_j}$.\n",
    "\n",
    "4. Express $\\mu_i$ in terms of $\\theta_i$, and use this relationship to compute $\\frac{\\partial \\theta_i}{\\partial \\mu_i}$. (\\emph{Hint}: Recall the cumulant function of a natural exponential family, and assume that you can write $\\partial f/\\partial g = (\\partial g / \\partial f)^{-1}$.)\n",
    "\n",
    "5. Express $\\eta_i$ in terms of $\\mu_i$. Using the same hint as the above, compute $\\frac{\\partial \\mu_i}{\\partial \\eta_i}$.\n",
    "\n",
    "6. Put all of the above parts together to write an expression for $\\frac{\\partial l}{\\partial \\beta_j}$. Use matrix notation to write this expression as\n",
    "$$\\nabla_{\\beta} l(\\beta) = X^{T}DV^{-1}(Y - \\mu) = 0$$\n",
    "That is, compute the matrices $D$ and $V$ such that this equation holds.\n",
    "\n",
    "7. If we use the canonical link function, how do your answers to part (6) simplify?\n",
    "\n",
    "8. Finally, compute the above likelihood equations in the case of logistic regression, and show that this is equivalent to the solution given in lecture.\n"
   ]
  },
  {
   "cell_type": "markdown",
   "metadata": {},
   "source": [
    "### Answers\n",
    "\n",
    "1. $$\\begin{align}\n",
    "l(\\theta) & = \\log \\prod_{i=1}^{n} l_{i}(\\theta_{i}) \\\\\n",
    "& = \\log \\prod_{i=1}^{n} f(y_i|\\theta_i) \\\\ \n",
    "& = \\log \\prod_{i=1}^{n} h(y_i) e^{y_i\\theta_i - b(\\theta_i)} \\\\\n",
    "& = \\sum_{i=1}^{n} \\log h(y_i) e^{y_i\\theta_i - b(\\theta_i)} \\\\ \n",
    "& = \\sum_{i=1}^{n} \\Big[\\log h(y_i) + y_i\\theta_i - b(\\theta_i)\\Big]\n",
    "\\end{align}$$\n",
    "\n",
    "2. $$\\frac{\\partial l_{i}}{\\partial \\beta_{j}} = \\frac{\\partial l_{i}}{\\partial \\theta{i}} \\frac{\\partial \\theta_{i}}{\\partial \\mu_{i}} \\frac{\\partial \\mu_{i}}{\\partial \\eta_{i}} \\frac{\\partial \\eta_{i}}{\\partial \\beta_{j}}$$\n",
    "\n",
    "3. $$\\frac{\\partial l_{i}}{\\partial \\theta_{i}} = \\frac{\\partial log f(y_{i} \\vert \\theta_{i})}{\\partial \\theta_{i}} = y_{i} - b^{\\prime}(\\theta_{i}) = y_{i} - \\mu_{i}$$ where the last equality is from the definition of the cumulant function (see part 4).\n",
    "\n",
    "4. From the definition of the cumulant function (see Proposition 3.1 in [sec5.pdf](https://github.com/covuworie/a-2017/blob/master/Sections/advanced/sec5.pdf)) we have $\\mu_{i} = b^{\\prime}(\\theta_{i})$. This implies\n",
    "$\\frac{\\partial \\mu_{i}}{\\partial \\theta_{i}} = \\beta^{\\prime \\prime}(\\theta_{i})$. Inverting we have:\n",
    "$$\\frac{\\partial \\theta_{i}}{\\partial \\mu_{i}} = \\frac{1}{\\beta^{\\prime \\prime}(\\theta_{i})} = \\frac{1}{var(y_{i} \\vert \\theta_{i})}$$ where the last equality is from the definition of the variance (see Theorem 3.2 in [sec5.pdf](https://github.com/covuworie/a-2017/blob/master/Sections/advanced/sec5.pdf)).\n",
    "\n",
    "5. From the definition of the linear predictor above we have $\\eta_{i} = x_{1}^{T}\\beta = g(\\mu_{i})$. This implies $\\frac{\\partial \\eta_{i}}{\\partial \\mu_{i}} = g^{\\prime}(\\mu_{i})$. Inverting we have:\n",
    "$$\\frac{\\partial \\mu_{i}}{\\partial \\eta_{i}} = \\frac{1}{g^{\\prime}(\\mu_{i})}$$\n",
    "\n",
    "6. Substituting (3-5) into (2) and setting to zero yields:\n",
    "$$\\frac{\\partial l_{i}}{\\partial \\beta_{j}} = x_{i}^{T} \\frac{1}{g^{\\prime}(\\mu_{i})} \\frac{1}{\\beta^{\\prime \\prime}(\\theta_{i})} (y_{i} - \\mu_{i}) = 0$$ \n",
    "which in matrix form is identical to the matrix equation:\n",
    "$$\\nabla_{\\beta} l(\\beta) = X^{T}DV^{-1}(Y - \\mu) = 0$$\n",
    "where D is the diagonal matrix of terms and V is the diagonal matrix of variances in part 5 and part 4 above, respectively.\n",
    "\n",
    "7. The canonical link function sets the natural parameter equal to the linear predictor:\n",
    "$$ \\theta \\equiv x^{T} \\beta \\equiv \\eta \\equiv g(\\mu)$$\n",
    "In this case, the equation in 6 simplifies to:\n",
    "$$\\nabla_{\\beta} l(\\beta) = 0$$\n",
    "\n",
    "8. For logistic regression we have:\n",
    "$$y_{i} \\vert \\mu_{i} \\sim Bern(\\mu_{i})$$\n",
    "and so the probability mass function can be written as:\n",
    "$$ f(y_{i} \\vert \\mu_{i}) = \\mu_{i}^{y_{i}}(1 - \\mu_{i})^{1 - y_{i}} = \\exp \\Big[y_{i} \\log\\Big(\\frac{\\mu_{i}}{1 - \\mu_{i}}\\Big) + \\log (1 - \\mu_{i})\\Big]$$\n",
    "From this we see that:\n",
    "$$\\begin{align}\n",
    "h(y_i) & = 1 \\\\\n",
    "\\theta_i & = logit(\\mu_{i}) \\equiv \\log\\Big(\\frac{\\mu_{i}}{1 - \\mu_{i}}\\Big) \\equiv x_{i}^{T} \\beta \\\\\n",
    "b(\\theta_i) & = - \\log (1 - \\mu_{i})\n",
    "\\end{align}$$\n",
    "Inverting the $\\theta_{i}$ equation above gives $\\mu_{i} = logit^{-1}(x_{i}^{T} \\beta) = \\frac{\\exp(x_{i}^{T} \\beta)}{1 + \\exp(x_{i}^{T} \\beta)}$ (the logistic function) and substituting these into the expression in part 1 gives the log-likelihood for logistic regression:\n",
    "$$l(\\beta) = \\sum_{i=1}^{n} \\Big[y_{i} x_{i}^{T} \\beta - \\log \\Big( 1 + \\exp(x_{i}^{T} \\beta) \\Big) \\Big]$$"
   ]
  }
 ],
 "metadata": {
  "anaconda-cloud": {},
  "kernelspec": {
   "display_name": "Python 3",
   "language": "python",
   "name": "python3"
  },
  "language_info": {
   "codemirror_mode": {
    "name": "ipython",
    "version": 3
   },
   "file_extension": ".py",
   "mimetype": "text/x-python",
   "name": "python",
   "nbconvert_exporter": "python",
   "pygments_lexer": "ipython3",
   "version": "3.6.5"
  }
 },
 "nbformat": 4,
 "nbformat_minor": 2
}
